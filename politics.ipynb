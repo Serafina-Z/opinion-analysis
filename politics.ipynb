{
  "nbformat": 4,
  "nbformat_minor": 0,
  "metadata": {
    "colab": {
      "name": "politics.ipynb",
      "provenance": [],
      "collapsed_sections": [],
      "authorship_tag": "ABX9TyOw1lC5xxIn0T/ap5sexkpE",
      "include_colab_link": true
    },
    "kernelspec": {
      "display_name": "Python 3",
      "name": "python3"
    },
    "language_info": {
      "name": "python"
    }
  },
  "cells": [
    {
      "cell_type": "markdown",
      "metadata": {
        "id": "view-in-github",
        "colab_type": "text"
      },
      "source": [
        "<a href=\"https://colab.research.google.com/github/Serafina-Z/opinion-analysis/blob/main/politics.ipynb\" target=\"_parent\"><img src=\"https://colab.research.google.com/assets/colab-badge.svg\" alt=\"Open In Colab\"/></a>"
      ]
    },
    {
      "cell_type": "markdown",
      "metadata": {
        "id": "LFL5P-scrYLi"
      },
      "source": [
        "### **Politics Opinion Analysis**"
      ]
    },
    {
      "cell_type": "markdown",
      "metadata": {
        "id": "qgVbNuHJCFn6"
      },
      "source": [
        "**Data Loading**"
      ]
    },
    {
      "cell_type": "code",
      "metadata": {
        "id": "21MVmWSdPw7J",
        "colab": {
          "resources": {
            "http://localhost:8080/nbextensions/google.colab/files.js": {
              "data": "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",
              "ok": true,
              "headers": [
                [
                  "content-type",
                  "application/javascript"
                ]
              ],
              "status": 200,
              "status_text": ""
            }
          },
          "base_uri": "https://localhost:8080/",
          "height": 75
        },
        "outputId": "87591fa0-fe57-4fe6-929f-854eedcbd866"
      },
      "source": [
        "from google.colab import files\n",
        "uploaded = files.upload() # upload kaggle.json"
      ],
      "execution_count": 1,
      "outputs": [
        {
          "output_type": "display_data",
          "data": {
            "text/html": [
              "\n",
              "     <input type=\"file\" id=\"files-cefe7b34-112f-4c92-afb5-9439037fac09\" name=\"files[]\" multiple disabled\n",
              "        style=\"border:none\" />\n",
              "     <output id=\"result-cefe7b34-112f-4c92-afb5-9439037fac09\">\n",
              "      Upload widget is only available when the cell has been executed in the\n",
              "      current browser session. Please rerun this cell to enable.\n",
              "      </output>\n",
              "      <script src=\"/nbextensions/google.colab/files.js\"></script> "
            ],
            "text/plain": [
              "<IPython.core.display.HTML object>"
            ]
          },
          "metadata": {
            "tags": []
          }
        },
        {
          "output_type": "stream",
          "text": [
            "Saving kaggle.json to kaggle.json\n"
          ],
          "name": "stdout"
        }
      ]
    },
    {
      "cell_type": "code",
      "metadata": {
        "colab": {
          "base_uri": "https://localhost:8080/"
        },
        "id": "0aJ_Ul3dQsUO",
        "outputId": "afcd39d2-d6b4-4ad3-bd54-705a77a5feed"
      },
      "source": [
        "from google.colab import drive\n",
        "drive.mount('/content/drive')"
      ],
      "execution_count": 2,
      "outputs": [
        {
          "output_type": "stream",
          "text": [
            "Mounted at /content/drive\n"
          ],
          "name": "stdout"
        }
      ]
    },
    {
      "cell_type": "code",
      "metadata": {
        "id": "GmBw_ukzQsW6"
      },
      "source": [
        "! mkdir ~/.kaggle"
      ],
      "execution_count": 3,
      "outputs": []
    },
    {
      "cell_type": "code",
      "metadata": {
        "id": "o2s0wz7BQsae"
      },
      "source": [
        "! cp kaggle.json ~/.kaggle/"
      ],
      "execution_count": 4,
      "outputs": []
    },
    {
      "cell_type": "code",
      "metadata": {
        "id": "uCpAQfhYQsdZ"
      },
      "source": [
        "! chmod 600 ~/.kaggle/kaggle.json"
      ],
      "execution_count": 5,
      "outputs": []
    },
    {
      "cell_type": "code",
      "metadata": {
        "id": "d8TeCl49QsgO",
        "colab": {
          "base_uri": "https://localhost:8080/"
        },
        "outputId": "2b060fdc-50a7-4958-b59c-ca912acdebab"
      },
      "source": [
        "!kaggle datasets download aashita/nyt-comments -f CommentsApril2017.csv -p /content/"
      ],
      "execution_count": 6,
      "outputs": [
        {
          "output_type": "stream",
          "text": [
            "Downloading CommentsApril2017.csv.zip to /content\n",
            " 76% 41.0M/53.8M [00:00<00:00, 43.2MB/s]\n",
            "100% 53.8M/53.8M [00:00<00:00, 84.2MB/s]\n"
          ],
          "name": "stdout"
        }
      ]
    },
    {
      "cell_type": "code",
      "metadata": {
        "id": "e7Otf0_5Qsjm"
      },
      "source": [
        "from zipfile import ZipFile\n",
        "with ZipFile(\"CommentsApril2017.csv.zip\", 'r') as zip:\n",
        "  zip.extractall()"
      ],
      "execution_count": 7,
      "outputs": []
    },
    {
      "cell_type": "code",
      "metadata": {
        "id": "h_XOoaj0Qsmz",
        "colab": {
          "base_uri": "https://localhost:8080/"
        },
        "outputId": "96f89d58-7e1a-4dbf-f216-5ae85b7d53f0"
      },
      "source": [
        "import pandas as pd\n",
        "from collections import Counter\n",
        "data = pd.read_csv(\"/content/CommentsApril2017.csv\")"
      ],
      "execution_count": 8,
      "outputs": [
        {
          "output_type": "stream",
          "text": [
            "/usr/local/lib/python3.7/dist-packages/IPython/core/interactiveshell.py:2718: DtypeWarning: Columns (25,26) have mixed types.Specify dtype option on import or set low_memory=False.\n",
            "  interactivity=interactivity, compiler=compiler, result=result)\n"
          ],
          "name": "stderr"
        }
      ]
    },
    {
      "cell_type": "code",
      "metadata": {
        "id": "6wgjfHybQs43",
        "collapsed": true
      },
      "source": [
        "!pip install pandasql\n",
        "from pandasql import sqldf\n",
        "q1 = \"\"\"\n",
        "         select sectionName, articleID, commentBody, editorsSelection, recommendations\n",
        "         from data\n",
        "         where (sectionName = 'Politics')\n",
        "\"\"\""
      ],
      "execution_count": null,
      "outputs": []
    },
    {
      "cell_type": "code",
      "metadata": {
        "id": "TTe0wSL9Qs_f"
      },
      "source": [
        "pysqldf = lambda q: sqldf(q, globals())\n",
        "clean = pysqldf(q1)"
      ],
      "execution_count": 10,
      "outputs": []
    },
    {
      "cell_type": "code",
      "metadata": {
        "colab": {
          "base_uri": "https://localhost:8080/"
        },
        "id": "1g-bL7d8bAfI",
        "outputId": "c2aa80d3-59f6-4110-df8d-5875f56b9d98"
      },
      "source": [
        "clean.shape"
      ],
      "execution_count": 11,
      "outputs": [
        {
          "output_type": "execute_result",
          "data": {
            "text/plain": [
              "(38381, 5)"
            ]
          },
          "metadata": {
            "tags": []
          },
          "execution_count": 11
        }
      ]
    },
    {
      "cell_type": "code",
      "metadata": {
        "colab": {
          "base_uri": "https://localhost:8080/"
        },
        "id": "6beBCWK_E_gv",
        "outputId": "21229718-dac9-4b66-8923-2b981e487bb2"
      },
      "source": [
        "len(Counter(clean[\"articleID\"]).keys())"
      ],
      "execution_count": 12,
      "outputs": [
        {
          "output_type": "execute_result",
          "data": {
            "text/plain": [
              "51"
            ]
          },
          "metadata": {
            "tags": []
          },
          "execution_count": 12
        }
      ]
    },
    {
      "cell_type": "markdown",
      "metadata": {
        "id": "wfg3SrJAQ4y6"
      },
      "source": [
        "**Text Cleaning**"
      ]
    },
    {
      "cell_type": "code",
      "metadata": {
        "id": "SpIN5XeAvjns"
      },
      "source": [
        "!pip install nltk\n",
        "import nltk\n",
        "nltk.download(\"all\")\n",
        "from nltk import sent_tokenize\n",
        "sentences = [] # each comment as a doc\n",
        "for i in clean[\"commentBody\"]:\n",
        "    s=sent_tokenize(i)\n",
        "    sentences.append(s)\n",
        "sentences[0]"
      ],
      "execution_count": null,
      "outputs": []
    },
    {
      "cell_type": "code",
      "metadata": {
        "id": "c9Mp-4KDdBxZ"
      },
      "source": [
        "# tokenization\n",
        "from nltk.tokenize import word_tokenize\n",
        "token_list= []\n",
        "for i in sentences: # i is comment level\n",
        "    for j in i:\n",
        "      tokens = word_tokenize(j)\n",
        "      words = [word for word in tokens if word.isalpha()]\n",
        "      words = [word.lower() for word in words]\n",
        "      token_list.append(words)"
      ],
      "execution_count": 14,
      "outputs": []
    },
    {
      "cell_type": "code",
      "metadata": {
        "id": "j_scoVG0vZmp"
      },
      "source": [
        "# lemmatization\n",
        "from nltk.stem import WordNetLemmatizer \n",
        "from nltk.corpus import wordnet \n",
        "lemmatizer = WordNetLemmatizer() \n",
        "def pos_tagger(nltk_tag): \n",
        "    if nltk_tag.startswith('J'): \n",
        "        return wordnet.ADJ \n",
        "    elif nltk_tag.startswith('V'): \n",
        "        return wordnet.VERB \n",
        "    elif nltk_tag.startswith('N'): \n",
        "        return wordnet.NOUN \n",
        "    elif nltk_tag.startswith('R'): \n",
        "        return wordnet.ADV \n",
        "    else:           \n",
        "        return None\n",
        "lemma_list = []\n",
        "for i in token_list:\n",
        "  pos_tagged = nltk.pos_tag(i)\n",
        "  wordnet_tagged = list(map(lambda x: (x[0], pos_tagger(x[1])), pos_tagged))\n",
        "  lemma = [] \n",
        "  for word, tag in wordnet_tagged:\n",
        "    if word == \"i\":\n",
        "      continue\n",
        "    if tag is None: \n",
        "      # if there is no available tag, append the token as is \n",
        "      lemma.append(word) \n",
        "    else:         \n",
        "      # else use the tag to lemmatize the token \n",
        "      lemma.append(lemmatizer.lemmatize(word, tag))\n",
        "  lemma_list.append(lemma)"
      ],
      "execution_count": 15,
      "outputs": []
    },
    {
      "cell_type": "markdown",
      "metadata": {
        "id": "E4CpUT5WRA2r"
      },
      "source": [
        "**Aspect Extraction**"
      ]
    },
    {
      "cell_type": "code",
      "metadata": {
        "id": "PssSHZdly54I"
      },
      "source": [
        "bi = []\n",
        "for item in lemma_list:\n",
        "  grams = [item[i:i+2] for i in range(len(item)-2+1)]\n",
        "  bigrams = [' '.join(j) for j in grams]\n",
        "  bi.append(bigrams)"
      ],
      "execution_count": 16,
      "outputs": []
    },
    {
      "cell_type": "code",
      "metadata": {
        "id": "UuY5eU_hGXgo"
      },
      "source": [
        "bi_v = [bigram for i in bi for bigram in i]\n",
        "uni_v = [unigram for i in lemma_list for unigram in i]"
      ],
      "execution_count": 17,
      "outputs": []
    },
    {
      "cell_type": "code",
      "metadata": {
        "id": "NR0yxSGr35yN"
      },
      "source": [
        "counter_bi = Counter(bi_v)"
      ],
      "execution_count": 18,
      "outputs": []
    },
    {
      "cell_type": "code",
      "metadata": {
        "id": "BB_HKzL9mdAn"
      },
      "source": [
        "from nltk.corpus import stopwords"
      ],
      "execution_count": 19,
      "outputs": []
    },
    {
      "cell_type": "code",
      "metadata": {
        "id": "jO6NdDUrksD1"
      },
      "source": [
        "# filter before computing for less noise\n",
        "for i in list(counter_bi.keys()):\n",
        "  if i.split()[0] in stopwords.words('english'):\n",
        "    if i.split()[1] in stopwords.words('english'):\n",
        "      counter_bi.pop(i)"
      ],
      "execution_count": 20,
      "outputs": []
    },
    {
      "cell_type": "code",
      "metadata": {
        "id": "vV9LMmlTn6ZQ"
      },
      "source": [
        "for i in list(counter_bi.keys()):\n",
        "  w,t = nltk.pos_tag(i.split())[0]\n",
        "  w1,t1 = nltk.pos_tag(i.split())[1]\n",
        "  if t[0] != \"N\":\n",
        "    if t1[0] != \"N\":\n",
        "      counter_bi.pop(i)"
      ],
      "execution_count": 21,
      "outputs": []
    },
    {
      "cell_type": "code",
      "metadata": {
        "id": "l2Zd2RQbJqOg"
      },
      "source": [
        "import math\n",
        "def pmi_index(bigram):\n",
        "  a, b = bigram.split()\n",
        "  new = []\n",
        "  for i in bi_v:\n",
        "    if i != bigram:\n",
        "      for wor in i.split():\n",
        "        new.append(wor)\n",
        "    else:\n",
        "      new.append(i)\n",
        "  counter_new = Counter(new)\n",
        "  if counter_new[a] == 0 or counter_new[b] == 0:\n",
        "    pmi = \"dependent\"\n",
        "  else:\n",
        "    pmi = math.log(counter_new[bigram]/((counter_new[a]-counter_new[bigram])*(counter_new[b]-counter_new[bigram])/(len(new)-2*counter_new[bigram])))\n",
        "  return pmi"
      ],
      "execution_count": 22,
      "outputs": []
    },
    {
      "cell_type": "code",
      "metadata": {
        "id": "m6g6jtXwTPkb"
      },
      "source": [
        "counter_b = counter_bi.most_common(100)"
      ],
      "execution_count": 23,
      "outputs": []
    },
    {
      "cell_type": "code",
      "metadata": {
        "id": "2cqUrLjwrDQ6"
      },
      "source": [
        "bi_gram_list = [k for (k,v) in counter_b]"
      ],
      "execution_count": 24,
      "outputs": []
    },
    {
      "cell_type": "code",
      "metadata": {
        "id": "WYQX5KAY5Hq7"
      },
      "source": [
        "frequency = [v for (k,v) in counter_b]"
      ],
      "execution_count": 25,
      "outputs": []
    },
    {
      "cell_type": "code",
      "metadata": {
        "id": "gEEnW1HhW-81"
      },
      "source": [
        "pmi = [pmi_index(k) for (k,v) in counter_b]"
      ],
      "execution_count": 26,
      "outputs": []
    },
    {
      "cell_type": "code",
      "metadata": {
        "id": "G8-eRq9_XRVP"
      },
      "source": [
        "fre_df = pd.DataFrame({\"bigram\":bi_gram_list, \"pmi\":pmi, \"frequency\": frequency})"
      ],
      "execution_count": 27,
      "outputs": []
    },
    {
      "cell_type": "code",
      "metadata": {
        "id": "y6y1c3GycIpx",
        "colab": {
          "base_uri": "https://localhost:8080/",
          "height": 1000
        },
        "collapsed": true,
        "outputId": "2f0ea5ee-8ad8-41cd-b1df-e458421ecfa9"
      },
      "source": [
        "fre_most = fre_df.sort_values(by=\"pmi\", ascending=False).head(50)\n",
        "fre_most"
      ],
      "execution_count": 28,
      "outputs": [
        {
          "output_type": "execute_result",
          "data": {
            "text/html": [
              "<div>\n",
              "<style scoped>\n",
              "    .dataframe tbody tr th:only-of-type {\n",
              "        vertical-align: middle;\n",
              "    }\n",
              "\n",
              "    .dataframe tbody tr th {\n",
              "        vertical-align: top;\n",
              "    }\n",
              "\n",
              "    .dataframe thead th {\n",
              "        text-align: right;\n",
              "    }\n",
              "</style>\n",
              "<table border=\"1\" class=\"dataframe\">\n",
              "  <thead>\n",
              "    <tr style=\"text-align: right;\">\n",
              "      <th></th>\n",
              "      <th>bigram</th>\n",
              "      <th>pmi</th>\n",
              "      <th>frequency</th>\n",
              "    </tr>\n",
              "  </thead>\n",
              "  <tbody>\n",
              "    <tr>\n",
              "      <th>28</th>\n",
              "      <td>http http</td>\n",
              "      <td>13.819215</td>\n",
              "      <td>825</td>\n",
              "    </tr>\n",
              "    <tr>\n",
              "      <th>9</th>\n",
              "      <td>supreme court</td>\n",
              "      <td>10.099670</td>\n",
              "      <td>1375</td>\n",
              "    </tr>\n",
              "    <tr>\n",
              "      <th>75</th>\n",
              "      <td>north korea</td>\n",
              "      <td>9.686748</td>\n",
              "      <td>495</td>\n",
              "    </tr>\n",
              "    <tr>\n",
              "      <th>3</th>\n",
              "      <td>white house</td>\n",
              "      <td>8.356377</td>\n",
              "      <td>1577</td>\n",
              "    </tr>\n",
              "    <tr>\n",
              "      <th>49</th>\n",
              "      <td>middle class</td>\n",
              "      <td>8.092947</td>\n",
              "      <td>655</td>\n",
              "    </tr>\n",
              "    <tr>\n",
              "      <th>45</th>\n",
              "      <td>united state</td>\n",
              "      <td>7.350041</td>\n",
              "      <td>666</td>\n",
              "    </tr>\n",
              "    <tr>\n",
              "      <th>21</th>\n",
              "      <td>health care</td>\n",
              "      <td>6.678027</td>\n",
              "      <td>1047</td>\n",
              "    </tr>\n",
              "    <tr>\n",
              "      <th>23</th>\n",
              "      <td>tax return</td>\n",
              "      <td>5.556808</td>\n",
              "      <td>974</td>\n",
              "    </tr>\n",
              "    <tr>\n",
              "      <th>71</th>\n",
              "      <td>tax reform</td>\n",
              "      <td>5.533427</td>\n",
              "      <td>509</td>\n",
              "    </tr>\n",
              "    <tr>\n",
              "      <th>25</th>\n",
              "      <td>donald trump</td>\n",
              "      <td>5.033974</td>\n",
              "      <td>905</td>\n",
              "    </tr>\n",
              "    <tr>\n",
              "      <th>10</th>\n",
              "      <td>tax cut</td>\n",
              "      <td>4.991307</td>\n",
              "      <td>1329</td>\n",
              "    </tr>\n",
              "    <tr>\n",
              "      <th>86</th>\n",
              "      <td>talk about</td>\n",
              "      <td>4.837573</td>\n",
              "      <td>465</td>\n",
              "    </tr>\n",
              "    <tr>\n",
              "      <th>63</th>\n",
              "      <td>kind of</td>\n",
              "      <td>4.722175</td>\n",
              "      <td>550</td>\n",
              "    </tr>\n",
              "    <tr>\n",
              "      <th>62</th>\n",
              "      <td>refuse to</td>\n",
              "      <td>4.649056</td>\n",
              "      <td>555</td>\n",
              "    </tr>\n",
              "    <tr>\n",
              "      <th>52</th>\n",
              "      <td>tax rate</td>\n",
              "      <td>4.636788</td>\n",
              "      <td>637</td>\n",
              "    </tr>\n",
              "    <tr>\n",
              "      <th>40</th>\n",
              "      <td>rest of</td>\n",
              "      <td>4.596510</td>\n",
              "      <td>718</td>\n",
              "    </tr>\n",
              "    <tr>\n",
              "      <th>29</th>\n",
              "      <td>of course</td>\n",
              "      <td>4.552049</td>\n",
              "      <td>823</td>\n",
              "    </tr>\n",
              "    <tr>\n",
              "      <th>34</th>\n",
              "      <td>a lot</td>\n",
              "      <td>4.489920</td>\n",
              "      <td>751</td>\n",
              "    </tr>\n",
              "    <tr>\n",
              "      <th>31</th>\n",
              "      <td>the rest</td>\n",
              "      <td>4.470677</td>\n",
              "      <td>788</td>\n",
              "    </tr>\n",
              "    <tr>\n",
              "      <th>66</th>\n",
              "      <td>look at</td>\n",
              "      <td>4.097826</td>\n",
              "      <td>537</td>\n",
              "    </tr>\n",
              "    <tr>\n",
              "      <th>7</th>\n",
              "      <td>try to</td>\n",
              "      <td>4.071379</td>\n",
              "      <td>1496</td>\n",
              "    </tr>\n",
              "    <tr>\n",
              "      <th>60</th>\n",
              "      <td>the constitution</td>\n",
              "      <td>4.028094</td>\n",
              "      <td>563</td>\n",
              "    </tr>\n",
              "    <tr>\n",
              "      <th>47</th>\n",
              "      <td>president obama</td>\n",
              "      <td>3.989535</td>\n",
              "      <td>660</td>\n",
              "    </tr>\n",
              "    <tr>\n",
              "      <th>99</th>\n",
              "      <td>income tax</td>\n",
              "      <td>3.894160</td>\n",
              "      <td>432</td>\n",
              "    </tr>\n",
              "    <tr>\n",
              "      <th>89</th>\n",
              "      <td>lack of</td>\n",
              "      <td>3.886395</td>\n",
              "      <td>456</td>\n",
              "    </tr>\n",
              "    <tr>\n",
              "      <th>97</th>\n",
              "      <td>this article</td>\n",
              "      <td>3.863254</td>\n",
              "      <td>433</td>\n",
              "    </tr>\n",
              "    <tr>\n",
              "      <th>95</th>\n",
              "      <td>base on</td>\n",
              "      <td>3.816218</td>\n",
              "      <td>440</td>\n",
              "    </tr>\n",
              "    <tr>\n",
              "      <th>50</th>\n",
              "      <td>lot of</td>\n",
              "      <td>3.805424</td>\n",
              "      <td>654</td>\n",
              "    </tr>\n",
              "    <tr>\n",
              "      <th>73</th>\n",
              "      <td>the aca</td>\n",
              "      <td>3.694634</td>\n",
              "      <td>505</td>\n",
              "    </tr>\n",
              "    <tr>\n",
              "      <th>48</th>\n",
              "      <td>part of</td>\n",
              "      <td>3.687389</td>\n",
              "      <td>657</td>\n",
              "    </tr>\n",
              "    <tr>\n",
              "      <th>59</th>\n",
              "      <td>our country</td>\n",
              "      <td>3.531444</td>\n",
              "      <td>565</td>\n",
              "    </tr>\n",
              "    <tr>\n",
              "      <th>93</th>\n",
              "      <td>care about</td>\n",
              "      <td>3.430793</td>\n",
              "      <td>442</td>\n",
              "    </tr>\n",
              "    <tr>\n",
              "      <th>33</th>\n",
              "      <td>continue to</td>\n",
              "      <td>3.367643</td>\n",
              "      <td>759</td>\n",
              "    </tr>\n",
              "    <tr>\n",
              "      <th>5</th>\n",
              "      <td>the gop</td>\n",
              "      <td>3.297129</td>\n",
              "      <td>1536</td>\n",
              "    </tr>\n",
              "    <tr>\n",
              "      <th>65</th>\n",
              "      <td>american people</td>\n",
              "      <td>3.273442</td>\n",
              "      <td>545</td>\n",
              "    </tr>\n",
              "    <tr>\n",
              "      <th>91</th>\n",
              "      <td>tax plan</td>\n",
              "      <td>3.223791</td>\n",
              "      <td>447</td>\n",
              "    </tr>\n",
              "    <tr>\n",
              "      <th>64</th>\n",
              "      <td>this administration</td>\n",
              "      <td>3.218042</td>\n",
              "      <td>548</td>\n",
              "    </tr>\n",
              "    <tr>\n",
              "      <th>35</th>\n",
              "      <td>the fbi</td>\n",
              "      <td>3.207361</td>\n",
              "      <td>751</td>\n",
              "    </tr>\n",
              "    <tr>\n",
              "      <th>11</th>\n",
              "      <td>vote for</td>\n",
              "      <td>3.157807</td>\n",
              "      <td>1290</td>\n",
              "    </tr>\n",
              "    <tr>\n",
              "      <th>16</th>\n",
              "      <td>the senate</td>\n",
              "      <td>3.032860</td>\n",
              "      <td>1228</td>\n",
              "    </tr>\n",
              "    <tr>\n",
              "      <th>2</th>\n",
              "      <td>want to</td>\n",
              "      <td>3.008999</td>\n",
              "      <td>2087</td>\n",
              "    </tr>\n",
              "    <tr>\n",
              "      <th>8</th>\n",
              "      <td>the world</td>\n",
              "      <td>2.983683</td>\n",
              "      <td>1456</td>\n",
              "    </tr>\n",
              "    <tr>\n",
              "      <th>20</th>\n",
              "      <td>seem to</td>\n",
              "      <td>2.932193</td>\n",
              "      <td>1052</td>\n",
              "    </tr>\n",
              "    <tr>\n",
              "      <th>85</th>\n",
              "      <td>trump administration</td>\n",
              "      <td>2.894964</td>\n",
              "      <td>466</td>\n",
              "    </tr>\n",
              "    <tr>\n",
              "      <th>54</th>\n",
              "      <td>no one</td>\n",
              "      <td>2.882089</td>\n",
              "      <td>618</td>\n",
              "    </tr>\n",
              "    <tr>\n",
              "      <th>1</th>\n",
              "      <td>need to</td>\n",
              "      <td>2.875574</td>\n",
              "      <td>2104</td>\n",
              "    </tr>\n",
              "    <tr>\n",
              "      <th>41</th>\n",
              "      <td>this country</td>\n",
              "      <td>2.811517</td>\n",
              "      <td>712</td>\n",
              "    </tr>\n",
              "    <tr>\n",
              "      <th>18</th>\n",
              "      <td>pay for</td>\n",
              "      <td>2.808501</td>\n",
              "      <td>1096</td>\n",
              "    </tr>\n",
              "    <tr>\n",
              "      <th>81</th>\n",
              "      <td>a http</td>\n",
              "      <td>2.734463</td>\n",
              "      <td>480</td>\n",
              "    </tr>\n",
              "    <tr>\n",
              "      <th>37</th>\n",
              "      <td>people who</td>\n",
              "      <td>2.721983</td>\n",
              "      <td>739</td>\n",
              "    </tr>\n",
              "  </tbody>\n",
              "</table>\n",
              "</div>"
            ],
            "text/plain": [
              "                  bigram        pmi  frequency\n",
              "28             http http  13.819215        825\n",
              "9          supreme court  10.099670       1375\n",
              "75           north korea   9.686748        495\n",
              "3            white house   8.356377       1577\n",
              "49          middle class   8.092947        655\n",
              "45          united state   7.350041        666\n",
              "21           health care   6.678027       1047\n",
              "23            tax return   5.556808        974\n",
              "71            tax reform   5.533427        509\n",
              "25          donald trump   5.033974        905\n",
              "10               tax cut   4.991307       1329\n",
              "86            talk about   4.837573        465\n",
              "63               kind of   4.722175        550\n",
              "62             refuse to   4.649056        555\n",
              "52              tax rate   4.636788        637\n",
              "40               rest of   4.596510        718\n",
              "29             of course   4.552049        823\n",
              "34                 a lot   4.489920        751\n",
              "31              the rest   4.470677        788\n",
              "66               look at   4.097826        537\n",
              "7                 try to   4.071379       1496\n",
              "60      the constitution   4.028094        563\n",
              "47       president obama   3.989535        660\n",
              "99            income tax   3.894160        432\n",
              "89               lack of   3.886395        456\n",
              "97          this article   3.863254        433\n",
              "95               base on   3.816218        440\n",
              "50                lot of   3.805424        654\n",
              "73               the aca   3.694634        505\n",
              "48               part of   3.687389        657\n",
              "59           our country   3.531444        565\n",
              "93            care about   3.430793        442\n",
              "33           continue to   3.367643        759\n",
              "5                the gop   3.297129       1536\n",
              "65       american people   3.273442        545\n",
              "91              tax plan   3.223791        447\n",
              "64   this administration   3.218042        548\n",
              "35               the fbi   3.207361        751\n",
              "11              vote for   3.157807       1290\n",
              "16            the senate   3.032860       1228\n",
              "2                want to   3.008999       2087\n",
              "8              the world   2.983683       1456\n",
              "20               seem to   2.932193       1052\n",
              "85  trump administration   2.894964        466\n",
              "54                no one   2.882089        618\n",
              "1                need to   2.875574       2104\n",
              "41          this country   2.811517        712\n",
              "18               pay for   2.808501       1096\n",
              "81                a http   2.734463        480\n",
              "37            people who   2.721983        739"
            ]
          },
          "metadata": {
            "tags": []
          },
          "execution_count": 28
        }
      ]
    },
    {
      "cell_type": "code",
      "metadata": {
        "id": "H0_CFy1ovN5S"
      },
      "source": [
        "select = fre_most.drop([28,86,63,62,40,29,34,31,66,7,89,95,50,59,48,93,33,64,11,2,20,54,1,41,33,18,81,37,85])\n",
        "select_bi = select[\"bigram\"] # 22 bigrams selected"
      ],
      "execution_count": 29,
      "outputs": []
    },
    {
      "cell_type": "code",
      "metadata": {
        "colab": {
          "base_uri": "https://localhost:8080/"
        },
        "id": "aeK3zpqKWMb-",
        "outputId": "f54a7c1c-0baf-47c9-c537-9554b3ebfe6d"
      },
      "source": [
        "len(select_bi)"
      ],
      "execution_count": 30,
      "outputs": [
        {
          "output_type": "execute_result",
          "data": {
            "text/plain": [
              "22"
            ]
          },
          "metadata": {
            "tags": []
          },
          "execution_count": 30
        }
      ]
    },
    {
      "cell_type": "code",
      "metadata": {
        "id": "8qs0F1k6qimR"
      },
      "source": [
        "from collections import defaultdict  \n",
        "bi_dict = defaultdict(list)\n",
        "for bi in select_bi:\n",
        "  f,s = bi.split()\n",
        "  bi_dict[f].append(s)"
      ],
      "execution_count": 31,
      "outputs": []
    },
    {
      "cell_type": "code",
      "metadata": {
        "id": "yr2X3xY0o4W8"
      },
      "source": [
        "sent_c = []\n",
        "for sent in lemma_list: \n",
        "  if len(sent) > 1:\n",
        "    sent_list = []\n",
        "    for i in range(len(sent)-1):\n",
        "      if sent[i] in list(bi_dict.keys()):\n",
        "        if sent[i+1] in bi_dict[sent[i]]:\n",
        "          bi = sent[i] + \" \" + sent[i+1]\n",
        "          sent_list.append(bi)\n",
        "        else:\n",
        "          if sent[i] not in stopwords.words('english'):\n",
        "            sent_list.append(sent[i])  \n",
        "      else:\n",
        "        if sent[i] not in stopwords.words('english'):\n",
        "          sent_list.append(sent[i]) \n",
        "    sent_c.append(sent_list)\n",
        "  elif len(sent) == 1:\n",
        "    if sent[0] not in stopwords.words('english'):\n",
        "      sent_c.append(sent)\n",
        "    else:\n",
        "      sent_c.append([])\n",
        "  else:\n",
        "    sent_c.append([])"
      ],
      "execution_count": 32,
      "outputs": []
    },
    {
      "cell_type": "code",
      "metadata": {
        "id": "8Fa1iWxxBLKR"
      },
      "source": [
        "sent1 = [] # comment level\n",
        "for c in sentences:\n",
        "  ll = []\n",
        "  for s in c:\n",
        "    tokens = word_tokenize(s)\n",
        "    words = [word for word in tokens if word.isalpha()]\n",
        "    words = [word.lower() for word in words]\n",
        "    words = [word for word in words if word != 'i']\n",
        "    ll.append(words)\n",
        "  sent1.append(ll)"
      ],
      "execution_count": 33,
      "outputs": []
    },
    {
      "cell_type": "code",
      "metadata": {
        "id": "qUIBCptqBLKZ"
      },
      "source": [
        "num_com = len(sentences)"
      ],
      "execution_count": 34,
      "outputs": []
    },
    {
      "cell_type": "code",
      "metadata": {
        "id": "H4XPaETwBLKa"
      },
      "source": [
        "com_sent = [] # basic list is sentence\n",
        "count = 0\n",
        "for i in range(num_com):\n",
        "  end = count + len(sent1[i])\n",
        "  cc = sent_c[count:end]\n",
        "  com_sent.append(cc)\n",
        "  count = end"
      ],
      "execution_count": 35,
      "outputs": []
    },
    {
      "cell_type": "code",
      "metadata": {
        "id": "G9Dal12I_Awx"
      },
      "source": [
        "comment = [] # basic list is comment\n",
        "for com in com_sent:\n",
        "  c = []\n",
        "  for sent in com:\n",
        "    for wor in sent:\n",
        "      c.append(wor)\n",
        "  comment.append(c)"
      ],
      "execution_count": 36,
      "outputs": []
    },
    {
      "cell_type": "code",
      "metadata": {
        "id": "9K60QB34BLKb"
      },
      "source": [
        "noun = []\n",
        "for com in comment:\n",
        "  c = []\n",
        "  for wor in com:\n",
        "    if wor in select_bi:\n",
        "      c.append(wor)\n",
        "    else:\n",
        "      w, t = nltk.pos_tag([wor])[0]\n",
        "      if t[0] == \"N\":\n",
        "        c.append(wor)\n",
        "  noun.append(c)"
      ],
      "execution_count": 37,
      "outputs": []
    },
    {
      "cell_type": "code",
      "metadata": {
        "id": "T7PUWW_9BLKf"
      },
      "source": [
        "words = [wor for c in noun for wor in c]"
      ],
      "execution_count": 38,
      "outputs": []
    },
    {
      "cell_type": "code",
      "metadata": {
        "id": "GtFKdhqZBLKg"
      },
      "source": [
        "v_n = [n for n,c in Counter(words).most_common(500)]"
      ],
      "execution_count": 39,
      "outputs": []
    },
    {
      "cell_type": "code",
      "metadata": {
        "colab": {
          "base_uri": "https://localhost:8080/"
        },
        "id": "vLtHZekXBLKh",
        "outputId": "a2cfce88-42a9-48ff-b18b-ed49f7b05bf7"
      },
      "source": [
        "!pip install sklearn\n",
        "from sklearn.feature_extraction.text import TfidfVectorizer\n",
        "df = pd.DataFrame({\"text\":comment})\n",
        "df['text'] = df['text'].apply(lambda x: ' '.join([word for word in x]))\n",
        "vectorizer = TfidfVectorizer(vocabulary=v_n, ngram_range=(1,2))\n",
        "TF_IDF = vectorizer.fit_transform(df['text'].values)\n",
        "TF_IDF_array = TF_IDF.toarray()"
      ],
      "execution_count": 40,
      "outputs": [
        {
          "output_type": "stream",
          "text": [
            "Requirement already satisfied: sklearn in /usr/local/lib/python3.7/dist-packages (0.0)\n",
            "Requirement already satisfied: scikit-learn in /usr/local/lib/python3.7/dist-packages (from sklearn) (0.22.2.post1)\n",
            "Requirement already satisfied: scipy>=0.17.0 in /usr/local/lib/python3.7/dist-packages (from scikit-learn->sklearn) (1.4.1)\n",
            "Requirement already satisfied: numpy>=1.11.0 in /usr/local/lib/python3.7/dist-packages (from scikit-learn->sklearn) (1.19.5)\n",
            "Requirement already satisfied: joblib>=0.11 in /usr/local/lib/python3.7/dist-packages (from scikit-learn->sklearn) (1.0.1)\n"
          ],
          "name": "stdout"
        }
      ]
    },
    {
      "cell_type": "code",
      "metadata": {
        "id": "w02t5ORmBLKm"
      },
      "source": [
        "import numpy as np\n",
        "sum = np.sum(TF_IDF_array,axis=0).tolist()"
      ],
      "execution_count": 41,
      "outputs": []
    },
    {
      "cell_type": "code",
      "metadata": {
        "colab": {
          "base_uri": "https://localhost:8080/",
          "height": 669
        },
        "id": "8f8FgNt5BLKn",
        "outputId": "78796dc9-97ca-4691-830a-cfdf23fecbc2"
      },
      "source": [
        "rank = pd.DataFrame({\"feature\":vectorizer.get_feature_names(),\"index\": sum}).sort_values(\"index\", ascending=False)\n",
        "rank.head(20)"
      ],
      "execution_count": 42,
      "outputs": [
        {
          "output_type": "execute_result",
          "data": {
            "text/html": [
              "<div>\n",
              "<style scoped>\n",
              "    .dataframe tbody tr th:only-of-type {\n",
              "        vertical-align: middle;\n",
              "    }\n",
              "\n",
              "    .dataframe tbody tr th {\n",
              "        vertical-align: top;\n",
              "    }\n",
              "\n",
              "    .dataframe thead th {\n",
              "        text-align: right;\n",
              "    }\n",
              "</style>\n",
              "<table border=\"1\" class=\"dataframe\">\n",
              "  <thead>\n",
              "    <tr style=\"text-align: right;\">\n",
              "      <th></th>\n",
              "      <th>feature</th>\n",
              "      <th>index</th>\n",
              "    </tr>\n",
              "  </thead>\n",
              "  <tbody>\n",
              "    <tr>\n",
              "      <th>0</th>\n",
              "      <td>trump</td>\n",
              "      <td>2434.014595</td>\n",
              "    </tr>\n",
              "    <tr>\n",
              "      <th>2</th>\n",
              "      <td>tax</td>\n",
              "      <td>1309.863682</td>\n",
              "    </tr>\n",
              "    <tr>\n",
              "      <th>1</th>\n",
              "      <td>people</td>\n",
              "      <td>1053.633991</td>\n",
              "    </tr>\n",
              "    <tr>\n",
              "      <th>3</th>\n",
              "      <td>president</td>\n",
              "      <td>890.851764</td>\n",
              "    </tr>\n",
              "    <tr>\n",
              "      <th>4</th>\n",
              "      <td>think</td>\n",
              "      <td>865.854719</td>\n",
              "    </tr>\n",
              "    <tr>\n",
              "      <th>11</th>\n",
              "      <td>obama</td>\n",
              "      <td>742.783272</td>\n",
              "    </tr>\n",
              "    <tr>\n",
              "      <th>5</th>\n",
              "      <td>time</td>\n",
              "      <td>732.073513</td>\n",
              "    </tr>\n",
              "    <tr>\n",
              "      <th>7</th>\n",
              "      <td>need</td>\n",
              "      <td>727.464272</td>\n",
              "    </tr>\n",
              "    <tr>\n",
              "      <th>28</th>\n",
              "      <td>house</td>\n",
              "      <td>710.082666</td>\n",
              "    </tr>\n",
              "    <tr>\n",
              "      <th>9</th>\n",
              "      <td>democrat</td>\n",
              "      <td>685.242863</td>\n",
              "    </tr>\n",
              "    <tr>\n",
              "      <th>10</th>\n",
              "      <td>vote</td>\n",
              "      <td>685.183585</td>\n",
              "    </tr>\n",
              "    <tr>\n",
              "      <th>6</th>\n",
              "      <td>pay</td>\n",
              "      <td>666.965009</td>\n",
              "    </tr>\n",
              "    <tr>\n",
              "      <th>8</th>\n",
              "      <td>want</td>\n",
              "      <td>660.425456</td>\n",
              "    </tr>\n",
              "    <tr>\n",
              "      <th>32</th>\n",
              "      <td>gop</td>\n",
              "      <td>645.895863</td>\n",
              "    </tr>\n",
              "    <tr>\n",
              "      <th>15</th>\n",
              "      <td>state</td>\n",
              "      <td>624.653881</td>\n",
              "    </tr>\n",
              "    <tr>\n",
              "      <th>21</th>\n",
              "      <td>care</td>\n",
              "      <td>604.435987</td>\n",
              "    </tr>\n",
              "    <tr>\n",
              "      <th>36</th>\n",
              "      <td>court</td>\n",
              "      <td>596.726850</td>\n",
              "    </tr>\n",
              "    <tr>\n",
              "      <th>37</th>\n",
              "      <td>world</td>\n",
              "      <td>592.602753</td>\n",
              "    </tr>\n",
              "    <tr>\n",
              "      <th>12</th>\n",
              "      <td>country</td>\n",
              "      <td>586.943415</td>\n",
              "    </tr>\n",
              "    <tr>\n",
              "      <th>16</th>\n",
              "      <td>right</td>\n",
              "      <td>586.684927</td>\n",
              "    </tr>\n",
              "  </tbody>\n",
              "</table>\n",
              "</div>"
            ],
            "text/plain": [
              "      feature        index\n",
              "0       trump  2434.014595\n",
              "2         tax  1309.863682\n",
              "1      people  1053.633991\n",
              "3   president   890.851764\n",
              "4       think   865.854719\n",
              "11      obama   742.783272\n",
              "5        time   732.073513\n",
              "7        need   727.464272\n",
              "28      house   710.082666\n",
              "9    democrat   685.242863\n",
              "10       vote   685.183585\n",
              "6         pay   666.965009\n",
              "8        want   660.425456\n",
              "32        gop   645.895863\n",
              "15      state   624.653881\n",
              "21       care   604.435987\n",
              "36      court   596.726850\n",
              "37      world   592.602753\n",
              "12    country   586.943415\n",
              "16      right   586.684927"
            ]
          },
          "metadata": {
            "tags": []
          },
          "execution_count": 42
        }
      ]
    },
    {
      "cell_type": "code",
      "metadata": {
        "id": "OKexH9TmBLKo"
      },
      "source": [
        "aspects = rank.head(20)[\"feature\"]"
      ],
      "execution_count": 43,
      "outputs": []
    },
    {
      "cell_type": "code",
      "metadata": {
        "colab": {
          "base_uri": "https://localhost:8080/"
        },
        "id": "2q5Gt6vBJnaG",
        "outputId": "7353992c-c7fe-4986-8ea0-1ac8364e2d63"
      },
      "source": [
        "aspects"
      ],
      "execution_count": 44,
      "outputs": [
        {
          "output_type": "execute_result",
          "data": {
            "text/plain": [
              "0         trump\n",
              "2           tax\n",
              "1        people\n",
              "3     president\n",
              "4         think\n",
              "11        obama\n",
              "5          time\n",
              "7          need\n",
              "28        house\n",
              "9      democrat\n",
              "10         vote\n",
              "6           pay\n",
              "8          want\n",
              "32          gop\n",
              "15        state\n",
              "21         care\n",
              "36        court\n",
              "37        world\n",
              "12      country\n",
              "16        right\n",
              "Name: feature, dtype: object"
            ]
          },
          "metadata": {
            "tags": []
          },
          "execution_count": 44
        }
      ]
    },
    {
      "cell_type": "markdown",
      "metadata": {
        "id": "zO8g_w3DtuwH"
      },
      "source": [
        "**Aspect Categorization**"
      ]
    },
    {
      "cell_type": "code",
      "metadata": {
        "id": "ubv6rb5IlxvZ",
        "colab": {
          "base_uri": "https://localhost:8080/"
        },
        "outputId": "09d8633b-bfa9-4c94-dcab-110398001137"
      },
      "source": [
        "!pip install gensim\n",
        "import gensim"
      ],
      "execution_count": 45,
      "outputs": [
        {
          "output_type": "stream",
          "text": [
            "Requirement already satisfied: gensim in /usr/local/lib/python3.7/dist-packages (3.6.0)\n",
            "Requirement already satisfied: numpy>=1.11.3 in /usr/local/lib/python3.7/dist-packages (from gensim) (1.19.5)\n",
            "Requirement already satisfied: smart-open>=1.2.1 in /usr/local/lib/python3.7/dist-packages (from gensim) (5.0.0)\n",
            "Requirement already satisfied: six>=1.5.0 in /usr/local/lib/python3.7/dist-packages (from gensim) (1.15.0)\n",
            "Requirement already satisfied: scipy>=0.18.1 in /usr/local/lib/python3.7/dist-packages (from gensim) (1.4.1)\n"
          ],
          "name": "stdout"
        }
      ]
    },
    {
      "cell_type": "code",
      "metadata": {
        "id": "eFX2i410dB5x"
      },
      "source": [
        "from gensim.models import Word2Vec"
      ],
      "execution_count": 46,
      "outputs": []
    },
    {
      "cell_type": "code",
      "metadata": {
        "id": "zIFGMLbCdCAR"
      },
      "source": [
        "www = [word for item in sent_c for word in item]"
      ],
      "execution_count": 47,
      "outputs": []
    },
    {
      "cell_type": "code",
      "metadata": {
        "colab": {
          "base_uri": "https://localhost:8080/"
        },
        "id": "GYhdfLvoz6qx",
        "outputId": "8e496dde-a011-4767-ec40-2f78c11f6480"
      },
      "source": [
        "len(Counter(www).keys())"
      ],
      "execution_count": 48,
      "outputs": [
        {
          "output_type": "execute_result",
          "data": {
            "text/plain": [
              "28101"
            ]
          },
          "metadata": {
            "tags": []
          },
          "execution_count": 48
        }
      ]
    },
    {
      "cell_type": "code",
      "metadata": {
        "id": "3Ff4CI5P4GFU"
      },
      "source": [
        "def skip(sent, n=3, s=2):\n",
        "  k_grams = []\n",
        "  for i in range(len(sent)):\n",
        "    for z in range(s):\n",
        "      seq = [sent[i]] + sent[i+z+1:i+z+n]\n",
        "      if len(seq) == n and seq not in k_grams:\n",
        "        k_grams.append(list(seq))\n",
        "  return k_grams  "
      ],
      "execution_count": 49,
      "outputs": []
    },
    {
      "cell_type": "code",
      "metadata": {
        "id": "yDpjtQgA52Ff"
      },
      "source": [
        "sent_c1 = [sent for sent in sent_c if sent != []]"
      ],
      "execution_count": 50,
      "outputs": []
    },
    {
      "cell_type": "code",
      "metadata": {
        "id": "btn1-q2Yz6wP"
      },
      "source": [
        "sequences = []\n",
        "for i in sent_c1:\n",
        "  l = skip(i)\n",
        "  sequences.append(l)"
      ],
      "execution_count": 51,
      "outputs": []
    },
    {
      "cell_type": "code",
      "metadata": {
        "id": "yFZmZJC25Z23"
      },
      "source": [
        "sequences = [sent for sent in sequences if sent != []]\n",
        "seq = [s for sent in sequences for s in sent]"
      ],
      "execution_count": 52,
      "outputs": []
    },
    {
      "cell_type": "code",
      "metadata": {
        "colab": {
          "base_uri": "https://localhost:8080/"
        },
        "id": "Hl82yRzg6Azx",
        "outputId": "823993c7-afd3-4c64-b8a5-24d4dd208d85"
      },
      "source": [
        "seq[:10]"
      ],
      "execution_count": 63,
      "outputs": [
        {
          "output_type": "execute_result",
          "data": {
            "text/plain": [
              "[['chuck', 'schumer', 'really'],\n",
              " ['chuck', 'really', 'ca'],\n",
              " ['schumer', 'really', 'ca'],\n",
              " ['schumer', 'ca', 'gorsuch'],\n",
              " ['really', 'ca', 'gorsuch'],\n",
              " ['really', 'gorsuch', 'declare'],\n",
              " ['ca', 'gorsuch', 'declare'],\n",
              " ['ca', 'declare', 'gorsuch'],\n",
              " ['gorsuch', 'declare', 'gorsuch'],\n",
              " ['gorsuch', 'gorsuch', 'unacceptable']]"
            ]
          },
          "metadata": {
            "tags": []
          },
          "execution_count": 63
        }
      ]
    },
    {
      "cell_type": "code",
      "metadata": {
        "id": "spi8aEbQ-1y1"
      },
      "source": [
        "model = Word2Vec(seq, min_count=50)"
      ],
      "execution_count": 205,
      "outputs": []
    },
    {
      "cell_type": "code",
      "metadata": {
        "colab": {
          "base_uri": "https://localhost:8080/"
        },
        "id": "ddcv_yd7z66l",
        "outputId": "1b253ce3-d592-4796-8c9e-589753335b9c"
      },
      "source": [
        "word = 'trump'\n",
        "model.wv.most_similar(positive=word)"
      ],
      "execution_count": 207,
      "outputs": [
        {
          "output_type": "execute_result",
          "data": {
            "text/plain": [
              "[('djt', 0.5946908593177795),\n",
              " ('donald', 0.5720802545547485),\n",
              " ('donnie', 0.5330347418785095),\n",
              " ('trumps', 0.5084653496742249),\n",
              " ('dt', 0.5024241805076599),\n",
              " ('imbecile', 0.49956732988357544),\n",
              " ('instrumental', 0.48739171028137207),\n",
              " ('apologist', 0.47875234484672546),\n",
              " ('personally', 0.4770694673061371),\n",
              " ('sycophant', 0.4770386517047882)]"
            ]
          },
          "metadata": {
            "tags": []
          },
          "execution_count": 207
        }
      ]
    },
    {
      "cell_type": "code",
      "metadata": {
        "id": "JKa3F2T9wmMk"
      },
      "source": [
        "aspect_c = defaultdict(list)\n",
        "for i in aspects:\n",
        "  similar = model.wv.most_similar(positive=i)\n",
        "  for w, s in similar:\n",
        "    aspect_c[i].append(w)"
      ],
      "execution_count": 393,
      "outputs": []
    },
    {
      "cell_type": "code",
      "metadata": {
        "id": "mph58BjW_MAQ"
      },
      "source": [
        "aspect_c.keys()"
      ],
      "execution_count": null,
      "outputs": []
    },
    {
      "cell_type": "code",
      "metadata": {
        "id": "YvBxJ11FJSTm"
      },
      "source": [
        "d = ['think', 'time', 'need', 'want', \"pay\", \"right\"]\n",
        "for i in d:\n",
        "  aspect_c.pop(i)\n",
        "category = dict(aspect_c)"
      ],
      "execution_count": 395,
      "outputs": []
    },
    {
      "cell_type": "code",
      "metadata": {
        "id": "oeg6Pj2kJSTo"
      },
      "source": [
        "for (a, s) in category.items():\n",
        "  for wor in s:\n",
        "    w,t = nltk.pos_tag([wor])[0]\n",
        "    if t[0] != 'N':\n",
        "      category[a].remove(wor)"
      ],
      "execution_count": 396,
      "outputs": []
    },
    {
      "cell_type": "code",
      "metadata": {
        "id": "tHUlpaYsMvXs"
      },
      "source": [
        "category"
      ],
      "execution_count": null,
      "outputs": []
    },
    {
      "cell_type": "code",
      "metadata": {
        "id": "8SGN7x8TPvJy"
      },
      "source": [
        "category ={'care': ['healthcare', 'health care', 'health'],\n",
        " 'country': ['nation', 'usa', 'america', 'planet', 'citizenry','united state'],\n",
        " 'court': ['scotus', 'supreme court', 'supreme', 'bench', 'sc', 'illegitimate','overturn','scalia'],\n",
        " 'democrat': ['dems', 'democrats', 'dem', 'legislator', 'runoff'],\n",
        " 'gop': ['the gop', 'republicans', 'rep', 'caucus', 'faction','reckon', 'spine'],\n",
        " 'house': ['occupant', 'visitor', 'wh', 'whitewater', 'white house', 'chairman','invitation', 'jason'],\n",
        " 'obama': ['gall', 'obamas', 'president obama', 'predecessor', 'bush', 'stonewalling', 'successor'],\n",
        " 'people': ['folk', 'citizen', 'constituent', 'illegals', 'americans', 'person', 'woman', 'benefactor'],\n",
        " 'president': ['potus', 'duly', 'pres', 'jimmy', 'presidency', 'sociopath', 'occupant', 'businessman'],\n",
        " 'state': ['governor', 'assistant', 'county', 'resident', 'district', 'georgia', 'alabama', 'indiana', 'catholic'],\n",
        " 'tax': ['amt', 'monies', 'income tax', 'earnings', 'tax rate', 'adjust', 'loophole'],\n",
        " 'trump': ['djt', 'donald', 'donnie', 'trumps', 'dt', 'imbecile', 'apologist', 'sycophant'],\n",
        " 'vote': ['runoff', 'stein', 'voting', 'ballot','disenfranchise', 'reelect','slim','turnout','repub'],\n",
        " 'world': ['region', 'the world', 'eu', 'sordid', 'th', 'isolate', 'beacon']\n",
        " }"
      ],
      "execution_count": 53,
      "outputs": []
    },
    {
      "cell_type": "code",
      "metadata": {
        "id": "qbT6NasyQM47"
      },
      "source": [
        "for k in category.keys():\n",
        "  category[k].append(k)"
      ],
      "execution_count": 54,
      "outputs": []
    },
    {
      "cell_type": "code",
      "metadata": {
        "id": "4dGyG6jyZAOr"
      },
      "source": [
        "c_v = [wor for k,v in category.items() for wor in v]"
      ],
      "execution_count": 55,
      "outputs": []
    },
    {
      "cell_type": "code",
      "metadata": {
        "id": "AxVXRiK6VivS"
      },
      "source": [
        "cc = []\n",
        "for com in com_sent:\n",
        "  ccc = []\n",
        "  for sent in com:\n",
        "    ss = []\n",
        "    for wor in sent:\n",
        "      if wor not in c_v:\n",
        "        ss.append(wor)\n",
        "      else:\n",
        "        for k in category.keys():\n",
        "          if wor in category[k]:\n",
        "            ss.append(k)\n",
        "    ccc.append(ss)\n",
        "  cc.append(ccc)"
      ],
      "execution_count": 56,
      "outputs": []
    },
    {
      "cell_type": "code",
      "metadata": {
        "id": "iT-TZbmKeFXl"
      },
      "source": [
        "opinion_d = []\n",
        "for com in cc:\n",
        "  com_d = defaultdict(list)\n",
        "  for s in com:\n",
        "    for k in category.keys():\n",
        "      if any(w in s for w in category[k]) is True:\n",
        "        com_d[k].append(s)\n",
        "  opinion_d.append(dict(com_d))"
      ],
      "execution_count": 57,
      "outputs": []
    },
    {
      "cell_type": "code",
      "metadata": {
        "id": "aQbLKyEKhDh-"
      },
      "source": [
        "opinion = pd.DataFrame({\"opinion sentences\": opinion_d, \"recommendation\": clean[\"recommendations\"], \"editor selection\": clean[\"editorsSelection\"]})"
      ],
      "execution_count": 58,
      "outputs": []
    },
    {
      "cell_type": "code",
      "metadata": {
        "id": "0I0Nr5falTH5"
      },
      "source": [
        "opinion.drop(opinion[opinion['opinion sentences'] == {}].index, inplace = True)"
      ],
      "execution_count": 59,
      "outputs": []
    },
    {
      "cell_type": "markdown",
      "metadata": {
        "id": "sLpioqZOEDg4"
      },
      "source": [
        "**Sentiment Orientation**"
      ]
    },
    {
      "cell_type": "code",
      "metadata": {
        "id": "DvOaYhRG5Z4o"
      },
      "source": [
        "def split_sentence(o_p, k):\n",
        "  if k in o_p.keys():\n",
        "    list_s = o_p[k]\n",
        "  else:\n",
        "    list_s = []\n",
        "  return list_s"
      ],
      "execution_count": 60,
      "outputs": []
    },
    {
      "cell_type": "code",
      "metadata": {
        "id": "cLXVUDSK66HO"
      },
      "source": [
        "for k in category.keys():\n",
        "  m = []\n",
        "  for i in opinion['opinion sentences']:\n",
        "    x = split_sentence(i, k)\n",
        "    m.append(x)\n",
        "  opinion[k] = m"
      ],
      "execution_count": 61,
      "outputs": []
    },
    {
      "cell_type": "code",
      "metadata": {
        "id": "HLs_p7ouDtGS"
      },
      "source": [
        "# care\n",
        "care = pd.DataFrame({\"care\": opinion['care']})\n",
        "care = care[care['care'].apply(lambda x: len(x)) > 0]\n",
        "care_index = list(care.index)"
      ],
      "execution_count": 62,
      "outputs": []
    },
    {
      "cell_type": "code",
      "metadata": {
        "id": "HJFBXqwHAJru"
      },
      "source": [
        "def word_list(l):\n",
        "  ll = []\n",
        "  for i in list(l):\n",
        "    w = []\n",
        "    for s in i:\n",
        "      for word in s:\n",
        "        w.append(word)\n",
        "    ll.append(w)\n",
        "  return ll"
      ],
      "execution_count": 63,
      "outputs": []
    },
    {
      "cell_type": "code",
      "metadata": {
        "id": "NSIJJb5ddc0a"
      },
      "source": [
        "def get_v(list_p):\n",
        "  v = [w for s in list_p for w in s]\n",
        "  feature = [k for k, v in Counter(v).most_common() if v > 5]\n",
        "  return feature"
      ],
      "execution_count": 64,
      "outputs": []
    },
    {
      "cell_type": "code",
      "metadata": {
        "id": "dVWzoMQX3mXX"
      },
      "source": [
        "care_list = word_list(care[\"care\"])\n",
        "feature1 = get_v(care_list)\n",
        "care_list = pd.DataFrame({\"care\":care_list})\n",
        "care_list['care'] = care_list['care'].apply(lambda x: ' '.join([word for word in x]))"
      ],
      "execution_count": 65,
      "outputs": []
    },
    {
      "cell_type": "code",
      "metadata": {
        "id": "zJsEw-y0cSNQ"
      },
      "source": [
        "vectorizer = TfidfVectorizer(vocabulary=feature1, ngram_range=(1,2))\n",
        "TF_IDF1 = vectorizer.fit_transform(care_list['care'].values)\n",
        "TF_IDF_array1 = TF_IDF1.toarray()"
      ],
      "execution_count": 66,
      "outputs": []
    },
    {
      "cell_type": "code",
      "metadata": {
        "id": "sgSYkmN03Ts1"
      },
      "source": [
        "from sklearn.cluster import KMeans\n",
        "kmeans1 = KMeans(n_clusters=2, random_state=0).fit(TF_IDF1)"
      ],
      "execution_count": 67,
      "outputs": []
    },
    {
      "cell_type": "code",
      "metadata": {
        "id": "_kqrWFf1fPIE"
      },
      "source": [
        "from sklearn.metrics import pairwise_distances_argmin_min\n",
        "closest1, _ = pairwise_distances_argmin_min(kmeans1.cluster_centers_, TF_IDF1)"
      ],
      "execution_count": 68,
      "outputs": []
    },
    {
      "cell_type": "code",
      "metadata": {
        "colab": {
          "base_uri": "https://localhost:8080/"
        },
        "id": "9SdLrnzb42yO",
        "outputId": "01e6bdfe-32dc-4c15-d899-fe11cff65076"
      },
      "source": [
        "sentences[care_index[closest1[0]]]  # negative"
      ],
      "execution_count": 69,
      "outputs": [
        {
          "output_type": "execute_result",
          "data": {
            "text/plain": [
              "['Whatever tax model we end with you can be sure the wealthy will be paying less.',\n",
              " 'This will be a tax cut for the rich disguised as tax reform, just as repeal and replace was a tax cut for the rich disguised as health reform.']"
            ]
          },
          "metadata": {
            "tags": []
          },
          "execution_count": 69
        }
      ]
    },
    {
      "cell_type": "code",
      "metadata": {
        "colab": {
          "base_uri": "https://localhost:8080/"
        },
        "id": "0nqdUdjx6bA-",
        "outputId": "0042fe60-8d7a-49b8-da98-cec6b299dc8d"
      },
      "source": [
        "sentences[care_index[closest1[1]]]  # positive"
      ],
      "execution_count": 70,
      "outputs": [
        {
          "output_type": "execute_result",
          "data": {
            "text/plain": [
              "['~<br/>At this point, there seem to be better places to raise children:<br/>1.',\n",
              " \"Nat'l health care<br/>2.\",\n",
              " 'Respect Constitution<br/>2a.',\n",
              " 'Not steal Supreme Court seats<br/>2b.',\n",
              " \"Not change Senate rules to get political party's way<br/>3.\",\n",
              " 'Properly fund education<br/>Those places exist!<br/>The U.S. seems incapable of joining the 21st century.']"
            ]
          },
          "metadata": {
            "tags": []
          },
          "execution_count": 70
        }
      ]
    },
    {
      "cell_type": "code",
      "metadata": {
        "id": "HHl0HjE97_n6"
      },
      "source": [
        "label1 = kmeans1.labels_"
      ],
      "execution_count": 71,
      "outputs": []
    },
    {
      "cell_type": "code",
      "metadata": {
        "collapsed": true,
        "id": "WjLx1c-ECMs0",
        "colab": {
          "base_uri": "https://localhost:8080/"
        },
        "outputId": "d805f0dc-1a29-46b6-c126-6c6a7903168d"
      },
      "source": [
        "opinion[\"senti1\"] = np.zeros(len(opinion))\n",
        "for i in range(len(label1)):\n",
        "  if label1[i] == 0:\n",
        "    opinion[\"senti1\"][care_index[i]] = -1\n",
        "  if label1[i] == 1:\n",
        "    opinion[\"senti1\"][care_index[i]] = 1"
      ],
      "execution_count": 72,
      "outputs": [
        {
          "output_type": "stream",
          "text": [
            "/usr/local/lib/python3.7/dist-packages/ipykernel_launcher.py:6: SettingWithCopyWarning: \n",
            "A value is trying to be set on a copy of a slice from a DataFrame\n",
            "\n",
            "See the caveats in the documentation: https://pandas.pydata.org/pandas-docs/stable/user_guide/indexing.html#returning-a-view-versus-a-copy\n",
            "  \n",
            "/usr/local/lib/python3.7/dist-packages/ipykernel_launcher.py:4: SettingWithCopyWarning: \n",
            "A value is trying to be set on a copy of a slice from a DataFrame\n",
            "\n",
            "See the caveats in the documentation: https://pandas.pydata.org/pandas-docs/stable/user_guide/indexing.html#returning-a-view-versus-a-copy\n",
            "  after removing the cwd from sys.path.\n"
          ],
          "name": "stderr"
        }
      ]
    },
    {
      "cell_type": "code",
      "metadata": {
        "id": "-4d7yz9681xH"
      },
      "source": [
        "# country\n",
        "country = pd.DataFrame({\"country\": opinion['country']})\n",
        "country = country[country['country'].apply(lambda x: len(x)) > 0]\n",
        "country_index = list(country.index)"
      ],
      "execution_count": 73,
      "outputs": []
    },
    {
      "cell_type": "code",
      "metadata": {
        "id": "sp4U9JgO-Cul"
      },
      "source": [
        "country_list = word_list(country[\"country\"])\n",
        "feature2 = get_v(country_list)\n",
        "country_list = pd.DataFrame({\"country\":country_list})\n",
        "country_list['country'] = country_list['country'].apply(lambda x: ' '.join([word for word in x]))"
      ],
      "execution_count": 74,
      "outputs": []
    },
    {
      "cell_type": "code",
      "metadata": {
        "id": "BJKVUP50_Qsi"
      },
      "source": [
        "vectorizer2 = TfidfVectorizer(vocabulary=feature2, ngram_range=(1,2))\n",
        "TF_IDF2 = vectorizer2.fit_transform(country_list['country'].values)\n",
        "kmeans2 = KMeans(n_clusters=2, random_state=0).fit(TF_IDF2)\n",
        "closest2, _ = pairwise_distances_argmin_min(kmeans2.cluster_centers_, TF_IDF2)"
      ],
      "execution_count": 75,
      "outputs": []
    },
    {
      "cell_type": "code",
      "metadata": {
        "colab": {
          "base_uri": "https://localhost:8080/"
        },
        "id": "gcZZhFPi_39a",
        "outputId": "a9d20a5e-4601-4a98-e479-991ed3823d6a"
      },
      "source": [
        "sentences[country_index[closest2[0]]] # negative"
      ],
      "execution_count": 76,
      "outputs": [
        {
          "output_type": "execute_result",
          "data": {
            "text/plain": [
              "[\"We the people need to have a say in the self-imposed 'rules' that are on display in the house and senate.\",\n",
              " 'They are doing the country a disservice-']"
            ]
          },
          "metadata": {
            "tags": []
          },
          "execution_count": 76
        }
      ]
    },
    {
      "cell_type": "code",
      "metadata": {
        "colab": {
          "base_uri": "https://localhost:8080/"
        },
        "id": "gewfuq9j_6Ur",
        "outputId": "00ef2fe3-e04e-4b09-db6e-674b0329258e"
      },
      "source": [
        "sentences[country_index[closest2[1]]] # positive"
      ],
      "execution_count": 77,
      "outputs": [
        {
          "output_type": "execute_result",
          "data": {
            "text/plain": [
              "['And that is why every country in the world has a parliamentary system.']"
            ]
          },
          "metadata": {
            "tags": []
          },
          "execution_count": 77
        }
      ]
    },
    {
      "cell_type": "code",
      "metadata": {
        "id": "7AY40eJ3BzNq",
        "colab": {
          "base_uri": "https://localhost:8080/"
        },
        "outputId": "e749190e-e9a9-44ff-e687-0e34f2aab4ba"
      },
      "source": [
        "label2 = kmeans2.labels_\n",
        "opinion[\"senti2\"] = np.zeros(len(opinion))\n",
        "for i in range(len(label2)):\n",
        "  if label2[i] == 0:\n",
        "    opinion[\"senti2\"][country_index[i]] = -1\n",
        "  if label2[i] == 1:\n",
        "    opinion[\"senti2\"][country_index[i]] = 1"
      ],
      "execution_count": 78,
      "outputs": [
        {
          "output_type": "stream",
          "text": [
            "/usr/local/lib/python3.7/dist-packages/ipykernel_launcher.py:5: SettingWithCopyWarning: \n",
            "A value is trying to be set on a copy of a slice from a DataFrame\n",
            "\n",
            "See the caveats in the documentation: https://pandas.pydata.org/pandas-docs/stable/user_guide/indexing.html#returning-a-view-versus-a-copy\n",
            "  \"\"\"\n",
            "/usr/local/lib/python3.7/dist-packages/ipykernel_launcher.py:7: SettingWithCopyWarning: \n",
            "A value is trying to be set on a copy of a slice from a DataFrame\n",
            "\n",
            "See the caveats in the documentation: https://pandas.pydata.org/pandas-docs/stable/user_guide/indexing.html#returning-a-view-versus-a-copy\n",
            "  import sys\n"
          ],
          "name": "stderr"
        }
      ]
    },
    {
      "cell_type": "code",
      "metadata": {
        "id": "cj8zOF9dRrSB"
      },
      "source": [
        "# court\n",
        "court = pd.DataFrame({\"court\": opinion['court']})\n",
        "court = court[court['court'].apply(lambda x: len(x)) > 0]\n",
        "court_index = list(court.index)"
      ],
      "execution_count": 79,
      "outputs": []
    },
    {
      "cell_type": "code",
      "metadata": {
        "id": "C-6h2DgtRrx4"
      },
      "source": [
        "court_list = word_list(court[\"court\"])\n",
        "feature3 = get_v(court_list)\n",
        "court_list = pd.DataFrame({\"court\":court_list})\n",
        "court_list['court'] = court_list['court'].apply(lambda x: ' '.join([word for word in x]))"
      ],
      "execution_count": 80,
      "outputs": []
    },
    {
      "cell_type": "code",
      "metadata": {
        "id": "6HrQEPt8Rr65"
      },
      "source": [
        "vectorizer3 = TfidfVectorizer(vocabulary=feature3, ngram_range=(1,2))\n",
        "TF_IDF3 = vectorizer3.fit_transform(court_list['court'].values)\n",
        "kmeans3 = KMeans(n_clusters=2, random_state=0).fit(TF_IDF3)\n",
        "closest3, _ = pairwise_distances_argmin_min(kmeans3.cluster_centers_, TF_IDF3)"
      ],
      "execution_count": 81,
      "outputs": []
    },
    {
      "cell_type": "code",
      "metadata": {
        "colab": {
          "base_uri": "https://localhost:8080/"
        },
        "id": "_J-qXus2RsBP",
        "outputId": "1b63edfa-3b45-4878-cc7b-88d824085832"
      },
      "source": [
        "sentences[court_index[closest3[0]]] # negative"
      ],
      "execution_count": 82,
      "outputs": [
        {
          "output_type": "execute_result",
          "data": {
            "text/plain": [
              "[\"How quickly you've forgotten:  Under current law, corporations are people so they can't be exempt from tax liability on the basis of their status as non-humans.\",\n",
              " 'Our SCOTUS, in its infinite wisdom, has decreed that they are \"persons\".']"
            ]
          },
          "metadata": {
            "tags": []
          },
          "execution_count": 82
        }
      ]
    },
    {
      "cell_type": "code",
      "metadata": {
        "colab": {
          "base_uri": "https://localhost:8080/"
        },
        "id": "qnHPo32oTXSb",
        "outputId": "9cfdd932-0f32-4192-ac25-8d03411b986f"
      },
      "source": [
        "sentences[court_index[closest3[1]]] # positive"
      ],
      "execution_count": 83,
      "outputs": [
        {
          "output_type": "execute_result",
          "data": {
            "text/plain": [
              "['The Senate GOP should be condemned for hijacking Senate rules to confirm this SCOTUS nominee after stealing the seat from POTUS44.']"
            ]
          },
          "metadata": {
            "tags": []
          },
          "execution_count": 83
        }
      ]
    },
    {
      "cell_type": "code",
      "metadata": {
        "id": "v54IVeWATuKy",
        "colab": {
          "base_uri": "https://localhost:8080/"
        },
        "outputId": "25689cbc-2778-4359-f674-7bf4ff91442a"
      },
      "source": [
        "label3 = kmeans3.labels_\n",
        "opinion[\"senti3\"] = np.zeros(len(opinion))\n",
        "for i in range(len(label3)):\n",
        "  if label3[i] == 0:\n",
        "    opinion[\"senti3\"][court_index[i]] = -1\n",
        "  if label3[i] == 1:\n",
        "    opinion[\"senti3\"][court_index[i]] = 1"
      ],
      "execution_count": 84,
      "outputs": [
        {
          "output_type": "stream",
          "text": [
            "/usr/local/lib/python3.7/dist-packages/ipykernel_launcher.py:5: SettingWithCopyWarning: \n",
            "A value is trying to be set on a copy of a slice from a DataFrame\n",
            "\n",
            "See the caveats in the documentation: https://pandas.pydata.org/pandas-docs/stable/user_guide/indexing.html#returning-a-view-versus-a-copy\n",
            "  \"\"\"\n",
            "/usr/local/lib/python3.7/dist-packages/ipykernel_launcher.py:7: SettingWithCopyWarning: \n",
            "A value is trying to be set on a copy of a slice from a DataFrame\n",
            "\n",
            "See the caveats in the documentation: https://pandas.pydata.org/pandas-docs/stable/user_guide/indexing.html#returning-a-view-versus-a-copy\n",
            "  import sys\n"
          ],
          "name": "stderr"
        }
      ]
    },
    {
      "cell_type": "code",
      "metadata": {
        "id": "fhZdC8EXw3rk"
      },
      "source": [
        "# democrat\n",
        "democrat = pd.DataFrame({\"democrat\": opinion['democrat']})\n",
        "democrat = democrat[democrat['democrat'].apply(lambda x: len(x)) > 0]\n",
        "democrat_index = list(democrat.index)"
      ],
      "execution_count": 85,
      "outputs": []
    },
    {
      "cell_type": "code",
      "metadata": {
        "id": "B2VvagGXw3us"
      },
      "source": [
        "democrat_list = word_list(democrat[\"democrat\"])\n",
        "feature4 = get_v(democrat_list)\n",
        "democrat_list = pd.DataFrame({\"democrat\":democrat_list})\n",
        "democrat_list['democrat'] = democrat_list['democrat'].apply(lambda x: ' '.join([word for word in x]))"
      ],
      "execution_count": 86,
      "outputs": []
    },
    {
      "cell_type": "code",
      "metadata": {
        "id": "QDLBsBagw3yV"
      },
      "source": [
        "vectorizer4 = TfidfVectorizer(vocabulary=feature4, ngram_range=(1,2))\n",
        "TF_IDF4 = vectorizer4.fit_transform(democrat_list['democrat'].values)\n",
        "kmeans4 = KMeans(n_clusters=2, random_state=0).fit(TF_IDF4)\n",
        "closest4, _ = pairwise_distances_argmin_min(kmeans4.cluster_centers_, TF_IDF4)"
      ],
      "execution_count": 87,
      "outputs": []
    },
    {
      "cell_type": "code",
      "metadata": {
        "colab": {
          "base_uri": "https://localhost:8080/"
        },
        "id": "1TQ7oeTdw30u",
        "outputId": "bf40845c-6f80-46e8-9d69-45b2b3cdfe54"
      },
      "source": [
        "sentences[democrat_index[closest4[0]]] # positive"
      ],
      "execution_count": 88,
      "outputs": [
        {
          "output_type": "execute_result",
          "data": {
            "text/plain": [
              "['And the people can make that happen only if they vote for Democrats.',\n",
              " 'All Democrats on the Supreme Court voted against Citizens United.',\n",
              " 'All Democrats in the Senate voted for the Disclose Act.',\n",
              " 'Republicans keep blocking attempts to assert that only people are people.']"
            ]
          },
          "metadata": {
            "tags": []
          },
          "execution_count": 88
        }
      ]
    },
    {
      "cell_type": "code",
      "metadata": {
        "colab": {
          "base_uri": "https://localhost:8080/"
        },
        "id": "sv5xoKvIw33I",
        "outputId": "fdb7590e-ddb7-4e2f-a38a-083c500ebbda"
      },
      "source": [
        "sentences[democrat_index[closest4[1]]] # negative"
      ],
      "execution_count": 89,
      "outputs": [
        {
          "output_type": "execute_result",
          "data": {
            "text/plain": [
              "['The Dems reap what they sow.',\n",
              " 'They already went \"nuclear,\" abolishing filibusters for all but Supreme Court nominees when they had a majority.',\n",
              " \"Now it's the turn of the GOP.\",\n",
              " 'They did it first, an inspiring rallying cry.',\n",
              " 'True leadership on both sides of the aisle.']"
            ]
          },
          "metadata": {
            "tags": []
          },
          "execution_count": 89
        }
      ]
    },
    {
      "cell_type": "code",
      "metadata": {
        "id": "6pJMqAoow36m",
        "colab": {
          "base_uri": "https://localhost:8080/"
        },
        "outputId": "8de5f674-ed4e-49f1-bb86-9c1fdb6e0053"
      },
      "source": [
        "label4 = kmeans4.labels_\n",
        "opinion[\"senti4\"] = np.zeros(len(opinion))\n",
        "for i in range(len(label4)):\n",
        "  if label4[i] == 0:\n",
        "    opinion[\"senti4\"][democrat_index[i]] = 1\n",
        "  if label4[i] == 1:\n",
        "    opinion[\"senti4\"][democrat_index[i]] = -1"
      ],
      "execution_count": 90,
      "outputs": [
        {
          "output_type": "stream",
          "text": [
            "/usr/local/lib/python3.7/dist-packages/ipykernel_launcher.py:7: SettingWithCopyWarning: \n",
            "A value is trying to be set on a copy of a slice from a DataFrame\n",
            "\n",
            "See the caveats in the documentation: https://pandas.pydata.org/pandas-docs/stable/user_guide/indexing.html#returning-a-view-versus-a-copy\n",
            "  import sys\n",
            "/usr/local/lib/python3.7/dist-packages/ipykernel_launcher.py:5: SettingWithCopyWarning: \n",
            "A value is trying to be set on a copy of a slice from a DataFrame\n",
            "\n",
            "See the caveats in the documentation: https://pandas.pydata.org/pandas-docs/stable/user_guide/indexing.html#returning-a-view-versus-a-copy\n",
            "  \"\"\"\n"
          ],
          "name": "stderr"
        }
      ]
    },
    {
      "cell_type": "code",
      "metadata": {
        "id": "D8wdLlqNymCu"
      },
      "source": [
        "# gop\n",
        "gop = pd.DataFrame({\"gop\": opinion['gop']})\n",
        "gop = gop[gop['gop'].apply(lambda x: len(x)) > 0]\n",
        "gop_index = list(gop.index)"
      ],
      "execution_count": 91,
      "outputs": []
    },
    {
      "cell_type": "code",
      "metadata": {
        "id": "JzdLCkmDzH6w"
      },
      "source": [
        "gop_list = word_list(gop[\"gop\"])\n",
        "feature5 = get_v(gop_list)\n",
        "gop_list = pd.DataFrame({\"gop\":gop_list})\n",
        "gop_list['gop'] = gop_list['gop'].apply(lambda x: ' '.join([word for word in x]))"
      ],
      "execution_count": 93,
      "outputs": []
    },
    {
      "cell_type": "code",
      "metadata": {
        "id": "AaAW_sO3zge_"
      },
      "source": [
        "vectorizer5 = TfidfVectorizer(vocabulary=feature5, ngram_range=(1,2))\n",
        "TF_IDF5 = vectorizer5.fit_transform(gop_list['gop'].values)\n",
        "kmeans5 = KMeans(n_clusters=2, random_state=0).fit(TF_IDF5)\n",
        "closest5, _ = pairwise_distances_argmin_min(kmeans5.cluster_centers_, TF_IDF5)"
      ],
      "execution_count": 94,
      "outputs": []
    },
    {
      "cell_type": "code",
      "metadata": {
        "colab": {
          "base_uri": "https://localhost:8080/"
        },
        "id": "A-b4n3Yhzgj0",
        "outputId": "048a6bd6-7099-41c8-d6e1-fc9db96517f9"
      },
      "source": [
        "sentences[gop_index[closest5[0]]] # positive"
      ],
      "execution_count": 95,
      "outputs": [
        {
          "output_type": "execute_result",
          "data": {
            "text/plain": [
              "['Who was it that initiated the nuclear option?',\n",
              " 'Was it the GOP?',\n",
              " 'not as I remember it.']"
            ]
          },
          "metadata": {
            "tags": []
          },
          "execution_count": 95
        }
      ]
    },
    {
      "cell_type": "code",
      "metadata": {
        "colab": {
          "base_uri": "https://localhost:8080/"
        },
        "id": "VD9vRjpNzgoA",
        "outputId": "7fdbffcc-a98b-40aa-a862-52336d0b86dd"
      },
      "source": [
        "sentences[gop_index[closest5[1]]] # negative"
      ],
      "execution_count": 96,
      "outputs": [
        {
          "output_type": "execute_result",
          "data": {
            "text/plain": [
              "[\"The GOP doesn't care about deficits.\",\n",
              " 'Just ask Dick Cheney and his congressional Republican enablers.',\n",
              " 'And maybe President Obama, who had pick up the pieces.']"
            ]
          },
          "metadata": {
            "tags": []
          },
          "execution_count": 96
        }
      ]
    },
    {
      "cell_type": "code",
      "metadata": {
        "id": "6IS7ZU7o3C7p",
        "colab": {
          "base_uri": "https://localhost:8080/"
        },
        "outputId": "7b87ec4f-a566-4e18-fcbf-a8326e3b2123"
      },
      "source": [
        "label5 = kmeans5.labels_\n",
        "opinion[\"senti5\"] = np.zeros(len(opinion))\n",
        "for i in range(len(label5)):\n",
        "  if label5[i] == 0:\n",
        "    opinion[\"senti5\"][gop_index[i]] = 1\n",
        "  if label5[i] == 1:\n",
        "    opinion[\"senti5\"][gop_index[i]] = -1"
      ],
      "execution_count": 97,
      "outputs": [
        {
          "output_type": "stream",
          "text": [
            "/usr/local/lib/python3.7/dist-packages/ipykernel_launcher.py:5: SettingWithCopyWarning: \n",
            "A value is trying to be set on a copy of a slice from a DataFrame\n",
            "\n",
            "See the caveats in the documentation: https://pandas.pydata.org/pandas-docs/stable/user_guide/indexing.html#returning-a-view-versus-a-copy\n",
            "  \"\"\"\n",
            "/usr/local/lib/python3.7/dist-packages/ipykernel_launcher.py:7: SettingWithCopyWarning: \n",
            "A value is trying to be set on a copy of a slice from a DataFrame\n",
            "\n",
            "See the caveats in the documentation: https://pandas.pydata.org/pandas-docs/stable/user_guide/indexing.html#returning-a-view-versus-a-copy\n",
            "  import sys\n"
          ],
          "name": "stderr"
        }
      ]
    },
    {
      "cell_type": "code",
      "metadata": {
        "id": "ERhsR5h_zgrM"
      },
      "source": [
        "# house\n",
        "house = pd.DataFrame({\"house\": opinion['house']})\n",
        "house = house[house['house'].apply(lambda x: len(x)) > 0]\n",
        "house_index = list(house.index)"
      ],
      "execution_count": 98,
      "outputs": []
    },
    {
      "cell_type": "code",
      "metadata": {
        "id": "UG5eiW-vzgzb"
      },
      "source": [
        "house_list = word_list(house[\"house\"])\n",
        "feature6 = get_v(house_list)\n",
        "house_list = pd.DataFrame({\"house\":house_list})\n",
        "house_list['house'] = house_list['house'].apply(lambda x: ' '.join([word for word in x]))"
      ],
      "execution_count": 99,
      "outputs": []
    },
    {
      "cell_type": "code",
      "metadata": {
        "id": "LBepxbjvzg2-"
      },
      "source": [
        "vectorizer6 = TfidfVectorizer(vocabulary=feature6, ngram_range=(1,2))\n",
        "TF_IDF6 = vectorizer6.fit_transform(house_list['house'].values)\n",
        "kmeans6 = KMeans(n_clusters=2, random_state=0).fit(TF_IDF6)\n",
        "closest6, _ = pairwise_distances_argmin_min(kmeans6.cluster_centers_, TF_IDF6)"
      ],
      "execution_count": 100,
      "outputs": []
    },
    {
      "cell_type": "code",
      "metadata": {
        "colab": {
          "base_uri": "https://localhost:8080/"
        },
        "id": "yzPjNYjJzg55",
        "outputId": "ea3af38d-7877-47e2-d249-f2584cf6f8f3"
      },
      "source": [
        "sentences[house_index[closest6[0]]] # positive"
      ],
      "execution_count": 101,
      "outputs": [
        {
          "output_type": "execute_result",
          "data": {
            "text/plain": [
              "['Do you want to buy a brand new car for $80?',\n",
              " 'Tell the Republicans in the Congress.',\n",
              " 'I am sure they can make it happen.',\n",
              " 'First, they will remove all regulations on what should constitute an automobile.',\n",
              " 'Then they will allow automotive companies to call anything a car and market it, as long as the thing they intend to market is at least one part/piece of a present day car, like, for example a tire.',\n",
              " 'Voila!',\n",
              " 'The customers can buy a brand new car for $80.',\n",
              " 'Those customers who want more of a car can customize to their needs and affordability by buying more tires, wheel axles, hubs, hub caps, seats, etc.',\n",
              " 'all the way to a Cadillac package!<br/><br/>Free market driven cars for American consumers!',\n",
              " 'Why stop with repeal and replace ACA (aka Obama Care) with no regulation Health Care.',\n",
              " \"Didn't we vote Republicans to the House, the Senate, and the White House.\",\n",
              " \"Don't we deserve the change we voted for?\"]"
            ]
          },
          "metadata": {
            "tags": []
          },
          "execution_count": 101
        }
      ]
    },
    {
      "cell_type": "code",
      "metadata": {
        "colab": {
          "base_uri": "https://localhost:8080/"
        },
        "id": "K4eo6rjAzg8g",
        "outputId": "121ac21f-a9ad-4e6b-c91f-b9a66efec2c2"
      },
      "source": [
        "sentences[house_index[closest6[1]]] # negative"
      ],
      "execution_count": 102,
      "outputs": [
        {
          "output_type": "execute_result",
          "data": {
            "text/plain": [
              "['This is a win-win situation for everyone, if ever there were such a beast.<br/><br/>The Republicans will get there man seated on the Court.<br/><br/>The Democrats will get there revenge for Judge Garland.<br/><br/>The ult-left will get their day on the barricades.',\n",
              " 'Vive la revolution!<br/><br/>Unfortunately, this sordid display will be a Pyrrhic victory for those great warriors of the ideological wars.<br/><br/>What about America?',\n",
              " \"Well, it's days are number.\",\n",
              " 'A house divided.....']"
            ]
          },
          "metadata": {
            "tags": []
          },
          "execution_count": 102
        }
      ]
    },
    {
      "cell_type": "code",
      "metadata": {
        "id": "0ZiwZZiVzhAU",
        "colab": {
          "base_uri": "https://localhost:8080/"
        },
        "outputId": "d7ac988e-855d-4f24-b98a-c956e677ac8b"
      },
      "source": [
        "label6 = kmeans6.labels_\n",
        "opinion[\"senti6\"] = np.zeros(len(opinion))\n",
        "for i in range(len(label6)):\n",
        "  if label6[i] == 0:\n",
        "    opinion[\"senti6\"][house_index[i]] = 1\n",
        "  if label6[i] == 1:\n",
        "    opinion[\"senti6\"][house_index[i]] = -1"
      ],
      "execution_count": 103,
      "outputs": [
        {
          "output_type": "stream",
          "text": [
            "/usr/local/lib/python3.7/dist-packages/ipykernel_launcher.py:7: SettingWithCopyWarning: \n",
            "A value is trying to be set on a copy of a slice from a DataFrame\n",
            "\n",
            "See the caveats in the documentation: https://pandas.pydata.org/pandas-docs/stable/user_guide/indexing.html#returning-a-view-versus-a-copy\n",
            "  import sys\n",
            "/usr/local/lib/python3.7/dist-packages/ipykernel_launcher.py:5: SettingWithCopyWarning: \n",
            "A value is trying to be set on a copy of a slice from a DataFrame\n",
            "\n",
            "See the caveats in the documentation: https://pandas.pydata.org/pandas-docs/stable/user_guide/indexing.html#returning-a-view-versus-a-copy\n",
            "  \"\"\"\n"
          ],
          "name": "stderr"
        }
      ]
    },
    {
      "cell_type": "code",
      "metadata": {
        "id": "USC2QvaazhD5"
      },
      "source": [
        "# obama\n",
        "obama = pd.DataFrame({\"obama\": opinion['obama']})\n",
        "obama = obama[obama['obama'].apply(lambda x: len(x)) > 0]\n",
        "obama_index = list(obama.index)"
      ],
      "execution_count": 104,
      "outputs": []
    },
    {
      "cell_type": "code",
      "metadata": {
        "id": "qVQZOxNnzhGs"
      },
      "source": [
        "obama_list = word_list(obama[\"obama\"])\n",
        "feature7 = get_v(obama_list)\n",
        "obama_list = pd.DataFrame({\"obama\":obama_list})\n",
        "obama_list['obama'] = obama_list['obama'].apply(lambda x: ' '.join([word for word in x]))"
      ],
      "execution_count": 105,
      "outputs": []
    },
    {
      "cell_type": "code",
      "metadata": {
        "id": "UzvQQz_PzhJS"
      },
      "source": [
        "vectorizer7 = TfidfVectorizer(vocabulary=feature7, ngram_range=(1,2))\n",
        "TF_IDF7 = vectorizer7.fit_transform(obama_list['obama'].values)\n",
        "kmeans7 = KMeans(n_clusters=2, random_state=0).fit(TF_IDF7)\n",
        "closest7, _ = pairwise_distances_argmin_min(kmeans7.cluster_centers_, TF_IDF7)"
      ],
      "execution_count": 106,
      "outputs": []
    },
    {
      "cell_type": "code",
      "metadata": {
        "colab": {
          "base_uri": "https://localhost:8080/"
        },
        "id": "S2sSsWgbzhM8",
        "outputId": "e28bceb7-4b09-4486-fc80-b785918f1133"
      },
      "source": [
        "sentences[obama_index[closest7[0]]] # negative"
      ],
      "execution_count": 107,
      "outputs": [
        {
          "output_type": "execute_result",
          "data": {
            "text/plain": [
              "[\"Aided and abetted by Andrea Mitchell's softball questions.\",\n",
              " 'Ms. Mitchell used to be a pretty good journalist, but that was a long time ago.',\n",
              " 'Now she is shill for Obama and friends.']"
            ]
          },
          "metadata": {
            "tags": []
          },
          "execution_count": 107
        }
      ]
    },
    {
      "cell_type": "code",
      "metadata": {
        "colab": {
          "base_uri": "https://localhost:8080/"
        },
        "id": "PgNZ6BWEzhQ_",
        "outputId": "f497d918-69fa-405c-b25f-4214bc20e72c"
      },
      "source": [
        "sentences[obama_index[closest7[1]]] # positive"
      ],
      "execution_count": 108,
      "outputs": [
        {
          "output_type": "execute_result",
          "data": {
            "text/plain": [
              "[\"Mitch McConnell's name will go down in the history of the United States (as long as that may last) as the villain of our time.\",\n",
              " \"He is responsible for altering the rules of the Senate, from the last year of Obama's tenure by failing to consider Obama's nominee to the Supreme Court to making the minority voice in the Senate powerless in the decision of Supreme Court nominees under Trump.\",\n",
              " 'Serious changes that will have major consequences.',\n",
              " 'My hope is that he lives to regret his actions.']"
            ]
          },
          "metadata": {
            "tags": []
          },
          "execution_count": 108
        }
      ]
    },
    {
      "cell_type": "code",
      "metadata": {
        "id": "4G6Crsd-_bx4",
        "colab": {
          "base_uri": "https://localhost:8080/"
        },
        "outputId": "d8d6cb0e-5237-4e07-839e-8ddd01c082d5"
      },
      "source": [
        "label7 = kmeans7.labels_\n",
        "opinion[\"senti7\"] = np.zeros(len(opinion))\n",
        "for i in range(len(label7)):\n",
        "  if label7[i] == 0:\n",
        "    opinion[\"senti7\"][obama_index[i]] = -1\n",
        "  if label7[i] == 1:\n",
        "    opinion[\"senti7\"][obama_index[i]] = 1"
      ],
      "execution_count": 110,
      "outputs": [
        {
          "output_type": "stream",
          "text": [
            "/usr/local/lib/python3.7/dist-packages/ipykernel_launcher.py:5: SettingWithCopyWarning: \n",
            "A value is trying to be set on a copy of a slice from a DataFrame\n",
            "\n",
            "See the caveats in the documentation: https://pandas.pydata.org/pandas-docs/stable/user_guide/indexing.html#returning-a-view-versus-a-copy\n",
            "  \"\"\"\n",
            "/usr/local/lib/python3.7/dist-packages/ipykernel_launcher.py:7: SettingWithCopyWarning: \n",
            "A value is trying to be set on a copy of a slice from a DataFrame\n",
            "\n",
            "See the caveats in the documentation: https://pandas.pydata.org/pandas-docs/stable/user_guide/indexing.html#returning-a-view-versus-a-copy\n",
            "  import sys\n"
          ],
          "name": "stderr"
        }
      ]
    },
    {
      "cell_type": "code",
      "metadata": {
        "id": "-IpXrToo_b1v"
      },
      "source": [
        "# people\n",
        "people = pd.DataFrame({\"people\": opinion['people']})\n",
        "people = people[people['people'].apply(lambda x: len(x)) > 0]\n",
        "people_index = list(people.index)"
      ],
      "execution_count": 111,
      "outputs": []
    },
    {
      "cell_type": "code",
      "metadata": {
        "id": "0tv_zR18_b7_"
      },
      "source": [
        "people_list = word_list(people[\"people\"])\n",
        "feature8 = get_v(people_list)\n",
        "people_list = pd.DataFrame({\"people\":people_list})\n",
        "people_list['people'] = people_list['people'].apply(lambda x: ' '.join([word for word in x]))"
      ],
      "execution_count": 112,
      "outputs": []
    },
    {
      "cell_type": "code",
      "metadata": {
        "id": "K9-Q8dsP_b_k"
      },
      "source": [
        "vectorizer8 = TfidfVectorizer(vocabulary=feature8, ngram_range=(1,2))\n",
        "TF_IDF8 = vectorizer8.fit_transform(people_list['people'].values)\n",
        "kmeans8 = KMeans(n_clusters=2, random_state=0).fit(TF_IDF8)\n",
        "closest8, _ = pairwise_distances_argmin_min(kmeans8.cluster_centers_, TF_IDF8)"
      ],
      "execution_count": 113,
      "outputs": []
    },
    {
      "cell_type": "code",
      "metadata": {
        "colab": {
          "base_uri": "https://localhost:8080/"
        },
        "id": "nUYB_5t6_cCT",
        "outputId": "906b830b-017f-4734-ee8c-8accbad9ab93"
      },
      "source": [
        "sentences[people_index[closest8[0]]] # positive"
      ],
      "execution_count": 114,
      "outputs": [
        {
          "output_type": "execute_result",
          "data": {
            "text/plain": [
              "[\"Progressive liberal Marxist democrat criticism of Trump's awesome tax plan is rooted in nothing more than envy.\",\n",
              " \"People who don't pay taxes can't get a tax cut.\",\n",
              " 'People who do, will.',\n",
              " 'That is the point.',\n",
              " 'We need to reduce the size, scope and cost of government.<br/><br/>The best part of the plan is elimination of federal subsidies for abusive tax states (blue states) such as California, New York, New Jersey and Connecticut.',\n",
              " 'The exodus from those states will be unprecedented.',\n",
              " 'But never fear, their hard working, tax paying undocumented democrats who are filling their sanctuaries will more than pick up the slack.<br/><br/>Hahahahahaha... Democratism is the new communism and Americans are disgusted with it.']"
            ]
          },
          "metadata": {
            "tags": []
          },
          "execution_count": 114
        }
      ]
    },
    {
      "cell_type": "code",
      "metadata": {
        "colab": {
          "base_uri": "https://localhost:8080/"
        },
        "id": "Ru9XVO4X_cE_",
        "outputId": "8d7bc4a3-8b4b-4dbd-e3a6-50cf80a0c54e"
      },
      "source": [
        "sentences[people_index[closest8[1]]] # negative"
      ],
      "execution_count": 115,
      "outputs": [
        {
          "output_type": "execute_result",
          "data": {
            "text/plain": [
              "['More bluster from Trump about tax reform.',\n",
              " 'Why should anyone believe him after the same ineffectual, loud, grandiose claims he had with repealing Obamacare?',\n",
              " '<br/><br/>If his supporters think he can or will change to meet the challenges they are facing, think again.',\n",
              " \"People don't change.\"]"
            ]
          },
          "metadata": {
            "tags": []
          },
          "execution_count": 115
        }
      ]
    },
    {
      "cell_type": "code",
      "metadata": {
        "id": "6Fgslfg3_cIW",
        "colab": {
          "base_uri": "https://localhost:8080/"
        },
        "outputId": "9e41df3b-2af7-4d6e-e3a4-e7e8c6a0fb2a"
      },
      "source": [
        "label8 = kmeans8.labels_\n",
        "opinion[\"senti8\"] = np.zeros(len(opinion))\n",
        "for i in range(len(label8)):\n",
        "  if label8[i] == 0:\n",
        "    opinion[\"senti8\"][people_index[i]] = 1\n",
        "  if label8[i] == 1:\n",
        "    opinion[\"senti8\"][people_index[i]] = -1"
      ],
      "execution_count": 116,
      "outputs": [
        {
          "output_type": "stream",
          "text": [
            "/usr/local/lib/python3.7/dist-packages/ipykernel_launcher.py:5: SettingWithCopyWarning: \n",
            "A value is trying to be set on a copy of a slice from a DataFrame\n",
            "\n",
            "See the caveats in the documentation: https://pandas.pydata.org/pandas-docs/stable/user_guide/indexing.html#returning-a-view-versus-a-copy\n",
            "  \"\"\"\n",
            "/usr/local/lib/python3.7/dist-packages/ipykernel_launcher.py:7: SettingWithCopyWarning: \n",
            "A value is trying to be set on a copy of a slice from a DataFrame\n",
            "\n",
            "See the caveats in the documentation: https://pandas.pydata.org/pandas-docs/stable/user_guide/indexing.html#returning-a-view-versus-a-copy\n",
            "  import sys\n"
          ],
          "name": "stderr"
        }
      ]
    },
    {
      "cell_type": "code",
      "metadata": {
        "id": "xIo1P6UU_cLM"
      },
      "source": [
        "# president\n",
        "president = pd.DataFrame({\"president\": opinion['president']})\n",
        "president = president[president['president'].apply(lambda x: len(x)) > 0]\n",
        "president_index = list(president.index)"
      ],
      "execution_count": 117,
      "outputs": []
    },
    {
      "cell_type": "code",
      "metadata": {
        "id": "tR24Uvds_cQc"
      },
      "source": [
        "president_list = word_list(president[\"president\"])\n",
        "feature9 = get_v(president_list)\n",
        "president_list = pd.DataFrame({\"president\":president_list})\n",
        "president_list['president'] = president_list['president'].apply(lambda x: ' '.join([word for word in x]))"
      ],
      "execution_count": 118,
      "outputs": []
    },
    {
      "cell_type": "code",
      "metadata": {
        "id": "J7LZ3M4g_cTh"
      },
      "source": [
        "vectorizer9 = TfidfVectorizer(vocabulary=feature9, ngram_range=(1,2))\n",
        "TF_IDF9 = vectorizer9.fit_transform(president_list['president'].values)\n",
        "kmeans9 = KMeans(n_clusters=2, random_state=0).fit(TF_IDF9)\n",
        "closest9, _ = pairwise_distances_argmin_min(kmeans9.cluster_centers_, TF_IDF9)"
      ],
      "execution_count": 119,
      "outputs": []
    },
    {
      "cell_type": "code",
      "metadata": {
        "colab": {
          "base_uri": "https://localhost:8080/"
        },
        "id": "YK1l1EQEC1am",
        "outputId": "6a35c7fc-05a3-4864-ddbd-c36ff2c3b1fb"
      },
      "source": [
        "sentences[president_index[closest9[0]]] # negative"
      ],
      "execution_count": 120,
      "outputs": [
        {
          "output_type": "execute_result",
          "data": {
            "text/plain": [
              "[\"Economics and environmental engineering augur against coal.<br/>(it ain't clean, folks.\",\n",
              " ')<br/><br/>Healthcare is more complex than anyone could have imagined.',\n",
              " 'Who knew?<br/><br/>The US corporate tax rate is the highest on the planet...when every other OECD nation is lowering theirs.',\n",
              " 'We have constructed a tax wall, preventing repatriation of foreign (tax paid) profits by US multinationals, and limiting the ability of foreign based multinationals to invest here.',\n",
              " 'The notion of normalizing this to incent US investment in plant, equipment and jobs seems antithetical to the socially responsible.',\n",
              " \"But the numbers suggest that corporations are the golden goose of job creation, and we're blocking them from investing here.\",\n",
              " '<br/><br/>Congress is fractured on policy.',\n",
              " 'POTUS is in job-training.',\n",
              " '<br/><br/>The founders are rolling in their graves!']"
            ]
          },
          "metadata": {
            "tags": []
          },
          "execution_count": 120
        }
      ]
    },
    {
      "cell_type": "code",
      "metadata": {
        "colab": {
          "base_uri": "https://localhost:8080/"
        },
        "id": "R2aiA13-C1ek",
        "outputId": "33dff981-8f34-450c-ada5-ab047d0dbfe2"
      },
      "source": [
        "sentences[president_index[closest9[1]]] # positive"
      ],
      "execution_count": 121,
      "outputs": [
        {
          "output_type": "execute_result",
          "data": {
            "text/plain": [
              "['Is the filibuster only reserved for Republicans, who only need 50 seats in the senate and a Republican president to appoint Supreme Court justices?',\n",
              " 'Do the Democrats need to control 60 seats in the senate and the presidency to appoint Supreme Court justices?',\n",
              " 'If the answer to these questions is no, then this filibuster makes perfect sense.<br/><br/>And this is even without considering the outrageous Garland treatment and the tainted 2016 elections.']"
            ]
          },
          "metadata": {
            "tags": []
          },
          "execution_count": 121
        }
      ]
    },
    {
      "cell_type": "code",
      "metadata": {
        "id": "AFb4zcYpC1jI",
        "colab": {
          "base_uri": "https://localhost:8080/"
        },
        "outputId": "01076098-7ce0-4cca-d125-9f8b0be760fe"
      },
      "source": [
        "label9 = kmeans9.labels_\n",
        "opinion[\"senti9\"] = np.zeros(len(opinion))\n",
        "for i in range(len(label9)):\n",
        "  if label9[i] == 0:\n",
        "    opinion[\"senti9\"][president_index[i]] = -1\n",
        "  if label9[i] == 1:\n",
        "    opinion[\"senti9\"][president_index[i]] = 1"
      ],
      "execution_count": 122,
      "outputs": [
        {
          "output_type": "stream",
          "text": [
            "/usr/local/lib/python3.7/dist-packages/ipykernel_launcher.py:5: SettingWithCopyWarning: \n",
            "A value is trying to be set on a copy of a slice from a DataFrame\n",
            "\n",
            "See the caveats in the documentation: https://pandas.pydata.org/pandas-docs/stable/user_guide/indexing.html#returning-a-view-versus-a-copy\n",
            "  \"\"\"\n",
            "/usr/local/lib/python3.7/dist-packages/ipykernel_launcher.py:7: SettingWithCopyWarning: \n",
            "A value is trying to be set on a copy of a slice from a DataFrame\n",
            "\n",
            "See the caveats in the documentation: https://pandas.pydata.org/pandas-docs/stable/user_guide/indexing.html#returning-a-view-versus-a-copy\n",
            "  import sys\n"
          ],
          "name": "stderr"
        }
      ]
    },
    {
      "cell_type": "code",
      "metadata": {
        "id": "UBq64B80C1mK"
      },
      "source": [
        "# state\n",
        "state = pd.DataFrame({\"state\": opinion['state']})\n",
        "state = state[state['state'].apply(lambda x: len(x)) > 0]\n",
        "state_index = list(state.index)"
      ],
      "execution_count": 123,
      "outputs": []
    },
    {
      "cell_type": "code",
      "metadata": {
        "id": "TyrLRoajC1pz"
      },
      "source": [
        "state_list = word_list(state[\"state\"])\n",
        "feature10 = get_v(state_list)\n",
        "state_list = pd.DataFrame({\"state\":state_list})\n",
        "state_list['state'] = state_list['state'].apply(lambda x: ' '.join([word for word in x]))"
      ],
      "execution_count": 124,
      "outputs": []
    },
    {
      "cell_type": "code",
      "metadata": {
        "id": "v6REwP6KC1s7"
      },
      "source": [
        "vectorizer10 = TfidfVectorizer(vocabulary=feature10, ngram_range=(1,2))\n",
        "TF_IDF10 = vectorizer10.fit_transform(state_list['state'].values)\n",
        "kmeans10 = KMeans(n_clusters=2, random_state=0).fit(TF_IDF10)\n",
        "closest10, _ = pairwise_distances_argmin_min(kmeans10.cluster_centers_, TF_IDF10)"
      ],
      "execution_count": 125,
      "outputs": []
    },
    {
      "cell_type": "code",
      "metadata": {
        "colab": {
          "base_uri": "https://localhost:8080/"
        },
        "id": "6sJTsepLC1vx",
        "outputId": "b5b9388d-b32f-4e83-9c92-0f19b6415d53"
      },
      "source": [
        "sentences[state_index[closest10[0]]] # negative"
      ],
      "execution_count": 126,
      "outputs": [
        {
          "output_type": "execute_result",
          "data": {
            "text/plain": [
              "['We have no Protestants on the Court.',\n",
              " 'Just Jewish and Catholic jurists.',\n",
              " 'I wonder why?',\n",
              " 'Hint:  abortion as a litmus test.']"
            ]
          },
          "metadata": {
            "tags": []
          },
          "execution_count": 126
        }
      ]
    },
    {
      "cell_type": "code",
      "metadata": {
        "colab": {
          "base_uri": "https://localhost:8080/"
        },
        "id": "zn8sQ8P2C1yi",
        "outputId": "8bdf2fbf-ffd7-4ada-ab03-556e5edb52ce"
      },
      "source": [
        "sentences[state_index[closest10[1]]] # positive"
      ],
      "execution_count": 127,
      "outputs": [
        {
          "output_type": "execute_result",
          "data": {
            "text/plain": [
              "['Cutting corporate income taxes to the bone while eliminating the state tax deduction for individuals?',\n",
              " 'This is ridiculous!',\n",
              " \"He'd do better to implement a corporate tax on companies moving jobs out of the US if he really wants to raise revenue!\"]"
            ]
          },
          "metadata": {
            "tags": []
          },
          "execution_count": 127
        }
      ]
    },
    {
      "cell_type": "code",
      "metadata": {
        "id": "6IsJYLCFC11i",
        "colab": {
          "base_uri": "https://localhost:8080/"
        },
        "outputId": "937b6fc7-5347-4e05-b0b5-4e0cbb3270fb"
      },
      "source": [
        "label10 = kmeans10.labels_\n",
        "opinion[\"senti10\"] = np.zeros(len(opinion))\n",
        "for i in range(len(label10)):\n",
        "  if label10[i] == 0:\n",
        "    opinion[\"senti10\"][state_index[i]] = -1\n",
        "  if label10[i] == 1:\n",
        "    opinion[\"senti10\"][state_index[i]] = 1"
      ],
      "execution_count": 128,
      "outputs": [
        {
          "output_type": "stream",
          "text": [
            "/usr/local/lib/python3.7/dist-packages/ipykernel_launcher.py:5: SettingWithCopyWarning: \n",
            "A value is trying to be set on a copy of a slice from a DataFrame\n",
            "\n",
            "See the caveats in the documentation: https://pandas.pydata.org/pandas-docs/stable/user_guide/indexing.html#returning-a-view-versus-a-copy\n",
            "  \"\"\"\n",
            "/usr/local/lib/python3.7/dist-packages/ipykernel_launcher.py:7: SettingWithCopyWarning: \n",
            "A value is trying to be set on a copy of a slice from a DataFrame\n",
            "\n",
            "See the caveats in the documentation: https://pandas.pydata.org/pandas-docs/stable/user_guide/indexing.html#returning-a-view-versus-a-copy\n",
            "  import sys\n"
          ],
          "name": "stderr"
        }
      ]
    },
    {
      "cell_type": "code",
      "metadata": {
        "id": "iBJQ_cR4C14l"
      },
      "source": [
        "# tax\n",
        "tax = pd.DataFrame({\"tax\": opinion['tax']})\n",
        "tax = tax[tax['tax'].apply(lambda x: len(x)) > 0]\n",
        "tax_index = list(tax.index)"
      ],
      "execution_count": 129,
      "outputs": []
    },
    {
      "cell_type": "code",
      "metadata": {
        "id": "Gn-sTc5Q_cWc"
      },
      "source": [
        "tax_list = word_list(tax[\"tax\"])\n",
        "feature11 = get_v(tax_list)\n",
        "tax_list = pd.DataFrame({\"tax\":tax_list})\n",
        "tax_list['tax'] = tax_list['tax'].apply(lambda x: ' '.join([word for word in x]))"
      ],
      "execution_count": 130,
      "outputs": []
    },
    {
      "cell_type": "code",
      "metadata": {
        "id": "vqMoHa0WIXii"
      },
      "source": [
        "vectorizer11 = TfidfVectorizer(vocabulary=feature11, ngram_range=(1,2))\n",
        "TF_IDF11 = vectorizer11.fit_transform(tax_list['tax'].values)\n",
        "kmeans11 = KMeans(n_clusters=2, random_state=0).fit(TF_IDF11)\n",
        "closest11, _ = pairwise_distances_argmin_min(kmeans11.cluster_centers_, TF_IDF11)"
      ],
      "execution_count": 131,
      "outputs": []
    },
    {
      "cell_type": "code",
      "metadata": {
        "colab": {
          "base_uri": "https://localhost:8080/"
        },
        "id": "4Fkf8Ul9IXmZ",
        "outputId": "7c066f3b-8bbf-4b5e-c8dc-618784b7771e"
      },
      "source": [
        "sentences[tax_index[closest11[0]]] # positive"
      ],
      "execution_count": 132,
      "outputs": [
        {
          "output_type": "execute_result",
          "data": {
            "text/plain": [
              "['Congratulations middle class your tax rate is lower.',\n",
              " 'But we took away your deductions.',\n",
              " 'You now owe more.',\n",
              " \"Aren't you glad we lowered your taxes?\"]"
            ]
          },
          "metadata": {
            "tags": []
          },
          "execution_count": 132
        }
      ]
    },
    {
      "cell_type": "code",
      "metadata": {
        "colab": {
          "base_uri": "https://localhost:8080/"
        },
        "id": "wGJvkFt4IXps",
        "outputId": "f6e565ff-7180-48b2-d891-a9a2701c2b04"
      },
      "source": [
        "sentences[tax_index[closest11[1]]] # negative"
      ],
      "execution_count": 133,
      "outputs": [
        {
          "output_type": "execute_result",
          "data": {
            "text/plain": [
              "['I really do wish them good luck and hope thy taken up a VAT next.',\n",
              " 'This will \"really\" help the working class and the middle classes.',\n",
              " 'I mean, why get affordable consumer goods when you can support your \"gummint\" and pay more for the same things.',\n",
              " 'How about a tax on groceries?',\n",
              " \"there's a vast untapped resource.\"]"
            ]
          },
          "metadata": {
            "tags": []
          },
          "execution_count": 133
        }
      ]
    },
    {
      "cell_type": "code",
      "metadata": {
        "id": "CLxAQonpIXso",
        "colab": {
          "base_uri": "https://localhost:8080/"
        },
        "outputId": "266cc7a5-f030-4c4e-9ca2-7414f8724dc1"
      },
      "source": [
        "label11 = kmeans11.labels_\n",
        "opinion[\"senti11\"] = np.zeros(len(opinion))\n",
        "for i in range(len(label11)):\n",
        "  if label11[i] == 0:\n",
        "    opinion[\"senti11\"][tax_index[i]] = 1\n",
        "  if label11[i] == 1:\n",
        "    opinion[\"senti11\"][tax_index[i]] = -1"
      ],
      "execution_count": 134,
      "outputs": [
        {
          "output_type": "stream",
          "text": [
            "/usr/local/lib/python3.7/dist-packages/ipykernel_launcher.py:7: SettingWithCopyWarning: \n",
            "A value is trying to be set on a copy of a slice from a DataFrame\n",
            "\n",
            "See the caveats in the documentation: https://pandas.pydata.org/pandas-docs/stable/user_guide/indexing.html#returning-a-view-versus-a-copy\n",
            "  import sys\n",
            "/usr/local/lib/python3.7/dist-packages/ipykernel_launcher.py:5: SettingWithCopyWarning: \n",
            "A value is trying to be set on a copy of a slice from a DataFrame\n",
            "\n",
            "See the caveats in the documentation: https://pandas.pydata.org/pandas-docs/stable/user_guide/indexing.html#returning-a-view-versus-a-copy\n",
            "  \"\"\"\n"
          ],
          "name": "stderr"
        }
      ]
    },
    {
      "cell_type": "code",
      "metadata": {
        "id": "Hw9FvZqaIXvq"
      },
      "source": [
        "# trump\n",
        "trump = pd.DataFrame({\"trump\": opinion['trump']})\n",
        "trump = trump[trump['trump'].apply(lambda x: len(x)) > 0]\n",
        "trump_index = list(trump.index)"
      ],
      "execution_count": 135,
      "outputs": []
    },
    {
      "cell_type": "code",
      "metadata": {
        "id": "DMLeverUK4f0"
      },
      "source": [
        "trump_list = word_list(trump[\"trump\"])\n",
        "feature12 = get_v(trump_list)\n",
        "trump_list = pd.DataFrame({\"trump\":trump_list})\n",
        "trump_list['trump'] = trump_list['trump'].apply(lambda x: ' '.join([word for word in x]))"
      ],
      "execution_count": 136,
      "outputs": []
    },
    {
      "cell_type": "code",
      "metadata": {
        "id": "Q91ul9-AK4j6"
      },
      "source": [
        "vectorizer12 = TfidfVectorizer(vocabulary=feature12, ngram_range=(1,2))\n",
        "TF_IDF12 = vectorizer12.fit_transform(trump_list['trump'].values)\n",
        "kmeans12 = KMeans(n_clusters=2, random_state=0).fit(TF_IDF12)\n",
        "closest12, _ = pairwise_distances_argmin_min(kmeans12.cluster_centers_, TF_IDF12)"
      ],
      "execution_count": 137,
      "outputs": []
    },
    {
      "cell_type": "code",
      "metadata": {
        "colab": {
          "base_uri": "https://localhost:8080/"
        },
        "id": "mun7j9azK4oJ",
        "outputId": "02a5bae0-eeb6-4163-ce1b-954df3c2d048"
      },
      "source": [
        "sentences[trump_index[closest12[0]]] # positive"
      ],
      "execution_count": 138,
      "outputs": [
        {
          "output_type": "execute_result",
          "data": {
            "text/plain": [
              "['Please stay focused everyone.',\n",
              " 'Please stay focused New York Times.',\n",
              " 'The sideshows just keep coming.',\n",
              " 'Every day something new and distracting.<br/><br/>Remember:<br/>1.)',\n",
              " 'Russian interference in US elections to damage Hillary Clinton and favor Trump.',\n",
              " 'What is he hiding?<br/>2.)',\n",
              " \"Donald Trump's income tax returns.\",\n",
              " 'What is he hiding?']"
            ]
          },
          "metadata": {
            "tags": []
          },
          "execution_count": 138
        }
      ]
    },
    {
      "cell_type": "code",
      "metadata": {
        "colab": {
          "base_uri": "https://localhost:8080/"
        },
        "id": "8aEieZoMK4rK",
        "outputId": "395a30d7-0cb5-4553-ef6d-4ced850e1e10"
      },
      "source": [
        "sentences[trump_index[closest12[1]]] # negative"
      ],
      "execution_count": 139,
      "outputs": [
        {
          "output_type": "execute_result",
          "data": {
            "text/plain": [
              "['The Koch brothers and their surrogates control enough votes to keep this Congress tied in knots for this term.',\n",
              " 'Trump is a sideshow and distraction.',\n",
              " 'The Koch brothers and their surrogates determine legislative initiatives and the fate any bill that impacts their interests, no matter how tangential.<br/><br/>Koch Industries, their fellow travelers, and \"Citizens United\" are real and existential threats to our form of government.',\n",
              " 'Examining a Supreme Court nominee through the prism of \"Roe v. Wade\" is a sideshow.',\n",
              " 'Look for someone who would vote to overturn \"Citizens United\".']"
            ]
          },
          "metadata": {
            "tags": []
          },
          "execution_count": 139
        }
      ]
    },
    {
      "cell_type": "code",
      "metadata": {
        "id": "p4HnNamcK4uF",
        "colab": {
          "base_uri": "https://localhost:8080/"
        },
        "outputId": "09ab633e-8224-4c08-e595-1f2a0f2ee156"
      },
      "source": [
        "label12 = kmeans12.labels_\n",
        "opinion[\"senti12\"] = np.zeros(len(opinion))\n",
        "for i in range(len(label12)):\n",
        "  if label12[i] == 0:\n",
        "    opinion[\"senti12\"][trump_index[i]] = 1\n",
        "  if label12[i] == 1:\n",
        "    opinion[\"senti12\"][trump_index[i]] = -1"
      ],
      "execution_count": 140,
      "outputs": [
        {
          "output_type": "stream",
          "text": [
            "/usr/local/lib/python3.7/dist-packages/ipykernel_launcher.py:5: SettingWithCopyWarning: \n",
            "A value is trying to be set on a copy of a slice from a DataFrame\n",
            "\n",
            "See the caveats in the documentation: https://pandas.pydata.org/pandas-docs/stable/user_guide/indexing.html#returning-a-view-versus-a-copy\n",
            "  \"\"\"\n",
            "/usr/local/lib/python3.7/dist-packages/ipykernel_launcher.py:7: SettingWithCopyWarning: \n",
            "A value is trying to be set on a copy of a slice from a DataFrame\n",
            "\n",
            "See the caveats in the documentation: https://pandas.pydata.org/pandas-docs/stable/user_guide/indexing.html#returning-a-view-versus-a-copy\n",
            "  import sys\n"
          ],
          "name": "stderr"
        }
      ]
    },
    {
      "cell_type": "code",
      "metadata": {
        "id": "Pea0NumYK4w5"
      },
      "source": [
        "# vote\n",
        "vote = pd.DataFrame({\"vote\": opinion['vote']})\n",
        "vote = vote[vote['vote'].apply(lambda x: len(x)) > 0]\n",
        "vote_index = list(vote.index)"
      ],
      "execution_count": 141,
      "outputs": []
    },
    {
      "cell_type": "code",
      "metadata": {
        "id": "6AJ6DQ9MK4zs"
      },
      "source": [
        "vote_list = word_list(vote[\"vote\"])\n",
        "feature13 = get_v(vote_list)\n",
        "vote_list = pd.DataFrame({\"vote\":vote_list})\n",
        "vote_list['vote'] = vote_list['vote'].apply(lambda x: ' '.join([word for word in x]))"
      ],
      "execution_count": 142,
      "outputs": []
    },
    {
      "cell_type": "code",
      "metadata": {
        "id": "P7AQ4xDrK42h"
      },
      "source": [
        "vectorizer13 = TfidfVectorizer(vocabulary=feature13, ngram_range=(1,2))\n",
        "TF_IDF13 = vectorizer13.fit_transform(vote_list['vote'].values)\n",
        "kmeans13 = KMeans(n_clusters=2, random_state=0).fit(TF_IDF13)\n",
        "closest13, _ = pairwise_distances_argmin_min(kmeans13.cluster_centers_, TF_IDF13)"
      ],
      "execution_count": 143,
      "outputs": []
    },
    {
      "cell_type": "code",
      "metadata": {
        "colab": {
          "base_uri": "https://localhost:8080/"
        },
        "id": "ftH2fJJeIXyr",
        "outputId": "165e4e0a-ffbf-49c7-fb64-e5e7276308d7"
      },
      "source": [
        "sentences[vote_index[closest13[0]]] # negative"
      ],
      "execution_count": 144,
      "outputs": [
        {
          "output_type": "execute_result",
          "data": {
            "text/plain": [
              "['And the people can make that happen only if they vote for Democrats.',\n",
              " 'All Democrats on the Supreme Court voted against Citizens United.',\n",
              " 'All Democrats in the Senate voted for the Disclose Act.',\n",
              " 'Republicans keep blocking attempts to assert that only people are people.']"
            ]
          },
          "metadata": {
            "tags": []
          },
          "execution_count": 144
        }
      ]
    },
    {
      "cell_type": "code",
      "metadata": {
        "colab": {
          "base_uri": "https://localhost:8080/"
        },
        "id": "VDKFDXprIX1_",
        "outputId": "1d6fa086-0f5c-4cfe-862c-c54b09c0c010"
      },
      "source": [
        "sentences[vote_index[closest13[1]]] # positive"
      ],
      "execution_count": 145,
      "outputs": [
        {
          "output_type": "execute_result",
          "data": {
            "text/plain": [
              "[\"That big money involving the likes of the Koch's have such a large influence in our policy is egregious.\",\n",
              " 'Sickening.',\n",
              " 'When are the people going to have the ability to have their opinion matter?',\n",
              " \"When the supreme court get's big money out of politics.\",\n",
              " 'So, never.',\n",
              " 'Sickening.',\n",
              " 'I and many of our citizens are tired of being ignored in our wishes to stop this.',\n",
              " 'VOTE.']"
            ]
          },
          "metadata": {
            "tags": []
          },
          "execution_count": 145
        }
      ]
    },
    {
      "cell_type": "code",
      "metadata": {
        "id": "r907UNv8IX5T",
        "colab": {
          "base_uri": "https://localhost:8080/"
        },
        "outputId": "a459a136-7bf7-4abc-d943-ea8bb4242b7a"
      },
      "source": [
        "label13 = kmeans13.labels_\n",
        "opinion[\"senti13\"] = np.zeros(len(opinion))\n",
        "for i in range(len(label13)):\n",
        "  if label13[i] == 0:\n",
        "    opinion[\"senti13\"][vote_index[i]] = -1\n",
        "  if label13[i] == 1:\n",
        "    opinion[\"senti13\"][vote_index[i]] = 1"
      ],
      "execution_count": 146,
      "outputs": [
        {
          "output_type": "stream",
          "text": [
            "/usr/local/lib/python3.7/dist-packages/ipykernel_launcher.py:7: SettingWithCopyWarning: \n",
            "A value is trying to be set on a copy of a slice from a DataFrame\n",
            "\n",
            "See the caveats in the documentation: https://pandas.pydata.org/pandas-docs/stable/user_guide/indexing.html#returning-a-view-versus-a-copy\n",
            "  import sys\n",
            "/usr/local/lib/python3.7/dist-packages/ipykernel_launcher.py:5: SettingWithCopyWarning: \n",
            "A value is trying to be set on a copy of a slice from a DataFrame\n",
            "\n",
            "See the caveats in the documentation: https://pandas.pydata.org/pandas-docs/stable/user_guide/indexing.html#returning-a-view-versus-a-copy\n",
            "  \"\"\"\n"
          ],
          "name": "stderr"
        }
      ]
    },
    {
      "cell_type": "code",
      "metadata": {
        "id": "mpx4xxRHPCVx"
      },
      "source": [
        "# world\n",
        "world = pd.DataFrame({\"world\": opinion['world']})\n",
        "world = world[world['world'].apply(lambda x: len(x)) > 0]\n",
        "world_index = list(world.index)"
      ],
      "execution_count": 147,
      "outputs": []
    },
    {
      "cell_type": "code",
      "metadata": {
        "id": "oIZyM0ksPCbz"
      },
      "source": [
        "world_list = word_list(world[\"world\"])\n",
        "feature14 = get_v(world_list)\n",
        "world_list = pd.DataFrame({\"world\":world_list})\n",
        "world_list['world'] = world_list['world'].apply(lambda x: ' '.join([word for word in x]))"
      ],
      "execution_count": 148,
      "outputs": []
    },
    {
      "cell_type": "code",
      "metadata": {
        "id": "A7m9SYN_PCiF"
      },
      "source": [
        "vectorizer14 = TfidfVectorizer(vocabulary=feature14, ngram_range=(1,2))\n",
        "TF_IDF14 = vectorizer14.fit_transform(world_list['world'].values)\n",
        "kmeans14 = KMeans(n_clusters=2, random_state=0).fit(TF_IDF14)\n",
        "closest14, _ = pairwise_distances_argmin_min(kmeans14.cluster_centers_, TF_IDF14)"
      ],
      "execution_count": 149,
      "outputs": []
    },
    {
      "cell_type": "code",
      "metadata": {
        "colab": {
          "base_uri": "https://localhost:8080/"
        },
        "id": "szuCK1bnPCoc",
        "outputId": "61385cb2-97c0-491d-b7ba-7a41f53ba4f2"
      },
      "source": [
        "sentences[world_index[closest14[0]]] # negative"
      ],
      "execution_count": 150,
      "outputs": [
        {
          "output_type": "execute_result",
          "data": {
            "text/plain": [
              "['All over the world?', 'A bit too general there.']"
            ]
          },
          "metadata": {
            "tags": []
          },
          "execution_count": 150
        }
      ]
    },
    {
      "cell_type": "code",
      "metadata": {
        "colab": {
          "base_uri": "https://localhost:8080/"
        },
        "id": "yS8zKI-nPCrv",
        "outputId": "38c628b4-5eda-41ff-92f5-beeb08c5418a"
      },
      "source": [
        "sentences[world_index[closest14[1]]] # positive"
      ],
      "execution_count": 151,
      "outputs": [
        {
          "output_type": "execute_result",
          "data": {
            "text/plain": [
              "[\"Dear JMN,<br/>I agree, but I think you've come up with a good motto for today's America.\",\n",
              " 'It used to be things like: America, the shining city on the hill.',\n",
              " 'America, beacon of liberty.',\n",
              " \"America, land of the free.<br/><br/>Since Trump, it's far more accurate to have it as, America, just plain stupid.\"]"
            ]
          },
          "metadata": {
            "tags": []
          },
          "execution_count": 151
        }
      ]
    },
    {
      "cell_type": "code",
      "metadata": {
        "colab": {
          "base_uri": "https://localhost:8080/"
        },
        "id": "DgV3B0cLPC5E",
        "outputId": "c5da4237-c96d-44a5-dc23-39683b48b31b"
      },
      "source": [
        "label14 = kmeans14.labels_\n",
        "opinion[\"senti14\"] = np.zeros(len(opinion))\n",
        "for i in range(len(label14)):\n",
        "  if label14[i] == 0:\n",
        "    opinion[\"senti14\"][vote_index[i]] = -1\n",
        "  if label14[i] == 1:\n",
        "    opinion[\"senti14\"][vote_index[i]] = 1"
      ],
      "execution_count": 152,
      "outputs": [
        {
          "output_type": "stream",
          "text": [
            "/usr/local/lib/python3.7/dist-packages/ipykernel_launcher.py:5: SettingWithCopyWarning: \n",
            "A value is trying to be set on a copy of a slice from a DataFrame\n",
            "\n",
            "See the caveats in the documentation: https://pandas.pydata.org/pandas-docs/stable/user_guide/indexing.html#returning-a-view-versus-a-copy\n",
            "  \"\"\"\n",
            "/usr/local/lib/python3.7/dist-packages/ipykernel_launcher.py:7: SettingWithCopyWarning: \n",
            "A value is trying to be set on a copy of a slice from a DataFrame\n",
            "\n",
            "See the caveats in the documentation: https://pandas.pydata.org/pandas-docs/stable/user_guide/indexing.html#returning-a-view-versus-a-copy\n",
            "  import sys\n"
          ],
          "name": "stderr"
        }
      ]
    },
    {
      "cell_type": "markdown",
      "metadata": {
        "id": "qTZj-fkZYNrV"
      },
      "source": [
        "**Text Classification**"
      ]
    },
    {
      "cell_type": "code",
      "metadata": {
        "id": "yv_9VTI3TW-Z",
        "colab": {
          "base_uri": "https://localhost:8080/"
        },
        "outputId": "9a76e9c1-8959-4cb7-89c4-ccb14dff9103"
      },
      "source": [
        "!pip install imbalanced-learn\n",
        "import imblearn\n",
        "from imblearn.over_sampling import ADASYN\n",
        "from imblearn.under_sampling import RandomUnderSampler\n",
        "from imblearn.pipeline import Pipeline\n",
        "from matplotlib import pyplot"
      ],
      "execution_count": 153,
      "outputs": [
        {
          "output_type": "stream",
          "text": [
            "Requirement already satisfied: imbalanced-learn in /usr/local/lib/python3.7/dist-packages (0.4.3)\n",
            "Requirement already satisfied: scikit-learn>=0.20 in /usr/local/lib/python3.7/dist-packages (from imbalanced-learn) (0.22.2.post1)\n",
            "Requirement already satisfied: scipy>=0.13.3 in /usr/local/lib/python3.7/dist-packages (from imbalanced-learn) (1.4.1)\n",
            "Requirement already satisfied: numpy>=1.8.2 in /usr/local/lib/python3.7/dist-packages (from imbalanced-learn) (1.19.5)\n",
            "Requirement already satisfied: joblib>=0.11 in /usr/local/lib/python3.7/dist-packages (from scikit-learn>=0.20->imbalanced-learn) (1.0.1)\n"
          ],
          "name": "stdout"
        },
        {
          "output_type": "stream",
          "text": [
            "/usr/local/lib/python3.7/dist-packages/sklearn/externals/six.py:31: FutureWarning: The module is deprecated in version 0.21 and will be removed in version 0.23 since we've dropped support for Python 2.7. Please rely on the official version of six (https://pypi.org/project/six/).\n",
            "  \"(https://pypi.org/project/six/).\", FutureWarning)\n",
            "/usr/local/lib/python3.7/dist-packages/sklearn/utils/deprecation.py:144: FutureWarning: The sklearn.neighbors.base module is  deprecated in version 0.22 and will be removed in version 0.24. The corresponding classes / functions should instead be imported from sklearn.neighbors. Anything that cannot be imported from sklearn.neighbors is now part of the private API.\n",
            "  warnings.warn(message, FutureWarning)\n"
          ],
          "name": "stderr"
        }
      ]
    },
    {
      "cell_type": "code",
      "metadata": {
        "id": "CxPFqNJW2gv-"
      },
      "source": [
        "from sklearn.model_selection import train_test_split, cross_val_score, KFold, cross_validate\n",
        "from sklearn.linear_model import LogisticRegression\n",
        "from sklearn import metrics\n",
        "from sklearn.metrics import classification_report, confusion_matrix, roc_auc_score, roc_curve, f1_score, accuracy_score"
      ],
      "execution_count": 305,
      "outputs": []
    },
    {
      "cell_type": "code",
      "metadata": {
        "id": "3RwKDHkyVp1A"
      },
      "source": [
        "y = opinion['editor selection']\n",
        "X = opinion.iloc[:, 17:31]"
      ],
      "execution_count": 258,
      "outputs": []
    },
    {
      "cell_type": "code",
      "metadata": {
        "colab": {
          "base_uri": "https://localhost:8080/"
        },
        "id": "W42ITiPffsdT",
        "outputId": "1a90689f-b9e4-49c9-d2e2-9a83949e1d42"
      },
      "source": [
        "opinion['editor selection'].value_counts()"
      ],
      "execution_count": 157,
      "outputs": [
        {
          "output_type": "execute_result",
          "data": {
            "text/plain": [
              "0    25907\n",
              "1      810\n",
              "Name: editor selection, dtype: int64"
            ]
          },
          "metadata": {
            "tags": []
          },
          "execution_count": 157
        }
      ]
    },
    {
      "cell_type": "code",
      "metadata": {
        "colab": {
          "base_uri": "https://localhost:8080/",
          "height": 285
        },
        "id": "8yNf-Y1BeUvr",
        "outputId": "053a874f-263c-4a62-aae2-be71fd2cccfa"
      },
      "source": [
        "import seaborn as sns\n",
        "sns.set(style=\"white\")\n",
        "graph = sns.countplot(x = opinion['editor selection'], data = opinion,palette=\"hls\")\n",
        "i = 0\n",
        "for p in graph.patches:\n",
        "  height = p.get_height()  \n",
        "  graph.text(p.get_x()+p.get_width()/2., height + 0.1,\n",
        "        opinion['editor selection'].value_counts()[i],ha=\"center\")\n",
        "  i += 1\n",
        "graph.figure\n",
        "plt.savefig('fig5.eps')\n",
        "files.download(\"fig5.eps\")"
      ],
      "execution_count": 255,
      "outputs": [
        {
          "output_type": "display_data",
          "data": {
            "application/javascript": [
              "\n",
              "    async function download(id, filename, size) {\n",
              "      if (!google.colab.kernel.accessAllowed) {\n",
              "        return;\n",
              "      }\n",
              "      const div = document.createElement('div');\n",
              "      const label = document.createElement('label');\n",
              "      label.textContent = `Downloading \"${filename}\": `;\n",
              "      div.appendChild(label);\n",
              "      const progress = document.createElement('progress');\n",
              "      progress.max = size;\n",
              "      div.appendChild(progress);\n",
              "      document.body.appendChild(div);\n",
              "\n",
              "      const buffers = [];\n",
              "      let downloaded = 0;\n",
              "\n",
              "      const channel = await google.colab.kernel.comms.open(id);\n",
              "      // Send a message to notify the kernel that we're ready.\n",
              "      channel.send({})\n",
              "\n",
              "      for await (const message of channel.messages) {\n",
              "        // Send a message to notify the kernel that we're ready.\n",
              "        channel.send({})\n",
              "        if (message.buffers) {\n",
              "          for (const buffer of message.buffers) {\n",
              "            buffers.push(buffer);\n",
              "            downloaded += buffer.byteLength;\n",
              "            progress.value = downloaded;\n",
              "          }\n",
              "        }\n",
              "      }\n",
              "      const blob = new Blob(buffers, {type: 'application/binary'});\n",
              "      const a = document.createElement('a');\n",
              "      a.href = window.URL.createObjectURL(blob);\n",
              "      a.download = filename;\n",
              "      div.appendChild(a);\n",
              "      a.click();\n",
              "      div.remove();\n",
              "    }\n",
              "  "
            ],
            "text/plain": [
              "<IPython.core.display.Javascript object>"
            ]
          },
          "metadata": {
            "tags": []
          }
        },
        {
          "output_type": "display_data",
          "data": {
            "application/javascript": [
              "download(\"download_72168203-beaa-485f-9df8-f3966874f4cb\", \"fig5.eps\", 12978)"
            ],
            "text/plain": [
              "<IPython.core.display.Javascript object>"
            ]
          },
          "metadata": {
            "tags": []
          }
        },
        {
          "output_type": "display_data",
          "data": {
            "image/png": "[encoded data removed]",
            "text/plain": [
              "<Figure size 432x288 with 1 Axes>"
            ]
          },
          "metadata": {
            "tags": []
          }
        }
      ]
    },
    {
      "cell_type": "code",
      "metadata": {
        "colab": {
          "base_uri": "https://localhost:8080/",
          "height": 334
        },
        "id": "0sfTlQ6uq7ie",
        "outputId": "c444a577-fcda-4ecd-8c55-d197891343ec"
      },
      "source": [
        "graph2 = sns.countplot(x=\"variable\", hue=\"value\", data=pd.melt(X))\n",
        "graph2.set_xticklabels(graph2.get_xticklabels(), rotation=40, ha=\"right\")\n",
        "plt.xlabel('Aspects')\n",
        "plt.show()\n",
        "plt.savefig('fig6.eps')\n",
        "files.download(\"fig6.eps\")"
      ],
      "execution_count": 281,
      "outputs": [
        {
          "output_type": "display_data",
          "data": {
            "image/png": "[encoded data removed]",
            "text/plain": [
              "<Figure size 432x288 with 1 Axes>"
            ]
          },
          "metadata": {
            "tags": []
          }
        },
        {
          "output_type": "display_data",
          "data": {
            "application/javascript": [
              "\n",
              "    async function download(id, filename, size) {\n",
              "      if (!google.colab.kernel.accessAllowed) {\n",
              "        return;\n",
              "      }\n",
              "      const div = document.createElement('div');\n",
              "      const label = document.createElement('label');\n",
              "      label.textContent = `Downloading \"${filename}\": `;\n",
              "      div.appendChild(label);\n",
              "      const progress = document.createElement('progress');\n",
              "      progress.max = size;\n",
              "      div.appendChild(progress);\n",
              "      document.body.appendChild(div);\n",
              "\n",
              "      const buffers = [];\n",
              "      let downloaded = 0;\n",
              "\n",
              "      const channel = await google.colab.kernel.comms.open(id);\n",
              "      // Send a message to notify the kernel that we're ready.\n",
              "      channel.send({})\n",
              "\n",
              "      for await (const message of channel.messages) {\n",
              "        // Send a message to notify the kernel that we're ready.\n",
              "        channel.send({})\n",
              "        if (message.buffers) {\n",
              "          for (const buffer of message.buffers) {\n",
              "            buffers.push(buffer);\n",
              "            downloaded += buffer.byteLength;\n",
              "            progress.value = downloaded;\n",
              "          }\n",
              "        }\n",
              "      }\n",
              "      const blob = new Blob(buffers, {type: 'application/binary'});\n",
              "      const a = document.createElement('a');\n",
              "      a.href = window.URL.createObjectURL(blob);\n",
              "      a.download = filename;\n",
              "      div.appendChild(a);\n",
              "      a.click();\n",
              "      div.remove();\n",
              "    }\n",
              "  "
            ],
            "text/plain": [
              "<IPython.core.display.Javascript object>"
            ]
          },
          "metadata": {
            "tags": []
          }
        },
        {
          "output_type": "display_data",
          "data": {
            "application/javascript": [
              "download(\"download_7fb36575-da6f-40a8-8d1b-7960b4ef7d6a\", \"fig6.eps\", 629)"
            ],
            "text/plain": [
              "<IPython.core.display.Javascript object>"
            ]
          },
          "metadata": {
            "tags": []
          }
        },
        {
          "output_type": "display_data",
          "data": {
            "text/plain": [
              "<Figure size 432x288 with 0 Axes>"
            ]
          },
          "metadata": {
            "tags": []
          }
        }
      ]
    },
    {
      "cell_type": "code",
      "metadata": {
        "id": "w2I6RDC05Sxt",
        "colab": {
          "base_uri": "https://localhost:8080/"
        },
        "outputId": "a2e9d371-484d-46e5-a060-774ac34a3bd6"
      },
      "source": [
        "oversample = ADASYN()\n",
        "X, y = oversample.fit_resample(X, y)"
      ],
      "execution_count": 158,
      "outputs": [
        {
          "output_type": "stream",
          "text": [
            "/usr/local/lib/python3.7/dist-packages/sklearn/utils/deprecation.py:87: FutureWarning: Function safe_indexing is deprecated; safe_indexing is deprecated in version 0.22 and will be removed in version 0.24.\n",
            "  warnings.warn(msg, category=FutureWarning)\n"
          ],
          "name": "stderr"
        }
      ]
    },
    {
      "cell_type": "code",
      "metadata": {
        "colab": {
          "base_uri": "https://localhost:8080/"
        },
        "id": "C9WIftDv5icI",
        "outputId": "d5582f33-5ad0-4897-a606-b596dd9d109d"
      },
      "source": [
        "Counter(y)"
      ],
      "execution_count": 159,
      "outputs": [
        {
          "output_type": "execute_result",
          "data": {
            "text/plain": [
              "Counter({0: 25907, 1: 26092})"
            ]
          },
          "metadata": {
            "tags": []
          },
          "execution_count": 159
        }
      ]
    },
    {
      "cell_type": "code",
      "metadata": {
        "id": "gL6-JRzBv8O8"
      },
      "source": [
        "X_train, X_test, y_train, y_test = train_test_split(X,y,test_size=0.4,random_state=11,stratify=y)"
      ],
      "execution_count": 160,
      "outputs": []
    },
    {
      "cell_type": "code",
      "metadata": {
        "id": "pnWOl6fj3Jpu"
      },
      "source": [
        "cv = KFold(n_splits=10, random_state=1, shuffle=True)"
      ],
      "execution_count": 161,
      "outputs": []
    },
    {
      "cell_type": "code",
      "metadata": {
        "id": "a_18y89uD0hJ"
      },
      "source": [
        "forest1 = RandomForestClassifier(oob_score = True, n_jobs = -1)"
      ],
      "execution_count": 309,
      "outputs": []
    },
    {
      "cell_type": "code",
      "metadata": {
        "id": "P2pMzNDWkb0W"
      },
      "source": [
        "clf1 = LogisticRegression(random_state=0)"
      ],
      "execution_count": 310,
      "outputs": []
    },
    {
      "cell_type": "code",
      "metadata": {
        "id": "3wXuKR_J7mgc"
      },
      "source": [
        "scores1 = cross_val_score(forest1, X_train, y_train, scoring='accuracy', cv=cv, n_jobs=-1)"
      ],
      "execution_count": 311,
      "outputs": []
    },
    {
      "cell_type": "code",
      "metadata": {
        "id": "UqDso-TSlXS_"
      },
      "source": [
        "scores2 = cross_val_score(clf1, X_train, y_train, scoring='accuracy', cv=cv, n_jobs=-1)"
      ],
      "execution_count": 312,
      "outputs": []
    },
    {
      "cell_type": "code",
      "metadata": {
        "id": "yPbXuBRT7xND"
      },
      "source": [
        "from numpy import mean, std"
      ],
      "execution_count": 166,
      "outputs": []
    },
    {
      "cell_type": "code",
      "metadata": {
        "colab": {
          "base_uri": "https://localhost:8080/"
        },
        "id": "e5x9vVkL7vmZ",
        "outputId": "dff38473-c4e1-44aa-8afa-26c208f8e1bb"
      },
      "source": [
        "print('Performce of Random Forest: %.3f' % (mean(scores1)))"
      ],
      "execution_count": 315,
      "outputs": [
        {
          "output_type": "stream",
          "text": [
            "Performce of Random Forest: 0.750\n"
          ],
          "name": "stdout"
        }
      ]
    },
    {
      "cell_type": "code",
      "metadata": {
        "colab": {
          "base_uri": "https://localhost:8080/"
        },
        "id": "NKcyyUYylb9t",
        "outputId": "b60f9aab-2aec-475f-b138-446d73d9a8a9"
      },
      "source": [
        "print('Performance of Logistic Regraression: %.3f' % (mean(scores2)))"
      ],
      "execution_count": 316,
      "outputs": [
        {
          "output_type": "stream",
          "text": [
            "Performance of Logistic Regraression: 0.562\n"
          ],
          "name": "stdout"
        }
      ]
    },
    {
      "cell_type": "code",
      "metadata": {
        "id": "5eDTA7JxwvO-"
      },
      "source": [
        "y_test_pred1 = forest1.fit(X_train,y_train).predict(X_test)\n",
        "y_test_pred2 = clf1.fit(X_train,y_train).predict(X_test)"
      ],
      "execution_count": 206,
      "outputs": []
    },
    {
      "cell_type": "code",
      "metadata": {
        "colab": {
          "base_uri": "https://localhost:8080/"
        },
        "id": "P8ueCtG0jRGi",
        "outputId": "62a89ed0-b54c-45cd-b1a0-54341a34879c"
      },
      "source": [
        "print(\"Accuracy of test - Random Forest:\",metrics.accuracy_score(y_test, y_test_pred1))\n",
        "print(\"Accuracy of test - Logistic Regression:\",metrics.accuracy_score(y_test, y_test_pred2))"
      ],
      "execution_count": 207,
      "outputs": [
        {
          "output_type": "stream",
          "text": [
            "Accuracy of test - Random Forest: 0.7466346153846154\n",
            "Accuracy of test - Logistic Regression: 0.5605288461538461\n"
          ],
          "name": "stdout"
        }
      ]
    },
    {
      "cell_type": "code",
      "metadata": {
        "colab": {
          "base_uri": "https://localhost:8080/"
        },
        "id": "f6n57x-Ye9HN",
        "outputId": "114e1620-7d48-4ce2-c897-528f14b59258"
      },
      "source": [
        "target_names = [\"0\",\"1\"]\n",
        "print(classification_report(y_test, y_test_pred1, target_names=target_names))"
      ],
      "execution_count": 208,
      "outputs": [
        {
          "output_type": "stream",
          "text": [
            "              precision    recall  f1-score   support\n",
            "\n",
            "           0       0.70      0.85      0.77     10363\n",
            "           1       0.81      0.64      0.72     10437\n",
            "\n",
            "    accuracy                           0.75     20800\n",
            "   macro avg       0.76      0.75      0.74     20800\n",
            "weighted avg       0.76      0.75      0.74     20800\n",
            "\n"
          ],
          "name": "stdout"
        }
      ]
    },
    {
      "cell_type": "code",
      "metadata": {
        "colab": {
          "base_uri": "https://localhost:8080/"
        },
        "id": "LBKrUh3CzAW4",
        "outputId": "a9772e43-6e9e-456b-e288-3441d6503c1d"
      },
      "source": [
        "print(classification_report(y_test, y_test_pred2, target_names=target_names))"
      ],
      "execution_count": 209,
      "outputs": [
        {
          "output_type": "stream",
          "text": [
            "              precision    recall  f1-score   support\n",
            "\n",
            "           0       0.56      0.56      0.56     10363\n",
            "           1       0.56      0.56      0.56     10437\n",
            "\n",
            "    accuracy                           0.56     20800\n",
            "   macro avg       0.56      0.56      0.56     20800\n",
            "weighted avg       0.56      0.56      0.56     20800\n",
            "\n"
          ],
          "name": "stdout"
        }
      ]
    },
    {
      "cell_type": "code",
      "metadata": {
        "colab": {
          "base_uri": "https://localhost:8080/",
          "height": 297
        },
        "id": "NCOmlDT_ZPpi",
        "outputId": "b7dfa824-a9ad-41da-d6cc-fbb63c61ca14"
      },
      "source": [
        "import matplotlib.pyplot as plt  \n",
        "from sklearn.metrics import plot_confusion_matrix\n",
        "plot_confusion_matrix(forest1, X_test, y_test, display_labels = ['0','1'], cmap=plt.cm.Blues, values_format = \"d\")\n",
        "plt.plot(cmap=plt.cm.Blues)\n",
        "plt.show()\n",
        "plt.savefig('fig1.eps')\n",
        "files.download(\"fig1.eps\")"
      ],
      "execution_count": 210,
      "outputs": [
        {
          "output_type": "display_data",
          "data": {
            "image/png": "[encoded data removed]",
            "text/plain": [
              "<Figure size 432x288 with 2 Axes>"
            ]
          },
          "metadata": {
            "tags": [],
            "needs_background": "light"
          }
        },
        {
          "output_type": "display_data",
          "data": {
            "application/javascript": [
              "\n",
              "    async function download(id, filename, size) {\n",
              "      if (!google.colab.kernel.accessAllowed) {\n",
              "        return;\n",
              "      }\n",
              "      const div = document.createElement('div');\n",
              "      const label = document.createElement('label');\n",
              "      label.textContent = `Downloading \"${filename}\": `;\n",
              "      div.appendChild(label);\n",
              "      const progress = document.createElement('progress');\n",
              "      progress.max = size;\n",
              "      div.appendChild(progress);\n",
              "      document.body.appendChild(div);\n",
              "\n",
              "      const buffers = [];\n",
              "      let downloaded = 0;\n",
              "\n",
              "      const channel = await google.colab.kernel.comms.open(id);\n",
              "      // Send a message to notify the kernel that we're ready.\n",
              "      channel.send({})\n",
              "\n",
              "      for await (const message of channel.messages) {\n",
              "        // Send a message to notify the kernel that we're ready.\n",
              "        channel.send({})\n",
              "        if (message.buffers) {\n",
              "          for (const buffer of message.buffers) {\n",
              "            buffers.push(buffer);\n",
              "            downloaded += buffer.byteLength;\n",
              "            progress.value = downloaded;\n",
              "          }\n",
              "        }\n",
              "      }\n",
              "      const blob = new Blob(buffers, {type: 'application/binary'});\n",
              "      const a = document.createElement('a');\n",
              "      a.href = window.URL.createObjectURL(blob);\n",
              "      a.download = filename;\n",
              "      div.appendChild(a);\n",
              "      a.click();\n",
              "      div.remove();\n",
              "    }\n",
              "  "
            ],
            "text/plain": [
              "<IPython.core.display.Javascript object>"
            ]
          },
          "metadata": {
            "tags": []
          }
        },
        {
          "output_type": "display_data",
          "data": {
            "application/javascript": [
              "download(\"download_acaf0e4e-79d7-47bd-a0f2-3f6d2635af0e\", \"fig1.eps\", 629)"
            ],
            "text/plain": [
              "<IPython.core.display.Javascript object>"
            ]
          },
          "metadata": {
            "tags": []
          }
        },
        {
          "output_type": "display_data",
          "data": {
            "text/plain": [
              "<Figure size 432x288 with 0 Axes>"
            ]
          },
          "metadata": {
            "tags": []
          }
        }
      ]
    },
    {
      "cell_type": "code",
      "metadata": {
        "colab": {
          "base_uri": "https://localhost:8080/",
          "height": 297
        },
        "id": "K37EljlmzT19",
        "outputId": "a22d132c-b95f-4d95-85c0-d9f0c2f1ecac"
      },
      "source": [
        "plot_confusion_matrix(clf1, X_test, y_test, display_labels = ['0','1'], cmap=plt.cm.Blues, values_format = \"d\")\n",
        "plt.plot(cmap=plt.cm.Blues)\n",
        "plt.show()\n",
        "plt.savefig('fig2.eps')\n",
        "files.download(\"fig2.eps\")"
      ],
      "execution_count": 211,
      "outputs": [
        {
          "output_type": "display_data",
          "data": {
            "image/png": "[encoded data removed]",
            "text/plain": [
              "<Figure size 432x288 with 2 Axes>"
            ]
          },
          "metadata": {
            "tags": [],
            "needs_background": "light"
          }
        },
        {
          "output_type": "display_data",
          "data": {
            "application/javascript": [
              "\n",
              "    async function download(id, filename, size) {\n",
              "      if (!google.colab.kernel.accessAllowed) {\n",
              "        return;\n",
              "      }\n",
              "      const div = document.createElement('div');\n",
              "      const label = document.createElement('label');\n",
              "      label.textContent = `Downloading \"${filename}\": `;\n",
              "      div.appendChild(label);\n",
              "      const progress = document.createElement('progress');\n",
              "      progress.max = size;\n",
              "      div.appendChild(progress);\n",
              "      document.body.appendChild(div);\n",
              "\n",
              "      const buffers = [];\n",
              "      let downloaded = 0;\n",
              "\n",
              "      const channel = await google.colab.kernel.comms.open(id);\n",
              "      // Send a message to notify the kernel that we're ready.\n",
              "      channel.send({})\n",
              "\n",
              "      for await (const message of channel.messages) {\n",
              "        // Send a message to notify the kernel that we're ready.\n",
              "        channel.send({})\n",
              "        if (message.buffers) {\n",
              "          for (const buffer of message.buffers) {\n",
              "            buffers.push(buffer);\n",
              "            downloaded += buffer.byteLength;\n",
              "            progress.value = downloaded;\n",
              "          }\n",
              "        }\n",
              "      }\n",
              "      const blob = new Blob(buffers, {type: 'application/binary'});\n",
              "      const a = document.createElement('a');\n",
              "      a.href = window.URL.createObjectURL(blob);\n",
              "      a.download = filename;\n",
              "      div.appendChild(a);\n",
              "      a.click();\n",
              "      div.remove();\n",
              "    }\n",
              "  "
            ],
            "text/plain": [
              "<IPython.core.display.Javascript object>"
            ]
          },
          "metadata": {
            "tags": []
          }
        },
        {
          "output_type": "display_data",
          "data": {
            "application/javascript": [
              "download(\"download_70593ad5-083c-43ce-bb39-027092c79636\", \"fig2.eps\", 629)"
            ],
            "text/plain": [
              "<IPython.core.display.Javascript object>"
            ]
          },
          "metadata": {
            "tags": []
          }
        },
        {
          "output_type": "display_data",
          "data": {
            "text/plain": [
              "<Figure size 432x288 with 0 Axes>"
            ]
          },
          "metadata": {
            "tags": []
          }
        }
      ]
    },
    {
      "cell_type": "code",
      "metadata": {
        "colab": {
          "base_uri": "https://localhost:8080/",
          "height": 295
        },
        "id": "noryVm_vnNCf",
        "outputId": "714a22c6-33c4-457b-b614-6b2c328c032f"
      },
      "source": [
        "forest_roc_auc = roc_auc_score(y_test, forest1.predict(X_test))\n",
        "fpr, tpr, thresholds = roc_curve(y_test, forest1.predict_proba(X_test)[:,1])\n",
        "plt.figure()\n",
        "plt.plot(fpr, tpr, label='Random Forest (area = %0.2f)' % forest_roc_auc)\n",
        "plt.plot([0, 1], [0, 1],'r--')\n",
        "plt.xlim([0.0, 1.0])\n",
        "plt.ylim([0.0, 1.05])\n",
        "plt.xlabel('False Positive Rate')\n",
        "plt.ylabel('True Positive Rate')\n",
        "plt.title('Receiver operating characteristic')\n",
        "plt.legend(loc=\"lower right\")\n",
        "plt.savefig('RF_ROC')\n",
        "plt.show()"
      ],
      "execution_count": 226,
      "outputs": [
        {
          "output_type": "display_data",
          "data": {
            "image/png": "[encoded data removed]",
            "text/plain": [
              "<Figure size 432x288 with 1 Axes>"
            ]
          },
          "metadata": {
            "tags": [],
            "needs_background": "light"
          }
        }
      ]
    },
    {
      "cell_type": "code",
      "metadata": {
        "colab": {
          "base_uri": "https://localhost:8080/",
          "height": 295
        },
        "id": "taGMP76cmITg",
        "outputId": "938622f4-6d39-48d0-9f43-a2edc7043aa1"
      },
      "source": [
        "logit_roc_auc = roc_auc_score(y_test, clf.predict(X_test))\n",
        "fpr, tpr, thresholds = roc_curve(y_test, clf.predict_proba(X_test)[:,1])\n",
        "plt.figure()\n",
        "plt.plot(fpr, tpr, label='Logistic Regression (area = %0.2f)' % logit_roc_auc)\n",
        "plt.plot([0, 1], [0, 1],'r--')\n",
        "plt.xlim([0.0, 1.0])\n",
        "plt.ylim([0.0, 1.05])\n",
        "plt.xlabel('False Positive Rate')\n",
        "plt.ylabel('True Positive Rate')\n",
        "plt.title('Receiver operating characteristic')\n",
        "plt.legend(loc=\"lower right\")\n",
        "plt.savefig('Log_ROC')\n",
        "plt.show()"
      ],
      "execution_count": 176,
      "outputs": [
        {
          "output_type": "display_data",
          "data": {
            "image/png": "[encoded data removed]",
            "text/plain": [
              "<Figure size 432x288 with 1 Axes>"
            ]
          },
          "metadata": {
            "tags": [],
            "needs_background": "light"
          }
        }
      ]
    },
    {
      "cell_type": "code",
      "metadata": {
        "id": "wbp89P1t7UPy"
      },
      "source": [
        "X_c = np.zeros([51999, 28])"
      ],
      "execution_count": 177,
      "outputs": []
    },
    {
      "cell_type": "code",
      "metadata": {
        "id": "4dzj5Yli78qK"
      },
      "source": [
        "# dummy\n",
        "for j in range(51999):\n",
        "  for i in range(14):\n",
        "    ii = 2*i\n",
        "    if X[j,i] == 1:\n",
        "      X_c[j,ii] = 1\n",
        "    if X[j,i] == -1:\n",
        "      X_c[j,ii+1] = 1"
      ],
      "execution_count": 178,
      "outputs": []
    },
    {
      "cell_type": "code",
      "metadata": {
        "id": "G-YrAtRB4WXb"
      },
      "source": [
        "X_train_c, X_test_c, y_train_c, y_test_c = train_test_split(X_c,y,test_size=0.4,random_state=11,stratify=y)"
      ],
      "execution_count": 179,
      "outputs": []
    },
    {
      "cell_type": "code",
      "metadata": {
        "id": "GpzMwPvPQfPM"
      },
      "source": [
        "forest2 = RandomForestClassifier(oob_score = True, n_jobs = -1)"
      ],
      "execution_count": 212,
      "outputs": []
    },
    {
      "cell_type": "code",
      "metadata": {
        "id": "77STvf1tQfPN"
      },
      "source": [
        "clf2 = LogisticRegression(random_state=0)"
      ],
      "execution_count": 213,
      "outputs": []
    },
    {
      "cell_type": "code",
      "metadata": {
        "id": "EAkkjBXD4SxD"
      },
      "source": [
        "scores3 = cross_val_score(forest2, X_train_c, y_train_c, scoring='accuracy', cv=cv, n_jobs=-1)"
      ],
      "execution_count": 214,
      "outputs": []
    },
    {
      "cell_type": "code",
      "metadata": {
        "id": "NoXz1FSD4SxE"
      },
      "source": [
        "scores4 = cross_val_score(clf2, X_train_c, y_train_c, scoring='accuracy', cv=cv, n_jobs=-1)"
      ],
      "execution_count": 215,
      "outputs": []
    },
    {
      "cell_type": "code",
      "metadata": {
        "colab": {
          "base_uri": "https://localhost:8080/"
        },
        "id": "E-hFmVRE4SxF",
        "outputId": "135ca360-8ba0-4580-e57f-7bd1ba279b87"
      },
      "source": [
        "print('Performce of Random Forest: %.3f (%.3f)' % (mean(scores3), std(scores3)))"
      ],
      "execution_count": 216,
      "outputs": [
        {
          "output_type": "stream",
          "text": [
            "Performce of Random Forest: 0.676 (0.006)\n"
          ],
          "name": "stdout"
        }
      ]
    },
    {
      "cell_type": "code",
      "metadata": {
        "colab": {
          "base_uri": "https://localhost:8080/"
        },
        "id": "9SshBk_l4SxH",
        "outputId": "16fa0b78-3218-4b87-d508-59ef2f0f4e74"
      },
      "source": [
        "print('Performance of Logistic Regraression: %.3f (%.3f)' % (mean(scores4), std(scores4)))"
      ],
      "execution_count": 217,
      "outputs": [
        {
          "output_type": "stream",
          "text": [
            "Performance of Logistic Regraression: 0.592 (0.019)\n"
          ],
          "name": "stdout"
        }
      ]
    },
    {
      "cell_type": "code",
      "metadata": {
        "id": "8Sa8vw2n4SxI"
      },
      "source": [
        "y_test_pred3 = forest2.fit(X_train_c,y_train_c).predict(X_test_c)\n",
        "y_test_pred4 = clf2.fit(X_train_c,y_train_c).predict(X_test_c)"
      ],
      "execution_count": 218,
      "outputs": []
    },
    {
      "cell_type": "code",
      "metadata": {
        "colab": {
          "base_uri": "https://localhost:8080/"
        },
        "id": "ts45a_7P4SxJ",
        "outputId": "b44b5dc8-8aa7-42e9-ffed-4d28f714823f"
      },
      "source": [
        "print(\"Accuracy of test - Random Forest:\",metrics.accuracy_score(y_test_c, y_test_pred3))\n",
        "print(\"Accuracy of test - Logistic Regression:\",metrics.accuracy_score(y_test_c, y_test_pred4))"
      ],
      "execution_count": 185,
      "outputs": [
        {
          "output_type": "stream",
          "text": [
            "Accuracy of test - Random Forest: 0.6715384615384615\n",
            "Accuracy of test - Logistic Regression: 0.6004807692307692\n"
          ],
          "name": "stdout"
        }
      ]
    },
    {
      "cell_type": "code",
      "metadata": {
        "colab": {
          "base_uri": "https://localhost:8080/"
        },
        "id": "o14qVJfz4SxJ",
        "outputId": "72a051fe-ba5b-419b-9aa4-318f1b2eda45"
      },
      "source": [
        "print(classification_report(y_test_c, y_test_pred3, target_names=target_names))"
      ],
      "execution_count": 219,
      "outputs": [
        {
          "output_type": "stream",
          "text": [
            "              precision    recall  f1-score   support\n",
            "\n",
            "           0       0.75      0.51      0.61     10363\n",
            "           1       0.63      0.83      0.72     10437\n",
            "\n",
            "    accuracy                           0.67     20800\n",
            "   macro avg       0.69      0.67      0.66     20800\n",
            "weighted avg       0.69      0.67      0.66     20800\n",
            "\n"
          ],
          "name": "stdout"
        }
      ]
    },
    {
      "cell_type": "code",
      "metadata": {
        "colab": {
          "base_uri": "https://localhost:8080/"
        },
        "id": "_bExFMkL4SxK",
        "outputId": "09e83099-c9b6-406b-9148-4f69a6339325"
      },
      "source": [
        "print(classification_report(y_test_c, y_test_pred4, target_names=target_names))"
      ],
      "execution_count": 220,
      "outputs": [
        {
          "output_type": "stream",
          "text": [
            "              precision    recall  f1-score   support\n",
            "\n",
            "           0       0.63      0.47      0.54     10363\n",
            "           1       0.58      0.73      0.65     10437\n",
            "\n",
            "    accuracy                           0.60     20800\n",
            "   macro avg       0.61      0.60      0.59     20800\n",
            "weighted avg       0.61      0.60      0.59     20800\n",
            "\n"
          ],
          "name": "stdout"
        }
      ]
    },
    {
      "cell_type": "code",
      "metadata": {
        "colab": {
          "base_uri": "https://localhost:8080/",
          "height": 295
        },
        "id": "red1-tAIRK97",
        "outputId": "b82fd04e-b676-4508-fb3b-2c098c7a6fd4"
      },
      "source": [
        "forest_roc_auc = roc_auc_score(y_test_c, forest2.predict(X_test_c))\n",
        "fpr, tpr, thresholds = roc_curve(y_test_c, forest2.predict_proba(X_test_c)[:,1])\n",
        "plt.figure()\n",
        "plt.plot(fpr, tpr, label='Random Forest (area = %0.2f)' % forest_roc_auc)\n",
        "plt.plot([0, 1], [0, 1],'r--')\n",
        "plt.xlim([0.0, 1.0])\n",
        "plt.ylim([0.0, 1.05])\n",
        "plt.xlabel('False Positive Rate')\n",
        "plt.ylabel('True Positive Rate')\n",
        "plt.title('Receiver operating characteristic')\n",
        "plt.legend(loc=\"lower right\")\n",
        "plt.savefig('Log_ROC')\n",
        "plt.show()"
      ],
      "execution_count": 225,
      "outputs": [
        {
          "output_type": "display_data",
          "data": {
            "image/png": "[encoded data removed]",
            "text/plain": [
              "<Figure size 432x288 with 1 Axes>"
            ]
          },
          "metadata": {
            "tags": [],
            "needs_background": "light"
          }
        }
      ]
    },
    {
      "cell_type": "code",
      "metadata": {
        "colab": {
          "base_uri": "https://localhost:8080/",
          "height": 295
        },
        "id": "mQV-bXzgFkUQ",
        "outputId": "62c9468a-0268-4856-dd8a-fc625fab9ed5"
      },
      "source": [
        "lr_roc_auc = roc_auc_score(y_test_c, clf2.predict(X_test_c))\n",
        "fpr, tpr, thresholds = roc_curve(y_test_c, clf.predict_proba(X_test_c)[:,1])\n",
        "plt.figure()\n",
        "plt.plot(fpr, tpr, label='Logistic Regression (area = %0.2f)' % logit_roc_auc)\n",
        "plt.plot([0, 1], [0, 1],'r--')\n",
        "plt.xlim([0.0, 1.0])\n",
        "plt.ylim([0.0, 1.05])\n",
        "plt.xlabel('False Positive Rate')\n",
        "plt.ylabel('True Positive Rate')\n",
        "plt.title('Receiver operating characteristic')\n",
        "plt.legend(loc=\"lower right\")\n",
        "plt.savefig('Log_ROC')\n",
        "plt.show()"
      ],
      "execution_count": 224,
      "outputs": [
        {
          "output_type": "display_data",
          "data": {
            "image/png": "[encoded data removed]",
            "text/plain": [
              "<Figure size 432x288 with 1 Axes>"
            ]
          },
          "metadata": {
            "tags": [],
            "needs_background": "light"
          }
        }
      ]
    },
    {
      "cell_type": "code",
      "metadata": {
        "colab": {
          "base_uri": "https://localhost:8080/",
          "height": 297
        },
        "id": "_S-eQhETGPDt",
        "outputId": "48386dbc-67ae-4e20-d578-f35c19807b15"
      },
      "source": [
        "plot_confusion_matrix(forest, X_test_c, y_test_c, display_labels = ['0','1'], cmap=plt.cm.Blues, values_format = \"d\")\n",
        "plt.plot(cmap=plt.cm.Blues)\n",
        "plt.show()\n",
        "plt.savefig('fig3.eps')\n",
        "files.download(\"fig3.eps\")"
      ],
      "execution_count": 222,
      "outputs": [
        {
          "output_type": "display_data",
          "data": {
            "image/png": "[encoded data removed]",
            "text/plain": [
              "<Figure size 432x288 with 2 Axes>"
            ]
          },
          "metadata": {
            "tags": [],
            "needs_background": "light"
          }
        },
        {
          "output_type": "display_data",
          "data": {
            "application/javascript": [
              "\n",
              "    async function download(id, filename, size) {\n",
              "      if (!google.colab.kernel.accessAllowed) {\n",
              "        return;\n",
              "      }\n",
              "      const div = document.createElement('div');\n",
              "      const label = document.createElement('label');\n",
              "      label.textContent = `Downloading \"${filename}\": `;\n",
              "      div.appendChild(label);\n",
              "      const progress = document.createElement('progress');\n",
              "      progress.max = size;\n",
              "      div.appendChild(progress);\n",
              "      document.body.appendChild(div);\n",
              "\n",
              "      const buffers = [];\n",
              "      let downloaded = 0;\n",
              "\n",
              "      const channel = await google.colab.kernel.comms.open(id);\n",
              "      // Send a message to notify the kernel that we're ready.\n",
              "      channel.send({})\n",
              "\n",
              "      for await (const message of channel.messages) {\n",
              "        // Send a message to notify the kernel that we're ready.\n",
              "        channel.send({})\n",
              "        if (message.buffers) {\n",
              "          for (const buffer of message.buffers) {\n",
              "            buffers.push(buffer);\n",
              "            downloaded += buffer.byteLength;\n",
              "            progress.value = downloaded;\n",
              "          }\n",
              "        }\n",
              "      }\n",
              "      const blob = new Blob(buffers, {type: 'application/binary'});\n",
              "      const a = document.createElement('a');\n",
              "      a.href = window.URL.createObjectURL(blob);\n",
              "      a.download = filename;\n",
              "      div.appendChild(a);\n",
              "      a.click();\n",
              "      div.remove();\n",
              "    }\n",
              "  "
            ],
            "text/plain": [
              "<IPython.core.display.Javascript object>"
            ]
          },
          "metadata": {
            "tags": []
          }
        },
        {
          "output_type": "display_data",
          "data": {
            "application/javascript": [
              "download(\"download_ed7b0efc-4cdd-4866-a005-372224f91916\", \"fig3.eps\", 629)"
            ],
            "text/plain": [
              "<IPython.core.display.Javascript object>"
            ]
          },
          "metadata": {
            "tags": []
          }
        },
        {
          "output_type": "display_data",
          "data": {
            "text/plain": [
              "<Figure size 432x288 with 0 Axes>"
            ]
          },
          "metadata": {
            "tags": []
          }
        }
      ]
    },
    {
      "cell_type": "code",
      "metadata": {
        "colab": {
          "base_uri": "https://localhost:8080/",
          "height": 297
        },
        "id": "_yCgngq1F-hG",
        "outputId": "507b1f0f-793a-4706-d542-ec4cd310267c"
      },
      "source": [
        "plot_confusion_matrix(clf, X_test_c, y_test_c, display_labels = ['0','1'], cmap=plt.cm.Blues, values_format = \"d\")\n",
        "plt.plot(cmap=plt.cm.Blues)\n",
        "plt.show()\n",
        "plt.savefig('fig4.eps')\n",
        "files.download(\"fig4.eps\")"
      ],
      "execution_count": 192,
      "outputs": [
        {
          "output_type": "display_data",
          "data": {
            "image/png": "[encoded data removed]",
            "text/plain": [
              "<Figure size 432x288 with 2 Axes>"
            ]
          },
          "metadata": {
            "tags": [],
            "needs_background": "light"
          }
        },
        {
          "output_type": "display_data",
          "data": {
            "application/javascript": [
              "\n",
              "    async function download(id, filename, size) {\n",
              "      if (!google.colab.kernel.accessAllowed) {\n",
              "        return;\n",
              "      }\n",
              "      const div = document.createElement('div');\n",
              "      const label = document.createElement('label');\n",
              "      label.textContent = `Downloading \"${filename}\": `;\n",
              "      div.appendChild(label);\n",
              "      const progress = document.createElement('progress');\n",
              "      progress.max = size;\n",
              "      div.appendChild(progress);\n",
              "      document.body.appendChild(div);\n",
              "\n",
              "      const buffers = [];\n",
              "      let downloaded = 0;\n",
              "\n",
              "      const channel = await google.colab.kernel.comms.open(id);\n",
              "      // Send a message to notify the kernel that we're ready.\n",
              "      channel.send({})\n",
              "\n",
              "      for await (const message of channel.messages) {\n",
              "        // Send a message to notify the kernel that we're ready.\n",
              "        channel.send({})\n",
              "        if (message.buffers) {\n",
              "          for (const buffer of message.buffers) {\n",
              "            buffers.push(buffer);\n",
              "            downloaded += buffer.byteLength;\n",
              "            progress.value = downloaded;\n",
              "          }\n",
              "        }\n",
              "      }\n",
              "      const blob = new Blob(buffers, {type: 'application/binary'});\n",
              "      const a = document.createElement('a');\n",
              "      a.href = window.URL.createObjectURL(blob);\n",
              "      a.download = filename;\n",
              "      div.appendChild(a);\n",
              "      a.click();\n",
              "      div.remove();\n",
              "    }\n",
              "  "
            ],
            "text/plain": [
              "<IPython.core.display.Javascript object>"
            ]
          },
          "metadata": {
            "tags": []
          }
        },
        {
          "output_type": "display_data",
          "data": {
            "application/javascript": [
              "download(\"download_fceaf97f-c580-431f-89ff-2d475bb4802b\", \"fig4.eps\", 629)"
            ],
            "text/plain": [
              "<IPython.core.display.Javascript object>"
            ]
          },
          "metadata": {
            "tags": []
          }
        },
        {
          "output_type": "display_data",
          "data": {
            "text/plain": [
              "<Figure size 432x288 with 0 Axes>"
            ]
          },
          "metadata": {
            "tags": []
          }
        }
      ]
    }
  ]
}