{
  "nbformat": 4,
  "nbformat_minor": 0,
  "metadata": {
    "colab": {
      "name": "politics.ipynb",
      "provenance": [],
      "collapsed_sections": [],
      "authorship_tag": "ABX9TyOZlJOcCOk/830oEuuCGI6s",
      "include_colab_link": true
    },
    "kernelspec": {
      "display_name": "Python 3",
      "name": "python3"
    },
    "language_info": {
      "name": "python"
    }
  },
  "cells": [
    {
      "cell_type": "markdown",
      "metadata": {
        "id": "view-in-github",
        "colab_type": "text"
      },
      "source": [
        "<a href=\"https://colab.research.google.com/github/Serafina-Z/opinion-analysis/blob/main/politics.ipynb\" target=\"_parent\"><img src=\"https://colab.research.google.com/assets/colab-badge.svg\" alt=\"Open In Colab\"/></a>"
      ]
    },
    {
      "cell_type": "markdown",
      "metadata": {
        "id": "LFL5P-scrYLi"
      },
      "source": [
        "### **Politics Opinion Analysis**"
      ]
    },
    {
      "cell_type": "markdown",
      "metadata": {
        "id": "qgVbNuHJCFn6"
      },
      "source": [
        "**Data Loading**"
      ]
    },
    {
      "cell_type": "code",
      "metadata": {
        "id": "21MVmWSdPw7J",
        "colab": {
          "resources": {
            "http://localhost:8080/nbextensions/google.colab/files.js": {
              "data": "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",
              "ok": true,
              "headers": [
                [
                  "content-type",
                  "application/javascript"
                ]
              ],
              "status": 200,
              "status_text": ""
            }
          },
          "base_uri": "https://localhost:8080/",
          "height": 76
        },
        "outputId": "4e721637-db92-4729-daad-22beed3cf266"
      },
      "source": [
        "from google.colab import files\n",
        "uploaded = files.upload() # upload kaggle.json"
      ],
      "execution_count": null,
      "outputs": [
        {
          "output_type": "display_data",
          "data": {
            "text/html": [
              "\n",
              "     <input type=\"file\" id=\"files-facb22da-5fd9-4c81-a4d4-d9281e2be778\" name=\"files[]\" multiple disabled\n",
              "        style=\"border:none\" />\n",
              "     <output id=\"result-facb22da-5fd9-4c81-a4d4-d9281e2be778\">\n",
              "      Upload widget is only available when the cell has been executed in the\n",
              "      current browser session. Please rerun this cell to enable.\n",
              "      </output>\n",
              "      <script src=\"/nbextensions/google.colab/files.js\"></script> "
            ],
            "text/plain": [
              "<IPython.core.display.HTML object>"
            ]
          },
          "metadata": {
            "tags": []
          }
        },
        {
          "output_type": "stream",
          "text": [
            "Saving kaggle.json to kaggle.json\n"
          ],
          "name": "stdout"
        }
      ]
    },
    {
      "cell_type": "code",
      "metadata": {
        "colab": {
          "base_uri": "https://localhost:8080/"
        },
        "id": "0aJ_Ul3dQsUO",
        "outputId": "bed52e62-d771-435b-dc03-464650cf7c3d"
      },
      "source": [
        "from google.colab import drive\n",
        "drive.mount('/content/drive')"
      ],
      "execution_count": null,
      "outputs": [
        {
          "output_type": "stream",
          "text": [
            "Mounted at /content/drive\n"
          ],
          "name": "stdout"
        }
      ]
    },
    {
      "cell_type": "code",
      "metadata": {
        "id": "GmBw_ukzQsW6"
      },
      "source": [
        "! mkdir ~/.kaggle"
      ],
      "execution_count": null,
      "outputs": []
    },
    {
      "cell_type": "code",
      "metadata": {
        "id": "o2s0wz7BQsae"
      },
      "source": [
        "! cp kaggle.json ~/.kaggle/"
      ],
      "execution_count": null,
      "outputs": []
    },
    {
      "cell_type": "code",
      "metadata": {
        "id": "uCpAQfhYQsdZ"
      },
      "source": [
        "! chmod 600 ~/.kaggle/kaggle.json"
      ],
      "execution_count": null,
      "outputs": []
    },
    {
      "cell_type": "code",
      "metadata": {
        "id": "d8TeCl49QsgO",
        "colab": {
          "base_uri": "https://localhost:8080/"
        },
        "outputId": "9f7ae1b6-6c2a-4c27-90be-b3fdfa45e6d6"
      },
      "source": [
        "!kaggle datasets download aashita/nyt-comments -f CommentsApril2017.csv -p /content/"
      ],
      "execution_count": null,
      "outputs": [
        {
          "output_type": "stream",
          "text": [
            "Downloading CommentsApril2017.csv.zip to /content\n",
            "100% 53.8M/53.8M [00:00<00:00, 71.0MB/s]\n",
            "\n"
          ],
          "name": "stdout"
        }
      ]
    },
    {
      "cell_type": "code",
      "metadata": {
        "id": "e7Otf0_5Qsjm"
      },
      "source": [
        "from zipfile import ZipFile\n",
        "with ZipFile(\"CommentsApril2017.csv.zip\", 'r') as zip:\n",
        "  zip.extractall()"
      ],
      "execution_count": null,
      "outputs": []
    },
    {
      "cell_type": "code",
      "metadata": {
        "id": "h_XOoaj0Qsmz"
      },
      "source": [
        "import pandas as pd\n",
        "from collections import Counter\n",
        "data = pd.read_csv(\"/content/CommentsApril2017.csv\")"
      ],
      "execution_count": null,
      "outputs": []
    },
    {
      "cell_type": "code",
      "metadata": {
        "id": "6wgjfHybQs43",
        "collapsed": true,
        "colab": {
          "base_uri": "https://localhost:8080/"
        },
        "outputId": "2c39b534-9cf8-4a65-de43-ed4831ca5047"
      },
      "source": [
        "!pip install pandasql\n",
        "from pandasql import sqldf\n",
        "q1 = \"\"\"\n",
        "         select sectionName, articleID, commentBody, editorsSelection, recommendations\n",
        "         from data\n",
        "         where (sectionName = 'Politics')\n",
        "\"\"\""
      ],
      "execution_count": null,
      "outputs": [
        {
          "output_type": "stream",
          "text": [
            "Collecting pandasql\n",
            "  Downloading https://files.pythonhosted.org/packages/6b/c4/ee4096ffa2eeeca0c749b26f0371bd26aa5c8b611c43de99a4f86d3de0a7/pandasql-0.7.3.tar.gz\n",
            "Requirement already satisfied: numpy in /usr/local/lib/python3.7/dist-packages (from pandasql) (1.19.5)\n",
            "Requirement already satisfied: pandas in /usr/local/lib/python3.7/dist-packages (from pandasql) (1.1.5)\n",
            "Requirement already satisfied: sqlalchemy in /usr/local/lib/python3.7/dist-packages (from pandasql) (1.4.15)\n",
            "Requirement already satisfied: python-dateutil>=2.7.3 in /usr/local/lib/python3.7/dist-packages (from pandas->pandasql) (2.8.1)\n",
            "Requirement already satisfied: pytz>=2017.2 in /usr/local/lib/python3.7/dist-packages (from pandas->pandasql) (2018.9)\n",
            "Requirement already satisfied: importlib-metadata; python_version < \"3.8\" in /usr/local/lib/python3.7/dist-packages (from sqlalchemy->pandasql) (4.0.1)\n",
            "Requirement already satisfied: greenlet!=0.4.17; python_version >= \"3\" in /usr/local/lib/python3.7/dist-packages (from sqlalchemy->pandasql) (1.1.0)\n",
            "Requirement already satisfied: six>=1.5 in /usr/local/lib/python3.7/dist-packages (from python-dateutil>=2.7.3->pandas->pandasql) (1.15.0)\n",
            "Requirement already satisfied: typing-extensions>=3.6.4; python_version < \"3.8\" in /usr/local/lib/python3.7/dist-packages (from importlib-metadata; python_version < \"3.8\"->sqlalchemy->pandasql) (3.7.4.3)\n",
            "Requirement already satisfied: zipp>=0.5 in /usr/local/lib/python3.7/dist-packages (from importlib-metadata; python_version < \"3.8\"->sqlalchemy->pandasql) (3.4.1)\n",
            "Building wheels for collected packages: pandasql\n",
            "  Building wheel for pandasql (setup.py) ... \u001b[?25l\u001b[?25hdone\n",
            "  Created wheel for pandasql: filename=pandasql-0.7.3-cp37-none-any.whl size=26820 sha256=c46e8e18296a7cde71a8323af8318e4c38ac2cdb5ef8b8094106955005283605\n",
            "  Stored in directory: /root/.cache/pip/wheels/53/6c/18/b87a2e5fa8a82e9c026311de56210b8d1c01846e18a9607fc9\n",
            "Successfully built pandasql\n",
            "Installing collected packages: pandasql\n",
            "Successfully installed pandasql-0.7.3\n"
          ],
          "name": "stdout"
        }
      ]
    },
    {
      "cell_type": "code",
      "metadata": {
        "id": "TTe0wSL9Qs_f"
      },
      "source": [
        "pysqldf = lambda q: sqldf(q, globals())\n",
        "clean = pysqldf(q1)"
      ],
      "execution_count": null,
      "outputs": []
    },
    {
      "cell_type": "code",
      "metadata": {
        "colab": {
          "base_uri": "https://localhost:8080/"
        },
        "id": "1g-bL7d8bAfI",
        "outputId": "daa7fbc7-3dd4-4bf2-ffd7-7bbf4cf6eeb1"
      },
      "source": [
        "clean.shape"
      ],
      "execution_count": null,
      "outputs": [
        {
          "output_type": "execute_result",
          "data": {
            "text/plain": [
              "(38381, 5)"
            ]
          },
          "metadata": {
            "tags": []
          },
          "execution_count": 11
        }
      ]
    },
    {
      "cell_type": "code",
      "metadata": {
        "colab": {
          "base_uri": "https://localhost:8080/"
        },
        "id": "6beBCWK_E_gv",
        "outputId": "2fbb9303-be7a-4026-c8f1-a8b97facaf74"
      },
      "source": [
        "len(Counter(clean[\"articleID\"]).keys())"
      ],
      "execution_count": null,
      "outputs": [
        {
          "output_type": "execute_result",
          "data": {
            "text/plain": [
              "51"
            ]
          },
          "metadata": {
            "tags": []
          },
          "execution_count": 12
        }
      ]
    },
    {
      "cell_type": "code",
      "metadata": {
        "colab": {
          "base_uri": "https://localhost:8080/"
        },
        "id": "lK_3KSxwE8Ra",
        "outputId": "e21ced3c-73be-4ee5-d06c-b16ba92b695a"
      },
      "source": [
        "Counter(clean[\"editorsSelection\"])"
      ],
      "execution_count": null,
      "outputs": [
        {
          "output_type": "execute_result",
          "data": {
            "text/plain": [
              "Counter({0: 37447, 1: 934})"
            ]
          },
          "metadata": {
            "tags": []
          },
          "execution_count": 246
        }
      ]
    },
    {
      "cell_type": "markdown",
      "metadata": {
        "id": "wfg3SrJAQ4y6"
      },
      "source": [
        "**Text Cleaning**"
      ]
    },
    {
      "cell_type": "code",
      "metadata": {
        "id": "SpIN5XeAvjns"
      },
      "source": [
        "!pip install nltk\n",
        "import nltk\n",
        "nltk.download(\"all\")\n",
        "from nltk import sent_tokenize\n",
        "sentences = [] # each comment as a doc\n",
        "for i in clean[\"commentBody\"]:\n",
        "    s=sent_tokenize(i)\n",
        "    sentences.append(s)\n",
        "sentences[0]"
      ],
      "execution_count": null,
      "outputs": []
    },
    {
      "cell_type": "code",
      "metadata": {
        "id": "c9Mp-4KDdBxZ"
      },
      "source": [
        "# tokenization\n",
        "from nltk.tokenize import word_tokenize\n",
        "token_list= []\n",
        "for i in sentences: # i is comment level\n",
        "    for j in i:\n",
        "      tokens = word_tokenize(j)\n",
        "      words = [word for word in tokens if word.isalpha()]\n",
        "      words = [word.lower() for word in words]\n",
        "      token_list.append(words)"
      ],
      "execution_count": null,
      "outputs": []
    },
    {
      "cell_type": "code",
      "metadata": {
        "id": "j_scoVG0vZmp"
      },
      "source": [
        "# lemmatization\n",
        "from nltk.stem import WordNetLemmatizer \n",
        "from nltk.corpus import wordnet \n",
        "lemmatizer = WordNetLemmatizer() \n",
        "def pos_tagger(nltk_tag): \n",
        "    if nltk_tag.startswith('J'): \n",
        "        return wordnet.ADJ \n",
        "    elif nltk_tag.startswith('V'): \n",
        "        return wordnet.VERB \n",
        "    elif nltk_tag.startswith('N'): \n",
        "        return wordnet.NOUN \n",
        "    elif nltk_tag.startswith('R'): \n",
        "        return wordnet.ADV \n",
        "    else:           \n",
        "        return None\n",
        "lemma_list = []\n",
        "for i in token_list:\n",
        "  pos_tagged = nltk.pos_tag(i)\n",
        "  wordnet_tagged = list(map(lambda x: (x[0], pos_tagger(x[1])), pos_tagged))\n",
        "  lemma = [] \n",
        "  for word, tag in wordnet_tagged:\n",
        "    if word == \"i\":\n",
        "      continue\n",
        "    if tag is None: \n",
        "      # if there is no available tag, append the token as is \n",
        "      lemma.append(word) \n",
        "    else:         \n",
        "      # else use the tag to lemmatize the token \n",
        "      lemma.append(lemmatizer.lemmatize(word, tag))\n",
        "  lemma_list.append(lemma)"
      ],
      "execution_count": null,
      "outputs": []
    },
    {
      "cell_type": "markdown",
      "metadata": {
        "id": "E4CpUT5WRA2r"
      },
      "source": [
        "**Aspect Extraction**"
      ]
    },
    {
      "cell_type": "code",
      "metadata": {
        "id": "PssSHZdly54I"
      },
      "source": [
        "bi = []\n",
        "for item in lemma_list:\n",
        "  grams = [item[i:i+2] for i in range(len(item)-2+1)]\n",
        "  bigrams = [' '.join(j) for j in grams]\n",
        "  bi.append(bigrams)"
      ],
      "execution_count": null,
      "outputs": []
    },
    {
      "cell_type": "code",
      "metadata": {
        "id": "UuY5eU_hGXgo"
      },
      "source": [
        "bi_v = [bigram for i in bi for bigram in i]\n",
        "uni_v = [unigram for i in lemma_list for unigram in i]"
      ],
      "execution_count": null,
      "outputs": []
    },
    {
      "cell_type": "code",
      "metadata": {
        "id": "NR0yxSGr35yN"
      },
      "source": [
        "counter_bi = Counter(bi_v)"
      ],
      "execution_count": null,
      "outputs": []
    },
    {
      "cell_type": "code",
      "metadata": {
        "id": "BB_HKzL9mdAn"
      },
      "source": [
        "from nltk.corpus import stopwords"
      ],
      "execution_count": null,
      "outputs": []
    },
    {
      "cell_type": "code",
      "metadata": {
        "id": "jO6NdDUrksD1"
      },
      "source": [
        "# filter before computing for less noise\n",
        "for i in list(counter_bi.keys()):\n",
        "  if i.split()[0] in stopwords.words('english'):\n",
        "    if i.split()[1] in stopwords.words('english'):\n",
        "      counter_bi.pop(i)"
      ],
      "execution_count": null,
      "outputs": []
    },
    {
      "cell_type": "code",
      "metadata": {
        "id": "vV9LMmlTn6ZQ"
      },
      "source": [
        "for i in list(counter_bi.keys()):\n",
        "  w,t = nltk.pos_tag(i.split())[0]\n",
        "  w1,t1 = nltk.pos_tag(i.split())[1]\n",
        "  if t[0] != \"N\":\n",
        "    if t1[0] != \"N\":\n",
        "      counter_bi.pop(i)"
      ],
      "execution_count": null,
      "outputs": []
    },
    {
      "cell_type": "code",
      "metadata": {
        "id": "l2Zd2RQbJqOg"
      },
      "source": [
        "import math\n",
        "def pmi_index(bigram):\n",
        "  a, b = bigram.split()\n",
        "  new = []\n",
        "  for i in bi_v:\n",
        "    if i != bigram:\n",
        "      for wor in i.split():\n",
        "        new.append(wor)\n",
        "    else:\n",
        "      new.append(i)\n",
        "  counter_new = Counter(new)\n",
        "  if counter_new[a] == 0 or counter_new[b] == 0:\n",
        "    pmi = \"dependent\"\n",
        "  else:\n",
        "    pmi = math.log(counter_new[bigram]/((counter_new[a]-counter_new[bigram])*(counter_new[b]-counter_new[bigram])/(len(new)-2*counter_new[bigram])))\n",
        "  return pmi"
      ],
      "execution_count": null,
      "outputs": []
    },
    {
      "cell_type": "code",
      "metadata": {
        "id": "m6g6jtXwTPkb"
      },
      "source": [
        "counter_b = counter_bi.most_common(100)"
      ],
      "execution_count": null,
      "outputs": []
    },
    {
      "cell_type": "code",
      "metadata": {
        "id": "2cqUrLjwrDQ6"
      },
      "source": [
        "bi_gram_list = [k for (k,v) in counter_b]"
      ],
      "execution_count": null,
      "outputs": []
    },
    {
      "cell_type": "code",
      "metadata": {
        "id": "WYQX5KAY5Hq7"
      },
      "source": [
        "frequency = [v for (k,v) in counter_b]"
      ],
      "execution_count": null,
      "outputs": []
    },
    {
      "cell_type": "code",
      "metadata": {
        "id": "gEEnW1HhW-81"
      },
      "source": [
        "pmi = [pmi_index(k) for (k,v) in counter_b]"
      ],
      "execution_count": null,
      "outputs": []
    },
    {
      "cell_type": "code",
      "metadata": {
        "id": "G8-eRq9_XRVP"
      },
      "source": [
        "fre_df = pd.DataFrame({\"bigram\":bi_gram_list, \"pmi\":pmi, \"frequency\": frequency})"
      ],
      "execution_count": null,
      "outputs": []
    },
    {
      "cell_type": "code",
      "metadata": {
        "id": "y6y1c3GycIpx",
        "colab": {
          "base_uri": "https://localhost:8080/",
          "height": 1000
        },
        "collapsed": true,
        "outputId": "886f059b-b319-463c-f69d-76d78d88669e"
      },
      "source": [
        "fre_most = fre_df.sort_values(by=\"pmi\", ascending=False).head(50)\n",
        "fre_most"
      ],
      "execution_count": null,
      "outputs": [
        {
          "output_type": "execute_result",
          "data": {
            "text/html": [
              "<div>\n",
              "<style scoped>\n",
              "    .dataframe tbody tr th:only-of-type {\n",
              "        vertical-align: middle;\n",
              "    }\n",
              "\n",
              "    .dataframe tbody tr th {\n",
              "        vertical-align: top;\n",
              "    }\n",
              "\n",
              "    .dataframe thead th {\n",
              "        text-align: right;\n",
              "    }\n",
              "</style>\n",
              "<table border=\"1\" class=\"dataframe\">\n",
              "  <thead>\n",
              "    <tr style=\"text-align: right;\">\n",
              "      <th></th>\n",
              "      <th>bigram</th>\n",
              "      <th>pmi</th>\n",
              "      <th>frequency</th>\n",
              "    </tr>\n",
              "  </thead>\n",
              "  <tbody>\n",
              "    <tr>\n",
              "      <th>28</th>\n",
              "      <td>http http</td>\n",
              "      <td>13.819215</td>\n",
              "      <td>825</td>\n",
              "    </tr>\n",
              "    <tr>\n",
              "      <th>9</th>\n",
              "      <td>supreme court</td>\n",
              "      <td>10.099670</td>\n",
              "      <td>1375</td>\n",
              "    </tr>\n",
              "    <tr>\n",
              "      <th>75</th>\n",
              "      <td>north korea</td>\n",
              "      <td>9.686748</td>\n",
              "      <td>495</td>\n",
              "    </tr>\n",
              "    <tr>\n",
              "      <th>3</th>\n",
              "      <td>white house</td>\n",
              "      <td>8.356377</td>\n",
              "      <td>1577</td>\n",
              "    </tr>\n",
              "    <tr>\n",
              "      <th>49</th>\n",
              "      <td>middle class</td>\n",
              "      <td>8.092947</td>\n",
              "      <td>655</td>\n",
              "    </tr>\n",
              "    <tr>\n",
              "      <th>45</th>\n",
              "      <td>united state</td>\n",
              "      <td>7.350041</td>\n",
              "      <td>666</td>\n",
              "    </tr>\n",
              "    <tr>\n",
              "      <th>21</th>\n",
              "      <td>health care</td>\n",
              "      <td>6.678027</td>\n",
              "      <td>1047</td>\n",
              "    </tr>\n",
              "    <tr>\n",
              "      <th>23</th>\n",
              "      <td>tax return</td>\n",
              "      <td>5.556808</td>\n",
              "      <td>974</td>\n",
              "    </tr>\n",
              "    <tr>\n",
              "      <th>71</th>\n",
              "      <td>tax reform</td>\n",
              "      <td>5.533427</td>\n",
              "      <td>509</td>\n",
              "    </tr>\n",
              "    <tr>\n",
              "      <th>25</th>\n",
              "      <td>donald trump</td>\n",
              "      <td>5.033974</td>\n",
              "      <td>905</td>\n",
              "    </tr>\n",
              "    <tr>\n",
              "      <th>10</th>\n",
              "      <td>tax cut</td>\n",
              "      <td>4.991307</td>\n",
              "      <td>1329</td>\n",
              "    </tr>\n",
              "    <tr>\n",
              "      <th>86</th>\n",
              "      <td>talk about</td>\n",
              "      <td>4.837573</td>\n",
              "      <td>465</td>\n",
              "    </tr>\n",
              "    <tr>\n",
              "      <th>63</th>\n",
              "      <td>kind of</td>\n",
              "      <td>4.722175</td>\n",
              "      <td>550</td>\n",
              "    </tr>\n",
              "    <tr>\n",
              "      <th>62</th>\n",
              "      <td>refuse to</td>\n",
              "      <td>4.649056</td>\n",
              "      <td>555</td>\n",
              "    </tr>\n",
              "    <tr>\n",
              "      <th>52</th>\n",
              "      <td>tax rate</td>\n",
              "      <td>4.636788</td>\n",
              "      <td>637</td>\n",
              "    </tr>\n",
              "    <tr>\n",
              "      <th>40</th>\n",
              "      <td>rest of</td>\n",
              "      <td>4.596510</td>\n",
              "      <td>718</td>\n",
              "    </tr>\n",
              "    <tr>\n",
              "      <th>29</th>\n",
              "      <td>of course</td>\n",
              "      <td>4.552049</td>\n",
              "      <td>823</td>\n",
              "    </tr>\n",
              "    <tr>\n",
              "      <th>34</th>\n",
              "      <td>a lot</td>\n",
              "      <td>4.489920</td>\n",
              "      <td>751</td>\n",
              "    </tr>\n",
              "    <tr>\n",
              "      <th>31</th>\n",
              "      <td>the rest</td>\n",
              "      <td>4.470677</td>\n",
              "      <td>788</td>\n",
              "    </tr>\n",
              "    <tr>\n",
              "      <th>66</th>\n",
              "      <td>look at</td>\n",
              "      <td>4.097826</td>\n",
              "      <td>537</td>\n",
              "    </tr>\n",
              "    <tr>\n",
              "      <th>7</th>\n",
              "      <td>try to</td>\n",
              "      <td>4.071379</td>\n",
              "      <td>1496</td>\n",
              "    </tr>\n",
              "    <tr>\n",
              "      <th>60</th>\n",
              "      <td>the constitution</td>\n",
              "      <td>4.028094</td>\n",
              "      <td>563</td>\n",
              "    </tr>\n",
              "    <tr>\n",
              "      <th>47</th>\n",
              "      <td>president obama</td>\n",
              "      <td>3.989535</td>\n",
              "      <td>660</td>\n",
              "    </tr>\n",
              "    <tr>\n",
              "      <th>99</th>\n",
              "      <td>income tax</td>\n",
              "      <td>3.894160</td>\n",
              "      <td>432</td>\n",
              "    </tr>\n",
              "    <tr>\n",
              "      <th>89</th>\n",
              "      <td>lack of</td>\n",
              "      <td>3.886395</td>\n",
              "      <td>456</td>\n",
              "    </tr>\n",
              "    <tr>\n",
              "      <th>97</th>\n",
              "      <td>this article</td>\n",
              "      <td>3.863254</td>\n",
              "      <td>433</td>\n",
              "    </tr>\n",
              "    <tr>\n",
              "      <th>95</th>\n",
              "      <td>base on</td>\n",
              "      <td>3.816218</td>\n",
              "      <td>440</td>\n",
              "    </tr>\n",
              "    <tr>\n",
              "      <th>50</th>\n",
              "      <td>lot of</td>\n",
              "      <td>3.805424</td>\n",
              "      <td>654</td>\n",
              "    </tr>\n",
              "    <tr>\n",
              "      <th>73</th>\n",
              "      <td>the aca</td>\n",
              "      <td>3.694634</td>\n",
              "      <td>505</td>\n",
              "    </tr>\n",
              "    <tr>\n",
              "      <th>48</th>\n",
              "      <td>part of</td>\n",
              "      <td>3.687389</td>\n",
              "      <td>657</td>\n",
              "    </tr>\n",
              "    <tr>\n",
              "      <th>59</th>\n",
              "      <td>our country</td>\n",
              "      <td>3.531444</td>\n",
              "      <td>565</td>\n",
              "    </tr>\n",
              "    <tr>\n",
              "      <th>93</th>\n",
              "      <td>care about</td>\n",
              "      <td>3.430793</td>\n",
              "      <td>442</td>\n",
              "    </tr>\n",
              "    <tr>\n",
              "      <th>33</th>\n",
              "      <td>continue to</td>\n",
              "      <td>3.367643</td>\n",
              "      <td>759</td>\n",
              "    </tr>\n",
              "    <tr>\n",
              "      <th>5</th>\n",
              "      <td>the gop</td>\n",
              "      <td>3.297129</td>\n",
              "      <td>1536</td>\n",
              "    </tr>\n",
              "    <tr>\n",
              "      <th>65</th>\n",
              "      <td>american people</td>\n",
              "      <td>3.273442</td>\n",
              "      <td>545</td>\n",
              "    </tr>\n",
              "    <tr>\n",
              "      <th>91</th>\n",
              "      <td>tax plan</td>\n",
              "      <td>3.223791</td>\n",
              "      <td>447</td>\n",
              "    </tr>\n",
              "    <tr>\n",
              "      <th>64</th>\n",
              "      <td>this administration</td>\n",
              "      <td>3.218042</td>\n",
              "      <td>548</td>\n",
              "    </tr>\n",
              "    <tr>\n",
              "      <th>35</th>\n",
              "      <td>the fbi</td>\n",
              "      <td>3.207361</td>\n",
              "      <td>751</td>\n",
              "    </tr>\n",
              "    <tr>\n",
              "      <th>11</th>\n",
              "      <td>vote for</td>\n",
              "      <td>3.157807</td>\n",
              "      <td>1290</td>\n",
              "    </tr>\n",
              "    <tr>\n",
              "      <th>16</th>\n",
              "      <td>the senate</td>\n",
              "      <td>3.032860</td>\n",
              "      <td>1228</td>\n",
              "    </tr>\n",
              "    <tr>\n",
              "      <th>2</th>\n",
              "      <td>want to</td>\n",
              "      <td>3.008999</td>\n",
              "      <td>2087</td>\n",
              "    </tr>\n",
              "    <tr>\n",
              "      <th>8</th>\n",
              "      <td>the world</td>\n",
              "      <td>2.983683</td>\n",
              "      <td>1456</td>\n",
              "    </tr>\n",
              "    <tr>\n",
              "      <th>20</th>\n",
              "      <td>seem to</td>\n",
              "      <td>2.932193</td>\n",
              "      <td>1052</td>\n",
              "    </tr>\n",
              "    <tr>\n",
              "      <th>85</th>\n",
              "      <td>trump administration</td>\n",
              "      <td>2.894964</td>\n",
              "      <td>466</td>\n",
              "    </tr>\n",
              "    <tr>\n",
              "      <th>54</th>\n",
              "      <td>no one</td>\n",
              "      <td>2.882089</td>\n",
              "      <td>618</td>\n",
              "    </tr>\n",
              "    <tr>\n",
              "      <th>1</th>\n",
              "      <td>need to</td>\n",
              "      <td>2.875574</td>\n",
              "      <td>2104</td>\n",
              "    </tr>\n",
              "    <tr>\n",
              "      <th>41</th>\n",
              "      <td>this country</td>\n",
              "      <td>2.811517</td>\n",
              "      <td>712</td>\n",
              "    </tr>\n",
              "    <tr>\n",
              "      <th>18</th>\n",
              "      <td>pay for</td>\n",
              "      <td>2.808501</td>\n",
              "      <td>1096</td>\n",
              "    </tr>\n",
              "    <tr>\n",
              "      <th>81</th>\n",
              "      <td>a http</td>\n",
              "      <td>2.734463</td>\n",
              "      <td>480</td>\n",
              "    </tr>\n",
              "    <tr>\n",
              "      <th>37</th>\n",
              "      <td>people who</td>\n",
              "      <td>2.721983</td>\n",
              "      <td>739</td>\n",
              "    </tr>\n",
              "  </tbody>\n",
              "</table>\n",
              "</div>"
            ],
            "text/plain": [
              "                  bigram        pmi  frequency\n",
              "28             http http  13.819215        825\n",
              "9          supreme court  10.099670       1375\n",
              "75           north korea   9.686748        495\n",
              "3            white house   8.356377       1577\n",
              "49          middle class   8.092947        655\n",
              "45          united state   7.350041        666\n",
              "21           health care   6.678027       1047\n",
              "23            tax return   5.556808        974\n",
              "71            tax reform   5.533427        509\n",
              "25          donald trump   5.033974        905\n",
              "10               tax cut   4.991307       1329\n",
              "86            talk about   4.837573        465\n",
              "63               kind of   4.722175        550\n",
              "62             refuse to   4.649056        555\n",
              "52              tax rate   4.636788        637\n",
              "40               rest of   4.596510        718\n",
              "29             of course   4.552049        823\n",
              "34                 a lot   4.489920        751\n",
              "31              the rest   4.470677        788\n",
              "66               look at   4.097826        537\n",
              "7                 try to   4.071379       1496\n",
              "60      the constitution   4.028094        563\n",
              "47       president obama   3.989535        660\n",
              "99            income tax   3.894160        432\n",
              "89               lack of   3.886395        456\n",
              "97          this article   3.863254        433\n",
              "95               base on   3.816218        440\n",
              "50                lot of   3.805424        654\n",
              "73               the aca   3.694634        505\n",
              "48               part of   3.687389        657\n",
              "59           our country   3.531444        565\n",
              "93            care about   3.430793        442\n",
              "33           continue to   3.367643        759\n",
              "5                the gop   3.297129       1536\n",
              "65       american people   3.273442        545\n",
              "91              tax plan   3.223791        447\n",
              "64   this administration   3.218042        548\n",
              "35               the fbi   3.207361        751\n",
              "11              vote for   3.157807       1290\n",
              "16            the senate   3.032860       1228\n",
              "2                want to   3.008999       2087\n",
              "8              the world   2.983683       1456\n",
              "20               seem to   2.932193       1052\n",
              "85  trump administration   2.894964        466\n",
              "54                no one   2.882089        618\n",
              "1                need to   2.875574       2104\n",
              "41          this country   2.811517        712\n",
              "18               pay for   2.808501       1096\n",
              "81                a http   2.734463        480\n",
              "37            people who   2.721983        739"
            ]
          },
          "metadata": {
            "tags": []
          },
          "execution_count": 28
        }
      ]
    },
    {
      "cell_type": "code",
      "metadata": {
        "id": "H0_CFy1ovN5S"
      },
      "source": [
        "select = fre_most.drop([28,86,63,62,40,29,34,31,66,7,89,95,50,59,48,93,33,64,11,2,20,54,1,41,33,18,81,37,85])\n",
        "select_bi = select[\"bigram\"] # 22 bigrams selected"
      ],
      "execution_count": null,
      "outputs": []
    },
    {
      "cell_type": "code",
      "metadata": {
        "colab": {
          "base_uri": "https://localhost:8080/"
        },
        "id": "aeK3zpqKWMb-",
        "outputId": "3e9e5ecb-b125-4993-a1b3-2c8efd82597a"
      },
      "source": [
        "len(select_bi)"
      ],
      "execution_count": null,
      "outputs": [
        {
          "output_type": "execute_result",
          "data": {
            "text/plain": [
              "22"
            ]
          },
          "metadata": {
            "tags": []
          },
          "execution_count": 30
        }
      ]
    },
    {
      "cell_type": "code",
      "metadata": {
        "id": "8qs0F1k6qimR"
      },
      "source": [
        "from collections import defaultdict  \n",
        "bi_dict = defaultdict(list)\n",
        "for bi in select_bi:\n",
        "  f,s = bi.split()\n",
        "  bi_dict[f].append(s)"
      ],
      "execution_count": null,
      "outputs": []
    },
    {
      "cell_type": "code",
      "metadata": {
        "id": "yr2X3xY0o4W8"
      },
      "source": [
        "sent_c = []\n",
        "for sent in lemma_list: \n",
        "  if len(sent) > 1:\n",
        "    sent_list = []\n",
        "    for i in range(len(sent)-1):\n",
        "      if sent[i] in list(bi_dict.keys()):\n",
        "        if sent[i+1] in bi_dict[sent[i]]:\n",
        "          bi = sent[i] + \" \" + sent[i+1]\n",
        "          sent_list.append(bi)\n",
        "        else:\n",
        "          if sent[i] not in stopwords.words('english'):\n",
        "            sent_list.append(sent[i])  \n",
        "      else:\n",
        "        if sent[i] not in stopwords.words('english'):\n",
        "          sent_list.append(sent[i]) \n",
        "    sent_c.append(sent_list)\n",
        "  elif len(sent) == 1:\n",
        "    if sent[0] not in stopwords.words('english'):\n",
        "      sent_c.append(sent)\n",
        "    else:\n",
        "      sent_c.append([])\n",
        "  else:\n",
        "    sent_c.append([])"
      ],
      "execution_count": null,
      "outputs": []
    },
    {
      "cell_type": "code",
      "metadata": {
        "id": "8Fa1iWxxBLKR"
      },
      "source": [
        "sent1 = [] # comment level\n",
        "for c in sentences:\n",
        "  ll = []\n",
        "  for s in c:\n",
        "    tokens = word_tokenize(s)\n",
        "    words = [word for word in tokens if word.isalpha()]\n",
        "    words = [word.lower() for word in words]\n",
        "    words = [word for word in words if word != 'i']\n",
        "    ll.append(words)\n",
        "  sent1.append(ll)"
      ],
      "execution_count": null,
      "outputs": []
    },
    {
      "cell_type": "code",
      "metadata": {
        "id": "qUIBCptqBLKZ"
      },
      "source": [
        "num_com = len(sentences)"
      ],
      "execution_count": null,
      "outputs": []
    },
    {
      "cell_type": "code",
      "metadata": {
        "id": "H4XPaETwBLKa"
      },
      "source": [
        "com_sent = [] # basic list is sentence\n",
        "count = 0\n",
        "for i in range(num_com):\n",
        "  end = count + len(sent1[i])\n",
        "  cc = sent_c[count:end]\n",
        "  com_sent.append(cc)\n",
        "  count = end"
      ],
      "execution_count": null,
      "outputs": []
    },
    {
      "cell_type": "code",
      "metadata": {
        "id": "G9Dal12I_Awx"
      },
      "source": [
        "comment = [] # basic list is comment\n",
        "for com in com_sent:\n",
        "  c = []\n",
        "  for sent in com:\n",
        "    for wor in sent:\n",
        "      c.append(wor)\n",
        "  comment.append(c)"
      ],
      "execution_count": null,
      "outputs": []
    },
    {
      "cell_type": "code",
      "metadata": {
        "id": "9K60QB34BLKb"
      },
      "source": [
        "noun = []\n",
        "for com in comment:\n",
        "  c = []\n",
        "  for wor in com:\n",
        "    if wor in select_bi:\n",
        "      c.append(wor)\n",
        "    else:\n",
        "      w, t = nltk.pos_tag([wor])[0]\n",
        "      if t[0] == \"N\":\n",
        "        c.append(wor)\n",
        "  noun.append(c)"
      ],
      "execution_count": null,
      "outputs": []
    },
    {
      "cell_type": "code",
      "metadata": {
        "id": "T7PUWW_9BLKf"
      },
      "source": [
        "words = [wor for c in noun for wor in c]"
      ],
      "execution_count": null,
      "outputs": []
    },
    {
      "cell_type": "code",
      "metadata": {
        "id": "GtFKdhqZBLKg"
      },
      "source": [
        "v_n = [n for n,c in Counter(words).most_common(500)]"
      ],
      "execution_count": null,
      "outputs": []
    },
    {
      "cell_type": "code",
      "metadata": {
        "id": "vLtHZekXBLKh"
      },
      "source": [
        "!pip install sklearn\n",
        "from sklearn.feature_extraction.text import TfidfVectorizer\n",
        "df = pd.DataFrame({\"text\":comment})\n",
        "df['text'] = df['text'].apply(lambda x: ' '.join([word for word in x]))\n",
        "vectorizer = TfidfVectorizer(vocabulary=v_n, ngram_range=(1,2))\n",
        "TF_IDF = vectorizer.fit_transform(df['text'].values)\n",
        "TF_IDF_array = TF_IDF.toarray()"
      ],
      "execution_count": null,
      "outputs": []
    },
    {
      "cell_type": "code",
      "metadata": {
        "id": "w02t5ORmBLKm"
      },
      "source": [
        "import numpy as np\n",
        "sum = np.sum(TF_IDF_array,axis=0).tolist()"
      ],
      "execution_count": null,
      "outputs": []
    },
    {
      "cell_type": "code",
      "metadata": {
        "colab": {
          "base_uri": "https://localhost:8080/",
          "height": 671
        },
        "id": "8f8FgNt5BLKn",
        "outputId": "a7818e58-d9d2-4aa3-a65f-f166b7b21611"
      },
      "source": [
        "rank = pd.DataFrame({\"feature\":vectorizer.get_feature_names(),\"index\": sum}).sort_values(\"index\", ascending=False)\n",
        "rank.head(20)"
      ],
      "execution_count": null,
      "outputs": [
        {
          "output_type": "execute_result",
          "data": {
            "text/html": [
              "<div>\n",
              "<style scoped>\n",
              "    .dataframe tbody tr th:only-of-type {\n",
              "        vertical-align: middle;\n",
              "    }\n",
              "\n",
              "    .dataframe tbody tr th {\n",
              "        vertical-align: top;\n",
              "    }\n",
              "\n",
              "    .dataframe thead th {\n",
              "        text-align: right;\n",
              "    }\n",
              "</style>\n",
              "<table border=\"1\" class=\"dataframe\">\n",
              "  <thead>\n",
              "    <tr style=\"text-align: right;\">\n",
              "      <th></th>\n",
              "      <th>feature</th>\n",
              "      <th>index</th>\n",
              "    </tr>\n",
              "  </thead>\n",
              "  <tbody>\n",
              "    <tr>\n",
              "      <th>0</th>\n",
              "      <td>trump</td>\n",
              "      <td>2434.014595</td>\n",
              "    </tr>\n",
              "    <tr>\n",
              "      <th>2</th>\n",
              "      <td>tax</td>\n",
              "      <td>1309.863682</td>\n",
              "    </tr>\n",
              "    <tr>\n",
              "      <th>1</th>\n",
              "      <td>people</td>\n",
              "      <td>1053.633991</td>\n",
              "    </tr>\n",
              "    <tr>\n",
              "      <th>3</th>\n",
              "      <td>president</td>\n",
              "      <td>890.851764</td>\n",
              "    </tr>\n",
              "    <tr>\n",
              "      <th>4</th>\n",
              "      <td>think</td>\n",
              "      <td>865.854719</td>\n",
              "    </tr>\n",
              "    <tr>\n",
              "      <th>11</th>\n",
              "      <td>obama</td>\n",
              "      <td>742.783272</td>\n",
              "    </tr>\n",
              "    <tr>\n",
              "      <th>5</th>\n",
              "      <td>time</td>\n",
              "      <td>732.073513</td>\n",
              "    </tr>\n",
              "    <tr>\n",
              "      <th>7</th>\n",
              "      <td>need</td>\n",
              "      <td>727.464272</td>\n",
              "    </tr>\n",
              "    <tr>\n",
              "      <th>28</th>\n",
              "      <td>house</td>\n",
              "      <td>710.082666</td>\n",
              "    </tr>\n",
              "    <tr>\n",
              "      <th>9</th>\n",
              "      <td>democrat</td>\n",
              "      <td>685.242863</td>\n",
              "    </tr>\n",
              "    <tr>\n",
              "      <th>10</th>\n",
              "      <td>vote</td>\n",
              "      <td>685.183585</td>\n",
              "    </tr>\n",
              "    <tr>\n",
              "      <th>6</th>\n",
              "      <td>pay</td>\n",
              "      <td>666.965009</td>\n",
              "    </tr>\n",
              "    <tr>\n",
              "      <th>8</th>\n",
              "      <td>want</td>\n",
              "      <td>660.425456</td>\n",
              "    </tr>\n",
              "    <tr>\n",
              "      <th>32</th>\n",
              "      <td>gop</td>\n",
              "      <td>645.895863</td>\n",
              "    </tr>\n",
              "    <tr>\n",
              "      <th>15</th>\n",
              "      <td>state</td>\n",
              "      <td>624.653881</td>\n",
              "    </tr>\n",
              "    <tr>\n",
              "      <th>21</th>\n",
              "      <td>care</td>\n",
              "      <td>604.435987</td>\n",
              "    </tr>\n",
              "    <tr>\n",
              "      <th>36</th>\n",
              "      <td>court</td>\n",
              "      <td>596.726850</td>\n",
              "    </tr>\n",
              "    <tr>\n",
              "      <th>37</th>\n",
              "      <td>world</td>\n",
              "      <td>592.602753</td>\n",
              "    </tr>\n",
              "    <tr>\n",
              "      <th>12</th>\n",
              "      <td>country</td>\n",
              "      <td>586.943415</td>\n",
              "    </tr>\n",
              "    <tr>\n",
              "      <th>16</th>\n",
              "      <td>right</td>\n",
              "      <td>586.684927</td>\n",
              "    </tr>\n",
              "  </tbody>\n",
              "</table>\n",
              "</div>"
            ],
            "text/plain": [
              "      feature        index\n",
              "0       trump  2434.014595\n",
              "2         tax  1309.863682\n",
              "1      people  1053.633991\n",
              "3   president   890.851764\n",
              "4       think   865.854719\n",
              "11      obama   742.783272\n",
              "5        time   732.073513\n",
              "7        need   727.464272\n",
              "28      house   710.082666\n",
              "9    democrat   685.242863\n",
              "10       vote   685.183585\n",
              "6         pay   666.965009\n",
              "8        want   660.425456\n",
              "32        gop   645.895863\n",
              "15      state   624.653881\n",
              "21       care   604.435987\n",
              "36      court   596.726850\n",
              "37      world   592.602753\n",
              "12    country   586.943415\n",
              "16      right   586.684927"
            ]
          },
          "metadata": {
            "tags": []
          },
          "execution_count": 42
        }
      ]
    },
    {
      "cell_type": "code",
      "metadata": {
        "id": "OKexH9TmBLKo"
      },
      "source": [
        "aspects = rank.head(20)[\"feature\"]"
      ],
      "execution_count": null,
      "outputs": []
    },
    {
      "cell_type": "code",
      "metadata": {
        "id": "2q5Gt6vBJnaG"
      },
      "source": [
        "aspects"
      ],
      "execution_count": null,
      "outputs": []
    },
    {
      "cell_type": "markdown",
      "metadata": {
        "id": "zO8g_w3DtuwH"
      },
      "source": [
        "**Aspect Categorization**"
      ]
    },
    {
      "cell_type": "code",
      "metadata": {
        "id": "ubv6rb5IlxvZ"
      },
      "source": [
        "!pip install gensim\n",
        "import gensim"
      ],
      "execution_count": null,
      "outputs": []
    },
    {
      "cell_type": "code",
      "metadata": {
        "id": "eFX2i410dB5x"
      },
      "source": [
        "from gensim.models import Word2Vec"
      ],
      "execution_count": null,
      "outputs": []
    },
    {
      "cell_type": "code",
      "metadata": {
        "id": "zIFGMLbCdCAR"
      },
      "source": [
        "www = [word for item in sent_c for word in item]"
      ],
      "execution_count": null,
      "outputs": []
    },
    {
      "cell_type": "code",
      "metadata": {
        "colab": {
          "base_uri": "https://localhost:8080/"
        },
        "id": "GYhdfLvoz6qx",
        "outputId": "c9ea12e3-69ed-4d58-dad8-06caa4996b13"
      },
      "source": [
        "len(Counter(www).keys())"
      ],
      "execution_count": null,
      "outputs": [
        {
          "output_type": "execute_result",
          "data": {
            "text/plain": [
              "28101"
            ]
          },
          "metadata": {
            "tags": []
          },
          "execution_count": 48
        }
      ]
    },
    {
      "cell_type": "code",
      "metadata": {
        "id": "3Ff4CI5P4GFU"
      },
      "source": [
        "def skip(sent, n=3, s=2):\n",
        "  k_grams = []\n",
        "  for i in range(len(sent)):\n",
        "    for z in range(s):\n",
        "      seq = [sent[i]] + sent[i+z+1:i+z+n]\n",
        "      if len(seq) == n and seq not in k_grams:\n",
        "        k_grams.append(list(seq))\n",
        "  return k_grams  "
      ],
      "execution_count": null,
      "outputs": []
    },
    {
      "cell_type": "code",
      "metadata": {
        "id": "yDpjtQgA52Ff"
      },
      "source": [
        "sent_c1 = [sent for sent in sent_c if sent != []]"
      ],
      "execution_count": null,
      "outputs": []
    },
    {
      "cell_type": "code",
      "metadata": {
        "id": "btn1-q2Yz6wP"
      },
      "source": [
        "sequences = []\n",
        "for i in sent_c1:\n",
        "  l = skip(i)\n",
        "  sequences.append(l)"
      ],
      "execution_count": null,
      "outputs": []
    },
    {
      "cell_type": "code",
      "metadata": {
        "id": "yFZmZJC25Z23"
      },
      "source": [
        "sequences = [sent for sent in sequences if sent != []]\n",
        "seq = [s for sent in sequences for s in sent]"
      ],
      "execution_count": null,
      "outputs": []
    },
    {
      "cell_type": "code",
      "metadata": {
        "colab": {
          "base_uri": "https://localhost:8080/"
        },
        "id": "Hl82yRzg6Azx",
        "outputId": "823993c7-afd3-4c64-b8a5-24d4dd208d85"
      },
      "source": [
        "seq[:10]"
      ],
      "execution_count": null,
      "outputs": [
        {
          "output_type": "execute_result",
          "data": {
            "text/plain": [
              "[['chuck', 'schumer', 'really'],\n",
              " ['chuck', 'really', 'ca'],\n",
              " ['schumer', 'really', 'ca'],\n",
              " ['schumer', 'ca', 'gorsuch'],\n",
              " ['really', 'ca', 'gorsuch'],\n",
              " ['really', 'gorsuch', 'declare'],\n",
              " ['ca', 'gorsuch', 'declare'],\n",
              " ['ca', 'declare', 'gorsuch'],\n",
              " ['gorsuch', 'declare', 'gorsuch'],\n",
              " ['gorsuch', 'gorsuch', 'unacceptable']]"
            ]
          },
          "metadata": {
            "tags": []
          },
          "execution_count": 63
        }
      ]
    },
    {
      "cell_type": "code",
      "metadata": {
        "id": "spi8aEbQ-1y1"
      },
      "source": [
        "model = Word2Vec(seq, min_count=50)"
      ],
      "execution_count": null,
      "outputs": []
    },
    {
      "cell_type": "code",
      "metadata": {
        "colab": {
          "base_uri": "https://localhost:8080/"
        },
        "id": "ddcv_yd7z66l",
        "outputId": "1b253ce3-d592-4796-8c9e-589753335b9c"
      },
      "source": [
        "word = 'trump'\n",
        "model.wv.most_similar(positive=word)"
      ],
      "execution_count": null,
      "outputs": [
        {
          "output_type": "execute_result",
          "data": {
            "text/plain": [
              "[('djt', 0.5946908593177795),\n",
              " ('donald', 0.5720802545547485),\n",
              " ('donnie', 0.5330347418785095),\n",
              " ('trumps', 0.5084653496742249),\n",
              " ('dt', 0.5024241805076599),\n",
              " ('imbecile', 0.49956732988357544),\n",
              " ('instrumental', 0.48739171028137207),\n",
              " ('apologist', 0.47875234484672546),\n",
              " ('personally', 0.4770694673061371),\n",
              " ('sycophant', 0.4770386517047882)]"
            ]
          },
          "metadata": {
            "tags": []
          },
          "execution_count": 207
        }
      ]
    },
    {
      "cell_type": "code",
      "metadata": {
        "id": "JKa3F2T9wmMk"
      },
      "source": [
        "aspect_c = defaultdict(list)\n",
        "for i in aspects:\n",
        "  similar = model.wv.most_similar(positive=i)\n",
        "  for w, s in similar:\n",
        "    aspect_c[i].append(w)"
      ],
      "execution_count": null,
      "outputs": []
    },
    {
      "cell_type": "code",
      "metadata": {
        "id": "mph58BjW_MAQ"
      },
      "source": [
        "aspect_c.keys()"
      ],
      "execution_count": null,
      "outputs": []
    },
    {
      "cell_type": "code",
      "metadata": {
        "id": "YvBxJ11FJSTm"
      },
      "source": [
        "d = ['think', 'time', 'need', 'want', \"pay\", \"right\"]\n",
        "for i in d:\n",
        "  aspect_c.pop(i)\n",
        "category = dict(aspect_c)"
      ],
      "execution_count": null,
      "outputs": []
    },
    {
      "cell_type": "code",
      "metadata": {
        "id": "oeg6Pj2kJSTo"
      },
      "source": [
        "for (a, s) in category.items():\n",
        "  for wor in s:\n",
        "    w,t = nltk.pos_tag([wor])[0]\n",
        "    if t[0] != 'N':\n",
        "      category[a].remove(wor)"
      ],
      "execution_count": null,
      "outputs": []
    },
    {
      "cell_type": "code",
      "metadata": {
        "id": "tHUlpaYsMvXs"
      },
      "source": [
        "category"
      ],
      "execution_count": null,
      "outputs": []
    },
    {
      "cell_type": "code",
      "metadata": {
        "id": "8SGN7x8TPvJy"
      },
      "source": [
        "category ={'care': ['healthcare', 'health care', 'health'],\n",
        " 'country': ['nation', 'usa', 'america', 'planet', 'citizenry','united state'],\n",
        " 'court': ['scotus', 'supreme court', 'supreme', 'bench', 'sc', 'illegitimate','overturn','scalia'],\n",
        " 'democrat': ['dems', 'democrats', 'dem', 'legislator', 'runoff'],\n",
        " 'gop': ['the gop', 'republicans', 'rep', 'caucus', 'faction','reckon', 'spine'],\n",
        " 'house': ['occupant', 'visitor', 'wh', 'whitewater', 'white house', 'chairman','invitation', 'jason'],\n",
        " 'obama': ['gall', 'obamas', 'president obama', 'predecessor', 'bush', 'stonewalling', 'successor'],\n",
        " 'people': ['folk', 'citizen', 'constituent', 'illegals', 'americans', 'person', 'woman', 'benefactor'],\n",
        " 'president': ['potus', 'duly', 'pres', 'jimmy', 'presidency', 'sociopath', 'occupant', 'businessman'],\n",
        " 'state': ['governor', 'assistant', 'county', 'resident', 'district', 'georgia', 'alabama', 'indiana', 'catholic'],\n",
        " 'tax': ['amt', 'monies', 'income tax', 'earnings', 'tax rate', 'adjust', 'loophole'],\n",
        " 'trump': ['djt', 'donald', 'donnie', 'trumps', 'dt', 'imbecile', 'apologist', 'sycophant'],\n",
        " 'vote': ['runoff', 'stein', 'voting', 'ballot','disenfranchise', 'reelect','slim','turnout','repub'],\n",
        " 'world': ['region', 'the world', 'eu', 'sordid', 'th', 'isolate', 'beacon']\n",
        " }"
      ],
      "execution_count": null,
      "outputs": []
    },
    {
      "cell_type": "code",
      "metadata": {
        "id": "qbT6NasyQM47"
      },
      "source": [
        "for k in category.keys():\n",
        "  category[k].append(k)"
      ],
      "execution_count": null,
      "outputs": []
    },
    {
      "cell_type": "code",
      "metadata": {
        "id": "4dGyG6jyZAOr"
      },
      "source": [
        "c_v = [wor for k,v in category.items() for wor in v]"
      ],
      "execution_count": null,
      "outputs": []
    },
    {
      "cell_type": "code",
      "metadata": {
        "id": "AxVXRiK6VivS"
      },
      "source": [
        "cc = []\n",
        "for com in com_sent:\n",
        "  ccc = []\n",
        "  for sent in com:\n",
        "    ss = []\n",
        "    for wor in sent:\n",
        "      if wor not in c_v:\n",
        "        ss.append(wor)\n",
        "      else:\n",
        "        for k in category.keys():\n",
        "          if wor in category[k]:\n",
        "            ss.append(k)\n",
        "    ccc.append(ss)\n",
        "  cc.append(ccc)"
      ],
      "execution_count": null,
      "outputs": []
    },
    {
      "cell_type": "code",
      "metadata": {
        "id": "iT-TZbmKeFXl"
      },
      "source": [
        "opinion_d = []\n",
        "for com in cc:\n",
        "  com_d = defaultdict(list)\n",
        "  for s in com:\n",
        "    for k in category.keys():\n",
        "      if any(w in s for w in category[k]) is True:\n",
        "        com_d[k].append(s)\n",
        "  opinion_d.append(dict(com_d))"
      ],
      "execution_count": null,
      "outputs": []
    },
    {
      "cell_type": "code",
      "metadata": {
        "id": "aQbLKyEKhDh-"
      },
      "source": [
        "opinion = pd.DataFrame({\"opinion sentences\": opinion_d, \"recommendation\": clean[\"recommendations\"], \"editor selection\": clean[\"editorsSelection\"]})"
      ],
      "execution_count": null,
      "outputs": []
    },
    {
      "cell_type": "code",
      "metadata": {
        "id": "0I0Nr5falTH5"
      },
      "source": [
        "opinion.drop(opinion[opinion['opinion sentences'] == {}].index, inplace = True)"
      ],
      "execution_count": null,
      "outputs": []
    },
    {
      "cell_type": "markdown",
      "metadata": {
        "id": "sLpioqZOEDg4"
      },
      "source": [
        "**Sentiment Orientation**"
      ]
    },
    {
      "cell_type": "code",
      "metadata": {
        "id": "DvOaYhRG5Z4o"
      },
      "source": [
        "def split_sentence(o_p, k):\n",
        "  if k in o_p.keys():\n",
        "    list_s = o_p[k]\n",
        "  else:\n",
        "    list_s = []\n",
        "  return list_s"
      ],
      "execution_count": null,
      "outputs": []
    },
    {
      "cell_type": "code",
      "metadata": {
        "id": "cLXVUDSK66HO"
      },
      "source": [
        "for k in category.keys():\n",
        "  m = []\n",
        "  for i in opinion['opinion sentences']:\n",
        "    x = split_sentence(i, k)\n",
        "    m.append(x)\n",
        "  opinion[k] = m"
      ],
      "execution_count": null,
      "outputs": []
    },
    {
      "cell_type": "code",
      "metadata": {
        "id": "HLs_p7ouDtGS"
      },
      "source": [
        "# care\n",
        "care = pd.DataFrame({\"care\": opinion['care']})\n",
        "care = care[care['care'].apply(lambda x: len(x)) > 0]\n",
        "care_index = list(care.index)"
      ],
      "execution_count": null,
      "outputs": []
    },
    {
      "cell_type": "code",
      "metadata": {
        "id": "HJFBXqwHAJru"
      },
      "source": [
        "def word_list(l):\n",
        "  ll = []\n",
        "  for i in list(l):\n",
        "    w = []\n",
        "    for s in i:\n",
        "      for word in s:\n",
        "        w.append(word)\n",
        "    ll.append(w)\n",
        "  return ll"
      ],
      "execution_count": null,
      "outputs": []
    },
    {
      "cell_type": "code",
      "metadata": {
        "id": "NSIJJb5ddc0a"
      },
      "source": [
        "def get_v(list_p):\n",
        "  v = [w for s in list_p for w in s]\n",
        "  feature = [k for k, v in Counter(v).most_common() if v > 5]\n",
        "  return feature"
      ],
      "execution_count": null,
      "outputs": []
    },
    {
      "cell_type": "code",
      "metadata": {
        "id": "dVWzoMQX3mXX"
      },
      "source": [
        "care_list = word_list(care[\"care\"])\n",
        "feature1 = get_v(care_list)\n",
        "care_list = pd.DataFrame({\"care\":care_list})\n",
        "care_list['care'] = care_list['care'].apply(lambda x: ' '.join([word for word in x]))"
      ],
      "execution_count": null,
      "outputs": []
    },
    {
      "cell_type": "code",
      "metadata": {
        "id": "zJsEw-y0cSNQ"
      },
      "source": [
        "vectorizer = TfidfVectorizer(vocabulary=feature1, ngram_range=(1,2))\n",
        "TF_IDF1 = vectorizer.fit_transform(care_list['care'].values)\n",
        "TF_IDF_array1 = TF_IDF1.toarray()"
      ],
      "execution_count": null,
      "outputs": []
    },
    {
      "cell_type": "code",
      "metadata": {
        "id": "sgSYkmN03Ts1"
      },
      "source": [
        "from sklearn.cluster import KMeans\n",
        "kmeans1 = KMeans(n_clusters=2, random_state=0).fit(TF_IDF1)"
      ],
      "execution_count": null,
      "outputs": []
    },
    {
      "cell_type": "code",
      "metadata": {
        "id": "_kqrWFf1fPIE"
      },
      "source": [
        "from sklearn.metrics import pairwise_distances_argmin_min\n",
        "closest1, _ = pairwise_distances_argmin_min(kmeans1.cluster_centers_, TF_IDF1)"
      ],
      "execution_count": null,
      "outputs": []
    },
    {
      "cell_type": "code",
      "metadata": {
        "colab": {
          "base_uri": "https://localhost:8080/"
        },
        "id": "9SdLrnzb42yO",
        "outputId": "d0ae9b1b-facd-48e5-f5fd-9d58bc77d825"
      },
      "source": [
        "sentences[care_index[closest1[0]]]  # negative"
      ],
      "execution_count": null,
      "outputs": [
        {
          "output_type": "execute_result",
          "data": {
            "text/plain": [
              "['Whatever tax model we end with you can be sure the wealthy will be paying less.',\n",
              " 'This will be a tax cut for the rich disguised as tax reform, just as repeal and replace was a tax cut for the rich disguised as health reform.']"
            ]
          },
          "metadata": {
            "tags": []
          },
          "execution_count": 69
        }
      ]
    },
    {
      "cell_type": "code",
      "metadata": {
        "colab": {
          "base_uri": "https://localhost:8080/"
        },
        "id": "0nqdUdjx6bA-",
        "outputId": "69148d3d-b0f1-4dcb-81c4-b231a00f380e"
      },
      "source": [
        "sentences[care_index[closest1[1]]]  # positive"
      ],
      "execution_count": null,
      "outputs": [
        {
          "output_type": "execute_result",
          "data": {
            "text/plain": [
              "['~<br/>At this point, there seem to be better places to raise children:<br/>1.',\n",
              " \"Nat'l health care<br/>2.\",\n",
              " 'Respect Constitution<br/>2a.',\n",
              " 'Not steal Supreme Court seats<br/>2b.',\n",
              " \"Not change Senate rules to get political party's way<br/>3.\",\n",
              " 'Properly fund education<br/>Those places exist!<br/>The U.S. seems incapable of joining the 21st century.']"
            ]
          },
          "metadata": {
            "tags": []
          },
          "execution_count": 70
        }
      ]
    },
    {
      "cell_type": "code",
      "metadata": {
        "id": "HHl0HjE97_n6"
      },
      "source": [
        "label1 = kmeans1.labels_"
      ],
      "execution_count": null,
      "outputs": []
    },
    {
      "cell_type": "code",
      "metadata": {
        "collapsed": true,
        "id": "WjLx1c-ECMs0",
        "colab": {
          "base_uri": "https://localhost:8080/"
        },
        "outputId": "998c45c5-32cd-4986-b088-6dfbbbe70c53"
      },
      "source": [
        "opinion[\"senti1\"] = np.zeros(len(opinion))\n",
        "for i in range(len(label1)):\n",
        "  if label1[i] == 0:\n",
        "    opinion[\"senti1\"][care_index[i]] = -1\n",
        "  if label1[i] == 1:\n",
        "    opinion[\"senti1\"][care_index[i]] = 1"
      ],
      "execution_count": null,
      "outputs": [
        {
          "output_type": "stream",
          "text": [
            "/usr/local/lib/python3.7/dist-packages/ipykernel_launcher.py:6: SettingWithCopyWarning: \n",
            "A value is trying to be set on a copy of a slice from a DataFrame\n",
            "\n",
            "See the caveats in the documentation: https://pandas.pydata.org/pandas-docs/stable/user_guide/indexing.html#returning-a-view-versus-a-copy\n",
            "  \n",
            "/usr/local/lib/python3.7/dist-packages/ipykernel_launcher.py:4: SettingWithCopyWarning: \n",
            "A value is trying to be set on a copy of a slice from a DataFrame\n",
            "\n",
            "See the caveats in the documentation: https://pandas.pydata.org/pandas-docs/stable/user_guide/indexing.html#returning-a-view-versus-a-copy\n",
            "  after removing the cwd from sys.path.\n"
          ],
          "name": "stderr"
        }
      ]
    },
    {
      "cell_type": "code",
      "metadata": {
        "id": "-4d7yz9681xH"
      },
      "source": [
        "# country\n",
        "country = pd.DataFrame({\"country\": opinion['country']})\n",
        "country = country[country['country'].apply(lambda x: len(x)) > 0]\n",
        "country_index = list(country.index)"
      ],
      "execution_count": null,
      "outputs": []
    },
    {
      "cell_type": "code",
      "metadata": {
        "id": "sp4U9JgO-Cul"
      },
      "source": [
        "country_list = word_list(country[\"country\"])\n",
        "feature2 = get_v(country_list)\n",
        "country_list = pd.DataFrame({\"country\":country_list})\n",
        "country_list['country'] = country_list['country'].apply(lambda x: ' '.join([word for word in x]))"
      ],
      "execution_count": null,
      "outputs": []
    },
    {
      "cell_type": "code",
      "metadata": {
        "id": "BJKVUP50_Qsi"
      },
      "source": [
        "vectorizer2 = TfidfVectorizer(vocabulary=feature2, ngram_range=(1,2))\n",
        "TF_IDF2 = vectorizer2.fit_transform(country_list['country'].values)\n",
        "kmeans2 = KMeans(n_clusters=2, random_state=0).fit(TF_IDF2)\n",
        "closest2, _ = pairwise_distances_argmin_min(kmeans2.cluster_centers_, TF_IDF2)"
      ],
      "execution_count": null,
      "outputs": []
    },
    {
      "cell_type": "code",
      "metadata": {
        "colab": {
          "base_uri": "https://localhost:8080/"
        },
        "id": "gcZZhFPi_39a",
        "outputId": "28ab0b0c-cf75-4870-bcb7-78466e079f34"
      },
      "source": [
        "sentences[country_index[closest2[0]]] # negative"
      ],
      "execution_count": null,
      "outputs": [
        {
          "output_type": "execute_result",
          "data": {
            "text/plain": [
              "[\"We the people need to have a say in the self-imposed 'rules' that are on display in the house and senate.\",\n",
              " 'They are doing the country a disservice-']"
            ]
          },
          "metadata": {
            "tags": []
          },
          "execution_count": 76
        }
      ]
    },
    {
      "cell_type": "code",
      "metadata": {
        "colab": {
          "base_uri": "https://localhost:8080/"
        },
        "id": "gewfuq9j_6Ur",
        "outputId": "a9c282b3-a311-4962-ee12-ee86ea9de7fd"
      },
      "source": [
        "sentences[country_index[closest2[1]]] # positive"
      ],
      "execution_count": null,
      "outputs": [
        {
          "output_type": "execute_result",
          "data": {
            "text/plain": [
              "['And that is why every country in the world has a parliamentary system.']"
            ]
          },
          "metadata": {
            "tags": []
          },
          "execution_count": 77
        }
      ]
    },
    {
      "cell_type": "code",
      "metadata": {
        "id": "7AY40eJ3BzNq"
      },
      "source": [
        "label2 = kmeans2.labels_\n",
        "opinion[\"senti2\"] = np.zeros(len(opinion))\n",
        "for i in range(len(label2)):\n",
        "  if label2[i] == 0:\n",
        "    opinion[\"senti2\"][country_index[i]] = -1\n",
        "  if label2[i] == 1:\n",
        "    opinion[\"senti2\"][country_index[i]] = 1"
      ],
      "execution_count": null,
      "outputs": []
    },
    {
      "cell_type": "code",
      "metadata": {
        "id": "cj8zOF9dRrSB"
      },
      "source": [
        "# court\n",
        "court = pd.DataFrame({\"court\": opinion['court']})\n",
        "court = court[court['court'].apply(lambda x: len(x)) > 0]\n",
        "court_index = list(court.index)"
      ],
      "execution_count": null,
      "outputs": []
    },
    {
      "cell_type": "code",
      "metadata": {
        "id": "C-6h2DgtRrx4"
      },
      "source": [
        "court_list = word_list(court[\"court\"])\n",
        "feature3 = get_v(court_list)\n",
        "court_list = pd.DataFrame({\"court\":court_list})\n",
        "court_list['court'] = court_list['court'].apply(lambda x: ' '.join([word for word in x]))"
      ],
      "execution_count": null,
      "outputs": []
    },
    {
      "cell_type": "code",
      "metadata": {
        "id": "6HrQEPt8Rr65"
      },
      "source": [
        "vectorizer3 = TfidfVectorizer(vocabulary=feature3, ngram_range=(1,2))\n",
        "TF_IDF3 = vectorizer3.fit_transform(court_list['court'].values)\n",
        "kmeans3 = KMeans(n_clusters=2, random_state=0).fit(TF_IDF3)\n",
        "closest3, _ = pairwise_distances_argmin_min(kmeans3.cluster_centers_, TF_IDF3)"
      ],
      "execution_count": null,
      "outputs": []
    },
    {
      "cell_type": "code",
      "metadata": {
        "colab": {
          "base_uri": "https://localhost:8080/"
        },
        "id": "_J-qXus2RsBP",
        "outputId": "5dc9da2b-773c-4527-f787-04e42ff5f202"
      },
      "source": [
        "sentences[court_index[closest3[0]]] # negative"
      ],
      "execution_count": null,
      "outputs": [
        {
          "output_type": "execute_result",
          "data": {
            "text/plain": [
              "[\"How quickly you've forgotten:  Under current law, corporations are people so they can't be exempt from tax liability on the basis of their status as non-humans.\",\n",
              " 'Our SCOTUS, in its infinite wisdom, has decreed that they are \"persons\".']"
            ]
          },
          "metadata": {
            "tags": []
          },
          "execution_count": 82
        }
      ]
    },
    {
      "cell_type": "code",
      "metadata": {
        "colab": {
          "base_uri": "https://localhost:8080/"
        },
        "id": "qnHPo32oTXSb",
        "outputId": "6ef02161-8524-4886-fcbe-c5c02fc92b4d"
      },
      "source": [
        "sentences[court_index[closest3[1]]] # positive"
      ],
      "execution_count": null,
      "outputs": [
        {
          "output_type": "execute_result",
          "data": {
            "text/plain": [
              "['The Senate GOP should be condemned for hijacking Senate rules to confirm this SCOTUS nominee after stealing the seat from POTUS44.']"
            ]
          },
          "metadata": {
            "tags": []
          },
          "execution_count": 83
        }
      ]
    },
    {
      "cell_type": "code",
      "metadata": {
        "id": "v54IVeWATuKy",
        "colab": {
          "base_uri": "https://localhost:8080/"
        },
        "outputId": "caf8f734-5445-4a10-ad96-0b6a690415f8"
      },
      "source": [
        "label3 = kmeans3.labels_\n",
        "opinion[\"senti3\"] = np.zeros(len(opinion))\n",
        "for i in range(len(label3)):\n",
        "  if label3[i] == 0:\n",
        "    opinion[\"senti3\"][court_index[i]] = -1\n",
        "  if label3[i] == 1:\n",
        "    opinion[\"senti3\"][court_index[i]] = 1"
      ],
      "execution_count": null,
      "outputs": [
        {
          "output_type": "stream",
          "text": [
            "/usr/local/lib/python3.7/dist-packages/ipykernel_launcher.py:5: SettingWithCopyWarning: \n",
            "A value is trying to be set on a copy of a slice from a DataFrame\n",
            "\n",
            "See the caveats in the documentation: https://pandas.pydata.org/pandas-docs/stable/user_guide/indexing.html#returning-a-view-versus-a-copy\n",
            "  \"\"\"\n",
            "/usr/local/lib/python3.7/dist-packages/ipykernel_launcher.py:7: SettingWithCopyWarning: \n",
            "A value is trying to be set on a copy of a slice from a DataFrame\n",
            "\n",
            "See the caveats in the documentation: https://pandas.pydata.org/pandas-docs/stable/user_guide/indexing.html#returning-a-view-versus-a-copy\n",
            "  import sys\n"
          ],
          "name": "stderr"
        }
      ]
    },
    {
      "cell_type": "code",
      "metadata": {
        "id": "fhZdC8EXw3rk"
      },
      "source": [
        "# democrat\n",
        "democrat = pd.DataFrame({\"democrat\": opinion['democrat']})\n",
        "democrat = democrat[democrat['democrat'].apply(lambda x: len(x)) > 0]\n",
        "democrat_index = list(democrat.index)"
      ],
      "execution_count": null,
      "outputs": []
    },
    {
      "cell_type": "code",
      "metadata": {
        "id": "B2VvagGXw3us"
      },
      "source": [
        "democrat_list = word_list(democrat[\"democrat\"])\n",
        "feature4 = get_v(democrat_list)\n",
        "democrat_list = pd.DataFrame({\"democrat\":democrat_list})\n",
        "democrat_list['democrat'] = democrat_list['democrat'].apply(lambda x: ' '.join([word for word in x]))"
      ],
      "execution_count": null,
      "outputs": []
    },
    {
      "cell_type": "code",
      "metadata": {
        "id": "QDLBsBagw3yV"
      },
      "source": [
        "vectorizer4 = TfidfVectorizer(vocabulary=feature4, ngram_range=(1,2))\n",
        "TF_IDF4 = vectorizer4.fit_transform(democrat_list['democrat'].values)\n",
        "kmeans4 = KMeans(n_clusters=2, random_state=0).fit(TF_IDF4)\n",
        "closest4, _ = pairwise_distances_argmin_min(kmeans4.cluster_centers_, TF_IDF4)"
      ],
      "execution_count": null,
      "outputs": []
    },
    {
      "cell_type": "code",
      "metadata": {
        "colab": {
          "base_uri": "https://localhost:8080/"
        },
        "id": "1TQ7oeTdw30u",
        "outputId": "8d628432-bb41-480c-a2a0-40ec81e19b87"
      },
      "source": [
        "sentences[democrat_index[closest4[0]]] # positive"
      ],
      "execution_count": null,
      "outputs": [
        {
          "output_type": "execute_result",
          "data": {
            "text/plain": [
              "['And the people can make that happen only if they vote for Democrats.',\n",
              " 'All Democrats on the Supreme Court voted against Citizens United.',\n",
              " 'All Democrats in the Senate voted for the Disclose Act.',\n",
              " 'Republicans keep blocking attempts to assert that only people are people.']"
            ]
          },
          "metadata": {
            "tags": []
          },
          "execution_count": 88
        }
      ]
    },
    {
      "cell_type": "code",
      "metadata": {
        "colab": {
          "base_uri": "https://localhost:8080/"
        },
        "id": "sv5xoKvIw33I",
        "outputId": "bd388756-e676-43f0-eb58-c22cab39a82c"
      },
      "source": [
        "sentences[democrat_index[closest4[1]]] # negative"
      ],
      "execution_count": null,
      "outputs": [
        {
          "output_type": "execute_result",
          "data": {
            "text/plain": [
              "['The Dems reap what they sow.',\n",
              " 'They already went \"nuclear,\" abolishing filibusters for all but Supreme Court nominees when they had a majority.',\n",
              " \"Now it's the turn of the GOP.\",\n",
              " 'They did it first, an inspiring rallying cry.',\n",
              " 'True leadership on both sides of the aisle.']"
            ]
          },
          "metadata": {
            "tags": []
          },
          "execution_count": 89
        }
      ]
    },
    {
      "cell_type": "code",
      "metadata": {
        "id": "6pJMqAoow36m"
      },
      "source": [
        "label4 = kmeans4.labels_\n",
        "opinion[\"senti4\"] = np.zeros(len(opinion))\n",
        "for i in range(len(label4)):\n",
        "  if label4[i] == 0:\n",
        "    opinion[\"senti4\"][democrat_index[i]] = 1\n",
        "  if label4[i] == 1:\n",
        "    opinion[\"senti4\"][democrat_index[i]] = -1"
      ],
      "execution_count": null,
      "outputs": []
    },
    {
      "cell_type": "code",
      "metadata": {
        "id": "D8wdLlqNymCu"
      },
      "source": [
        "# gop\n",
        "gop = pd.DataFrame({\"gop\": opinion['gop']})\n",
        "gop = gop[gop['gop'].apply(lambda x: len(x)) > 0]\n",
        "gop_index = list(gop.index)"
      ],
      "execution_count": null,
      "outputs": []
    },
    {
      "cell_type": "code",
      "metadata": {
        "id": "JzdLCkmDzH6w"
      },
      "source": [
        "gop_list = word_list(gop[\"gop\"])\n",
        "feature5 = get_v(gop_list)\n",
        "gop_list = pd.DataFrame({\"gop\":gop_list})\n",
        "gop_list['gop'] = gop_list['gop'].apply(lambda x: ' '.join([word for word in x]))"
      ],
      "execution_count": null,
      "outputs": []
    },
    {
      "cell_type": "code",
      "metadata": {
        "id": "AaAW_sO3zge_"
      },
      "source": [
        "vectorizer5 = TfidfVectorizer(vocabulary=feature5, ngram_range=(1,2))\n",
        "TF_IDF5 = vectorizer5.fit_transform(gop_list['gop'].values)\n",
        "kmeans5 = KMeans(n_clusters=2, random_state=0).fit(TF_IDF5)\n",
        "closest5, _ = pairwise_distances_argmin_min(kmeans5.cluster_centers_, TF_IDF5)"
      ],
      "execution_count": null,
      "outputs": []
    },
    {
      "cell_type": "code",
      "metadata": {
        "colab": {
          "base_uri": "https://localhost:8080/"
        },
        "id": "A-b4n3Yhzgj0",
        "outputId": "222f62ad-98eb-4fc4-d7ad-42398000c8b9"
      },
      "source": [
        "sentences[gop_index[closest5[0]]] # positive"
      ],
      "execution_count": null,
      "outputs": [
        {
          "output_type": "execute_result",
          "data": {
            "text/plain": [
              "['Who was it that initiated the nuclear option?',\n",
              " 'Was it the GOP?',\n",
              " 'not as I remember it.']"
            ]
          },
          "metadata": {
            "tags": []
          },
          "execution_count": 94
        }
      ]
    },
    {
      "cell_type": "code",
      "metadata": {
        "colab": {
          "base_uri": "https://localhost:8080/"
        },
        "id": "VD9vRjpNzgoA",
        "outputId": "6883ace5-6dc1-4571-8338-4fd7edeec99a"
      },
      "source": [
        "sentences[gop_index[closest5[1]]] # negative"
      ],
      "execution_count": null,
      "outputs": [
        {
          "output_type": "execute_result",
          "data": {
            "text/plain": [
              "[\"The GOP doesn't care about deficits.\",\n",
              " 'Just ask Dick Cheney and his congressional Republican enablers.',\n",
              " 'And maybe President Obama, who had pick up the pieces.']"
            ]
          },
          "metadata": {
            "tags": []
          },
          "execution_count": 95
        }
      ]
    },
    {
      "cell_type": "code",
      "metadata": {
        "id": "6IS7ZU7o3C7p",
        "colab": {
          "base_uri": "https://localhost:8080/"
        },
        "outputId": "bf909703-f923-459e-b9a3-69620fb0781e"
      },
      "source": [
        "label5 = kmeans5.labels_\n",
        "opinion[\"senti5\"] = np.zeros(len(opinion))\n",
        "for i in range(len(label5)):\n",
        "  if label5[i] == 0:\n",
        "    opinion[\"senti5\"][gop_index[i]] = 1\n",
        "  if label5[i] == 1:\n",
        "    opinion[\"senti5\"][gop_index[i]] = -1"
      ],
      "execution_count": null,
      "outputs": [
        {
          "output_type": "stream",
          "text": [
            "/usr/local/lib/python3.7/dist-packages/ipykernel_launcher.py:5: SettingWithCopyWarning: \n",
            "A value is trying to be set on a copy of a slice from a DataFrame\n",
            "\n",
            "See the caveats in the documentation: https://pandas.pydata.org/pandas-docs/stable/user_guide/indexing.html#returning-a-view-versus-a-copy\n",
            "  \"\"\"\n",
            "/usr/local/lib/python3.7/dist-packages/ipykernel_launcher.py:7: SettingWithCopyWarning: \n",
            "A value is trying to be set on a copy of a slice from a DataFrame\n",
            "\n",
            "See the caveats in the documentation: https://pandas.pydata.org/pandas-docs/stable/user_guide/indexing.html#returning-a-view-versus-a-copy\n",
            "  import sys\n"
          ],
          "name": "stderr"
        }
      ]
    },
    {
      "cell_type": "code",
      "metadata": {
        "id": "ERhsR5h_zgrM"
      },
      "source": [
        "# house\n",
        "house = pd.DataFrame({\"house\": opinion['house']})\n",
        "house = house[house['house'].apply(lambda x: len(x)) > 0]\n",
        "house_index = list(house.index)"
      ],
      "execution_count": null,
      "outputs": []
    },
    {
      "cell_type": "code",
      "metadata": {
        "id": "UG5eiW-vzgzb"
      },
      "source": [
        "house_list = word_list(house[\"house\"])\n",
        "feature6 = get_v(house_list)\n",
        "house_list = pd.DataFrame({\"house\":house_list})\n",
        "house_list['house'] = house_list['house'].apply(lambda x: ' '.join([word for word in x]))"
      ],
      "execution_count": null,
      "outputs": []
    },
    {
      "cell_type": "code",
      "metadata": {
        "id": "LBepxbjvzg2-"
      },
      "source": [
        "vectorizer6 = TfidfVectorizer(vocabulary=feature6, ngram_range=(1,2))\n",
        "TF_IDF6 = vectorizer6.fit_transform(house_list['house'].values)\n",
        "kmeans6 = KMeans(n_clusters=2, random_state=0).fit(TF_IDF6)\n",
        "closest6, _ = pairwise_distances_argmin_min(kmeans6.cluster_centers_, TF_IDF6)"
      ],
      "execution_count": null,
      "outputs": []
    },
    {
      "cell_type": "code",
      "metadata": {
        "colab": {
          "base_uri": "https://localhost:8080/"
        },
        "id": "yzPjNYjJzg55",
        "outputId": "18ee4b83-8d83-4770-9069-18f1c05d0d38"
      },
      "source": [
        "sentences[house_index[closest6[0]]] # positive"
      ],
      "execution_count": null,
      "outputs": [
        {
          "output_type": "execute_result",
          "data": {
            "text/plain": [
              "['Do you want to buy a brand new car for $80?',\n",
              " 'Tell the Republicans in the Congress.',\n",
              " 'I am sure they can make it happen.',\n",
              " 'First, they will remove all regulations on what should constitute an automobile.',\n",
              " 'Then they will allow automotive companies to call anything a car and market it, as long as the thing they intend to market is at least one part/piece of a present day car, like, for example a tire.',\n",
              " 'Voila!',\n",
              " 'The customers can buy a brand new car for $80.',\n",
              " 'Those customers who want more of a car can customize to their needs and affordability by buying more tires, wheel axles, hubs, hub caps, seats, etc.',\n",
              " 'all the way to a Cadillac package!<br/><br/>Free market driven cars for American consumers!',\n",
              " 'Why stop with repeal and replace ACA (aka Obama Care) with no regulation Health Care.',\n",
              " \"Didn't we vote Republicans to the House, the Senate, and the White House.\",\n",
              " \"Don't we deserve the change we voted for?\"]"
            ]
          },
          "metadata": {
            "tags": []
          },
          "execution_count": 100
        }
      ]
    },
    {
      "cell_type": "code",
      "metadata": {
        "colab": {
          "base_uri": "https://localhost:8080/"
        },
        "id": "K4eo6rjAzg8g",
        "outputId": "2337996f-b7bd-4f17-9262-4578b31e1aed"
      },
      "source": [
        "sentences[house_index[closest6[1]]] # negative"
      ],
      "execution_count": null,
      "outputs": [
        {
          "output_type": "execute_result",
          "data": {
            "text/plain": [
              "['This is a win-win situation for everyone, if ever there were such a beast.<br/><br/>The Republicans will get there man seated on the Court.<br/><br/>The Democrats will get there revenge for Judge Garland.<br/><br/>The ult-left will get their day on the barricades.',\n",
              " 'Vive la revolution!<br/><br/>Unfortunately, this sordid display will be a Pyrrhic victory for those great warriors of the ideological wars.<br/><br/>What about America?',\n",
              " \"Well, it's days are number.\",\n",
              " 'A house divided.....']"
            ]
          },
          "metadata": {
            "tags": []
          },
          "execution_count": 101
        }
      ]
    },
    {
      "cell_type": "code",
      "metadata": {
        "id": "0ZiwZZiVzhAU"
      },
      "source": [
        "label6 = kmeans6.labels_\n",
        "opinion[\"senti6\"] = np.zeros(len(opinion))\n",
        "for i in range(len(label6)):\n",
        "  if label6[i] == 0:\n",
        "    opinion[\"senti6\"][house_index[i]] = 1\n",
        "  if label6[i] == 1:\n",
        "    opinion[\"senti6\"][house_index[i]] = -1"
      ],
      "execution_count": null,
      "outputs": []
    },
    {
      "cell_type": "code",
      "metadata": {
        "id": "USC2QvaazhD5"
      },
      "source": [
        "# obama\n",
        "obama = pd.DataFrame({\"obama\": opinion['obama']})\n",
        "obama = obama[obama['obama'].apply(lambda x: len(x)) > 0]\n",
        "obama_index = list(obama.index)"
      ],
      "execution_count": null,
      "outputs": []
    },
    {
      "cell_type": "code",
      "metadata": {
        "id": "qVQZOxNnzhGs"
      },
      "source": [
        "obama_list = word_list(obama[\"obama\"])\n",
        "feature7 = get_v(obama_list)\n",
        "obama_list = pd.DataFrame({\"obama\":obama_list})\n",
        "obama_list['obama'] = obama_list['obama'].apply(lambda x: ' '.join([word for word in x]))"
      ],
      "execution_count": null,
      "outputs": []
    },
    {
      "cell_type": "code",
      "metadata": {
        "id": "UzvQQz_PzhJS"
      },
      "source": [
        "vectorizer7 = TfidfVectorizer(vocabulary=feature7, ngram_range=(1,2))\n",
        "TF_IDF7 = vectorizer7.fit_transform(obama_list['obama'].values)\n",
        "kmeans7 = KMeans(n_clusters=2, random_state=0).fit(TF_IDF7)\n",
        "closest7, _ = pairwise_distances_argmin_min(kmeans7.cluster_centers_, TF_IDF7)"
      ],
      "execution_count": null,
      "outputs": []
    },
    {
      "cell_type": "code",
      "metadata": {
        "colab": {
          "base_uri": "https://localhost:8080/"
        },
        "id": "S2sSsWgbzhM8",
        "outputId": "4255ecd8-d268-4e72-ba1b-b2ada642d5e3"
      },
      "source": [
        "sentences[obama_index[closest7[0]]] # negative"
      ],
      "execution_count": null,
      "outputs": [
        {
          "output_type": "execute_result",
          "data": {
            "text/plain": [
              "[\"Aided and abetted by Andrea Mitchell's softball questions.\",\n",
              " 'Ms. Mitchell used to be a pretty good journalist, but that was a long time ago.',\n",
              " 'Now she is shill for Obama and friends.']"
            ]
          },
          "metadata": {
            "tags": []
          },
          "execution_count": 106
        }
      ]
    },
    {
      "cell_type": "code",
      "metadata": {
        "colab": {
          "base_uri": "https://localhost:8080/"
        },
        "id": "PgNZ6BWEzhQ_",
        "outputId": "488d393b-fe67-48ff-d702-9ba162020ceb"
      },
      "source": [
        "sentences[obama_index[closest7[1]]] # positive"
      ],
      "execution_count": null,
      "outputs": [
        {
          "output_type": "execute_result",
          "data": {
            "text/plain": [
              "[\"Mitch McConnell's name will go down in the history of the United States (as long as that may last) as the villain of our time.\",\n",
              " \"He is responsible for altering the rules of the Senate, from the last year of Obama's tenure by failing to consider Obama's nominee to the Supreme Court to making the minority voice in the Senate powerless in the decision of Supreme Court nominees under Trump.\",\n",
              " 'Serious changes that will have major consequences.',\n",
              " 'My hope is that he lives to regret his actions.']"
            ]
          },
          "metadata": {
            "tags": []
          },
          "execution_count": 107
        }
      ]
    },
    {
      "cell_type": "code",
      "metadata": {
        "id": "4G6Crsd-_bx4"
      },
      "source": [
        "label7 = kmeans7.labels_\n",
        "opinion[\"senti7\"] = np.zeros(len(opinion))\n",
        "for i in range(len(label7)):\n",
        "  if label7[i] == 0:\n",
        "    opinion[\"senti7\"][obama_index[i]] = -1\n",
        "  if label7[i] == 1:\n",
        "    opinion[\"senti7\"][obama_index[i]] = 1"
      ],
      "execution_count": null,
      "outputs": []
    },
    {
      "cell_type": "code",
      "metadata": {
        "id": "-IpXrToo_b1v"
      },
      "source": [
        "# people\n",
        "people = pd.DataFrame({\"people\": opinion['people']})\n",
        "people = people[people['people'].apply(lambda x: len(x)) > 0]\n",
        "people_index = list(people.index)"
      ],
      "execution_count": null,
      "outputs": []
    },
    {
      "cell_type": "code",
      "metadata": {
        "id": "0tv_zR18_b7_"
      },
      "source": [
        "people_list = word_list(people[\"people\"])\n",
        "feature8 = get_v(people_list)\n",
        "people_list = pd.DataFrame({\"people\":people_list})\n",
        "people_list['people'] = people_list['people'].apply(lambda x: ' '.join([word for word in x]))"
      ],
      "execution_count": null,
      "outputs": []
    },
    {
      "cell_type": "code",
      "metadata": {
        "id": "K9-Q8dsP_b_k"
      },
      "source": [
        "vectorizer8 = TfidfVectorizer(vocabulary=feature8, ngram_range=(1,2))\n",
        "TF_IDF8 = vectorizer8.fit_transform(people_list['people'].values)\n",
        "kmeans8 = KMeans(n_clusters=2, random_state=0).fit(TF_IDF8)\n",
        "closest8, _ = pairwise_distances_argmin_min(kmeans8.cluster_centers_, TF_IDF8)"
      ],
      "execution_count": null,
      "outputs": []
    },
    {
      "cell_type": "code",
      "metadata": {
        "colab": {
          "base_uri": "https://localhost:8080/"
        },
        "id": "nUYB_5t6_cCT",
        "outputId": "5238a26c-fe45-4f5b-af45-43265c77ba20"
      },
      "source": [
        "sentences[people_index[closest8[0]]] # positive"
      ],
      "execution_count": null,
      "outputs": [
        {
          "output_type": "execute_result",
          "data": {
            "text/plain": [
              "[\"Progressive liberal Marxist democrat criticism of Trump's awesome tax plan is rooted in nothing more than envy.\",\n",
              " \"People who don't pay taxes can't get a tax cut.\",\n",
              " 'People who do, will.',\n",
              " 'That is the point.',\n",
              " 'We need to reduce the size, scope and cost of government.<br/><br/>The best part of the plan is elimination of federal subsidies for abusive tax states (blue states) such as California, New York, New Jersey and Connecticut.',\n",
              " 'The exodus from those states will be unprecedented.',\n",
              " 'But never fear, their hard working, tax paying undocumented democrats who are filling their sanctuaries will more than pick up the slack.<br/><br/>Hahahahahaha... Democratism is the new communism and Americans are disgusted with it.']"
            ]
          },
          "metadata": {
            "tags": []
          },
          "execution_count": 112
        }
      ]
    },
    {
      "cell_type": "code",
      "metadata": {
        "colab": {
          "base_uri": "https://localhost:8080/"
        },
        "id": "Ru9XVO4X_cE_",
        "outputId": "54ba5db0-eae2-4971-d7d4-8110c4b6d9ac"
      },
      "source": [
        "sentences[people_index[closest8[1]]] # negative"
      ],
      "execution_count": null,
      "outputs": [
        {
          "output_type": "execute_result",
          "data": {
            "text/plain": [
              "['More bluster from Trump about tax reform.',\n",
              " 'Why should anyone believe him after the same ineffectual, loud, grandiose claims he had with repealing Obamacare?',\n",
              " '<br/><br/>If his supporters think he can or will change to meet the challenges they are facing, think again.',\n",
              " \"People don't change.\"]"
            ]
          },
          "metadata": {
            "tags": []
          },
          "execution_count": 113
        }
      ]
    },
    {
      "cell_type": "code",
      "metadata": {
        "id": "6Fgslfg3_cIW"
      },
      "source": [
        "label8 = kmeans8.labels_\n",
        "opinion[\"senti8\"] = np.zeros(len(opinion))\n",
        "for i in range(len(label8)):\n",
        "  if label8[i] == 0:\n",
        "    opinion[\"senti8\"][people_index[i]] = 1\n",
        "  if label8[i] == 1:\n",
        "    opinion[\"senti8\"][people_index[i]] = -1"
      ],
      "execution_count": null,
      "outputs": []
    },
    {
      "cell_type": "code",
      "metadata": {
        "id": "xIo1P6UU_cLM"
      },
      "source": [
        "# president\n",
        "president = pd.DataFrame({\"president\": opinion['president']})\n",
        "president = president[president['president'].apply(lambda x: len(x)) > 0]\n",
        "president_index = list(president.index)"
      ],
      "execution_count": null,
      "outputs": []
    },
    {
      "cell_type": "code",
      "metadata": {
        "id": "tR24Uvds_cQc"
      },
      "source": [
        "president_list = word_list(president[\"president\"])\n",
        "feature9 = get_v(president_list)\n",
        "president_list = pd.DataFrame({\"president\":president_list})\n",
        "president_list['president'] = president_list['president'].apply(lambda x: ' '.join([word for word in x]))"
      ],
      "execution_count": null,
      "outputs": []
    },
    {
      "cell_type": "code",
      "metadata": {
        "id": "J7LZ3M4g_cTh"
      },
      "source": [
        "vectorizer9 = TfidfVectorizer(vocabulary=feature9, ngram_range=(1,2))\n",
        "TF_IDF9 = vectorizer9.fit_transform(president_list['president'].values)\n",
        "kmeans9 = KMeans(n_clusters=2, random_state=0).fit(TF_IDF9)\n",
        "closest9, _ = pairwise_distances_argmin_min(kmeans9.cluster_centers_, TF_IDF9)"
      ],
      "execution_count": null,
      "outputs": []
    },
    {
      "cell_type": "code",
      "metadata": {
        "colab": {
          "base_uri": "https://localhost:8080/"
        },
        "id": "YK1l1EQEC1am",
        "outputId": "d65c07e9-ce28-468c-f3fa-044dcf0ecbd5"
      },
      "source": [
        "sentences[president_index[closest9[0]]] # negative"
      ],
      "execution_count": null,
      "outputs": [
        {
          "output_type": "execute_result",
          "data": {
            "text/plain": [
              "[\"Economics and environmental engineering augur against coal.<br/>(it ain't clean, folks.\",\n",
              " ')<br/><br/>Healthcare is more complex than anyone could have imagined.',\n",
              " 'Who knew?<br/><br/>The US corporate tax rate is the highest on the planet...when every other OECD nation is lowering theirs.',\n",
              " 'We have constructed a tax wall, preventing repatriation of foreign (tax paid) profits by US multinationals, and limiting the ability of foreign based multinationals to invest here.',\n",
              " 'The notion of normalizing this to incent US investment in plant, equipment and jobs seems antithetical to the socially responsible.',\n",
              " \"But the numbers suggest that corporations are the golden goose of job creation, and we're blocking them from investing here.\",\n",
              " '<br/><br/>Congress is fractured on policy.',\n",
              " 'POTUS is in job-training.',\n",
              " '<br/><br/>The founders are rolling in their graves!']"
            ]
          },
          "metadata": {
            "tags": []
          },
          "execution_count": 118
        }
      ]
    },
    {
      "cell_type": "code",
      "metadata": {
        "colab": {
          "base_uri": "https://localhost:8080/"
        },
        "id": "R2aiA13-C1ek",
        "outputId": "13e90dd8-3600-4222-ea84-0d148b132806"
      },
      "source": [
        "sentences[president_index[closest9[1]]] # positive"
      ],
      "execution_count": null,
      "outputs": [
        {
          "output_type": "execute_result",
          "data": {
            "text/plain": [
              "['Is the filibuster only reserved for Republicans, who only need 50 seats in the senate and a Republican president to appoint Supreme Court justices?',\n",
              " 'Do the Democrats need to control 60 seats in the senate and the presidency to appoint Supreme Court justices?',\n",
              " 'If the answer to these questions is no, then this filibuster makes perfect sense.<br/><br/>And this is even without considering the outrageous Garland treatment and the tainted 2016 elections.']"
            ]
          },
          "metadata": {
            "tags": []
          },
          "execution_count": 119
        }
      ]
    },
    {
      "cell_type": "code",
      "metadata": {
        "id": "AFb4zcYpC1jI"
      },
      "source": [
        "label9 = kmeans9.labels_\n",
        "opinion[\"senti9\"] = np.zeros(len(opinion))\n",
        "for i in range(len(label9)):\n",
        "  if label9[i] == 0:\n",
        "    opinion[\"senti9\"][president_index[i]] = -1\n",
        "  if label9[i] == 1:\n",
        "    opinion[\"senti9\"][president_index[i]] = 1"
      ],
      "execution_count": null,
      "outputs": []
    },
    {
      "cell_type": "code",
      "metadata": {
        "id": "UBq64B80C1mK"
      },
      "source": [
        "# state\n",
        "state = pd.DataFrame({\"state\": opinion['state']})\n",
        "state = state[state['state'].apply(lambda x: len(x)) > 0]\n",
        "state_index = list(state.index)"
      ],
      "execution_count": null,
      "outputs": []
    },
    {
      "cell_type": "code",
      "metadata": {
        "id": "TyrLRoajC1pz"
      },
      "source": [
        "state_list = word_list(state[\"state\"])\n",
        "feature10 = get_v(state_list)\n",
        "state_list = pd.DataFrame({\"state\":state_list})\n",
        "state_list['state'] = state_list['state'].apply(lambda x: ' '.join([word for word in x]))"
      ],
      "execution_count": null,
      "outputs": []
    },
    {
      "cell_type": "code",
      "metadata": {
        "id": "v6REwP6KC1s7"
      },
      "source": [
        "vectorizer10 = TfidfVectorizer(vocabulary=feature10, ngram_range=(1,2))\n",
        "TF_IDF10 = vectorizer10.fit_transform(state_list['state'].values)\n",
        "kmeans10 = KMeans(n_clusters=2, random_state=0).fit(TF_IDF10)\n",
        "closest10, _ = pairwise_distances_argmin_min(kmeans10.cluster_centers_, TF_IDF10)"
      ],
      "execution_count": null,
      "outputs": []
    },
    {
      "cell_type": "code",
      "metadata": {
        "colab": {
          "base_uri": "https://localhost:8080/"
        },
        "id": "6sJTsepLC1vx",
        "outputId": "1f0ea147-f85b-4863-a152-217c3ef6f724"
      },
      "source": [
        "sentences[state_index[closest10[0]]] # negative"
      ],
      "execution_count": null,
      "outputs": [
        {
          "output_type": "execute_result",
          "data": {
            "text/plain": [
              "['We have no Protestants on the Court.',\n",
              " 'Just Jewish and Catholic jurists.',\n",
              " 'I wonder why?',\n",
              " 'Hint:  abortion as a litmus test.']"
            ]
          },
          "metadata": {
            "tags": []
          },
          "execution_count": 124
        }
      ]
    },
    {
      "cell_type": "code",
      "metadata": {
        "colab": {
          "base_uri": "https://localhost:8080/"
        },
        "id": "zn8sQ8P2C1yi",
        "outputId": "20f92e55-2c08-4066-bc12-ecc9ea0ab3fb"
      },
      "source": [
        "sentences[state_index[closest10[1]]] # positive"
      ],
      "execution_count": null,
      "outputs": [
        {
          "output_type": "execute_result",
          "data": {
            "text/plain": [
              "['Cutting corporate income taxes to the bone while eliminating the state tax deduction for individuals?',\n",
              " 'This is ridiculous!',\n",
              " \"He'd do better to implement a corporate tax on companies moving jobs out of the US if he really wants to raise revenue!\"]"
            ]
          },
          "metadata": {
            "tags": []
          },
          "execution_count": 125
        }
      ]
    },
    {
      "cell_type": "code",
      "metadata": {
        "id": "6IsJYLCFC11i"
      },
      "source": [
        "label10 = kmeans10.labels_\n",
        "opinion[\"senti10\"] = np.zeros(len(opinion))\n",
        "for i in range(len(label10)):\n",
        "  if label10[i] == 0:\n",
        "    opinion[\"senti10\"][state_index[i]] = -1\n",
        "  if label10[i] == 1:\n",
        "    opinion[\"senti10\"][state_index[i]] = 1"
      ],
      "execution_count": null,
      "outputs": []
    },
    {
      "cell_type": "code",
      "metadata": {
        "id": "iBJQ_cR4C14l"
      },
      "source": [
        "# tax\n",
        "tax = pd.DataFrame({\"tax\": opinion['tax']})\n",
        "tax = tax[tax['tax'].apply(lambda x: len(x)) > 0]\n",
        "tax_index = list(tax.index)"
      ],
      "execution_count": null,
      "outputs": []
    },
    {
      "cell_type": "code",
      "metadata": {
        "id": "Gn-sTc5Q_cWc"
      },
      "source": [
        "tax_list = word_list(tax[\"tax\"])\n",
        "feature11 = get_v(tax_list)\n",
        "tax_list = pd.DataFrame({\"tax\":tax_list})\n",
        "tax_list['tax'] = tax_list['tax'].apply(lambda x: ' '.join([word for word in x]))"
      ],
      "execution_count": null,
      "outputs": []
    },
    {
      "cell_type": "code",
      "metadata": {
        "id": "vqMoHa0WIXii"
      },
      "source": [
        "vectorizer11 = TfidfVectorizer(vocabulary=feature11, ngram_range=(1,2))\n",
        "TF_IDF11 = vectorizer11.fit_transform(tax_list['tax'].values)\n",
        "kmeans11 = KMeans(n_clusters=2, random_state=0).fit(TF_IDF11)\n",
        "closest11, _ = pairwise_distances_argmin_min(kmeans11.cluster_centers_, TF_IDF11)"
      ],
      "execution_count": null,
      "outputs": []
    },
    {
      "cell_type": "code",
      "metadata": {
        "colab": {
          "base_uri": "https://localhost:8080/"
        },
        "id": "4Fkf8Ul9IXmZ",
        "outputId": "cdc9c2ae-c99c-485d-98d9-9d7533a5ea95"
      },
      "source": [
        "sentences[tax_index[closest11[0]]] # positive"
      ],
      "execution_count": null,
      "outputs": [
        {
          "output_type": "execute_result",
          "data": {
            "text/plain": [
              "['Congratulations middle class your tax rate is lower.',\n",
              " 'But we took away your deductions.',\n",
              " 'You now owe more.',\n",
              " \"Aren't you glad we lowered your taxes?\"]"
            ]
          },
          "metadata": {
            "tags": []
          },
          "execution_count": 130
        }
      ]
    },
    {
      "cell_type": "code",
      "metadata": {
        "colab": {
          "base_uri": "https://localhost:8080/"
        },
        "id": "wGJvkFt4IXps",
        "outputId": "8013fe9b-84fb-421c-b25e-53d3b2a087d0"
      },
      "source": [
        "sentences[tax_index[closest11[1]]] # negative"
      ],
      "execution_count": null,
      "outputs": [
        {
          "output_type": "execute_result",
          "data": {
            "text/plain": [
              "['I really do wish them good luck and hope thy taken up a VAT next.',\n",
              " 'This will \"really\" help the working class and the middle classes.',\n",
              " 'I mean, why get affordable consumer goods when you can support your \"gummint\" and pay more for the same things.',\n",
              " 'How about a tax on groceries?',\n",
              " \"there's a vast untapped resource.\"]"
            ]
          },
          "metadata": {
            "tags": []
          },
          "execution_count": 131
        }
      ]
    },
    {
      "cell_type": "code",
      "metadata": {
        "id": "CLxAQonpIXso"
      },
      "source": [
        "label11 = kmeans11.labels_\n",
        "opinion[\"senti11\"] = np.zeros(len(opinion))\n",
        "for i in range(len(label11)):\n",
        "  if label11[i] == 0:\n",
        "    opinion[\"senti11\"][tax_index[i]] = 1\n",
        "  if label11[i] == 1:\n",
        "    opinion[\"senti11\"][tax_index[i]] = -1"
      ],
      "execution_count": null,
      "outputs": []
    },
    {
      "cell_type": "code",
      "metadata": {
        "id": "Hw9FvZqaIXvq"
      },
      "source": [
        "# trump\n",
        "trump = pd.DataFrame({\"trump\": opinion['trump']})\n",
        "trump = trump[trump['trump'].apply(lambda x: len(x)) > 0]\n",
        "trump_index = list(trump.index)"
      ],
      "execution_count": null,
      "outputs": []
    },
    {
      "cell_type": "code",
      "metadata": {
        "id": "DMLeverUK4f0"
      },
      "source": [
        "trump_list = word_list(trump[\"trump\"])\n",
        "feature12 = get_v(trump_list)\n",
        "trump_list = pd.DataFrame({\"trump\":trump_list})\n",
        "trump_list['trump'] = trump_list['trump'].apply(lambda x: ' '.join([word for word in x]))"
      ],
      "execution_count": null,
      "outputs": []
    },
    {
      "cell_type": "code",
      "metadata": {
        "id": "Q91ul9-AK4j6"
      },
      "source": [
        "vectorizer12 = TfidfVectorizer(vocabulary=feature12, ngram_range=(1,2))\n",
        "TF_IDF12 = vectorizer12.fit_transform(trump_list['trump'].values)\n",
        "kmeans12 = KMeans(n_clusters=2, random_state=0).fit(TF_IDF12)\n",
        "closest12, _ = pairwise_distances_argmin_min(kmeans12.cluster_centers_, TF_IDF12)"
      ],
      "execution_count": null,
      "outputs": []
    },
    {
      "cell_type": "code",
      "metadata": {
        "colab": {
          "base_uri": "https://localhost:8080/"
        },
        "id": "mun7j9azK4oJ",
        "outputId": "257d796c-8306-415c-ac30-13f6c15d839c"
      },
      "source": [
        "sentences[trump_index[closest12[0]]] # positive"
      ],
      "execution_count": null,
      "outputs": [
        {
          "output_type": "execute_result",
          "data": {
            "text/plain": [
              "['Please stay focused everyone.',\n",
              " 'Please stay focused New York Times.',\n",
              " 'The sideshows just keep coming.',\n",
              " 'Every day something new and distracting.<br/><br/>Remember:<br/>1.)',\n",
              " 'Russian interference in US elections to damage Hillary Clinton and favor Trump.',\n",
              " 'What is he hiding?<br/>2.)',\n",
              " \"Donald Trump's income tax returns.\",\n",
              " 'What is he hiding?']"
            ]
          },
          "metadata": {
            "tags": []
          },
          "execution_count": 136
        }
      ]
    },
    {
      "cell_type": "code",
      "metadata": {
        "colab": {
          "base_uri": "https://localhost:8080/"
        },
        "id": "8aEieZoMK4rK",
        "outputId": "db08ed9f-0217-4d80-8ec4-75e7330ea013"
      },
      "source": [
        "sentences[trump_index[closest12[1]]] # negative"
      ],
      "execution_count": null,
      "outputs": [
        {
          "output_type": "execute_result",
          "data": {
            "text/plain": [
              "['The Koch brothers and their surrogates control enough votes to keep this Congress tied in knots for this term.',\n",
              " 'Trump is a sideshow and distraction.',\n",
              " 'The Koch brothers and their surrogates determine legislative initiatives and the fate any bill that impacts their interests, no matter how tangential.<br/><br/>Koch Industries, their fellow travelers, and \"Citizens United\" are real and existential threats to our form of government.',\n",
              " 'Examining a Supreme Court nominee through the prism of \"Roe v. Wade\" is a sideshow.',\n",
              " 'Look for someone who would vote to overturn \"Citizens United\".']"
            ]
          },
          "metadata": {
            "tags": []
          },
          "execution_count": 137
        }
      ]
    },
    {
      "cell_type": "code",
      "metadata": {
        "id": "p4HnNamcK4uF"
      },
      "source": [
        "label12 = kmeans12.labels_\n",
        "opinion[\"senti12\"] = np.zeros(len(opinion))\n",
        "for i in range(len(label12)):\n",
        "  if label12[i] == 0:\n",
        "    opinion[\"senti12\"][trump_index[i]] = 1\n",
        "  if label12[i] == 1:\n",
        "    opinion[\"senti12\"][trump_index[i]] = -1"
      ],
      "execution_count": null,
      "outputs": []
    },
    {
      "cell_type": "code",
      "metadata": {
        "id": "Pea0NumYK4w5"
      },
      "source": [
        "# vote\n",
        "vote = pd.DataFrame({\"vote\": opinion['vote']})\n",
        "vote = vote[vote['vote'].apply(lambda x: len(x)) > 0]\n",
        "vote_index = list(vote.index)"
      ],
      "execution_count": null,
      "outputs": []
    },
    {
      "cell_type": "code",
      "metadata": {
        "id": "6AJ6DQ9MK4zs"
      },
      "source": [
        "vote_list = word_list(vote[\"vote\"])\n",
        "feature13 = get_v(vote_list)\n",
        "vote_list = pd.DataFrame({\"vote\":vote_list})\n",
        "vote_list['vote'] = vote_list['vote'].apply(lambda x: ' '.join([word for word in x]))"
      ],
      "execution_count": null,
      "outputs": []
    },
    {
      "cell_type": "code",
      "metadata": {
        "id": "P7AQ4xDrK42h"
      },
      "source": [
        "vectorizer13 = TfidfVectorizer(vocabulary=feature13, ngram_range=(1,2))\n",
        "TF_IDF13 = vectorizer13.fit_transform(vote_list['vote'].values)\n",
        "kmeans13 = KMeans(n_clusters=2, random_state=0).fit(TF_IDF13)\n",
        "closest13, _ = pairwise_distances_argmin_min(kmeans13.cluster_centers_, TF_IDF13)"
      ],
      "execution_count": null,
      "outputs": []
    },
    {
      "cell_type": "code",
      "metadata": {
        "colab": {
          "base_uri": "https://localhost:8080/"
        },
        "id": "ftH2fJJeIXyr",
        "outputId": "28f49cee-1872-495d-852e-1d8970e4361d"
      },
      "source": [
        "sentences[vote_index[closest13[0]]] # negative"
      ],
      "execution_count": null,
      "outputs": [
        {
          "output_type": "execute_result",
          "data": {
            "text/plain": [
              "['And the people can make that happen only if they vote for Democrats.',\n",
              " 'All Democrats on the Supreme Court voted against Citizens United.',\n",
              " 'All Democrats in the Senate voted for the Disclose Act.',\n",
              " 'Republicans keep blocking attempts to assert that only people are people.']"
            ]
          },
          "metadata": {
            "tags": []
          },
          "execution_count": 142
        }
      ]
    },
    {
      "cell_type": "code",
      "metadata": {
        "colab": {
          "base_uri": "https://localhost:8080/"
        },
        "id": "VDKFDXprIX1_",
        "outputId": "20490e40-9c68-4069-80aa-346d47dc42dc"
      },
      "source": [
        "sentences[vote_index[closest13[1]]] # positive"
      ],
      "execution_count": null,
      "outputs": [
        {
          "output_type": "execute_result",
          "data": {
            "text/plain": [
              "[\"That big money involving the likes of the Koch's have such a large influence in our policy is egregious.\",\n",
              " 'Sickening.',\n",
              " 'When are the people going to have the ability to have their opinion matter?',\n",
              " \"When the supreme court get's big money out of politics.\",\n",
              " 'So, never.',\n",
              " 'Sickening.',\n",
              " 'I and many of our citizens are tired of being ignored in our wishes to stop this.',\n",
              " 'VOTE.']"
            ]
          },
          "metadata": {
            "tags": []
          },
          "execution_count": 143
        }
      ]
    },
    {
      "cell_type": "code",
      "metadata": {
        "id": "r907UNv8IX5T"
      },
      "source": [
        "label13 = kmeans13.labels_\n",
        "opinion[\"senti13\"] = np.zeros(len(opinion))\n",
        "for i in range(len(label13)):\n",
        "  if label13[i] == 0:\n",
        "    opinion[\"senti13\"][vote_index[i]] = -1\n",
        "  if label13[i] == 1:\n",
        "    opinion[\"senti13\"][vote_index[i]] = 1"
      ],
      "execution_count": null,
      "outputs": []
    },
    {
      "cell_type": "code",
      "metadata": {
        "id": "mpx4xxRHPCVx"
      },
      "source": [
        "# world\n",
        "world = pd.DataFrame({\"world\": opinion['world']})\n",
        "world = world[world['world'].apply(lambda x: len(x)) > 0]\n",
        "world_index = list(world.index)"
      ],
      "execution_count": null,
      "outputs": []
    },
    {
      "cell_type": "code",
      "metadata": {
        "id": "oIZyM0ksPCbz"
      },
      "source": [
        "world_list = word_list(world[\"world\"])\n",
        "feature14 = get_v(world_list)\n",
        "world_list = pd.DataFrame({\"world\":world_list})\n",
        "world_list['world'] = world_list['world'].apply(lambda x: ' '.join([word for word in x]))"
      ],
      "execution_count": null,
      "outputs": []
    },
    {
      "cell_type": "code",
      "metadata": {
        "id": "A7m9SYN_PCiF"
      },
      "source": [
        "vectorizer14 = TfidfVectorizer(vocabulary=feature14, ngram_range=(1,2))\n",
        "TF_IDF14 = vectorizer14.fit_transform(world_list['world'].values)\n",
        "kmeans14 = KMeans(n_clusters=2, random_state=0).fit(TF_IDF14)\n",
        "closest14, _ = pairwise_distances_argmin_min(kmeans14.cluster_centers_, TF_IDF14)"
      ],
      "execution_count": null,
      "outputs": []
    },
    {
      "cell_type": "code",
      "metadata": {
        "colab": {
          "base_uri": "https://localhost:8080/"
        },
        "id": "szuCK1bnPCoc",
        "outputId": "94fd78ad-7cba-4c93-bc4d-e432041e1222"
      },
      "source": [
        "sentences[world_index[closest14[0]]] # negative"
      ],
      "execution_count": null,
      "outputs": [
        {
          "output_type": "execute_result",
          "data": {
            "text/plain": [
              "['All over the world?', 'A bit too general there.']"
            ]
          },
          "metadata": {
            "tags": []
          },
          "execution_count": 148
        }
      ]
    },
    {
      "cell_type": "code",
      "metadata": {
        "colab": {
          "base_uri": "https://localhost:8080/"
        },
        "id": "yS8zKI-nPCrv",
        "outputId": "a059dfb7-5bcd-4a48-e8e5-6ed75bf4b4f7"
      },
      "source": [
        "sentences[world_index[closest14[1]]] # positive"
      ],
      "execution_count": null,
      "outputs": [
        {
          "output_type": "execute_result",
          "data": {
            "text/plain": [
              "[\"Dear JMN,<br/>I agree, but I think you've come up with a good motto for today's America.\",\n",
              " 'It used to be things like: America, the shining city on the hill.',\n",
              " 'America, beacon of liberty.',\n",
              " \"America, land of the free.<br/><br/>Since Trump, it's far more accurate to have it as, America, just plain stupid.\"]"
            ]
          },
          "metadata": {
            "tags": []
          },
          "execution_count": 149
        }
      ]
    },
    {
      "cell_type": "code",
      "metadata": {
        "id": "DgV3B0cLPC5E"
      },
      "source": [
        "label14 = kmeans14.labels_\n",
        "opinion[\"senti14\"] = np.zeros(len(opinion))\n",
        "for i in range(len(label14)):\n",
        "  if label14[i] == 0:\n",
        "    opinion[\"senti14\"][vote_index[i]] = -1\n",
        "  if label14[i] == 1:\n",
        "    opinion[\"senti14\"][vote_index[i]] = 1"
      ],
      "execution_count": null,
      "outputs": []
    },
    {
      "cell_type": "markdown",
      "metadata": {
        "id": "qTZj-fkZYNrV"
      },
      "source": [
        "**Text Classification**"
      ]
    },
    {
      "cell_type": "code",
      "metadata": {
        "id": "yv_9VTI3TW-Z"
      },
      "source": [
        "!pip install imbalanced-learn\n",
        "import imblearn\n",
        "from imblearn.over_sampling import ADASYN\n",
        "from imblearn.under_sampling import RandomUnderSampler\n",
        "from imblearn.pipeline import Pipeline\n",
        "import matplotlib.pyplot as plt  \n",
        "from sklearn.metrics import plot_confusion_matrix"
      ],
      "execution_count": null,
      "outputs": []
    },
    {
      "cell_type": "code",
      "metadata": {
        "id": "CxPFqNJW2gv-"
      },
      "source": [
        "from sklearn.model_selection import train_test_split, cross_val_score, KFold, cross_validate\n",
        "from sklearn.linear_model import LogisticRegression\n",
        "from sklearn.ensemble import RandomForestClassifier\n",
        "from sklearn import metrics\n",
        "from sklearn.metrics import classification_report, confusion_matrix, roc_auc_score, roc_curve, f1_score, accuracy_score"
      ],
      "execution_count": null,
      "outputs": []
    },
    {
      "cell_type": "code",
      "metadata": {
        "id": "3RwKDHkyVp1A"
      },
      "source": [
        "y = opinion['editor selection']\n",
        "X = opinion.iloc[:, 17:31]"
      ],
      "execution_count": null,
      "outputs": []
    },
    {
      "cell_type": "code",
      "metadata": {
        "colab": {
          "base_uri": "https://localhost:8080/"
        },
        "id": "W42ITiPffsdT",
        "outputId": "6562d5a4-0fc3-49a6-96df-73a1c59e3d5e"
      },
      "source": [
        "opinion['editor selection'].value_counts()"
      ],
      "execution_count": null,
      "outputs": [
        {
          "output_type": "execute_result",
          "data": {
            "text/plain": [
              "0    25907\n",
              "1      810\n",
              "Name: editor selection, dtype: int64"
            ]
          },
          "metadata": {
            "tags": []
          },
          "execution_count": 154
        }
      ]
    },
    {
      "cell_type": "code",
      "metadata": {
        "colab": {
          "base_uri": "https://localhost:8080/",
          "height": 285
        },
        "id": "8yNf-Y1BeUvr",
        "outputId": "fc20861c-8251-4a9a-9d1f-a774509a2a3f"
      },
      "source": [
        "import seaborn as sns\n",
        "sns.set(style=\"white\")\n",
        "graph = sns.countplot(x = opinion['editor selection'], data = opinion,palette=\"hls\")\n",
        "i = 0\n",
        "for p in graph.patches:\n",
        "  height = p.get_height()  \n",
        "  graph.text(p.get_x()+p.get_width()/2., height + 0.1,\n",
        "         '{0:.0%}'.format((opinion['editor selection'].value_counts()[i])/26717),ha=\"center\")\n",
        "  i += 1\n",
        "plt.figure\n",
        "plt.savefig('fig5.eps', bbox_inches='tight')\n",
        "files.download(\"fig5.eps\")"
      ],
      "execution_count": null,
      "outputs": [
        {
          "output_type": "display_data",
          "data": {
            "application/javascript": [
              "\n",
              "    async function download(id, filename, size) {\n",
              "      if (!google.colab.kernel.accessAllowed) {\n",
              "        return;\n",
              "      }\n",
              "      const div = document.createElement('div');\n",
              "      const label = document.createElement('label');\n",
              "      label.textContent = `Downloading \"${filename}\": `;\n",
              "      div.appendChild(label);\n",
              "      const progress = document.createElement('progress');\n",
              "      progress.max = size;\n",
              "      div.appendChild(progress);\n",
              "      document.body.appendChild(div);\n",
              "\n",
              "      const buffers = [];\n",
              "      let downloaded = 0;\n",
              "\n",
              "      const channel = await google.colab.kernel.comms.open(id);\n",
              "      // Send a message to notify the kernel that we're ready.\n",
              "      channel.send({})\n",
              "\n",
              "      for await (const message of channel.messages) {\n",
              "        // Send a message to notify the kernel that we're ready.\n",
              "        channel.send({})\n",
              "        if (message.buffers) {\n",
              "          for (const buffer of message.buffers) {\n",
              "            buffers.push(buffer);\n",
              "            downloaded += buffer.byteLength;\n",
              "            progress.value = downloaded;\n",
              "          }\n",
              "        }\n",
              "      }\n",
              "      const blob = new Blob(buffers, {type: 'application/binary'});\n",
              "      const a = document.createElement('a');\n",
              "      a.href = window.URL.createObjectURL(blob);\n",
              "      a.download = filename;\n",
              "      div.appendChild(a);\n",
              "      a.click();\n",
              "      div.remove();\n",
              "    }\n",
              "  "
            ],
            "text/plain": [
              "<IPython.core.display.Javascript object>"
            ]
          },
          "metadata": {
            "tags": []
          }
        },
        {
          "output_type": "display_data",
          "data": {
            "application/javascript": [
              "download(\"download_0b40bdb0-d887-4fb3-a8b5-461e508b8f78\", \"fig5.eps\", 13949)"
            ],
            "text/plain": [
              "<IPython.core.display.Javascript object>"
            ]
          },
          "metadata": {
            "tags": []
          }
        },
        {
          "output_type": "display_data",
          "data": {
            "image/png": "[encoded data removed]",
            "text/plain": [
              "<Figure size 432x288 with 1 Axes>"
            ]
          },
          "metadata": {
            "tags": []
          }
        }
      ]
    },
    {
      "cell_type": "code",
      "metadata": {
        "id": "0sfTlQ6uq7ie"
      },
      "source": [
        "graph2 = sns.countplot(x=\"variable\", hue=\"value\", data=pd.melt(X))\n",
        "graph2.set_xticklabels(graph2.get_xticklabels(), rotation=40, ha=\"right\")\n",
        "graph2.xlabel('Aspects')\n",
        "graph2.figure\n",
        "graph2.savefig('fig6.eps', bbox_inches='tight')\n",
        "files.download(\"fig6.eps\")"
      ],
      "execution_count": null,
      "outputs": []
    },
    {
      "cell_type": "code",
      "metadata": {
        "id": "w2I6RDC05Sxt"
      },
      "source": [
        "oversample = ADASYN()\n",
        "X, y = oversample.fit_resample(X, y)"
      ],
      "execution_count": null,
      "outputs": []
    },
    {
      "cell_type": "code",
      "metadata": {
        "colab": {
          "base_uri": "https://localhost:8080/"
        },
        "id": "C9WIftDv5icI",
        "outputId": "f5f957f5-bfd5-4b1d-fd77-27f5a13a4405"
      },
      "source": [
        "Counter(y)"
      ],
      "execution_count": null,
      "outputs": [
        {
          "output_type": "execute_result",
          "data": {
            "text/plain": [
              "Counter({0: 25907, 1: 26092})"
            ]
          },
          "metadata": {
            "tags": []
          },
          "execution_count": 159
        }
      ]
    },
    {
      "cell_type": "code",
      "metadata": {
        "id": "gL6-JRzBv8O8"
      },
      "source": [
        "X_train, X_test, y_train, y_test = train_test_split(X,y,test_size=0.4,random_state=11,stratify=y)"
      ],
      "execution_count": null,
      "outputs": []
    },
    {
      "cell_type": "code",
      "metadata": {
        "id": "pnWOl6fj3Jpu"
      },
      "source": [
        "cv = KFold(n_splits=10, random_state=1, shuffle=True)"
      ],
      "execution_count": null,
      "outputs": []
    },
    {
      "cell_type": "code",
      "metadata": {
        "id": "a_18y89uD0hJ"
      },
      "source": [
        "forest1 = RandomForestClassifier(oob_score = True, n_jobs = -1)"
      ],
      "execution_count": null,
      "outputs": []
    },
    {
      "cell_type": "code",
      "metadata": {
        "id": "P2pMzNDWkb0W"
      },
      "source": [
        "clf1 = LogisticRegression(random_state=0)"
      ],
      "execution_count": null,
      "outputs": []
    },
    {
      "cell_type": "code",
      "metadata": {
        "id": "3wXuKR_J7mgc"
      },
      "source": [
        "scores1 = cross_val_score(forest1, X_train, y_train, scoring='accuracy', cv=cv, n_jobs=-1)"
      ],
      "execution_count": null,
      "outputs": []
    },
    {
      "cell_type": "code",
      "metadata": {
        "id": "UqDso-TSlXS_"
      },
      "source": [
        "scores2 = cross_val_score(clf1, X_train, y_train, scoring='accuracy', cv=cv, n_jobs=-1)"
      ],
      "execution_count": null,
      "outputs": []
    },
    {
      "cell_type": "code",
      "metadata": {
        "id": "yPbXuBRT7xND"
      },
      "source": [
        "from numpy import mean, std"
      ],
      "execution_count": null,
      "outputs": []
    },
    {
      "cell_type": "code",
      "metadata": {
        "colab": {
          "base_uri": "https://localhost:8080/"
        },
        "id": "e5x9vVkL7vmZ",
        "outputId": "0a9d7f43-b870-4774-a1c3-b9ea4b7f53ee"
      },
      "source": [
        "print('Performce of Random Forest: %.3f' % (mean(scores1)))"
      ],
      "execution_count": null,
      "outputs": [
        {
          "output_type": "stream",
          "text": [
            "Performce of Random Forest: 0.749\n"
          ],
          "name": "stdout"
        }
      ]
    },
    {
      "cell_type": "code",
      "metadata": {
        "colab": {
          "base_uri": "https://localhost:8080/"
        },
        "id": "NKcyyUYylb9t",
        "outputId": "9bd735ee-dcfd-4175-ac3c-f246f0fac9e4"
      },
      "source": [
        "print('Performance of Logistic Regraression: %.3f' % (mean(scores2)))"
      ],
      "execution_count": null,
      "outputs": [
        {
          "output_type": "stream",
          "text": [
            "Performance of Logistic Regraression: 0.562\n"
          ],
          "name": "stdout"
        }
      ]
    },
    {
      "cell_type": "code",
      "metadata": {
        "id": "5eDTA7JxwvO-"
      },
      "source": [
        "y_test_pred1 = forest1.fit(X_train,y_train).predict(X_test)\n",
        "y_test_pred2 = clf1.fit(X_train,y_train).predict(X_test)"
      ],
      "execution_count": null,
      "outputs": []
    },
    {
      "cell_type": "code",
      "metadata": {
        "colab": {
          "base_uri": "https://localhost:8080/"
        },
        "id": "P8ueCtG0jRGi",
        "outputId": "1ac7cf6f-2a13-474f-bbd7-0ad258b470e0"
      },
      "source": [
        "print(\"Accuracy of test - Random Forest:\",metrics.accuracy_score(y_test, y_test_pred1))\n",
        "print(\"Accuracy of test - Logistic Regression:\",metrics.accuracy_score(y_test, y_test_pred2))"
      ],
      "execution_count": null,
      "outputs": [
        {
          "output_type": "stream",
          "text": [
            "Accuracy of test - Random Forest: 0.7478365384615384\n",
            "Accuracy of test - Logistic Regression: 0.561875\n"
          ],
          "name": "stdout"
        }
      ]
    },
    {
      "cell_type": "code",
      "metadata": {
        "colab": {
          "base_uri": "https://localhost:8080/"
        },
        "id": "f6n57x-Ye9HN",
        "outputId": "8d72b419-e671-4c54-ca7f-e598c157262d"
      },
      "source": [
        "target_names = [\"0\",\"1\"]\n",
        "print(classification_report(y_test, y_test_pred1, target_names=target_names))"
      ],
      "execution_count": null,
      "outputs": [
        {
          "output_type": "stream",
          "text": [
            "              precision    recall  f1-score   support\n",
            "\n",
            "           0       0.71      0.85      0.77     10363\n",
            "           1       0.81      0.65      0.72     10437\n",
            "\n",
            "    accuracy                           0.75     20800\n",
            "   macro avg       0.76      0.75      0.75     20800\n",
            "weighted avg       0.76      0.75      0.75     20800\n",
            "\n"
          ],
          "name": "stdout"
        }
      ]
    },
    {
      "cell_type": "code",
      "metadata": {
        "colab": {
          "base_uri": "https://localhost:8080/"
        },
        "id": "LBKrUh3CzAW4",
        "outputId": "30eaf52a-f172-42e2-8af6-9de64bb85add"
      },
      "source": [
        "print(classification_report(y_test, y_test_pred2, target_names=target_names))"
      ],
      "execution_count": null,
      "outputs": [
        {
          "output_type": "stream",
          "text": [
            "              precision    recall  f1-score   support\n",
            "\n",
            "           0       0.56      0.58      0.57     10363\n",
            "           1       0.57      0.55      0.56     10437\n",
            "\n",
            "    accuracy                           0.56     20800\n",
            "   macro avg       0.56      0.56      0.56     20800\n",
            "weighted avg       0.56      0.56      0.56     20800\n",
            "\n"
          ],
          "name": "stdout"
        }
      ]
    },
    {
      "cell_type": "code",
      "metadata": {
        "colab": {
          "base_uri": "https://localhost:8080/",
          "height": 301
        },
        "id": "NCOmlDT_ZPpi",
        "outputId": "4c3425a5-6775-4c18-a7a7-59b3387c055b"
      },
      "source": [
        "import matplotlib.pyplot as plt  \n",
        "from sklearn.metrics import plot_confusion_matrix\n",
        "cm1 = plot_confusion_matrix(forest1, X_test, y_test, display_labels = ['0','1'], cmap=plt.cm.Blues, values_format = \"d\")\n",
        "plt.title(\"Model a\",fontweight=\"bold\")\n",
        "cm1.ax_.get_images()[0].set_clim(1500, 9000)\n",
        "plt.figure\n",
        "plt.savefig('fig1.eps', bbox_inches='tight')\n",
        "files.download(\"fig1.eps\")"
      ],
      "execution_count": null,
      "outputs": [
        {
          "output_type": "display_data",
          "data": {
            "application/javascript": [
              "\n",
              "    async function download(id, filename, size) {\n",
              "      if (!google.colab.kernel.accessAllowed) {\n",
              "        return;\n",
              "      }\n",
              "      const div = document.createElement('div');\n",
              "      const label = document.createElement('label');\n",
              "      label.textContent = `Downloading \"${filename}\": `;\n",
              "      div.appendChild(label);\n",
              "      const progress = document.createElement('progress');\n",
              "      progress.max = size;\n",
              "      div.appendChild(progress);\n",
              "      document.body.appendChild(div);\n",
              "\n",
              "      const buffers = [];\n",
              "      let downloaded = 0;\n",
              "\n",
              "      const channel = await google.colab.kernel.comms.open(id);\n",
              "      // Send a message to notify the kernel that we're ready.\n",
              "      channel.send({})\n",
              "\n",
              "      for await (const message of channel.messages) {\n",
              "        // Send a message to notify the kernel that we're ready.\n",
              "        channel.send({})\n",
              "        if (message.buffers) {\n",
              "          for (const buffer of message.buffers) {\n",
              "            buffers.push(buffer);\n",
              "            downloaded += buffer.byteLength;\n",
              "            progress.value = downloaded;\n",
              "          }\n",
              "        }\n",
              "      }\n",
              "      const blob = new Blob(buffers, {type: 'application/binary'});\n",
              "      const a = document.createElement('a');\n",
              "      a.href = window.URL.createObjectURL(blob);\n",
              "      a.download = filename;\n",
              "      div.appendChild(a);\n",
              "      a.click();\n",
              "      div.remove();\n",
              "    }\n",
              "  "
            ],
            "text/plain": [
              "<IPython.core.display.Javascript object>"
            ]
          },
          "metadata": {
            "tags": []
          }
        },
        {
          "output_type": "display_data",
          "data": {
            "application/javascript": [
              "download(\"download_08e03241-2413-4a2b-9fff-3b0598fa82cb\", \"fig1.eps\", 322854)"
            ],
            "text/plain": [
              "<IPython.core.display.Javascript object>"
            ]
          },
          "metadata": {
            "tags": []
          }
        },
        {
          "output_type": "display_data",
          "data": {
            "image/png": "[encoded data removed]",
            "text/plain": [
              "<Figure size 432x288 with 2 Axes>"
            ]
          },
          "metadata": {
            "tags": []
          }
        }
      ]
    },
    {
      "cell_type": "code",
      "metadata": {
        "colab": {
          "base_uri": "https://localhost:8080/",
          "height": 301
        },
        "id": "K37EljlmzT19",
        "outputId": "04b451ca-6d9b-43b4-d8fe-a1d66dae0bcf"
      },
      "source": [
        "cm2 = plot_confusion_matrix(clf1, X_test, y_test, display_labels = ['0','1'], cmap=plt.cm.Blues, values_format = \"d\")\n",
        "plt.title(\"Model b\",fontweight=\"bold\")\n",
        "cm2.ax_.get_images()[0].set_clim(1500, 9000)\n",
        "plt.figure\n",
        "plt.savefig('fig2.eps', bbox_inches='tight')\n",
        "files.download(\"fig2.eps\")"
      ],
      "execution_count": null,
      "outputs": [
        {
          "output_type": "display_data",
          "data": {
            "application/javascript": [
              "\n",
              "    async function download(id, filename, size) {\n",
              "      if (!google.colab.kernel.accessAllowed) {\n",
              "        return;\n",
              "      }\n",
              "      const div = document.createElement('div');\n",
              "      const label = document.createElement('label');\n",
              "      label.textContent = `Downloading \"${filename}\": `;\n",
              "      div.appendChild(label);\n",
              "      const progress = document.createElement('progress');\n",
              "      progress.max = size;\n",
              "      div.appendChild(progress);\n",
              "      document.body.appendChild(div);\n",
              "\n",
              "      const buffers = [];\n",
              "      let downloaded = 0;\n",
              "\n",
              "      const channel = await google.colab.kernel.comms.open(id);\n",
              "      // Send a message to notify the kernel that we're ready.\n",
              "      channel.send({})\n",
              "\n",
              "      for await (const message of channel.messages) {\n",
              "        // Send a message to notify the kernel that we're ready.\n",
              "        channel.send({})\n",
              "        if (message.buffers) {\n",
              "          for (const buffer of message.buffers) {\n",
              "            buffers.push(buffer);\n",
              "            downloaded += buffer.byteLength;\n",
              "            progress.value = downloaded;\n",
              "          }\n",
              "        }\n",
              "      }\n",
              "      const blob = new Blob(buffers, {type: 'application/binary'});\n",
              "      const a = document.createElement('a');\n",
              "      a.href = window.URL.createObjectURL(blob);\n",
              "      a.download = filename;\n",
              "      div.appendChild(a);\n",
              "      a.click();\n",
              "      div.remove();\n",
              "    }\n",
              "  "
            ],
            "text/plain": [
              "<IPython.core.display.Javascript object>"
            ]
          },
          "metadata": {
            "tags": []
          }
        },
        {
          "output_type": "display_data",
          "data": {
            "application/javascript": [
              "download(\"download_4060c8f3-95e5-4283-b1e6-d72bd6131137\", \"fig2.eps\", 322721)"
            ],
            "text/plain": [
              "<IPython.core.display.Javascript object>"
            ]
          },
          "metadata": {
            "tags": []
          }
        },
        {
          "output_type": "display_data",
          "data": {
            "image/png": "[encoded data removed]",
            "text/plain": [
              "<Figure size 432x288 with 2 Axes>"
            ]
          },
          "metadata": {
            "tags": []
          }
        }
      ]
    },
    {
      "cell_type": "code",
      "metadata": {
        "colab": {
          "base_uri": "https://localhost:8080/",
          "height": 338
        },
        "id": "noryVm_vnNCf",
        "outputId": "cd0dbe61-2956-436a-ead9-810fb41ed190"
      },
      "source": [
        "forest_roc_auc = roc_auc_score(y_test, forest1.predict(X_test))\n",
        "fpr, tpr, thresholds = roc_curve(y_test, forest1.predict_proba(X_test)[:,1])\n",
        "plt.figure()\n",
        "plt.plot(fpr, tpr, label='Random Forest (area = %0.2f)' % forest_roc_auc)\n",
        "plt.plot([0, 1], [0, 1],'r--')\n",
        "plt.xlim([0.0, 1.0])\n",
        "plt.ylim([0.0, 1.05])\n",
        "plt.xlabel('False Positive Rate')\n",
        "plt.ylabel('True Positive Rate')\n",
        "plt.title(\"Model a\",fontweight=\"bold\")\n",
        "plt.legend(loc=\"lower right\")\n",
        "plt.figure\n",
        "plt.savefig('fig7.eps', bbox_inches='tight')\n",
        "files.download(\"fig7.eps\")"
      ],
      "execution_count": null,
      "outputs": [
        {
          "output_type": "stream",
          "text": [
            "The PostScript backend does not support transparency; partially transparent artists will be rendered opaque.\n",
            "The PostScript backend does not support transparency; partially transparent artists will be rendered opaque.\n"
          ],
          "name": "stderr"
        },
        {
          "output_type": "display_data",
          "data": {
            "application/javascript": [
              "\n",
              "    async function download(id, filename, size) {\n",
              "      if (!google.colab.kernel.accessAllowed) {\n",
              "        return;\n",
              "      }\n",
              "      const div = document.createElement('div');\n",
              "      const label = document.createElement('label');\n",
              "      label.textContent = `Downloading \"${filename}\": `;\n",
              "      div.appendChild(label);\n",
              "      const progress = document.createElement('progress');\n",
              "      progress.max = size;\n",
              "      div.appendChild(progress);\n",
              "      document.body.appendChild(div);\n",
              "\n",
              "      const buffers = [];\n",
              "      let downloaded = 0;\n",
              "\n",
              "      const channel = await google.colab.kernel.comms.open(id);\n",
              "      // Send a message to notify the kernel that we're ready.\n",
              "      channel.send({})\n",
              "\n",
              "      for await (const message of channel.messages) {\n",
              "        // Send a message to notify the kernel that we're ready.\n",
              "        channel.send({})\n",
              "        if (message.buffers) {\n",
              "          for (const buffer of message.buffers) {\n",
              "            buffers.push(buffer);\n",
              "            downloaded += buffer.byteLength;\n",
              "            progress.value = downloaded;\n",
              "          }\n",
              "        }\n",
              "      }\n",
              "      const blob = new Blob(buffers, {type: 'application/binary'});\n",
              "      const a = document.createElement('a');\n",
              "      a.href = window.URL.createObjectURL(blob);\n",
              "      a.download = filename;\n",
              "      div.appendChild(a);\n",
              "      a.click();\n",
              "      div.remove();\n",
              "    }\n",
              "  "
            ],
            "text/plain": [
              "<IPython.core.display.Javascript object>"
            ]
          },
          "metadata": {
            "tags": []
          }
        },
        {
          "output_type": "display_data",
          "data": {
            "application/javascript": [
              "download(\"download_b3e92222-b3fb-47bf-9846-557ef6549451\", \"fig7.eps\", 24715)"
            ],
            "text/plain": [
              "<IPython.core.display.Javascript object>"
            ]
          },
          "metadata": {
            "tags": []
          }
        },
        {
          "output_type": "display_data",
          "data": {
            "image/png": "[encoded data removed]",
            "text/plain": [
              "<Figure size 432x288 with 1 Axes>"
            ]
          },
          "metadata": {
            "tags": []
          }
        }
      ]
    },
    {
      "cell_type": "code",
      "metadata": {
        "colab": {
          "base_uri": "https://localhost:8080/",
          "height": 338
        },
        "id": "taGMP76cmITg",
        "outputId": "a0949f89-d038-42f2-9386-b2f7a1349f6e"
      },
      "source": [
        "logit_roc_auc = roc_auc_score(y_test, clf1.predict(X_test))\n",
        "fpr, tpr, thresholds = roc_curve(y_test, clf1.predict_proba(X_test)[:,1])\n",
        "plt.figure()\n",
        "plt.plot(fpr, tpr, label='Logistic Regression (area = %0.2f)' % logit_roc_auc)\n",
        "plt.plot([0, 1], [0, 1],'r--')\n",
        "plt.xlim([0.0, 1.0])\n",
        "plt.ylim([0.0, 1.05])\n",
        "plt.xlabel('False Positive Rate')\n",
        "plt.ylabel('True Positive Rate')\n",
        "plt.title(\"Model b\",fontweight=\"bold\")\n",
        "plt.legend(loc=\"lower right\")\n",
        "plt.figure\n",
        "plt.savefig('fig8.eps', bbox_inches='tight')\n",
        "files.download(\"fig8.eps\")"
      ],
      "execution_count": null,
      "outputs": [
        {
          "output_type": "stream",
          "text": [
            "The PostScript backend does not support transparency; partially transparent artists will be rendered opaque.\n",
            "The PostScript backend does not support transparency; partially transparent artists will be rendered opaque.\n"
          ],
          "name": "stderr"
        },
        {
          "output_type": "display_data",
          "data": {
            "application/javascript": [
              "\n",
              "    async function download(id, filename, size) {\n",
              "      if (!google.colab.kernel.accessAllowed) {\n",
              "        return;\n",
              "      }\n",
              "      const div = document.createElement('div');\n",
              "      const label = document.createElement('label');\n",
              "      label.textContent = `Downloading \"${filename}\": `;\n",
              "      div.appendChild(label);\n",
              "      const progress = document.createElement('progress');\n",
              "      progress.max = size;\n",
              "      div.appendChild(progress);\n",
              "      document.body.appendChild(div);\n",
              "\n",
              "      const buffers = [];\n",
              "      let downloaded = 0;\n",
              "\n",
              "      const channel = await google.colab.kernel.comms.open(id);\n",
              "      // Send a message to notify the kernel that we're ready.\n",
              "      channel.send({})\n",
              "\n",
              "      for await (const message of channel.messages) {\n",
              "        // Send a message to notify the kernel that we're ready.\n",
              "        channel.send({})\n",
              "        if (message.buffers) {\n",
              "          for (const buffer of message.buffers) {\n",
              "            buffers.push(buffer);\n",
              "            downloaded += buffer.byteLength;\n",
              "            progress.value = downloaded;\n",
              "          }\n",
              "        }\n",
              "      }\n",
              "      const blob = new Blob(buffers, {type: 'application/binary'});\n",
              "      const a = document.createElement('a');\n",
              "      a.href = window.URL.createObjectURL(blob);\n",
              "      a.download = filename;\n",
              "      div.appendChild(a);\n",
              "      a.click();\n",
              "      div.remove();\n",
              "    }\n",
              "  "
            ],
            "text/plain": [
              "<IPython.core.display.Javascript object>"
            ]
          },
          "metadata": {
            "tags": []
          }
        },
        {
          "output_type": "display_data",
          "data": {
            "application/javascript": [
              "download(\"download_7e9f6963-c9b1-426b-9b80-fe19521245bf\", \"fig8.eps\", 39108)"
            ],
            "text/plain": [
              "<IPython.core.display.Javascript object>"
            ]
          },
          "metadata": {
            "tags": []
          }
        },
        {
          "output_type": "display_data",
          "data": {
            "image/png": "[encoded data removed]",
            "text/plain": [
              "<Figure size 432x288 with 1 Axes>"
            ]
          },
          "metadata": {
            "tags": []
          }
        }
      ]
    },
    {
      "cell_type": "code",
      "metadata": {
        "id": "wbp89P1t7UPy"
      },
      "source": [
        "X_c = np.zeros([51999, 28])"
      ],
      "execution_count": null,
      "outputs": []
    },
    {
      "cell_type": "code",
      "metadata": {
        "id": "4dzj5Yli78qK"
      },
      "source": [
        "# dummy\n",
        "for j in range(51999):\n",
        "  for i in range(14):\n",
        "    ii = 2*i\n",
        "    if X[j,i] == 1:\n",
        "      X_c[j,ii] = 1\n",
        "    if X[j,i] == -1:\n",
        "      X_c[j,ii+1] = 1"
      ],
      "execution_count": null,
      "outputs": []
    },
    {
      "cell_type": "code",
      "metadata": {
        "id": "G-YrAtRB4WXb"
      },
      "source": [
        "X_train_c, X_test_c, y_train_c, y_test_c = train_test_split(X_c,y,test_size=0.4,random_state=11,stratify=y)"
      ],
      "execution_count": null,
      "outputs": []
    },
    {
      "cell_type": "code",
      "metadata": {
        "id": "GpzMwPvPQfPM"
      },
      "source": [
        "forest2 = RandomForestClassifier(oob_score = True, n_jobs = -1)"
      ],
      "execution_count": null,
      "outputs": []
    },
    {
      "cell_type": "code",
      "metadata": {
        "id": "77STvf1tQfPN"
      },
      "source": [
        "clf2 = LogisticRegression(random_state=0)"
      ],
      "execution_count": null,
      "outputs": []
    },
    {
      "cell_type": "code",
      "metadata": {
        "id": "EAkkjBXD4SxD"
      },
      "source": [
        "scores3 = cross_val_score(forest2, X_train_c, y_train_c, scoring='accuracy', cv=cv, n_jobs=-1)"
      ],
      "execution_count": null,
      "outputs": []
    },
    {
      "cell_type": "code",
      "metadata": {
        "id": "NoXz1FSD4SxE"
      },
      "source": [
        "scores4 = cross_val_score(clf2, X_train_c, y_train_c, scoring='accuracy', cv=cv, n_jobs=-1)"
      ],
      "execution_count": null,
      "outputs": []
    },
    {
      "cell_type": "code",
      "metadata": {
        "colab": {
          "base_uri": "https://localhost:8080/"
        },
        "id": "E-hFmVRE4SxF",
        "outputId": "e3654da5-0a11-4f57-a3f2-9d1787b0765a"
      },
      "source": [
        "print('Performce of Random Forest: %.3f' % (mean(scores3)))"
      ],
      "execution_count": null,
      "outputs": [
        {
          "output_type": "stream",
          "text": [
            "Performce of Random Forest: 0.676\n"
          ],
          "name": "stdout"
        }
      ]
    },
    {
      "cell_type": "code",
      "metadata": {
        "colab": {
          "base_uri": "https://localhost:8080/"
        },
        "id": "9SshBk_l4SxH",
        "outputId": "7e87a357-3f62-4c11-9f73-09d09d6f67b4"
      },
      "source": [
        "print('Performance of Logistic Regraression: %.3f' % (mean(scores4)))"
      ],
      "execution_count": null,
      "outputs": [
        {
          "output_type": "stream",
          "text": [
            "Performance of Logistic Regraression: 0.588\n"
          ],
          "name": "stdout"
        }
      ]
    },
    {
      "cell_type": "code",
      "metadata": {
        "id": "8Sa8vw2n4SxI"
      },
      "source": [
        "y_test_pred3 = forest2.fit(X_train_c,y_train_c).predict(X_test_c)\n",
        "y_test_pred4 = clf2.fit(X_train_c,y_train_c).predict(X_test_c)"
      ],
      "execution_count": null,
      "outputs": []
    },
    {
      "cell_type": "code",
      "metadata": {
        "colab": {
          "base_uri": "https://localhost:8080/"
        },
        "id": "ts45a_7P4SxJ",
        "outputId": "9f5aee7b-0c15-455f-f519-e330a125c53b"
      },
      "source": [
        "print(\"Accuracy of test - Random Forest:\",metrics.accuracy_score(y_test_c, y_test_pred3))\n",
        "print(\"Accuracy of test - Logistic Regression:\",metrics.accuracy_score(y_test_c, y_test_pred4))"
      ],
      "execution_count": null,
      "outputs": [
        {
          "output_type": "stream",
          "text": [
            "Accuracy of test - Random Forest: 0.6724038461538462\n",
            "Accuracy of test - Logistic Regression: 0.5716346153846154\n"
          ],
          "name": "stdout"
        }
      ]
    },
    {
      "cell_type": "code",
      "metadata": {
        "colab": {
          "base_uri": "https://localhost:8080/"
        },
        "id": "o14qVJfz4SxJ",
        "outputId": "2f9d9284-8a1c-457a-82f2-e8c05e2a471e"
      },
      "source": [
        "print(classification_report(y_test_c, y_test_pred3, target_names=target_names))"
      ],
      "execution_count": null,
      "outputs": [
        {
          "output_type": "stream",
          "text": [
            "              precision    recall  f1-score   support\n",
            "\n",
            "           0       0.73      0.54      0.62     10363\n",
            "           1       0.64      0.81      0.71     10437\n",
            "\n",
            "    accuracy                           0.67     20800\n",
            "   macro avg       0.69      0.67      0.67     20800\n",
            "weighted avg       0.69      0.67      0.67     20800\n",
            "\n"
          ],
          "name": "stdout"
        }
      ]
    },
    {
      "cell_type": "code",
      "metadata": {
        "colab": {
          "base_uri": "https://localhost:8080/"
        },
        "id": "_bExFMkL4SxK",
        "outputId": "4412288b-9b1a-4c2c-a992-0c446fa2d6a3"
      },
      "source": [
        "print(classification_report(y_test_c, y_test_pred4, target_names=target_names))"
      ],
      "execution_count": null,
      "outputs": [
        {
          "output_type": "stream",
          "text": [
            "              precision    recall  f1-score   support\n",
            "\n",
            "           0       0.63      0.33      0.44     10363\n",
            "           1       0.55      0.81      0.65     10437\n",
            "\n",
            "    accuracy                           0.57     20800\n",
            "   macro avg       0.59      0.57      0.55     20800\n",
            "weighted avg       0.59      0.57      0.55     20800\n",
            "\n"
          ],
          "name": "stdout"
        }
      ]
    },
    {
      "cell_type": "code",
      "metadata": {
        "colab": {
          "base_uri": "https://localhost:8080/",
          "height": 338
        },
        "id": "red1-tAIRK97",
        "outputId": "488772c6-09b0-4c02-80cc-cda24404c795"
      },
      "source": [
        "forest_roc_auc = roc_auc_score(y_test_c, forest2.predict(X_test_c))\n",
        "fpr, tpr, thresholds = roc_curve(y_test_c, forest2.predict_proba(X_test_c)[:,1])\n",
        "plt.figure()\n",
        "plt.plot(fpr, tpr, label='Random Forest (area = %0.2f)' % forest_roc_auc)\n",
        "plt.plot([0, 1], [0, 1],'r--')\n",
        "plt.xlim([0.0, 1.0])\n",
        "plt.ylim([0.0, 1.05])\n",
        "plt.xlabel('False Positive Rate')\n",
        "plt.ylabel('True Positive Rate')\n",
        "plt.title(\"Model c\",fontweight=\"bold\")\n",
        "plt.legend(loc=\"lower right\")\n",
        "plt.figure\n",
        "plt.savefig('fig9.eps', bbox_inches='tight')\n",
        "files.download(\"fig9.eps\")"
      ],
      "execution_count": null,
      "outputs": [
        {
          "output_type": "stream",
          "text": [
            "The PostScript backend does not support transparency; partially transparent artists will be rendered opaque.\n",
            "The PostScript backend does not support transparency; partially transparent artists will be rendered opaque.\n"
          ],
          "name": "stderr"
        },
        {
          "output_type": "display_data",
          "data": {
            "application/javascript": [
              "\n",
              "    async function download(id, filename, size) {\n",
              "      if (!google.colab.kernel.accessAllowed) {\n",
              "        return;\n",
              "      }\n",
              "      const div = document.createElement('div');\n",
              "      const label = document.createElement('label');\n",
              "      label.textContent = `Downloading \"${filename}\": `;\n",
              "      div.appendChild(label);\n",
              "      const progress = document.createElement('progress');\n",
              "      progress.max = size;\n",
              "      div.appendChild(progress);\n",
              "      document.body.appendChild(div);\n",
              "\n",
              "      const buffers = [];\n",
              "      let downloaded = 0;\n",
              "\n",
              "      const channel = await google.colab.kernel.comms.open(id);\n",
              "      // Send a message to notify the kernel that we're ready.\n",
              "      channel.send({})\n",
              "\n",
              "      for await (const message of channel.messages) {\n",
              "        // Send a message to notify the kernel that we're ready.\n",
              "        channel.send({})\n",
              "        if (message.buffers) {\n",
              "          for (const buffer of message.buffers) {\n",
              "            buffers.push(buffer);\n",
              "            downloaded += buffer.byteLength;\n",
              "            progress.value = downloaded;\n",
              "          }\n",
              "        }\n",
              "      }\n",
              "      const blob = new Blob(buffers, {type: 'application/binary'});\n",
              "      const a = document.createElement('a');\n",
              "      a.href = window.URL.createObjectURL(blob);\n",
              "      a.download = filename;\n",
              "      div.appendChild(a);\n",
              "      a.click();\n",
              "      div.remove();\n",
              "    }\n",
              "  "
            ],
            "text/plain": [
              "<IPython.core.display.Javascript object>"
            ]
          },
          "metadata": {
            "tags": []
          }
        },
        {
          "output_type": "display_data",
          "data": {
            "application/javascript": [
              "download(\"download_a95b00a7-29e6-41b2-afc9-2bb756857de0\", \"fig9.eps\", 24675)"
            ],
            "text/plain": [
              "<IPython.core.display.Javascript object>"
            ]
          },
          "metadata": {
            "tags": []
          }
        },
        {
          "output_type": "display_data",
          "data": {
            "image/png": "[encoded data removed]",
            "text/plain": [
              "<Figure size 432x288 with 1 Axes>"
            ]
          },
          "metadata": {
            "tags": []
          }
        }
      ]
    },
    {
      "cell_type": "code",
      "metadata": {
        "colab": {
          "base_uri": "https://localhost:8080/",
          "height": 338
        },
        "id": "mQV-bXzgFkUQ",
        "outputId": "a3c7adfe-7d62-4351-a81c-27f1202eaca0"
      },
      "source": [
        "lr_roc_auc = roc_auc_score(y_test_c, clf2.predict(X_test_c))\n",
        "fpr, tpr, thresholds = roc_curve(y_test_c, clf2.predict_proba(X_test_c)[:,1])\n",
        "plt.figure()\n",
        "plt.plot(fpr, tpr, label='Logistic Regression (area = %0.2f)' % logit_roc_auc)\n",
        "plt.plot([0, 1], [0, 1],'r--')\n",
        "plt.xlim([0.0, 1.0])\n",
        "plt.ylim([0.0, 1.05])\n",
        "plt.xlabel('False Positive Rate')\n",
        "plt.ylabel('True Positive Rate')\n",
        "plt.legend(loc=\"lower right\")\n",
        "plt.title(\"Model d\",fontweight=\"bold\")\n",
        "plt.legend(loc=\"lower right\")\n",
        "plt.figure\n",
        "plt.savefig('fig10.eps', bbox_inches='tight')\n",
        "files.download(\"fig10.eps\")"
      ],
      "execution_count": null,
      "outputs": [
        {
          "output_type": "stream",
          "text": [
            "The PostScript backend does not support transparency; partially transparent artists will be rendered opaque.\n",
            "The PostScript backend does not support transparency; partially transparent artists will be rendered opaque.\n"
          ],
          "name": "stderr"
        },
        {
          "output_type": "display_data",
          "data": {
            "application/javascript": [
              "\n",
              "    async function download(id, filename, size) {\n",
              "      if (!google.colab.kernel.accessAllowed) {\n",
              "        return;\n",
              "      }\n",
              "      const div = document.createElement('div');\n",
              "      const label = document.createElement('label');\n",
              "      label.textContent = `Downloading \"${filename}\": `;\n",
              "      div.appendChild(label);\n",
              "      const progress = document.createElement('progress');\n",
              "      progress.max = size;\n",
              "      div.appendChild(progress);\n",
              "      document.body.appendChild(div);\n",
              "\n",
              "      const buffers = [];\n",
              "      let downloaded = 0;\n",
              "\n",
              "      const channel = await google.colab.kernel.comms.open(id);\n",
              "      // Send a message to notify the kernel that we're ready.\n",
              "      channel.send({})\n",
              "\n",
              "      for await (const message of channel.messages) {\n",
              "        // Send a message to notify the kernel that we're ready.\n",
              "        channel.send({})\n",
              "        if (message.buffers) {\n",
              "          for (const buffer of message.buffers) {\n",
              "            buffers.push(buffer);\n",
              "            downloaded += buffer.byteLength;\n",
              "            progress.value = downloaded;\n",
              "          }\n",
              "        }\n",
              "      }\n",
              "      const blob = new Blob(buffers, {type: 'application/binary'});\n",
              "      const a = document.createElement('a');\n",
              "      a.href = window.URL.createObjectURL(blob);\n",
              "      a.download = filename;\n",
              "      div.appendChild(a);\n",
              "      a.click();\n",
              "      div.remove();\n",
              "    }\n",
              "  "
            ],
            "text/plain": [
              "<IPython.core.display.Javascript object>"
            ]
          },
          "metadata": {
            "tags": []
          }
        },
        {
          "output_type": "display_data",
          "data": {
            "application/javascript": [
              "download(\"download_57d96848-937f-4800-8629-18fe69d9cb2a\", \"fig10.eps\", 28993)"
            ],
            "text/plain": [
              "<IPython.core.display.Javascript object>"
            ]
          },
          "metadata": {
            "tags": []
          }
        },
        {
          "output_type": "display_data",
          "data": {
            "image/png": "[encoded data removed]",
            "text/plain": [
              "<Figure size 432x288 with 1 Axes>"
            ]
          },
          "metadata": {
            "tags": []
          }
        }
      ]
    },
    {
      "cell_type": "code",
      "metadata": {
        "colab": {
          "base_uri": "https://localhost:8080/",
          "height": 301
        },
        "id": "_S-eQhETGPDt",
        "outputId": "5a62c167-7af9-4351-c177-68ce6412bd4b"
      },
      "source": [
        "cm3 = plot_confusion_matrix(forest2, X_test_c, y_test_c, display_labels = ['0','1'], cmap=plt.cm.Blues, values_format = \"d\")\n",
        "cm3.ax_.get_images()[0].set_clim(1500, 9000)\n",
        "plt.title(\"Model c\",fontweight=\"bold\")\n",
        "plt.figure\n",
        "plt.savefig('fig3.eps', bbox_inches='tight')\n",
        "files.download(\"fig3.eps\")"
      ],
      "execution_count": null,
      "outputs": [
        {
          "output_type": "display_data",
          "data": {
            "application/javascript": [
              "\n",
              "    async function download(id, filename, size) {\n",
              "      if (!google.colab.kernel.accessAllowed) {\n",
              "        return;\n",
              "      }\n",
              "      const div = document.createElement('div');\n",
              "      const label = document.createElement('label');\n",
              "      label.textContent = `Downloading \"${filename}\": `;\n",
              "      div.appendChild(label);\n",
              "      const progress = document.createElement('progress');\n",
              "      progress.max = size;\n",
              "      div.appendChild(progress);\n",
              "      document.body.appendChild(div);\n",
              "\n",
              "      const buffers = [];\n",
              "      let downloaded = 0;\n",
              "\n",
              "      const channel = await google.colab.kernel.comms.open(id);\n",
              "      // Send a message to notify the kernel that we're ready.\n",
              "      channel.send({})\n",
              "\n",
              "      for await (const message of channel.messages) {\n",
              "        // Send a message to notify the kernel that we're ready.\n",
              "        channel.send({})\n",
              "        if (message.buffers) {\n",
              "          for (const buffer of message.buffers) {\n",
              "            buffers.push(buffer);\n",
              "            downloaded += buffer.byteLength;\n",
              "            progress.value = downloaded;\n",
              "          }\n",
              "        }\n",
              "      }\n",
              "      const blob = new Blob(buffers, {type: 'application/binary'});\n",
              "      const a = document.createElement('a');\n",
              "      a.href = window.URL.createObjectURL(blob);\n",
              "      a.download = filename;\n",
              "      div.appendChild(a);\n",
              "      a.click();\n",
              "      div.remove();\n",
              "    }\n",
              "  "
            ],
            "text/plain": [
              "<IPython.core.display.Javascript object>"
            ]
          },
          "metadata": {
            "tags": []
          }
        },
        {
          "output_type": "display_data",
          "data": {
            "application/javascript": [
              "download(\"download_092f0204-2a8d-4d46-8b36-0fdbac77c092\", \"fig3.eps\", 322683)"
            ],
            "text/plain": [
              "<IPython.core.display.Javascript object>"
            ]
          },
          "metadata": {
            "tags": []
          }
        },
        {
          "output_type": "display_data",
          "data": {
            "image/png": "[encoded data removed]",
            "text/plain": [
              "<Figure size 432x288 with 2 Axes>"
            ]
          },
          "metadata": {
            "tags": []
          }
        }
      ]
    },
    {
      "cell_type": "code",
      "metadata": {
        "colab": {
          "base_uri": "https://localhost:8080/",
          "height": 301
        },
        "id": "_yCgngq1F-hG",
        "outputId": "ffb405a8-d20e-4a82-f1ea-e3189c229e0e"
      },
      "source": [
        "cm4 = plot_confusion_matrix(clf2, X_test_c, y_test_c, display_labels = ['0','1'], cmap=plt.cm.Blues, values_format = \"d\")\n",
        "cm4.ax_.get_images()[0].set_clim(1500, 9000)\n",
        "plt.title(\"Model d\",fontweight=\"bold\")\n",
        "plt.figure\n",
        "plt.savefig('fig4.eps', bbox_inches='tight')\n",
        "files.download(\"fig4.eps\")"
      ],
      "execution_count": null,
      "outputs": [
        {
          "output_type": "display_data",
          "data": {
            "application/javascript": [
              "\n",
              "    async function download(id, filename, size) {\n",
              "      if (!google.colab.kernel.accessAllowed) {\n",
              "        return;\n",
              "      }\n",
              "      const div = document.createElement('div');\n",
              "      const label = document.createElement('label');\n",
              "      label.textContent = `Downloading \"${filename}\": `;\n",
              "      div.appendChild(label);\n",
              "      const progress = document.createElement('progress');\n",
              "      progress.max = size;\n",
              "      div.appendChild(progress);\n",
              "      document.body.appendChild(div);\n",
              "\n",
              "      const buffers = [];\n",
              "      let downloaded = 0;\n",
              "\n",
              "      const channel = await google.colab.kernel.comms.open(id);\n",
              "      // Send a message to notify the kernel that we're ready.\n",
              "      channel.send({})\n",
              "\n",
              "      for await (const message of channel.messages) {\n",
              "        // Send a message to notify the kernel that we're ready.\n",
              "        channel.send({})\n",
              "        if (message.buffers) {\n",
              "          for (const buffer of message.buffers) {\n",
              "            buffers.push(buffer);\n",
              "            downloaded += buffer.byteLength;\n",
              "            progress.value = downloaded;\n",
              "          }\n",
              "        }\n",
              "      }\n",
              "      const blob = new Blob(buffers, {type: 'application/binary'});\n",
              "      const a = document.createElement('a');\n",
              "      a.href = window.URL.createObjectURL(blob);\n",
              "      a.download = filename;\n",
              "      div.appendChild(a);\n",
              "      a.click();\n",
              "      div.remove();\n",
              "    }\n",
              "  "
            ],
            "text/plain": [
              "<IPython.core.display.Javascript object>"
            ]
          },
          "metadata": {
            "tags": []
          }
        },
        {
          "output_type": "display_data",
          "data": {
            "application/javascript": [
              "download(\"download_e7e68d59-d542-47a0-83d4-845edb2adf0f\", \"fig4.eps\", 322207)"
            ],
            "text/plain": [
              "<IPython.core.display.Javascript object>"
            ]
          },
          "metadata": {
            "tags": []
          }
        },
        {
          "output_type": "display_data",
          "data": {
            "image/png": "[encoded data removed]",
            "text/plain": [
              "<Figure size 432x288 with 2 Axes>"
            ]
          },
          "metadata": {
            "tags": []
          }
        }
      ]
    }
  ]
}