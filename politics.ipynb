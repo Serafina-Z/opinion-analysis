{
  "nbformat": 4,
  "nbformat_minor": 0,
  "metadata": {
    "colab": {
      "name": "politics.ipynb",
      "provenance": [],
      "collapsed_sections": [],
      "authorship_tag": "ABX9TyNsER9EXpZ4anWbFadXIX1n",
      "include_colab_link": true
    },
    "kernelspec": {
      "display_name": "Python 3",
      "name": "python3"
    },
    "language_info": {
      "name": "python"
    }
  },
  "cells": [
    {
      "cell_type": "markdown",
      "metadata": {
        "id": "view-in-github",
        "colab_type": "text"
      },
      "source": [
        "<a href=\"https://colab.research.google.com/github/Serafina-Z/opinion-analysis/blob/main/politics.ipynb\" target=\"_parent\"><img src=\"https://colab.research.google.com/assets/colab-badge.svg\" alt=\"Open In Colab\"/></a>"
      ]
    },
    {
      "cell_type": "markdown",
      "metadata": {
        "id": "LFL5P-scrYLi"
      },
      "source": [
        "### **Politics Opinion Analysis**"
      ]
    },
    {
      "cell_type": "markdown",
      "metadata": {
        "id": "qgVbNuHJCFn6"
      },
      "source": [
        "**Data Loading**"
      ]
    },
    {
      "cell_type": "code",
      "metadata": {
        "id": "21MVmWSdPw7J"
      },
      "source": [
        "from google.colab import files\n",
        "uploaded = files.upload()"
      ],
      "execution_count": null,
      "outputs": []
    },
    {
      "cell_type": "code",
      "metadata": {
        "colab": {
          "base_uri": "https://localhost:8080/"
        },
        "id": "0aJ_Ul3dQsUO",
        "outputId": "b60b089e-c4f1-407f-884b-fbb5954238d2"
      },
      "source": [
        "from google.colab import drive\n",
        "drive.mount('/content/drive')"
      ],
      "execution_count": 2,
      "outputs": [
        {
          "output_type": "stream",
          "text": [
            "Mounted at /content/drive\n"
          ],
          "name": "stdout"
        }
      ]
    },
    {
      "cell_type": "code",
      "metadata": {
        "id": "GmBw_ukzQsW6"
      },
      "source": [
        "! mkdir ~/.kaggle"
      ],
      "execution_count": 3,
      "outputs": []
    },
    {
      "cell_type": "code",
      "metadata": {
        "id": "o2s0wz7BQsae"
      },
      "source": [
        "! cp kaggle.json ~/.kaggle/"
      ],
      "execution_count": 4,
      "outputs": []
    },
    {
      "cell_type": "code",
      "metadata": {
        "id": "uCpAQfhYQsdZ"
      },
      "source": [
        "! chmod 600 ~/.kaggle/kaggle.json"
      ],
      "execution_count": 6,
      "outputs": []
    },
    {
      "cell_type": "code",
      "metadata": {
        "id": "d8TeCl49QsgO"
      },
      "source": [
        "!kaggle datasets download aashita/nyt-comments -f CommentsApril2017.csv -p /content/"
      ],
      "execution_count": null,
      "outputs": []
    },
    {
      "cell_type": "code",
      "metadata": {
        "id": "e7Otf0_5Qsjm"
      },
      "source": [
        "from zipfile import ZipFile\n",
        "with ZipFile(\"CommentsApril2017.csv.zip\", 'r') as zip:\n",
        "  zip.extractall()"
      ],
      "execution_count": 7,
      "outputs": []
    },
    {
      "cell_type": "code",
      "metadata": {
        "id": "h_XOoaj0Qsmz"
      },
      "source": [
        "import pandas as pd\n",
        "from collections import Counter\n",
        "data = pd.read_csv(\"/content/CommentsApril2017.csv\")"
      ],
      "execution_count": null,
      "outputs": []
    },
    {
      "cell_type": "code",
      "metadata": {
        "id": "6wgjfHybQs43",
        "collapsed": true
      },
      "source": [
        "!pip install pandasql\n",
        "from pandasql import sqldf\n",
        "q1 = \"\"\"\n",
        "         select sectionName, articleID, commentBody, editorsSelection, recommendations\n",
        "         from data\n",
        "         where (sectionName = 'Politics')\n",
        "\"\"\""
      ],
      "execution_count": null,
      "outputs": []
    },
    {
      "cell_type": "code",
      "metadata": {
        "id": "TTe0wSL9Qs_f"
      },
      "source": [
        "pysqldf = lambda q: sqldf(q, globals())\n",
        "clean = pysqldf(q1)"
      ],
      "execution_count": 10,
      "outputs": []
    },
    {
      "cell_type": "code",
      "metadata": {
        "colab": {
          "base_uri": "https://localhost:8080/"
        },
        "id": "1g-bL7d8bAfI",
        "outputId": "66216890-f3d8-445d-c4ed-3c19312965fb"
      },
      "source": [
        "clean.shape"
      ],
      "execution_count": 11,
      "outputs": [
        {
          "output_type": "execute_result",
          "data": {
            "text/plain": [
              "(38381, 5)"
            ]
          },
          "metadata": {
            "tags": []
          },
          "execution_count": 11
        }
      ]
    },
    {
      "cell_type": "code",
      "metadata": {
        "colab": {
          "base_uri": "https://localhost:8080/"
        },
        "id": "6beBCWK_E_gv",
        "outputId": "aafd759b-975a-47e3-b98e-14e518d5c006"
      },
      "source": [
        "len(Counter(clean[\"articleID\"]).keys())"
      ],
      "execution_count": 12,
      "outputs": [
        {
          "output_type": "execute_result",
          "data": {
            "text/plain": [
              "51"
            ]
          },
          "metadata": {
            "tags": []
          },
          "execution_count": 12
        }
      ]
    },
    {
      "cell_type": "markdown",
      "metadata": {
        "id": "wfg3SrJAQ4y6"
      },
      "source": [
        "**Text Cleaning**"
      ]
    },
    {
      "cell_type": "code",
      "metadata": {
        "id": "SpIN5XeAvjns"
      },
      "source": [
        "!pip install nltk\n",
        "import nltk\n",
        "nltk.download(\"all\")\n",
        "from nltk import sent_tokenize\n",
        "sentences = [] # each comment as a doc\n",
        "for i in clean[\"commentBody\"]:\n",
        "    s=sent_tokenize(i)\n",
        "    sentences.append(s)\n",
        "sentences[0]"
      ],
      "execution_count": null,
      "outputs": []
    },
    {
      "cell_type": "code",
      "metadata": {
        "id": "c9Mp-4KDdBxZ"
      },
      "source": [
        "# tokenization\n",
        "from nltk.tokenize import word_tokenize\n",
        "token_list= []\n",
        "for i in sentences: # i is comment level\n",
        "    for j in i:\n",
        "      tokens = word_tokenize(j)\n",
        "      words = [word for word in tokens if word.isalpha()]\n",
        "      words = [word.lower() for word in words]\n",
        "      token_list.append(words)"
      ],
      "execution_count": 14,
      "outputs": []
    },
    {
      "cell_type": "code",
      "metadata": {
        "id": "j_scoVG0vZmp"
      },
      "source": [
        "# lemmatization\n",
        "from nltk.stem import WordNetLemmatizer \n",
        "from nltk.corpus import wordnet \n",
        "lemmatizer = WordNetLemmatizer() \n",
        "def pos_tagger(nltk_tag): \n",
        "    if nltk_tag.startswith('J'): \n",
        "        return wordnet.ADJ \n",
        "    elif nltk_tag.startswith('V'): \n",
        "        return wordnet.VERB \n",
        "    elif nltk_tag.startswith('N'): \n",
        "        return wordnet.NOUN \n",
        "    elif nltk_tag.startswith('R'): \n",
        "        return wordnet.ADV \n",
        "    else:           \n",
        "        return None\n",
        "lemma_list = []\n",
        "for i in token_list:\n",
        "  pos_tagged = nltk.pos_tag(i)\n",
        "  wordnet_tagged = list(map(lambda x: (x[0], pos_tagger(x[1])), pos_tagged))\n",
        "  lemma = [] \n",
        "  for word, tag in wordnet_tagged:\n",
        "    if word == \"i\":\n",
        "      continue\n",
        "    if tag is None: \n",
        "      # if there is no available tag, append the token as is \n",
        "      lemma.append(word) \n",
        "    else:         \n",
        "      # else use the tag to lemmatize the token \n",
        "      lemma.append(lemmatizer.lemmatize(word, tag))\n",
        "  lemma_list.append(lemma)"
      ],
      "execution_count": 15,
      "outputs": []
    },
    {
      "cell_type": "markdown",
      "metadata": {
        "id": "E4CpUT5WRA2r"
      },
      "source": [
        "**Aspect Extraction**"
      ]
    },
    {
      "cell_type": "code",
      "metadata": {
        "id": "PssSHZdly54I"
      },
      "source": [
        "bi = []\n",
        "for item in lemma_list:\n",
        "  grams = [item[i:i+2] for i in range(len(item)-2+1)]\n",
        "  bigrams = [' '.join(j) for j in grams]\n",
        "  bi.append(bigrams)"
      ],
      "execution_count": 16,
      "outputs": []
    },
    {
      "cell_type": "code",
      "metadata": {
        "id": "UuY5eU_hGXgo"
      },
      "source": [
        "bi_v = [bigram for i in bi for bigram in i]\n",
        "uni_v = [unigram for i in lemma_list for unigram in i]"
      ],
      "execution_count": 17,
      "outputs": []
    },
    {
      "cell_type": "code",
      "metadata": {
        "id": "NR0yxSGr35yN"
      },
      "source": [
        "counter_bi = Counter(bi_v)"
      ],
      "execution_count": 18,
      "outputs": []
    },
    {
      "cell_type": "code",
      "metadata": {
        "id": "BB_HKzL9mdAn"
      },
      "source": [
        "from nltk.corpus import stopwords"
      ],
      "execution_count": 19,
      "outputs": []
    },
    {
      "cell_type": "code",
      "metadata": {
        "id": "jO6NdDUrksD1"
      },
      "source": [
        "# filter before computing for less noise\n",
        "for i in list(counter_bi.keys()):\n",
        "  if i.split()[0] in stopwords.words('english'):\n",
        "    if i.split()[1] in stopwords.words('english'):\n",
        "      counter_bi.pop(i)"
      ],
      "execution_count": 20,
      "outputs": []
    },
    {
      "cell_type": "code",
      "metadata": {
        "id": "vV9LMmlTn6ZQ"
      },
      "source": [
        "for i in list(counter_bi.keys()):\n",
        "  w,t = nltk.pos_tag(i.split())[0]\n",
        "  w1,t1 = nltk.pos_tag(i.split())[1]\n",
        "  if t[0] != \"N\":\n",
        "    if t1[0] != \"N\":\n",
        "      counter_bi.pop(i)"
      ],
      "execution_count": 21,
      "outputs": []
    },
    {
      "cell_type": "code",
      "metadata": {
        "id": "l2Zd2RQbJqOg"
      },
      "source": [
        "import math\n",
        "def pmi_index(bigram):\n",
        "  a, b = bigram.split()\n",
        "  new = []\n",
        "  for i in bi_v:\n",
        "    if i != bigram:\n",
        "      for wor in i.split():\n",
        "        new.append(wor)\n",
        "    else:\n",
        "      new.append(i)\n",
        "  counter_new = Counter(new)\n",
        "  if counter_new[a] == 0 or counter_new[b] == 0:\n",
        "    pmi = \"dependent\"\n",
        "  else:\n",
        "    pmi = math.log(counter_new[bigram]/((counter_new[a]-counter_new[bigram])*(counter_new[b]-counter_new[bigram])/(len(new)-2*counter_new[bigram])))\n",
        "  return pmi"
      ],
      "execution_count": 22,
      "outputs": []
    },
    {
      "cell_type": "code",
      "metadata": {
        "id": "m6g6jtXwTPkb"
      },
      "source": [
        "counter_b = counter_bi.most_common(100)"
      ],
      "execution_count": 23,
      "outputs": []
    },
    {
      "cell_type": "code",
      "metadata": {
        "id": "2cqUrLjwrDQ6"
      },
      "source": [
        "bi_gram_list = [k for (k,v) in counter_b]"
      ],
      "execution_count": 24,
      "outputs": []
    },
    {
      "cell_type": "code",
      "metadata": {
        "id": "WYQX5KAY5Hq7"
      },
      "source": [
        "frequency = [v for (k,v) in counter_b]"
      ],
      "execution_count": 25,
      "outputs": []
    },
    {
      "cell_type": "code",
      "metadata": {
        "id": "gEEnW1HhW-81"
      },
      "source": [
        "pmi = [pmi_index(k) for (k,v) in counter_b]"
      ],
      "execution_count": 26,
      "outputs": []
    },
    {
      "cell_type": "code",
      "metadata": {
        "id": "G8-eRq9_XRVP"
      },
      "source": [
        "fre_df = pd.DataFrame({\"bigram\":bi_gram_list, \"pmi\":pmi, \"frequency\": frequency})"
      ],
      "execution_count": 27,
      "outputs": []
    },
    {
      "cell_type": "code",
      "metadata": {
        "id": "y6y1c3GycIpx",
        "colab": {
          "base_uri": "https://localhost:8080/",
          "height": 1000
        },
        "collapsed": true,
        "outputId": "71a4ffd9-1c5a-47a2-8bc9-1d23ca73b6fe"
      },
      "source": [
        "fre_most = fre_df.sort_values(by=\"pmi\", ascending=False).head(50)\n",
        "fre_most"
      ],
      "execution_count": 28,
      "outputs": [
        {
          "output_type": "execute_result",
          "data": {
            "text/html": [
              "<div>\n",
              "<style scoped>\n",
              "    .dataframe tbody tr th:only-of-type {\n",
              "        vertical-align: middle;\n",
              "    }\n",
              "\n",
              "    .dataframe tbody tr th {\n",
              "        vertical-align: top;\n",
              "    }\n",
              "\n",
              "    .dataframe thead th {\n",
              "        text-align: right;\n",
              "    }\n",
              "</style>\n",
              "<table border=\"1\" class=\"dataframe\">\n",
              "  <thead>\n",
              "    <tr style=\"text-align: right;\">\n",
              "      <th></th>\n",
              "      <th>bigram</th>\n",
              "      <th>pmi</th>\n",
              "      <th>frequency</th>\n",
              "    </tr>\n",
              "  </thead>\n",
              "  <tbody>\n",
              "    <tr>\n",
              "      <th>28</th>\n",
              "      <td>http http</td>\n",
              "      <td>13.819215</td>\n",
              "      <td>825</td>\n",
              "    </tr>\n",
              "    <tr>\n",
              "      <th>9</th>\n",
              "      <td>supreme court</td>\n",
              "      <td>10.099670</td>\n",
              "      <td>1375</td>\n",
              "    </tr>\n",
              "    <tr>\n",
              "      <th>75</th>\n",
              "      <td>north korea</td>\n",
              "      <td>9.686748</td>\n",
              "      <td>495</td>\n",
              "    </tr>\n",
              "    <tr>\n",
              "      <th>3</th>\n",
              "      <td>white house</td>\n",
              "      <td>8.356377</td>\n",
              "      <td>1577</td>\n",
              "    </tr>\n",
              "    <tr>\n",
              "      <th>49</th>\n",
              "      <td>middle class</td>\n",
              "      <td>8.092947</td>\n",
              "      <td>655</td>\n",
              "    </tr>\n",
              "    <tr>\n",
              "      <th>45</th>\n",
              "      <td>united state</td>\n",
              "      <td>7.350041</td>\n",
              "      <td>666</td>\n",
              "    </tr>\n",
              "    <tr>\n",
              "      <th>21</th>\n",
              "      <td>health care</td>\n",
              "      <td>6.678027</td>\n",
              "      <td>1047</td>\n",
              "    </tr>\n",
              "    <tr>\n",
              "      <th>23</th>\n",
              "      <td>tax return</td>\n",
              "      <td>5.556808</td>\n",
              "      <td>974</td>\n",
              "    </tr>\n",
              "    <tr>\n",
              "      <th>71</th>\n",
              "      <td>tax reform</td>\n",
              "      <td>5.533427</td>\n",
              "      <td>509</td>\n",
              "    </tr>\n",
              "    <tr>\n",
              "      <th>25</th>\n",
              "      <td>donald trump</td>\n",
              "      <td>5.033974</td>\n",
              "      <td>905</td>\n",
              "    </tr>\n",
              "    <tr>\n",
              "      <th>10</th>\n",
              "      <td>tax cut</td>\n",
              "      <td>4.991307</td>\n",
              "      <td>1329</td>\n",
              "    </tr>\n",
              "    <tr>\n",
              "      <th>86</th>\n",
              "      <td>talk about</td>\n",
              "      <td>4.837573</td>\n",
              "      <td>465</td>\n",
              "    </tr>\n",
              "    <tr>\n",
              "      <th>63</th>\n",
              "      <td>kind of</td>\n",
              "      <td>4.722175</td>\n",
              "      <td>550</td>\n",
              "    </tr>\n",
              "    <tr>\n",
              "      <th>62</th>\n",
              "      <td>refuse to</td>\n",
              "      <td>4.649056</td>\n",
              "      <td>555</td>\n",
              "    </tr>\n",
              "    <tr>\n",
              "      <th>52</th>\n",
              "      <td>tax rate</td>\n",
              "      <td>4.636788</td>\n",
              "      <td>637</td>\n",
              "    </tr>\n",
              "    <tr>\n",
              "      <th>40</th>\n",
              "      <td>rest of</td>\n",
              "      <td>4.596510</td>\n",
              "      <td>718</td>\n",
              "    </tr>\n",
              "    <tr>\n",
              "      <th>29</th>\n",
              "      <td>of course</td>\n",
              "      <td>4.552049</td>\n",
              "      <td>823</td>\n",
              "    </tr>\n",
              "    <tr>\n",
              "      <th>34</th>\n",
              "      <td>a lot</td>\n",
              "      <td>4.489920</td>\n",
              "      <td>751</td>\n",
              "    </tr>\n",
              "    <tr>\n",
              "      <th>31</th>\n",
              "      <td>the rest</td>\n",
              "      <td>4.470677</td>\n",
              "      <td>788</td>\n",
              "    </tr>\n",
              "    <tr>\n",
              "      <th>66</th>\n",
              "      <td>look at</td>\n",
              "      <td>4.097826</td>\n",
              "      <td>537</td>\n",
              "    </tr>\n",
              "    <tr>\n",
              "      <th>7</th>\n",
              "      <td>try to</td>\n",
              "      <td>4.071379</td>\n",
              "      <td>1496</td>\n",
              "    </tr>\n",
              "    <tr>\n",
              "      <th>60</th>\n",
              "      <td>the constitution</td>\n",
              "      <td>4.028094</td>\n",
              "      <td>563</td>\n",
              "    </tr>\n",
              "    <tr>\n",
              "      <th>47</th>\n",
              "      <td>president obama</td>\n",
              "      <td>3.989535</td>\n",
              "      <td>660</td>\n",
              "    </tr>\n",
              "    <tr>\n",
              "      <th>99</th>\n",
              "      <td>income tax</td>\n",
              "      <td>3.894160</td>\n",
              "      <td>432</td>\n",
              "    </tr>\n",
              "    <tr>\n",
              "      <th>89</th>\n",
              "      <td>lack of</td>\n",
              "      <td>3.886395</td>\n",
              "      <td>456</td>\n",
              "    </tr>\n",
              "    <tr>\n",
              "      <th>97</th>\n",
              "      <td>this article</td>\n",
              "      <td>3.863254</td>\n",
              "      <td>433</td>\n",
              "    </tr>\n",
              "    <tr>\n",
              "      <th>95</th>\n",
              "      <td>base on</td>\n",
              "      <td>3.816218</td>\n",
              "      <td>440</td>\n",
              "    </tr>\n",
              "    <tr>\n",
              "      <th>50</th>\n",
              "      <td>lot of</td>\n",
              "      <td>3.805424</td>\n",
              "      <td>654</td>\n",
              "    </tr>\n",
              "    <tr>\n",
              "      <th>73</th>\n",
              "      <td>the aca</td>\n",
              "      <td>3.694634</td>\n",
              "      <td>505</td>\n",
              "    </tr>\n",
              "    <tr>\n",
              "      <th>48</th>\n",
              "      <td>part of</td>\n",
              "      <td>3.687389</td>\n",
              "      <td>657</td>\n",
              "    </tr>\n",
              "    <tr>\n",
              "      <th>59</th>\n",
              "      <td>our country</td>\n",
              "      <td>3.531444</td>\n",
              "      <td>565</td>\n",
              "    </tr>\n",
              "    <tr>\n",
              "      <th>93</th>\n",
              "      <td>care about</td>\n",
              "      <td>3.430793</td>\n",
              "      <td>442</td>\n",
              "    </tr>\n",
              "    <tr>\n",
              "      <th>33</th>\n",
              "      <td>continue to</td>\n",
              "      <td>3.367643</td>\n",
              "      <td>759</td>\n",
              "    </tr>\n",
              "    <tr>\n",
              "      <th>5</th>\n",
              "      <td>the gop</td>\n",
              "      <td>3.297129</td>\n",
              "      <td>1536</td>\n",
              "    </tr>\n",
              "    <tr>\n",
              "      <th>65</th>\n",
              "      <td>american people</td>\n",
              "      <td>3.273442</td>\n",
              "      <td>545</td>\n",
              "    </tr>\n",
              "    <tr>\n",
              "      <th>91</th>\n",
              "      <td>tax plan</td>\n",
              "      <td>3.223791</td>\n",
              "      <td>447</td>\n",
              "    </tr>\n",
              "    <tr>\n",
              "      <th>64</th>\n",
              "      <td>this administration</td>\n",
              "      <td>3.218042</td>\n",
              "      <td>548</td>\n",
              "    </tr>\n",
              "    <tr>\n",
              "      <th>35</th>\n",
              "      <td>the fbi</td>\n",
              "      <td>3.207361</td>\n",
              "      <td>751</td>\n",
              "    </tr>\n",
              "    <tr>\n",
              "      <th>11</th>\n",
              "      <td>vote for</td>\n",
              "      <td>3.157807</td>\n",
              "      <td>1290</td>\n",
              "    </tr>\n",
              "    <tr>\n",
              "      <th>16</th>\n",
              "      <td>the senate</td>\n",
              "      <td>3.032860</td>\n",
              "      <td>1228</td>\n",
              "    </tr>\n",
              "    <tr>\n",
              "      <th>2</th>\n",
              "      <td>want to</td>\n",
              "      <td>3.008999</td>\n",
              "      <td>2087</td>\n",
              "    </tr>\n",
              "    <tr>\n",
              "      <th>8</th>\n",
              "      <td>the world</td>\n",
              "      <td>2.983683</td>\n",
              "      <td>1456</td>\n",
              "    </tr>\n",
              "    <tr>\n",
              "      <th>20</th>\n",
              "      <td>seem to</td>\n",
              "      <td>2.932193</td>\n",
              "      <td>1052</td>\n",
              "    </tr>\n",
              "    <tr>\n",
              "      <th>85</th>\n",
              "      <td>trump administration</td>\n",
              "      <td>2.894964</td>\n",
              "      <td>466</td>\n",
              "    </tr>\n",
              "    <tr>\n",
              "      <th>54</th>\n",
              "      <td>no one</td>\n",
              "      <td>2.882089</td>\n",
              "      <td>618</td>\n",
              "    </tr>\n",
              "    <tr>\n",
              "      <th>1</th>\n",
              "      <td>need to</td>\n",
              "      <td>2.875574</td>\n",
              "      <td>2104</td>\n",
              "    </tr>\n",
              "    <tr>\n",
              "      <th>41</th>\n",
              "      <td>this country</td>\n",
              "      <td>2.811517</td>\n",
              "      <td>712</td>\n",
              "    </tr>\n",
              "    <tr>\n",
              "      <th>18</th>\n",
              "      <td>pay for</td>\n",
              "      <td>2.808501</td>\n",
              "      <td>1096</td>\n",
              "    </tr>\n",
              "    <tr>\n",
              "      <th>81</th>\n",
              "      <td>a http</td>\n",
              "      <td>2.734463</td>\n",
              "      <td>480</td>\n",
              "    </tr>\n",
              "    <tr>\n",
              "      <th>37</th>\n",
              "      <td>people who</td>\n",
              "      <td>2.721983</td>\n",
              "      <td>739</td>\n",
              "    </tr>\n",
              "  </tbody>\n",
              "</table>\n",
              "</div>"
            ],
            "text/plain": [
              "                  bigram        pmi  frequency\n",
              "28             http http  13.819215        825\n",
              "9          supreme court  10.099670       1375\n",
              "75           north korea   9.686748        495\n",
              "3            white house   8.356377       1577\n",
              "49          middle class   8.092947        655\n",
              "45          united state   7.350041        666\n",
              "21           health care   6.678027       1047\n",
              "23            tax return   5.556808        974\n",
              "71            tax reform   5.533427        509\n",
              "25          donald trump   5.033974        905\n",
              "10               tax cut   4.991307       1329\n",
              "86            talk about   4.837573        465\n",
              "63               kind of   4.722175        550\n",
              "62             refuse to   4.649056        555\n",
              "52              tax rate   4.636788        637\n",
              "40               rest of   4.596510        718\n",
              "29             of course   4.552049        823\n",
              "34                 a lot   4.489920        751\n",
              "31              the rest   4.470677        788\n",
              "66               look at   4.097826        537\n",
              "7                 try to   4.071379       1496\n",
              "60      the constitution   4.028094        563\n",
              "47       president obama   3.989535        660\n",
              "99            income tax   3.894160        432\n",
              "89               lack of   3.886395        456\n",
              "97          this article   3.863254        433\n",
              "95               base on   3.816218        440\n",
              "50                lot of   3.805424        654\n",
              "73               the aca   3.694634        505\n",
              "48               part of   3.687389        657\n",
              "59           our country   3.531444        565\n",
              "93            care about   3.430793        442\n",
              "33           continue to   3.367643        759\n",
              "5                the gop   3.297129       1536\n",
              "65       american people   3.273442        545\n",
              "91              tax plan   3.223791        447\n",
              "64   this administration   3.218042        548\n",
              "35               the fbi   3.207361        751\n",
              "11              vote for   3.157807       1290\n",
              "16            the senate   3.032860       1228\n",
              "2                want to   3.008999       2087\n",
              "8              the world   2.983683       1456\n",
              "20               seem to   2.932193       1052\n",
              "85  trump administration   2.894964        466\n",
              "54                no one   2.882089        618\n",
              "1                need to   2.875574       2104\n",
              "41          this country   2.811517        712\n",
              "18               pay for   2.808501       1096\n",
              "81                a http   2.734463        480\n",
              "37            people who   2.721983        739"
            ]
          },
          "metadata": {
            "tags": []
          },
          "execution_count": 28
        }
      ]
    },
    {
      "cell_type": "code",
      "metadata": {
        "id": "H0_CFy1ovN5S"
      },
      "source": [
        "select = fre_most.drop([28,86,63,62,40,29,34,31,66,7,89,95,50,59,48,93,33,64,11,2,20,54,1,41,33,18,81,37,85])\n",
        "select_bi = select[\"bigram\"] # 22 bigrams selected"
      ],
      "execution_count": 29,
      "outputs": []
    },
    {
      "cell_type": "code",
      "metadata": {
        "colab": {
          "base_uri": "https://localhost:8080/"
        },
        "id": "aeK3zpqKWMb-",
        "outputId": "8368d918-78b3-4061-ed11-99dc0e511c21"
      },
      "source": [
        "len(select_bi)"
      ],
      "execution_count": 30,
      "outputs": [
        {
          "output_type": "execute_result",
          "data": {
            "text/plain": [
              "22"
            ]
          },
          "metadata": {
            "tags": []
          },
          "execution_count": 30
        }
      ]
    },
    {
      "cell_type": "code",
      "metadata": {
        "id": "8qs0F1k6qimR"
      },
      "source": [
        "from collections import defaultdict  \n",
        "bi_dict = defaultdict(list)\n",
        "for bi in select_bi:\n",
        "  f,s = bi.split()\n",
        "  bi_dict[f].append(s)"
      ],
      "execution_count": 31,
      "outputs": []
    },
    {
      "cell_type": "code",
      "metadata": {
        "id": "yr2X3xY0o4W8"
      },
      "source": [
        "sent_c = []\n",
        "for sent in lemma_list: \n",
        "  if len(sent) > 1:\n",
        "    sent_list = []\n",
        "    for i in range(len(sent)-1):\n",
        "      if sent[i] in list(bi_dict.keys()):\n",
        "        if sent[i+1] in bi_dict[sent[i]]:\n",
        "          bi = sent[i] + \" \" + sent[i+1]\n",
        "          sent_list.append(bi)\n",
        "        else:\n",
        "          if sent[i] not in stopwords.words('english'):\n",
        "            sent_list.append(sent[i])  \n",
        "      else:\n",
        "        if sent[i] not in stopwords.words('english'):\n",
        "          sent_list.append(sent[i]) \n",
        "    sent_c.append(sent_list)\n",
        "  elif len(sent) == 1:\n",
        "    if sent[0] not in stopwords.words('english'):\n",
        "      sent_c.append(sent)\n",
        "    else:\n",
        "      sent_c.append([])\n",
        "  else:\n",
        "    sent_c.append([])"
      ],
      "execution_count": null,
      "outputs": []
    },
    {
      "cell_type": "code",
      "metadata": {
        "id": "8Fa1iWxxBLKR"
      },
      "source": [
        "sent1 = [] # comment level\n",
        "for c in sentences:\n",
        "  ll = []\n",
        "  for s in c:\n",
        "    tokens = word_tokenize(s)\n",
        "    words = [word for word in tokens if word.isalpha()]\n",
        "    words = [word.lower() for word in words]\n",
        "    words = [word for word in words if word != 'i']\n",
        "    ll.append(words)\n",
        "  sent1.append(ll)"
      ],
      "execution_count": null,
      "outputs": []
    },
    {
      "cell_type": "code",
      "metadata": {
        "id": "qUIBCptqBLKZ"
      },
      "source": [
        "num_com = len(sentences)"
      ],
      "execution_count": null,
      "outputs": []
    },
    {
      "cell_type": "code",
      "metadata": {
        "id": "H4XPaETwBLKa"
      },
      "source": [
        "com_sent = [] # basic list is sentence\n",
        "count = 0\n",
        "for i in range(num_com):\n",
        "  end = count + len(sent1[i])\n",
        "  cc = sent_c[count:end]\n",
        "  com_sent.append(cc)\n",
        "  count = end"
      ],
      "execution_count": null,
      "outputs": []
    },
    {
      "cell_type": "code",
      "metadata": {
        "id": "PVw0nkCXBLKa"
      },
      "source": [
        "comment = [] # basic list is comment\n",
        "for com in com_sent:\n",
        "  c = []\n",
        "  for sent in com:\n",
        "    for wor in sent:\n",
        "      c.append(wor)\n",
        "  comment.append(c)"
      ],
      "execution_count": null,
      "outputs": []
    },
    {
      "cell_type": "code",
      "metadata": {
        "id": "9K60QB34BLKb"
      },
      "source": [
        "noun = []\n",
        "for com in comment:\n",
        "  c = []\n",
        "  for wor in com:\n",
        "    if wor in select_bi:\n",
        "      c.append(wor)\n",
        "    else:\n",
        "      w, t = nltk.pos_tag([wor])[0]\n",
        "      if t[0] == \"N\":\n",
        "        c.append(wor)\n",
        "  noun.append(c)"
      ],
      "execution_count": null,
      "outputs": []
    },
    {
      "cell_type": "code",
      "metadata": {
        "id": "T7PUWW_9BLKf"
      },
      "source": [
        "words = [wor for c in noun for wor in c]"
      ],
      "execution_count": null,
      "outputs": []
    },
    {
      "cell_type": "code",
      "metadata": {
        "id": "GtFKdhqZBLKg"
      },
      "source": [
        "v_n = [n for n,c in Counter(words).most_common(500)]"
      ],
      "execution_count": null,
      "outputs": []
    },
    {
      "cell_type": "code",
      "metadata": {
        "id": "vLtHZekXBLKh"
      },
      "source": [
        "!pip install sklearn\n",
        "from sklearn.feature_extraction.text import TfidfVectorizer\n",
        "df = pd.DataFrame({\"text\":comment})\n",
        "df['text'] = df['text'].apply(lambda x: ' '.join([word for word in x]))\n",
        "vectorizer = TfidfVectorizer(vocabulary=v_n, ngram_range=(1,2))\n",
        "TF_IDF = vectorizer.fit_transform(df['text'].values)\n",
        "TF_IDF_array = TF_IDF.toarray()"
      ],
      "execution_count": null,
      "outputs": []
    },
    {
      "cell_type": "code",
      "metadata": {
        "id": "w02t5ORmBLKm"
      },
      "source": [
        "import numpy as np\n",
        "sum = np.sum(TF_IDF_array,axis=0).tolist()"
      ],
      "execution_count": null,
      "outputs": []
    },
    {
      "cell_type": "code",
      "metadata": {
        "colab": {
          "base_uri": "https://localhost:8080/",
          "height": 660
        },
        "id": "8f8FgNt5BLKn",
        "outputId": "8e8bc84b-b03c-4dda-f7e9-a4e949850633"
      },
      "source": [
        "rank = pd.DataFrame({\"feature\":vectorizer.get_feature_names(),\"index\": sum}).sort_values(\"index\", ascending=False)\n",
        "rank.head(20)"
      ],
      "execution_count": null,
      "outputs": [
        {
          "output_type": "execute_result",
          "data": {
            "text/html": [
              "<div>\n",
              "<style scoped>\n",
              "    .dataframe tbody tr th:only-of-type {\n",
              "        vertical-align: middle;\n",
              "    }\n",
              "\n",
              "    .dataframe tbody tr th {\n",
              "        vertical-align: top;\n",
              "    }\n",
              "\n",
              "    .dataframe thead th {\n",
              "        text-align: right;\n",
              "    }\n",
              "</style>\n",
              "<table border=\"1\" class=\"dataframe\">\n",
              "  <thead>\n",
              "    <tr style=\"text-align: right;\">\n",
              "      <th></th>\n",
              "      <th>feature</th>\n",
              "      <th>index</th>\n",
              "    </tr>\n",
              "  </thead>\n",
              "  <tbody>\n",
              "    <tr>\n",
              "      <th>0</th>\n",
              "      <td>trump</td>\n",
              "      <td>2434.014595</td>\n",
              "    </tr>\n",
              "    <tr>\n",
              "      <th>2</th>\n",
              "      <td>tax</td>\n",
              "      <td>1309.863682</td>\n",
              "    </tr>\n",
              "    <tr>\n",
              "      <th>1</th>\n",
              "      <td>people</td>\n",
              "      <td>1053.633991</td>\n",
              "    </tr>\n",
              "    <tr>\n",
              "      <th>3</th>\n",
              "      <td>president</td>\n",
              "      <td>890.851764</td>\n",
              "    </tr>\n",
              "    <tr>\n",
              "      <th>4</th>\n",
              "      <td>think</td>\n",
              "      <td>865.854719</td>\n",
              "    </tr>\n",
              "    <tr>\n",
              "      <th>11</th>\n",
              "      <td>obama</td>\n",
              "      <td>742.783272</td>\n",
              "    </tr>\n",
              "    <tr>\n",
              "      <th>5</th>\n",
              "      <td>time</td>\n",
              "      <td>732.073513</td>\n",
              "    </tr>\n",
              "    <tr>\n",
              "      <th>7</th>\n",
              "      <td>need</td>\n",
              "      <td>727.464272</td>\n",
              "    </tr>\n",
              "    <tr>\n",
              "      <th>28</th>\n",
              "      <td>house</td>\n",
              "      <td>710.082666</td>\n",
              "    </tr>\n",
              "    <tr>\n",
              "      <th>9</th>\n",
              "      <td>democrat</td>\n",
              "      <td>685.242863</td>\n",
              "    </tr>\n",
              "    <tr>\n",
              "      <th>10</th>\n",
              "      <td>vote</td>\n",
              "      <td>685.183585</td>\n",
              "    </tr>\n",
              "    <tr>\n",
              "      <th>6</th>\n",
              "      <td>pay</td>\n",
              "      <td>666.965009</td>\n",
              "    </tr>\n",
              "    <tr>\n",
              "      <th>8</th>\n",
              "      <td>want</td>\n",
              "      <td>660.425456</td>\n",
              "    </tr>\n",
              "    <tr>\n",
              "      <th>32</th>\n",
              "      <td>gop</td>\n",
              "      <td>645.895863</td>\n",
              "    </tr>\n",
              "    <tr>\n",
              "      <th>15</th>\n",
              "      <td>state</td>\n",
              "      <td>624.653881</td>\n",
              "    </tr>\n",
              "    <tr>\n",
              "      <th>21</th>\n",
              "      <td>care</td>\n",
              "      <td>604.435987</td>\n",
              "    </tr>\n",
              "    <tr>\n",
              "      <th>36</th>\n",
              "      <td>court</td>\n",
              "      <td>596.726850</td>\n",
              "    </tr>\n",
              "    <tr>\n",
              "      <th>37</th>\n",
              "      <td>world</td>\n",
              "      <td>592.602753</td>\n",
              "    </tr>\n",
              "    <tr>\n",
              "      <th>12</th>\n",
              "      <td>country</td>\n",
              "      <td>586.943415</td>\n",
              "    </tr>\n",
              "    <tr>\n",
              "      <th>16</th>\n",
              "      <td>right</td>\n",
              "      <td>586.684927</td>\n",
              "    </tr>\n",
              "  </tbody>\n",
              "</table>\n",
              "</div>"
            ],
            "text/plain": [
              "      feature        index\n",
              "0       trump  2434.014595\n",
              "2         tax  1309.863682\n",
              "1      people  1053.633991\n",
              "3   president   890.851764\n",
              "4       think   865.854719\n",
              "11      obama   742.783272\n",
              "5        time   732.073513\n",
              "7        need   727.464272\n",
              "28      house   710.082666\n",
              "9    democrat   685.242863\n",
              "10       vote   685.183585\n",
              "6         pay   666.965009\n",
              "8        want   660.425456\n",
              "32        gop   645.895863\n",
              "15      state   624.653881\n",
              "21       care   604.435987\n",
              "36      court   596.726850\n",
              "37      world   592.602753\n",
              "12    country   586.943415\n",
              "16      right   586.684927"
            ]
          },
          "metadata": {
            "tags": []
          },
          "execution_count": 58
        }
      ]
    },
    {
      "cell_type": "code",
      "metadata": {
        "id": "OKexH9TmBLKo"
      },
      "source": [
        "aspects = rank.head(20)[\"feature\"]"
      ],
      "execution_count": null,
      "outputs": []
    },
    {
      "cell_type": "markdown",
      "metadata": {
        "id": "zO8g_w3DtuwH"
      },
      "source": [
        "**Aspect Categorization**"
      ]
    },
    {
      "cell_type": "code",
      "metadata": {
        "id": "ubv6rb5IlxvZ"
      },
      "source": [
        "!pip install gensim\n",
        "import gensim"
      ],
      "execution_count": null,
      "outputs": []
    },
    {
      "cell_type": "code",
      "metadata": {
        "id": "eFX2i410dB5x"
      },
      "source": [
        "from gensim.models import Word2Vec"
      ],
      "execution_count": null,
      "outputs": []
    },
    {
      "cell_type": "code",
      "metadata": {
        "id": "zIFGMLbCdCAR"
      },
      "source": [
        "www = [word for item in sent_c for word in item]"
      ],
      "execution_count": null,
      "outputs": []
    },
    {
      "cell_type": "code",
      "metadata": {
        "id": "GYhdfLvoz6qx"
      },
      "source": [
        "len(Counter(www).keys())"
      ],
      "execution_count": null,
      "outputs": []
    },
    {
      "cell_type": "code",
      "metadata": {
        "id": "3Ff4CI5P4GFU"
      },
      "source": [
        "def skip(sent, n=3, s=2):\n",
        "  k_grams = []\n",
        "  for i in range(len(sent)):\n",
        "    for z in range(s):\n",
        "      seq = [sent[i]] + sent[i+z+1:i+z+n]\n",
        "      if len(seq) == n and seq not in k_grams:\n",
        "        k_grams.append(list(seq))\n",
        "  return k_grams  "
      ],
      "execution_count": null,
      "outputs": []
    },
    {
      "cell_type": "code",
      "metadata": {
        "id": "yDpjtQgA52Ff"
      },
      "source": [
        "sent_c1 = [sent for sent in sent_c if sent != []]"
      ],
      "execution_count": null,
      "outputs": []
    },
    {
      "cell_type": "code",
      "metadata": {
        "id": "btn1-q2Yz6wP"
      },
      "source": [
        "sequences = []\n",
        "for i in sent_c1:\n",
        "  l = skip(i)\n",
        "  sequences.append(l)"
      ],
      "execution_count": null,
      "outputs": []
    },
    {
      "cell_type": "code",
      "metadata": {
        "id": "yFZmZJC25Z23"
      },
      "source": [
        "sequences = [sent for sent in sequences if sent != []]\n",
        "seq = [s for sent in sequences for s in sent]"
      ],
      "execution_count": null,
      "outputs": []
    },
    {
      "cell_type": "code",
      "metadata": {
        "colab": {
          "base_uri": "https://localhost:8080/"
        },
        "id": "Hl82yRzg6Azx",
        "outputId": "88a45f9a-0247-4b5f-d5d7-09fd6acc3d3e"
      },
      "source": [
        "seq[:10]"
      ],
      "execution_count": null,
      "outputs": [
        {
          "output_type": "execute_result",
          "data": {
            "text/plain": [
              "[['chuck', 'schumer', 'really'],\n",
              " ['chuck', 'really', 'ca'],\n",
              " ['schumer', 'really', 'ca'],\n",
              " ['schumer', 'ca', 'gorsuch'],\n",
              " ['really', 'ca', 'gorsuch'],\n",
              " ['really', 'gorsuch', 'declare'],\n",
              " ['ca', 'gorsuch', 'declare'],\n",
              " ['ca', 'declare', 'gorsuch'],\n",
              " ['gorsuch', 'declare', 'gorsuch'],\n",
              " ['gorsuch', 'gorsuch', 'unacceptable']]"
            ]
          },
          "metadata": {
            "tags": []
          },
          "execution_count": 48
        }
      ]
    },
    {
      "cell_type": "code",
      "metadata": {
        "id": "6Mm9wIav0N5e"
      },
      "source": [
        "model = Word2Vec(seq, min_count=50)"
      ],
      "execution_count": null,
      "outputs": []
    },
    {
      "cell_type": "code",
      "metadata": {
        "colab": {
          "base_uri": "https://localhost:8080/"
        },
        "id": "ddcv_yd7z66l",
        "outputId": "46a666a5-6afc-40cc-e91e-201b706d6b38"
      },
      "source": [
        "word = 'trump'\n",
        "model1.wv.most_similar(positive=word)[:5]"
      ],
      "execution_count": null,
      "outputs": [
        {
          "output_type": "execute_result",
          "data": {
            "text/plain": [
              "[('donald', 0.5976710915565491),\n",
              " ('dt', 0.5490655899047852),\n",
              " ('djt', 0.5415180921554565),\n",
              " ('donnie', 0.5342236757278442),\n",
              " ('untrustworthy', 0.49982917308807373)]"
            ]
          },
          "metadata": {
            "tags": []
          },
          "execution_count": 58
        }
      ]
    },
    {
      "cell_type": "code",
      "metadata": {
        "id": "JKa3F2T9wmMk"
      },
      "source": [
        "aspect_c = defaultdict(list)\n",
        "for i in aspects:\n",
        "  similar = model1.wv.most_similar(positive=i)[:5]\n",
        "  for w, s in similar:\n",
        "    aspect_c[i].append(w)"
      ],
      "execution_count": null,
      "outputs": []
    },
    {
      "cell_type": "code",
      "metadata": {
        "colab": {
          "base_uri": "https://localhost:8080/"
        },
        "id": "yFRw3QoVGVUM",
        "outputId": "eb2c1207-3c4a-41b0-fd1f-60646c063045"
      },
      "source": [
        "aspect_c"
      ],
      "execution_count": null,
      "outputs": [
        {
          "output_type": "execute_result",
          "data": {
            "text/plain": [
              "defaultdict(list,\n",
              "            {'care': ['healthcare',\n",
              "              'comprehensive',\n",
              "              'accessible',\n",
              "              'health care',\n",
              "              'affordable'],\n",
              "             'country': ['nation', 'usa', 'planet', 'us', 'america'],\n",
              "             'court': ['scotus', 'sc', 'supreme court', 'bench', 'overturn'],\n",
              "             'cut': ['slash',\n",
              "              'reduction',\n",
              "              'giveaway',\n",
              "              'discretionary',\n",
              "              'cutting'],\n",
              "             'democrat': ['dems',\n",
              "              'democrats',\n",
              "              'dem',\n",
              "              'republican',\n",
              "              'legislator'],\n",
              "             'gop': ['republican', 'the gop', 'republicans', 'dems', 'dem'],\n",
              "             'house': ['visitor', 'occupant', 'wh', 'emanate', 'whitewater'],\n",
              "             'need': ['must', 'unless', 'want', 'necessary', 'suppose'],\n",
              "             'obama': ['gall',\n",
              "              'president obama',\n",
              "              'obamas',\n",
              "              'predecessor',\n",
              "              'previous'],\n",
              "             'pay': ['rebate', 'paid', 'reimburse', 'payroll', 'earned'],\n",
              "             'people': ['folk',\n",
              "              'constituent',\n",
              "              'illegals',\n",
              "              'person',\n",
              "              'americans'],\n",
              "             'president': ['potus',\n",
              "              'presidential',\n",
              "              'duly',\n",
              "              'presidency',\n",
              "              'occupant'],\n",
              "             'state': ['governor',\n",
              "              'assistant',\n",
              "              'county',\n",
              "              'herring',\n",
              "              'commerce'],\n",
              "             'tax': ['amt', 'income tax', 'simplify', 'monies', 'loophole'],\n",
              "             'think': ['believe', 'afraid', 'funny', 'conceive', 'imagine'],\n",
              "             'time': ['ink', 'month', 'occasion', 'nytimes', 'yr'],\n",
              "             'trump': ['donald', 'dt', 'djt', 'donnie', 'untrustworthy'],\n",
              "             'vote': ['reelect', 'runoff', 'slim', 'stein', 'ballot'],\n",
              "             'want': ['need', 'cant', 'meantime', 'besides', 'pledge'],\n",
              "             'world': ['region', 'the world', 'beacon', 'eu', 'unfold']})"
            ]
          },
          "metadata": {
            "tags": []
          },
          "execution_count": 100
        }
      ]
    },
    {
      "cell_type": "code",
      "metadata": {
        "id": "tWaJpL2RHgrh"
      },
      "source": [
        "aspect_c = {'care': ['healthcare', 'comprehensive', 'accessible', 'health care', 'affordable'], 'country': ['nation', 'usa', 'planet', 'us', 'america'], 'court': ['scotus', 'sc', 'supreme court', 'bench', 'overturn'], 'cut': ['slash', 'reduction', 'giveaway', 'discretionary','cutting'], 'democrat': ['dems', 'democrats', 'dem', 'republican', 'legislator'], 'gop': ['republican', 'the gop', 'republicans'], 'house': ['visitor', 'occupant', 'wh', 'emanate', 'whitewater'], 'need': ['must', 'unless', 'want', 'necessary', 'suppose'], 'obama': ['gall', 'president obama', 'obamas', 'predecessor', 'previous'], 'pay': ['rebate', 'paid', 'reimburse', 'payroll', 'earned'], 'people': ['folk', 'constituent', 'illegals', 'person', 'americans'], 'president': ['potus', 'presidential', 'duly', 'presidency', 'occupant'], 'state': ['governor', 'assistant', 'county', 'herring', 'commerce'], 'tax': ['amt', 'income tax', 'simplify', 'monies', 'loophole'], 'think': ['believe', 'afraid', 'funny', 'conceive', 'imagine'], 'time': ['ink', 'month', 'occasion', 'nytimes', 'yr'], 'trump': ['donald', 'dt', 'djt', 'donnie', 'untrustworthy'], 'vote': ['reelect', 'runoff', 'slim', 'stein', 'ballot'], 'want': ['need', 'cant', 'meantime', 'besides', 'pledge'], 'world': ['region', 'the world', 'beacon', 'eu', 'unfold']}"
      ],
      "execution_count": null,
      "outputs": []
    },
    {
      "cell_type": "code",
      "metadata": {
        "id": "ZezIAdaQQMqw"
      },
      "source": [
        "d = ['cut', 'need', 'pay', 'time', 'want', 'think']\n",
        "for i in d:\n",
        "  aspect_c.pop(i)\n",
        "category = dict(aspect_c)"
      ],
      "execution_count": null,
      "outputs": []
    },
    {
      "cell_type": "code",
      "metadata": {
        "id": "32sGoPIaUDyR"
      },
      "source": [
        "for (a, s) in category.items():\n",
        "  for wor in s:\n",
        "    w,t = nltk.pos_tag([wor])[0]\n",
        "    if t[0] != 'N':\n",
        "      category[a].remove(wor)"
      ],
      "execution_count": null,
      "outputs": []
    },
    {
      "cell_type": "code",
      "metadata": {
        "colab": {
          "base_uri": "https://localhost:8080/"
        },
        "id": "a0rx5bHDYUuj",
        "outputId": "aac2d1ae-e01c-493b-be21-ffd90dfe4aff"
      },
      "source": [
        "category"
      ],
      "execution_count": null,
      "outputs": [
        {
          "output_type": "execute_result",
          "data": {
            "text/plain": [
              "{'care': ['healthcare', 'comprehensive', 'health care'],\n",
              " 'country': ['nation', 'usa', 'planet', 'america'],\n",
              " 'court': ['scotus', 'sc', 'supreme court', 'bench', 'overturn'],\n",
              " 'democrat': ['dems', 'democrats', 'dem', 'legislator'],\n",
              " 'gop': ['the gop', 'republicans'],\n",
              " 'house': ['visitor', 'occupant', 'wh', 'emanate', 'whitewater'],\n",
              " 'obama': ['gall', 'president obama', 'obamas', 'predecessor'],\n",
              " 'people': ['folk', 'constituent', 'illegals', 'person', 'americans'],\n",
              " 'president': ['potus', 'duly', 'presidency', 'occupant'],\n",
              " 'state': ['governor', 'assistant', 'county', 'commerce'],\n",
              " 'tax': ['amt', 'income tax', 'simplify', 'monies', 'loophole'],\n",
              " 'trump': ['donald', 'dt', 'djt', 'donnie'],\n",
              " 'vote': ['reelect', 'runoff', 'slim', 'stein', 'ballot'],\n",
              " 'world': ['region', 'the world', 'beacon', 'eu']}"
            ]
          },
          "metadata": {
            "tags": []
          },
          "execution_count": 63
        }
      ]
    },
    {
      "cell_type": "code",
      "metadata": {
        "id": "qbT6NasyQM47"
      },
      "source": [
        "for k in category.keys():\n",
        "  category[k].append(k)"
      ],
      "execution_count": null,
      "outputs": []
    },
    {
      "cell_type": "code",
      "metadata": {
        "id": "iT-TZbmKeFXl"
      },
      "source": [
        "opinion_d = []\n",
        "for com in com_sent:\n",
        "  com_d = defaultdict(list)\n",
        "  for s in com:\n",
        "    for k in category.keys():\n",
        "      if any(w in s for w in category[k]) is True:\n",
        "        com_d[k].append(s)\n",
        "  opinion_d.append(dict(com_d))"
      ],
      "execution_count": null,
      "outputs": []
    },
    {
      "cell_type": "code",
      "metadata": {
        "id": "aQbLKyEKhDh-"
      },
      "source": [
        "opinion = pd.DataFrame({\"opinion sentences\": opinion_d, \"recommendation\": clean[\"recommendations\"], \"editor selection\": clean[\"editorsSelection\"]})"
      ],
      "execution_count": null,
      "outputs": []
    },
    {
      "cell_type": "code",
      "metadata": {
        "id": "0I0Nr5falTH5"
      },
      "source": [
        "opinion.drop(opinion[opinion['opinion sentences'] == {}].index, inplace = True)"
      ],
      "execution_count": null,
      "outputs": []
    },
    {
      "cell_type": "markdown",
      "metadata": {
        "id": "sLpioqZOEDg4"
      },
      "source": [
        "**Sentiment Orientation**"
      ]
    },
    {
      "cell_type": "code",
      "metadata": {
        "id": "DvOaYhRG5Z4o"
      },
      "source": [
        "def split_sentence(o_p, k):\n",
        "  if k in o_p.keys():\n",
        "    list_s = o_p[k]\n",
        "  else:\n",
        "    list_s = []\n",
        "  return list_s"
      ],
      "execution_count": null,
      "outputs": []
    },
    {
      "cell_type": "code",
      "metadata": {
        "id": "cLXVUDSK66HO"
      },
      "source": [
        "for k in category.keys():\n",
        "  m = []\n",
        "  for i in opinion['opinion sentences']:\n",
        "    x = split_sentence(i, k)\n",
        "    m.append(x)\n",
        "  opinion[k] = m"
      ],
      "execution_count": null,
      "outputs": []
    },
    {
      "cell_type": "code",
      "metadata": {
        "id": "HLs_p7ouDtGS"
      },
      "source": [
        "# care\n",
        "care = pd.DataFrame({\"care\": opinion['care']})\n",
        "care = care[care['care'].apply(lambda x: len(x)) > 0]\n",
        "care_index = list(care.index)"
      ],
      "execution_count": null,
      "outputs": []
    },
    {
      "cell_type": "code",
      "metadata": {
        "id": "dVWzoMQX3mXX"
      },
      "source": [
        "care_list = []\n",
        "for i in list(care[\"care\"]):\n",
        "  w = []\n",
        "  for s in i:\n",
        "    for word in s:\n",
        "      w.append(word)\n",
        "  care_list.append(w)\n",
        "v1 = [w for s in care_list for w in s]\n",
        "feature1 = Counter(v1).keys()\n",
        "care_list = pd.DataFrame({\"care\":care_list})\n",
        "care_list['care'] = care_list['care'].apply(lambda x: ' '.join([word for word in x]))"
      ],
      "execution_count": null,
      "outputs": []
    },
    {
      "cell_type": "code",
      "metadata": {
        "id": "zJsEw-y0cSNQ"
      },
      "source": [
        "vectorizer = TfidfVectorizer(vocabulary=feature1, ngram_range=(1,2))\n",
        "TF_IDF1 = vectorizer.fit_transform(care_list['care'].values)\n",
        "TF_IDF_array1 = TF_IDF1.toarray()"
      ],
      "execution_count": null,
      "outputs": []
    },
    {
      "cell_type": "code",
      "metadata": {
        "id": "sgSYkmN03Ts1"
      },
      "source": [
        "from sklearn.cluster import KMeans\n",
        "kmeans1 = KMeans(n_clusters=2, random_state=0).fit(TF_IDF1)"
      ],
      "execution_count": null,
      "outputs": []
    },
    {
      "cell_type": "code",
      "metadata": {
        "id": "_kqrWFf1fPIE"
      },
      "source": [
        "from sklearn.metrics import pairwise_distances_argmin_min\n",
        "closest1, _ = pairwise_distances_argmin_min(kmeans1.cluster_centers_, TF_IDF1)"
      ],
      "execution_count": null,
      "outputs": []
    },
    {
      "cell_type": "code",
      "metadata": {
        "colab": {
          "base_uri": "https://localhost:8080/"
        },
        "id": "9SdLrnzb42yO",
        "outputId": "ef9c23d0-1609-4c57-95d2-534cc72fbc36"
      },
      "source": [
        "sentences[care_index[closest1[0]]]  # negative"
      ],
      "execution_count": null,
      "outputs": [
        {
          "output_type": "execute_result",
          "data": {
            "text/plain": [
              "['A single-payer health care system?',\n",
              " 'After the car (current one) breaks down?',\n",
              " 'Dream on.',\n",
              " 'This Republican government will provide an ambulance at the bottom of the cliff.',\n",
              " 'Oh, cancel that.',\n",
              " 'A hearse.']"
            ]
          },
          "metadata": {
            "tags": []
          },
          "execution_count": 75
        }
      ]
    },
    {
      "cell_type": "code",
      "metadata": {
        "colab": {
          "base_uri": "https://localhost:8080/"
        },
        "id": "0nqdUdjx6bA-",
        "outputId": "24268694-64df-40dd-f8e1-e6f3901a56c1"
      },
      "source": [
        "sentences[care_index[closest1[1]]]  # positive"
      ],
      "execution_count": null,
      "outputs": [
        {
          "output_type": "execute_result",
          "data": {
            "text/plain": [
              "[\"Democrats chose to make Trump's tax returns central to their 2016 election campaign (as opposed to immigration, jobs, national security and healthcare.)\",\n",
              " 'It was a strategy that failed.',\n",
              " 'Now it is time to help govern.',\n",
              " 'Offer votes in return for concessions on Estate taxes, AMT, or whatever.',\n",
              " \"Don't insist on a strategy that failed last year.\",\n",
              " \"I don't care about Trump's taxes.\",\n",
              " 'I do care about my own.']"
            ]
          },
          "metadata": {
            "tags": []
          },
          "execution_count": 76
        }
      ]
    },
    {
      "cell_type": "code",
      "metadata": {
        "id": "HHl0HjE97_n6"
      },
      "source": [
        "label1 = kmeans1.labels_"
      ],
      "execution_count": null,
      "outputs": []
    },
    {
      "cell_type": "code",
      "metadata": {
        "colab": {
          "base_uri": "https://localhost:8080/"
        },
        "collapsed": true,
        "id": "WjLx1c-ECMs0",
        "outputId": "57d3d210-aac1-49f5-e724-0db0e7fd3a58"
      },
      "source": [
        "opinion[\"senti1\"] = np.zeros(len(opinion))\n",
        "for i in range(len(label1)):\n",
        "  if label1[i] == 0:\n",
        "    opinion[\"senti1\"][care_index[i]] = -1\n",
        "  if label1[i] == 1:\n",
        "    opinion[\"senti1\"][care_index[i]] = 1"
      ],
      "execution_count": null,
      "outputs": [
        {
          "output_type": "stream",
          "text": [
            "/usr/local/lib/python3.7/dist-packages/ipykernel_launcher.py:4: SettingWithCopyWarning: \n",
            "A value is trying to be set on a copy of a slice from a DataFrame\n",
            "\n",
            "See the caveats in the documentation: https://pandas.pydata.org/pandas-docs/stable/user_guide/indexing.html#returning-a-view-versus-a-copy\n",
            "  after removing the cwd from sys.path.\n",
            "/usr/local/lib/python3.7/dist-packages/ipykernel_launcher.py:6: SettingWithCopyWarning: \n",
            "A value is trying to be set on a copy of a slice from a DataFrame\n",
            "\n",
            "See the caveats in the documentation: https://pandas.pydata.org/pandas-docs/stable/user_guide/indexing.html#returning-a-view-versus-a-copy\n",
            "  \n"
          ],
          "name": "stderr"
        }
      ]
    },
    {
      "cell_type": "code",
      "metadata": {
        "id": "-4d7yz9681xH"
      },
      "source": [
        "# country\n",
        "country = pd.DataFrame({\"country\": opinion['country']})\n",
        "country = country[country['country'].apply(lambda x: len(x)) > 0]\n",
        "country_index = list(country.index)"
      ],
      "execution_count": null,
      "outputs": []
    },
    {
      "cell_type": "code",
      "metadata": {
        "id": "sp4U9JgO-Cul"
      },
      "source": [
        "country_list = []\n",
        "for i in list(country[\"country\"]):\n",
        "  w = []\n",
        "  for s in i:\n",
        "    for word in s:\n",
        "      w.append(word)\n",
        "  country_list.append(w)\n",
        "v2 = [w for s in country_list for w in s]\n",
        "feature2 = Counter(v2).keys()\n",
        "country_list = pd.DataFrame({\"care\":country_list})\n",
        "country_list['country'] = country_list['care'].apply(lambda x: ' '.join([word for word in x]))"
      ],
      "execution_count": null,
      "outputs": []
    },
    {
      "cell_type": "code",
      "metadata": {
        "id": "BJKVUP50_Qsi"
      },
      "source": [
        "vectorizer2 = TfidfVectorizer(vocabulary=feature2, ngram_range=(1,2))\n",
        "TF_IDF2 = vectorizer2.fit_transform(country_list['country'].values)\n",
        "kmeans2 = KMeans(n_clusters=2, random_state=0).fit(TF_IDF2)\n",
        "closest2, _ = pairwise_distances_argmin_min(kmeans2.cluster_centers_, TF_IDF2)"
      ],
      "execution_count": null,
      "outputs": []
    },
    {
      "cell_type": "code",
      "metadata": {
        "colab": {
          "base_uri": "https://localhost:8080/"
        },
        "id": "gcZZhFPi_39a",
        "outputId": "3be4eae8-c735-47d6-ffcf-e23babb1fe32"
      },
      "source": [
        "sentences[country_index[closest2[0]]] # negative"
      ],
      "execution_count": null,
      "outputs": [
        {
          "output_type": "execute_result",
          "data": {
            "text/plain": [
              "[\"We the people need to have a say in the self-imposed 'rules' that are on display in the house and senate.\",\n",
              " 'They are doing the country a disservice-']"
            ]
          },
          "metadata": {
            "tags": []
          },
          "execution_count": 82
        }
      ]
    },
    {
      "cell_type": "code",
      "metadata": {
        "colab": {
          "base_uri": "https://localhost:8080/"
        },
        "id": "gewfuq9j_6Ur",
        "outputId": "6744e277-c613-40af-b145-b2d76b5b2e70"
      },
      "source": [
        "sentences[country_index[closest2[1]]] # positive"
      ],
      "execution_count": null,
      "outputs": [
        {
          "output_type": "execute_result",
          "data": {
            "text/plain": [
              "[\"America's own Article 48.\"]"
            ]
          },
          "metadata": {
            "tags": []
          },
          "execution_count": 83
        }
      ]
    },
    {
      "cell_type": "code",
      "metadata": {
        "colab": {
          "base_uri": "https://localhost:8080/"
        },
        "id": "7AY40eJ3BzNq",
        "outputId": "a32cd46a-a57d-4fb3-b1da-7f968164c579"
      },
      "source": [
        "label2 = kmeans2.labels_\n",
        "opinion[\"senti2\"] = np.zeros(len(opinion))\n",
        "for i in range(len(label2)):\n",
        "  if label2[i] == 0:\n",
        "    opinion[\"senti2\"][country_index[i]] = -1\n",
        "  if label2[i] == 1:\n",
        "    opinion[\"senti2\"][country_index[i]] = 1"
      ],
      "execution_count": null,
      "outputs": [
        {
          "output_type": "stream",
          "text": [
            "/usr/local/lib/python3.7/dist-packages/ipykernel_launcher.py:5: SettingWithCopyWarning: \n",
            "A value is trying to be set on a copy of a slice from a DataFrame\n",
            "\n",
            "See the caveats in the documentation: https://pandas.pydata.org/pandas-docs/stable/user_guide/indexing.html#returning-a-view-versus-a-copy\n",
            "  \"\"\"\n",
            "/usr/local/lib/python3.7/dist-packages/ipykernel_launcher.py:7: SettingWithCopyWarning: \n",
            "A value is trying to be set on a copy of a slice from a DataFrame\n",
            "\n",
            "See the caveats in the documentation: https://pandas.pydata.org/pandas-docs/stable/user_guide/indexing.html#returning-a-view-versus-a-copy\n",
            "  import sys\n"
          ],
          "name": "stderr"
        }
      ]
    },
    {
      "cell_type": "code",
      "metadata": {
        "id": "cj8zOF9dRrSB"
      },
      "source": [
        "# court\n",
        "court = pd.DataFrame({\"court\": opinion['court']})\n",
        "court = court[court['court'].apply(lambda x: len(x)) > 0]\n",
        "court_index = list(court.index)"
      ],
      "execution_count": null,
      "outputs": []
    },
    {
      "cell_type": "code",
      "metadata": {
        "id": "C-6h2DgtRrx4"
      },
      "source": [
        "court_list = []\n",
        "for i in list(court[\"court\"]):\n",
        "  w = []\n",
        "  for s in i:\n",
        "    for word in s:\n",
        "      w.append(word)\n",
        "  court_list.append(w)\n",
        "v3 = [w for s in court_list for w in s]\n",
        "feature3 = Counter(v3).keys()\n",
        "court_list = pd.DataFrame({\"court\":court_list})\n",
        "court_list['court'] = court_list['court'].apply(lambda x: ' '.join([word for word in x]))"
      ],
      "execution_count": null,
      "outputs": []
    },
    {
      "cell_type": "code",
      "metadata": {
        "id": "6HrQEPt8Rr65"
      },
      "source": [
        "vectorizer3 = TfidfVectorizer(vocabulary=feature3, ngram_range=(1,2))\n",
        "TF_IDF3 = vectorizer3.fit_transform(court_list['court'].values)\n",
        "kmeans3 = KMeans(n_clusters=2, random_state=0).fit(TF_IDF3)\n",
        "closest3, _ = pairwise_distances_argmin_min(kmeans3.cluster_centers_, TF_IDF3)"
      ],
      "execution_count": null,
      "outputs": []
    },
    {
      "cell_type": "code",
      "metadata": {
        "colab": {
          "base_uri": "https://localhost:8080/"
        },
        "id": "_J-qXus2RsBP",
        "outputId": "9a9f8256-16df-44ed-9b0a-21c7066dd571"
      },
      "source": [
        "sentences[court_index[closest3[0]]] # negative"
      ],
      "execution_count": null,
      "outputs": [
        {
          "output_type": "execute_result",
          "data": {
            "text/plain": [
              "[\"The democrats didn't change the rules for the filibuster of the Supreme Court is because there was no Supreme Court nominee at the time.\",\n",
              " 'The democrats got rid of the filibuster rules in 2013.',\n",
              " 'They just left a few tattered ends.<br/>But the nation is taking notice.',\n",
              " 'The streets are filled with citizens protesting the end of the filibuster!',\n",
              " 'Oh wait.....that is just the ball game letting out.']"
            ]
          },
          "metadata": {
            "tags": []
          },
          "execution_count": 88
        }
      ]
    },
    {
      "cell_type": "code",
      "metadata": {
        "colab": {
          "base_uri": "https://localhost:8080/"
        },
        "id": "qnHPo32oTXSb",
        "outputId": "c273ed7d-1770-42fb-c2a2-705ca7d53b4f"
      },
      "source": [
        "sentences[court_index[closest3[1]]] # positive"
      ],
      "execution_count": null,
      "outputs": [
        {
          "output_type": "execute_result",
          "data": {
            "text/plain": [
              "['The GOP, whose policies are bankrupt for the vast middle class, has to cheat (gerrymander, pass bogus voting restrictions, etc.)',\n",
              " 'and lie to push through whatever their corporate lords have paid them to do.',\n",
              " 'These same are Gorsuch supporters, and have paid for commercials in support of his candidacy.',\n",
              " '(For a Supreme Court seat?',\n",
              " 'Whoever heard of such a thing?)',\n",
              " '<br/><br/>McConnell failed to do his Constitutional duty by refusing to \"advise and<br/>consent\" to Merrick Garland, or even to give him a hearing.',\n",
              " 'Now, he is threatening to change the rules of the Senate to seat this candidate.',\n",
              " '<br/><br/>At what point, in this country, will there be consequences for breaking its rules?']"
            ]
          },
          "metadata": {
            "tags": []
          },
          "execution_count": 89
        }
      ]
    },
    {
      "cell_type": "code",
      "metadata": {
        "id": "v54IVeWATuKy",
        "colab": {
          "base_uri": "https://localhost:8080/"
        },
        "outputId": "72145a8f-14c9-47df-8799-70c571c03a3d"
      },
      "source": [
        "label3 = kmeans3.labels_\n",
        "opinion[\"senti3\"] = np.zeros(len(opinion))\n",
        "for i in range(len(label3)):\n",
        "  if label3[i] == 0:\n",
        "    opinion[\"senti3\"][court_index[i]] = -1\n",
        "  if label3[i] == 1:\n",
        "    opinion[\"senti3\"][court_index[i]] = 1"
      ],
      "execution_count": null,
      "outputs": [
        {
          "output_type": "stream",
          "text": [
            "/usr/local/lib/python3.7/dist-packages/ipykernel_launcher.py:5: SettingWithCopyWarning: \n",
            "A value is trying to be set on a copy of a slice from a DataFrame\n",
            "\n",
            "See the caveats in the documentation: https://pandas.pydata.org/pandas-docs/stable/user_guide/indexing.html#returning-a-view-versus-a-copy\n",
            "  \"\"\"\n",
            "/usr/local/lib/python3.7/dist-packages/ipykernel_launcher.py:7: SettingWithCopyWarning: \n",
            "A value is trying to be set on a copy of a slice from a DataFrame\n",
            "\n",
            "See the caveats in the documentation: https://pandas.pydata.org/pandas-docs/stable/user_guide/indexing.html#returning-a-view-versus-a-copy\n",
            "  import sys\n"
          ],
          "name": "stderr"
        }
      ]
    },
    {
      "cell_type": "code",
      "metadata": {
        "id": "fhZdC8EXw3rk"
      },
      "source": [
        "# democrat\n",
        "democrat = pd.DataFrame({\"democrat\": opinion['democrat']})\n",
        "democrat = democrat[democrat['democrat'].apply(lambda x: len(x)) > 0]\n",
        "democrat_index = list(democrat.index)"
      ],
      "execution_count": null,
      "outputs": []
    },
    {
      "cell_type": "code",
      "metadata": {
        "id": "B2VvagGXw3us"
      },
      "source": [
        "democrat_list = []\n",
        "for i in list(democrat[\"democrat\"]):\n",
        "  w = []\n",
        "  for s in i:\n",
        "    for word in s:\n",
        "      w.append(word)\n",
        "  democrat_list.append(w)\n",
        "v4 = [w for s in democrat_list for w in s]\n",
        "feature4 = Counter(v4).keys()\n",
        "democrat_list = pd.DataFrame({\"democrat\":democrat_list})\n",
        "democrat_list['democrat'] = democrat_list['democrat'].apply(lambda x: ' '.join([word for word in x]))"
      ],
      "execution_count": null,
      "outputs": []
    },
    {
      "cell_type": "code",
      "metadata": {
        "id": "QDLBsBagw3yV"
      },
      "source": [
        "vectorizer4 = TfidfVectorizer(vocabulary=feature4, ngram_range=(1,2))\n",
        "TF_IDF4 = vectorizer4.fit_transform(democrat_list['democrat'].values)\n",
        "kmeans4 = KMeans(n_clusters=2, random_state=0).fit(TF_IDF4)\n",
        "closest4, _ = pairwise_distances_argmin_min(kmeans4.cluster_centers_, TF_IDF4)"
      ],
      "execution_count": null,
      "outputs": []
    },
    {
      "cell_type": "code",
      "metadata": {
        "colab": {
          "base_uri": "https://localhost:8080/"
        },
        "id": "1TQ7oeTdw30u",
        "outputId": "3110d154-ec78-43c9-86f9-2d3352d31dc1"
      },
      "source": [
        "sentences[democrat_index[closest4[0]]] # positive"
      ],
      "execution_count": null,
      "outputs": [
        {
          "output_type": "execute_result",
          "data": {
            "text/plain": [
              "['And the Democrats win!',\n",
              " 'Tell them about their prize, Don Pardo, go ahead, tell them what they, um, won.',\n",
              " 'Don.',\n",
              " 'Don?',\n",
              " 'Go ahead, tell them what they won.',\n",
              " 'They won something, right?',\n",
              " \"Didn't they?\",\n",
              " 'I mean, they win, right?']"
            ]
          },
          "metadata": {
            "tags": []
          },
          "execution_count": 94
        }
      ]
    },
    {
      "cell_type": "code",
      "metadata": {
        "colab": {
          "base_uri": "https://localhost:8080/"
        },
        "id": "sv5xoKvIw33I",
        "outputId": "f42a90e5-bd8d-4f9a-d5a1-cfcb5063edf3"
      },
      "source": [
        "sentences[democrat_index[closest4[1]]] # negative"
      ],
      "execution_count": null,
      "outputs": [
        {
          "output_type": "execute_result",
          "data": {
            "text/plain": [
              "['Is the filibuster only reserved for Republicans, who only need 50 seats in the senate and a Republican president to appoint Supreme Court justices?',\n",
              " 'Do the Democrats need to control 60 seats in the senate and the presidency to appoint Supreme Court justices?',\n",
              " 'If the answer to these questions is no, then this filibuster makes perfect sense.<br/><br/>And this is even without considering the outrageous Garland treatment and the tainted 2016 elections.']"
            ]
          },
          "metadata": {
            "tags": []
          },
          "execution_count": 95
        }
      ]
    },
    {
      "cell_type": "code",
      "metadata": {
        "colab": {
          "base_uri": "https://localhost:8080/"
        },
        "id": "6pJMqAoow36m",
        "outputId": "8eb96ce4-52dd-45b3-99dd-09ca8a34a186"
      },
      "source": [
        "label4 = kmeans4.labels_\n",
        "opinion[\"senti4\"] = np.zeros(len(opinion))\n",
        "for i in range(len(label4)):\n",
        "  if label4[i] == 0:\n",
        "    opinion[\"senti4\"][democrat_index[i]] = 1\n",
        "  if label4[i] == 1:\n",
        "    opinion[\"senti4\"][democrat_index[i]] = -1"
      ],
      "execution_count": null,
      "outputs": [
        {
          "output_type": "stream",
          "text": [
            "/usr/local/lib/python3.7/dist-packages/ipykernel_launcher.py:5: SettingWithCopyWarning: \n",
            "A value is trying to be set on a copy of a slice from a DataFrame\n",
            "\n",
            "See the caveats in the documentation: https://pandas.pydata.org/pandas-docs/stable/user_guide/indexing.html#returning-a-view-versus-a-copy\n",
            "  \"\"\"\n",
            "/usr/local/lib/python3.7/dist-packages/ipykernel_launcher.py:7: SettingWithCopyWarning: \n",
            "A value is trying to be set on a copy of a slice from a DataFrame\n",
            "\n",
            "See the caveats in the documentation: https://pandas.pydata.org/pandas-docs/stable/user_guide/indexing.html#returning-a-view-versus-a-copy\n",
            "  import sys\n"
          ],
          "name": "stderr"
        }
      ]
    },
    {
      "cell_type": "code",
      "metadata": {
        "id": "D8wdLlqNymCu"
      },
      "source": [
        "# gop\n",
        "gop = pd.DataFrame({\"gop\": opinion['gop']})\n",
        "gop = gop[gop['gop'].apply(lambda x: len(x)) > 0]\n",
        "gop_index = list(gop.index)"
      ],
      "execution_count": null,
      "outputs": []
    },
    {
      "cell_type": "code",
      "metadata": {
        "id": "JzdLCkmDzH6w"
      },
      "source": [
        "gop_list = []\n",
        "for i in list(gop[\"gop\"]):\n",
        "  w = []\n",
        "  for s in i:\n",
        "    for word in s:\n",
        "      w.append(word)\n",
        "  gop_list.append(w)\n",
        "v5 = [w for s in gop_list for w in s]\n",
        "feature5 = Counter(v5).keys()\n",
        "gop_list = pd.DataFrame({\"gop\":gop_list})\n",
        "gop_list['gop'] = gop_list['gop'].apply(lambda x: ' '.join([word for word in x]))"
      ],
      "execution_count": null,
      "outputs": []
    },
    {
      "cell_type": "code",
      "metadata": {
        "id": "AaAW_sO3zge_"
      },
      "source": [
        "vectorizer5 = TfidfVectorizer(vocabulary=feature5, ngram_range=(1,2))\n",
        "TF_IDF5 = vectorizer5.fit_transform(gop_list['gop'].values)\n",
        "kmeans5 = KMeans(n_clusters=2, random_state=0).fit(TF_IDF5)\n",
        "closest5, _ = pairwise_distances_argmin_min(kmeans5.cluster_centers_, TF_IDF5)"
      ],
      "execution_count": null,
      "outputs": []
    },
    {
      "cell_type": "code",
      "metadata": {
        "colab": {
          "base_uri": "https://localhost:8080/"
        },
        "id": "A-b4n3Yhzgj0",
        "outputId": "4c989a50-c639-4653-c14c-b2e7bad6dff2"
      },
      "source": [
        "sentences[gop_index[closest5[0]]] # positive"
      ],
      "execution_count": null,
      "outputs": [
        {
          "output_type": "execute_result",
          "data": {
            "text/plain": [
              "['The\"wall \" has always been a idiotic idea.',\n",
              " 'Can anyone think of a better way to spend twenty something billion dollars?',\n",
              " 'I thought so.',\n",
              " 'Now, ignore the guy in the WH with nothing on and govern with the Country being the beneficiary.',\n",
              " 'This experiment should have been over by now.',\n",
              " 'Does the GOP have a soul?',\n",
              " 'Do they sell ice in hell?',\n",
              " 'It sure is getting HOT in here.']"
            ]
          },
          "metadata": {
            "tags": []
          },
          "execution_count": 100
        }
      ]
    },
    {
      "cell_type": "code",
      "metadata": {
        "colab": {
          "base_uri": "https://localhost:8080/"
        },
        "id": "VD9vRjpNzgoA",
        "outputId": "ade3cf0d-3616-4f08-93b1-7229fb1a3bd9"
      },
      "source": [
        "sentences[gop_index[closest5[1]]] # negative"
      ],
      "execution_count": null,
      "outputs": [
        {
          "output_type": "execute_result",
          "data": {
            "text/plain": [
              "['This is how Republicans govern.',\n",
              " 'They cheat, lie, and rig.',\n",
              " 'With the help of Russia and that idiot Comey, Trump squeaked in and the U.S. is now firmly in the hands of corporations, the 1%, and religious fanatics.',\n",
              " 'This is going to crush many if not most Republicans as well as Democrats.',\n",
              " \"In my own state, the Trump counties, which is all but the two most populous, are going to be crushed by Trump's budget cuts.\",\n",
              " 'They got what they voted for.']"
            ]
          },
          "metadata": {
            "tags": []
          },
          "execution_count": 101
        }
      ]
    },
    {
      "cell_type": "code",
      "metadata": {
        "colab": {
          "base_uri": "https://localhost:8080/"
        },
        "id": "6IS7ZU7o3C7p",
        "outputId": "2a25e3db-f2a9-47d5-dbe5-4ceb8b13665a"
      },
      "source": [
        "label5 = kmeans5.labels_\n",
        "opinion[\"senti5\"] = np.zeros(len(opinion))\n",
        "for i in range(len(label5)):\n",
        "  if label5[i] == 0:\n",
        "    opinion[\"senti5\"][gop_index[i]] = 1\n",
        "  if label5[i] == 1:\n",
        "    opinion[\"senti5\"][gop_index[i]] = -1"
      ],
      "execution_count": null,
      "outputs": [
        {
          "output_type": "stream",
          "text": [
            "/usr/local/lib/python3.7/dist-packages/ipykernel_launcher.py:7: SettingWithCopyWarning: \n",
            "A value is trying to be set on a copy of a slice from a DataFrame\n",
            "\n",
            "See the caveats in the documentation: https://pandas.pydata.org/pandas-docs/stable/user_guide/indexing.html#returning-a-view-versus-a-copy\n",
            "  import sys\n",
            "/usr/local/lib/python3.7/dist-packages/ipykernel_launcher.py:5: SettingWithCopyWarning: \n",
            "A value is trying to be set on a copy of a slice from a DataFrame\n",
            "\n",
            "See the caveats in the documentation: https://pandas.pydata.org/pandas-docs/stable/user_guide/indexing.html#returning-a-view-versus-a-copy\n",
            "  \"\"\"\n"
          ],
          "name": "stderr"
        }
      ]
    },
    {
      "cell_type": "code",
      "metadata": {
        "id": "ERhsR5h_zgrM"
      },
      "source": [
        "# house\n",
        "house = pd.DataFrame({\"house\": opinion['house']})\n",
        "house = house[house['house'].apply(lambda x: len(x)) > 0]\n",
        "house_index = list(house.index)"
      ],
      "execution_count": null,
      "outputs": []
    },
    {
      "cell_type": "code",
      "metadata": {
        "id": "UG5eiW-vzgzb"
      },
      "source": [
        "house_list = []\n",
        "for i in list(house[\"house\"]):\n",
        "  w = []\n",
        "  for s in i:\n",
        "    for word in s:\n",
        "      w.append(word)\n",
        "  house_list.append(w)\n",
        "v6 = [w for s in house_list for w in s]\n",
        "feature6 = Counter(v6).keys()\n",
        "house_list = pd.DataFrame({\"house\":house_list})\n",
        "house_list['house'] = house_list['house'].apply(lambda x: ' '.join([word for word in x]))"
      ],
      "execution_count": null,
      "outputs": []
    },
    {
      "cell_type": "code",
      "metadata": {
        "id": "LBepxbjvzg2-"
      },
      "source": [
        "vectorizer6 = TfidfVectorizer(vocabulary=feature6, ngram_range=(1,2))\n",
        "TF_IDF6 = vectorizer6.fit_transform(house_list['house'].values)\n",
        "kmeans6 = KMeans(n_clusters=2, random_state=0).fit(TF_IDF6)\n",
        "closest6, _ = pairwise_distances_argmin_min(kmeans6.cluster_centers_, TF_IDF6)"
      ],
      "execution_count": null,
      "outputs": []
    },
    {
      "cell_type": "code",
      "metadata": {
        "colab": {
          "base_uri": "https://localhost:8080/"
        },
        "id": "yzPjNYjJzg55",
        "outputId": "d057fa04-cfda-43f1-a693-8ae60f6228c3"
      },
      "source": [
        "sentences[house_index[closest6[0]]] # positive"
      ],
      "execution_count": null,
      "outputs": [
        {
          "output_type": "execute_result",
          "data": {
            "text/plain": [
              "['\"...Republicans in the House, Senate and White House were not on the same page.',\n",
              " '\"<br/><br/>Why I\\'m shocked...shocked I say...']"
            ]
          },
          "metadata": {
            "tags": []
          },
          "execution_count": 106
        }
      ]
    },
    {
      "cell_type": "code",
      "metadata": {
        "colab": {
          "base_uri": "https://localhost:8080/"
        },
        "id": "K4eo6rjAzg8g",
        "outputId": "1d1726b5-99be-4680-b127-4c3f9c526db0"
      },
      "source": [
        "sentences[house_index[closest6[1]]] # negative"
      ],
      "execution_count": null,
      "outputs": [
        {
          "output_type": "execute_result",
          "data": {
            "text/plain": [
              "['This is an anti-intellectual, anti-fact White House and it is appalling.',\n",
              " 'It is incredible that Trump has not be arrested for his many transgressions.',\n",
              " 'This White House is despicable.',\n",
              " \"The Republicans are despicable that they haven't reeled in Trump.\",\n",
              " 'I am just horrified and every single Republican legislator that has not taken a stand against Trump is despicable as well.',\n",
              " 'They all are a bunch of goons.',\n",
              " 'Trump needs to resign be impeached immediately, like right now.']"
            ]
          },
          "metadata": {
            "tags": []
          },
          "execution_count": 107
        }
      ]
    },
    {
      "cell_type": "code",
      "metadata": {
        "colab": {
          "base_uri": "https://localhost:8080/"
        },
        "id": "0ZiwZZiVzhAU",
        "outputId": "5815840f-f7ac-4b0e-c4ea-940d84029f03"
      },
      "source": [
        "label6 = kmeans6.labels_\n",
        "opinion[\"senti6\"] = np.zeros(len(opinion))\n",
        "for i in range(len(label6)):\n",
        "  if label6[i] == 0:\n",
        "    opinion[\"senti6\"][house_index[i]] = 1\n",
        "  if label6[i] == 1:\n",
        "    opinion[\"senti6\"][house_index[i]] = -1"
      ],
      "execution_count": null,
      "outputs": [
        {
          "output_type": "stream",
          "text": [
            "/usr/local/lib/python3.7/dist-packages/ipykernel_launcher.py:5: SettingWithCopyWarning: \n",
            "A value is trying to be set on a copy of a slice from a DataFrame\n",
            "\n",
            "See the caveats in the documentation: https://pandas.pydata.org/pandas-docs/stable/user_guide/indexing.html#returning-a-view-versus-a-copy\n",
            "  \"\"\"\n",
            "/usr/local/lib/python3.7/dist-packages/ipykernel_launcher.py:7: SettingWithCopyWarning: \n",
            "A value is trying to be set on a copy of a slice from a DataFrame\n",
            "\n",
            "See the caveats in the documentation: https://pandas.pydata.org/pandas-docs/stable/user_guide/indexing.html#returning-a-view-versus-a-copy\n",
            "  import sys\n"
          ],
          "name": "stderr"
        }
      ]
    },
    {
      "cell_type": "code",
      "metadata": {
        "id": "USC2QvaazhD5"
      },
      "source": [
        "# obama\n",
        "obama = pd.DataFrame({\"obama\": opinion['obama']})\n",
        "obama = obama[obama['obama'].apply(lambda x: len(x)) > 0]\n",
        "obama_index = list(obama.index)"
      ],
      "execution_count": null,
      "outputs": []
    },
    {
      "cell_type": "code",
      "metadata": {
        "id": "qVQZOxNnzhGs"
      },
      "source": [
        "obama_list = []\n",
        "for i in list(obama[\"obama\"]):\n",
        "  w = []\n",
        "  for s in i:\n",
        "    for word in s:\n",
        "      w.append(word)\n",
        "  obama_list.append(w)\n",
        "v7 = [w for s in obama_list for w in s]\n",
        "feature7 = Counter(v7).keys()\n",
        "obama_list = pd.DataFrame({\"obama\":obama_list})\n",
        "obama_list['obama'] = obama_list['obama'].apply(lambda x: ' '.join([word for word in x]))"
      ],
      "execution_count": null,
      "outputs": []
    },
    {
      "cell_type": "code",
      "metadata": {
        "id": "UzvQQz_PzhJS"
      },
      "source": [
        "vectorizer7 = TfidfVectorizer(vocabulary=feature7, ngram_range=(1,2))\n",
        "TF_IDF7 = vectorizer7.fit_transform(obama_list['obama'].values)\n",
        "kmeans7 = KMeans(n_clusters=2, random_state=0).fit(TF_IDF7)\n",
        "closest7, _ = pairwise_distances_argmin_min(kmeans7.cluster_centers_, TF_IDF7)"
      ],
      "execution_count": null,
      "outputs": []
    },
    {
      "cell_type": "code",
      "metadata": {
        "colab": {
          "base_uri": "https://localhost:8080/"
        },
        "id": "S2sSsWgbzhM8",
        "outputId": "ff10de14-ddef-4971-d913-4c60807496e6"
      },
      "source": [
        "sentences[obama_index[closest7[0]]] # negative"
      ],
      "execution_count": null,
      "outputs": [
        {
          "output_type": "execute_result",
          "data": {
            "text/plain": [
              "['President Obama was Black']"
            ]
          },
          "metadata": {
            "tags": []
          },
          "execution_count": 112
        }
      ]
    },
    {
      "cell_type": "code",
      "metadata": {
        "colab": {
          "base_uri": "https://localhost:8080/"
        },
        "id": "PgNZ6BWEzhQ_",
        "outputId": "02796245-8a14-4b24-d5df-ccad8f374a8d"
      },
      "source": [
        "sentences[obama_index[closest7[1]]] # positive"
      ],
      "execution_count": null,
      "outputs": [
        {
          "output_type": "execute_result",
          "data": {
            "text/plain": [
              "['Bannon has been ousted--rumor says he threatened to quit and Trump stupidly talked him out of it.',\n",
              " 'But Sec.',\n",
              " 'of State Tillerson seems to have taken early retirement without telling anyone.',\n",
              " 'Of course, Trump wants to diminish the role of Sec.',\n",
              " 'of State to subtlely attack Hillary, John Kerry and Pres.',\n",
              " 'Obama.',\n",
              " 'And Mitch McConnell will go down in history as the majority leader who prevented a hearing for Merrick Garland because he detested Pres.',\n",
              " 'Obama.',\n",
              " 'McConnell has made no noble efforts to benefit this nation and has only demoralized and stained the upper house.',\n",
              " 'I am confident Trump is delighted with the demise of the SCOTUS filibuster as his own popularity in the toilet and impeachment looms.']"
            ]
          },
          "metadata": {
            "tags": []
          },
          "execution_count": 113
        }
      ]
    },
    {
      "cell_type": "code",
      "metadata": {
        "colab": {
          "base_uri": "https://localhost:8080/"
        },
        "id": "4G6Crsd-_bx4",
        "outputId": "7971572d-104d-4591-c3ce-a97fd82bd3a6"
      },
      "source": [
        "label7 = kmeans7.labels_\n",
        "opinion[\"senti7\"] = np.zeros(len(opinion))\n",
        "for i in range(len(label7)):\n",
        "  if label7[i] == 0:\n",
        "    opinion[\"senti7\"][obama_index[i]] = -1\n",
        "  if label7[i] == 1:\n",
        "    opinion[\"senti7\"][obama_index[i]] = 1"
      ],
      "execution_count": null,
      "outputs": [
        {
          "output_type": "stream",
          "text": [
            "/usr/local/lib/python3.7/dist-packages/ipykernel_launcher.py:7: SettingWithCopyWarning: \n",
            "A value is trying to be set on a copy of a slice from a DataFrame\n",
            "\n",
            "See the caveats in the documentation: https://pandas.pydata.org/pandas-docs/stable/user_guide/indexing.html#returning-a-view-versus-a-copy\n",
            "  import sys\n",
            "/usr/local/lib/python3.7/dist-packages/ipykernel_launcher.py:5: SettingWithCopyWarning: \n",
            "A value is trying to be set on a copy of a slice from a DataFrame\n",
            "\n",
            "See the caveats in the documentation: https://pandas.pydata.org/pandas-docs/stable/user_guide/indexing.html#returning-a-view-versus-a-copy\n",
            "  \"\"\"\n"
          ],
          "name": "stderr"
        }
      ]
    },
    {
      "cell_type": "code",
      "metadata": {
        "id": "-IpXrToo_b1v"
      },
      "source": [
        "# people\n",
        "people = pd.DataFrame({\"people\": opinion['people']})\n",
        "people = people[people['people'].apply(lambda x: len(x)) > 0]\n",
        "people_index = list(people.index)"
      ],
      "execution_count": null,
      "outputs": []
    },
    {
      "cell_type": "code",
      "metadata": {
        "id": "0tv_zR18_b7_"
      },
      "source": [
        "people_list = []\n",
        "for i in list(people[\"people\"]):\n",
        "  w = []\n",
        "  for s in i:\n",
        "    for word in s:\n",
        "      w.append(word)\n",
        "  people_list.append(w)\n",
        "v8 = [w for s in people_list for w in s]\n",
        "feature8 = Counter(v8).keys()\n",
        "people_list = pd.DataFrame({\"people\":people_list})\n",
        "people_list['people'] = people_list['people'].apply(lambda x: ' '.join([word for word in x]))"
      ],
      "execution_count": null,
      "outputs": []
    },
    {
      "cell_type": "code",
      "metadata": {
        "id": "K9-Q8dsP_b_k"
      },
      "source": [
        "vectorizer8 = TfidfVectorizer(vocabulary=feature8, ngram_range=(1,2))\n",
        "TF_IDF8 = vectorizer8.fit_transform(people_list['people'].values)\n",
        "kmeans8 = KMeans(n_clusters=2, random_state=0).fit(TF_IDF8)\n",
        "closest8, _ = pairwise_distances_argmin_min(kmeans8.cluster_centers_, TF_IDF8)"
      ],
      "execution_count": null,
      "outputs": []
    },
    {
      "cell_type": "code",
      "metadata": {
        "colab": {
          "base_uri": "https://localhost:8080/"
        },
        "id": "nUYB_5t6_cCT",
        "outputId": "a2dd8ce7-c4d9-41a9-a67a-0f16897c4408"
      },
      "source": [
        "sentences[people_index[closest8[0]]] # negative"
      ],
      "execution_count": null,
      "outputs": [
        {
          "output_type": "execute_result",
          "data": {
            "text/plain": [
              "['More bluster from Trump about tax reform.',\n",
              " 'Why should anyone believe him after the same ineffectual, loud, grandiose claims he had with repealing Obamacare?',\n",
              " '<br/><br/>If his supporters think he can or will change to meet the challenges they are facing, think again.',\n",
              " \"People don't change.\"]"
            ]
          },
          "metadata": {
            "tags": []
          },
          "execution_count": 118
        }
      ]
    },
    {
      "cell_type": "code",
      "metadata": {
        "colab": {
          "base_uri": "https://localhost:8080/"
        },
        "id": "Ru9XVO4X_cE_",
        "outputId": "585beb5f-ced2-452a-abe7-9327728a68f7"
      },
      "source": [
        "sentences[people_index[closest8[1]]] # positive"
      ],
      "execution_count": null,
      "outputs": [
        {
          "output_type": "execute_result",
          "data": {
            "text/plain": [
              "['The American people do not want war!!',\n",
              " 'Where in the world is Congress?',\n",
              " \"Why aren't they stopping this crazy maniac?\",\n",
              " 'No Korea has nuclear weapons.',\n",
              " \"Even Trump's family is in danger.\"]"
            ]
          },
          "metadata": {
            "tags": []
          },
          "execution_count": 119
        }
      ]
    },
    {
      "cell_type": "code",
      "metadata": {
        "colab": {
          "base_uri": "https://localhost:8080/"
        },
        "id": "6Fgslfg3_cIW",
        "outputId": "15e771fd-1685-4c50-aeb2-d15459467f07"
      },
      "source": [
        "label8 = kmeans8.labels_\n",
        "opinion[\"senti8\"] = np.zeros(len(opinion))\n",
        "for i in range(len(label8)):\n",
        "  if label8[i] == 0:\n",
        "    opinion[\"senti8\"][people_index[i]] = -1\n",
        "  if label8[i] == 1:\n",
        "    opinion[\"senti8\"][people_index[i]] = 1"
      ],
      "execution_count": null,
      "outputs": [
        {
          "output_type": "stream",
          "text": [
            "/usr/local/lib/python3.7/dist-packages/ipykernel_launcher.py:5: SettingWithCopyWarning: \n",
            "A value is trying to be set on a copy of a slice from a DataFrame\n",
            "\n",
            "See the caveats in the documentation: https://pandas.pydata.org/pandas-docs/stable/user_guide/indexing.html#returning-a-view-versus-a-copy\n",
            "  \"\"\"\n",
            "/usr/local/lib/python3.7/dist-packages/ipykernel_launcher.py:7: SettingWithCopyWarning: \n",
            "A value is trying to be set on a copy of a slice from a DataFrame\n",
            "\n",
            "See the caveats in the documentation: https://pandas.pydata.org/pandas-docs/stable/user_guide/indexing.html#returning-a-view-versus-a-copy\n",
            "  import sys\n"
          ],
          "name": "stderr"
        }
      ]
    },
    {
      "cell_type": "code",
      "metadata": {
        "id": "xIo1P6UU_cLM"
      },
      "source": [
        "# president\n",
        "president = pd.DataFrame({\"president\": opinion['president']})\n",
        "president = president[president['president'].apply(lambda x: len(x)) > 0]\n",
        "president_index = list(president.index)"
      ],
      "execution_count": null,
      "outputs": []
    },
    {
      "cell_type": "code",
      "metadata": {
        "id": "tR24Uvds_cQc"
      },
      "source": [
        "president_list = []\n",
        "for i in list(president[\"president\"]):\n",
        "  w = []\n",
        "  for s in i:\n",
        "    for word in s:\n",
        "      w.append(word)\n",
        "  president_list.append(w)\n",
        "v9 = [w for s in president_list for w in s]\n",
        "feature9 = Counter(v9).keys()\n",
        "president_list = pd.DataFrame({\"president\":president_list})\n",
        "president_list['president'] = president_list['president'].apply(lambda x: ' '.join([word for word in x]))"
      ],
      "execution_count": null,
      "outputs": []
    },
    {
      "cell_type": "code",
      "metadata": {
        "id": "J7LZ3M4g_cTh"
      },
      "source": [
        "vectorizer9 = TfidfVectorizer(vocabulary=feature9, ngram_range=(1,2))\n",
        "TF_IDF9 = vectorizer9.fit_transform(president_list['president'].values)\n",
        "kmeans9 = KMeans(n_clusters=2, random_state=0).fit(TF_IDF9)\n",
        "closest9, _ = pairwise_distances_argmin_min(kmeans9.cluster_centers_, TF_IDF9)"
      ],
      "execution_count": null,
      "outputs": []
    },
    {
      "cell_type": "code",
      "metadata": {
        "colab": {
          "base_uri": "https://localhost:8080/"
        },
        "id": "YK1l1EQEC1am",
        "outputId": "7a793c78-fa03-44b5-ee13-e6dbb1801403"
      },
      "source": [
        "sentences[president_index[closest9[0]]] # negative"
      ],
      "execution_count": null,
      "outputs": [
        {
          "output_type": "execute_result",
          "data": {
            "text/plain": [
              "['President Trump is not a populist.',\n",
              " 'He has filled his cabinet with wealthy elites.',\n",
              " 'His health plan would have damaged many of his most strident supporters.',\n",
              " 'He has overturned many regulations that were put in place to protect the common man.',\n",
              " 'His budget plan is a disaster for the working man/woman.',\n",
              " 'He spends millions on himself and his entourage for additional security and travel to his resorts.',\n",
              " 'He and his family have done little to avoid conflict of interests in their business enterprises.',\n",
              " 'He deflects and lies enough to make a normal politician blush.',\n",
              " 'He talks like a populist but look at his actions.',\n",
              " 'Eventually his followers will come to the realization that Trump is everything that they hate about politicians.',\n",
              " 'When his tax plan is finally presented it will show that most of the benefits will accrue to the top 1% and the lower and middle class will again end up holding the bag.',\n",
              " 'If the border tax gets him a win he will accept it gladly.']"
            ]
          },
          "metadata": {
            "tags": []
          },
          "execution_count": 124
        }
      ]
    },
    {
      "cell_type": "code",
      "metadata": {
        "colab": {
          "base_uri": "https://localhost:8080/"
        },
        "id": "R2aiA13-C1ek",
        "outputId": "30451b87-7903-4ac8-abe7-c5bb1f5e42ff"
      },
      "source": [
        "sentences[president_index[closest9[1]]] # positive"
      ],
      "execution_count": null,
      "outputs": [
        {
          "output_type": "execute_result",
          "data": {
            "text/plain": [
              "['Is the filibuster only reserved for Republicans, who only need 50 seats in the senate and a Republican president to appoint Supreme Court justices?',\n",
              " 'Do the Democrats need to control 60 seats in the senate and the presidency to appoint Supreme Court justices?',\n",
              " 'If the answer to these questions is no, then this filibuster makes perfect sense.<br/><br/>And this is even without considering the outrageous Garland treatment and the tainted 2016 elections.']"
            ]
          },
          "metadata": {
            "tags": []
          },
          "execution_count": 125
        }
      ]
    },
    {
      "cell_type": "code",
      "metadata": {
        "colab": {
          "base_uri": "https://localhost:8080/"
        },
        "id": "AFb4zcYpC1jI",
        "outputId": "8f1e8559-7b40-4ff8-f39d-243ab704b452"
      },
      "source": [
        "label9 = kmeans9.labels_\n",
        "opinion[\"senti9\"] = np.zeros(len(opinion))\n",
        "for i in range(len(label9)):\n",
        "  if label9[i] == 0:\n",
        "    opinion[\"senti9\"][president_index[i]] = -1\n",
        "  if label9[i] == 1:\n",
        "    opinion[\"senti9\"][president_index[i]] = 1"
      ],
      "execution_count": null,
      "outputs": [
        {
          "output_type": "stream",
          "text": [
            "/usr/local/lib/python3.7/dist-packages/ipykernel_launcher.py:5: SettingWithCopyWarning: \n",
            "A value is trying to be set on a copy of a slice from a DataFrame\n",
            "\n",
            "See the caveats in the documentation: https://pandas.pydata.org/pandas-docs/stable/user_guide/indexing.html#returning-a-view-versus-a-copy\n",
            "  \"\"\"\n",
            "/usr/local/lib/python3.7/dist-packages/ipykernel_launcher.py:7: SettingWithCopyWarning: \n",
            "A value is trying to be set on a copy of a slice from a DataFrame\n",
            "\n",
            "See the caveats in the documentation: https://pandas.pydata.org/pandas-docs/stable/user_guide/indexing.html#returning-a-view-versus-a-copy\n",
            "  import sys\n"
          ],
          "name": "stderr"
        }
      ]
    },
    {
      "cell_type": "code",
      "metadata": {
        "id": "UBq64B80C1mK"
      },
      "source": [
        "# state\n",
        "state = pd.DataFrame({\"state\": opinion['state']})\n",
        "state = state[state['state'].apply(lambda x: len(x)) > 0]\n",
        "state_index = list(state.index)"
      ],
      "execution_count": null,
      "outputs": []
    },
    {
      "cell_type": "code",
      "metadata": {
        "id": "TyrLRoajC1pz"
      },
      "source": [
        "state_list = []\n",
        "for i in list(state[\"state\"]):\n",
        "  w = []\n",
        "  for s in i:\n",
        "    for word in s:\n",
        "      w.append(word)\n",
        "  state_list.append(w)\n",
        "v10 = [w for s in state_list for w in s]\n",
        "feature10 = Counter(v10).keys()\n",
        "state_list = pd.DataFrame({\"state\":state_list})\n",
        "state_list['state'] = state_list['state'].apply(lambda x: ' '.join([word for word in x]))"
      ],
      "execution_count": null,
      "outputs": []
    },
    {
      "cell_type": "code",
      "metadata": {
        "id": "v6REwP6KC1s7"
      },
      "source": [
        "vectorizer10 = TfidfVectorizer(vocabulary=feature10, ngram_range=(1,2))\n",
        "TF_IDF10 = vectorizer10.fit_transform(state_list['state'].values)\n",
        "kmeans10 = KMeans(n_clusters=2, random_state=0).fit(TF_IDF10)\n",
        "closest10, _ = pairwise_distances_argmin_min(kmeans10.cluster_centers_, TF_IDF10)"
      ],
      "execution_count": null,
      "outputs": []
    },
    {
      "cell_type": "code",
      "metadata": {
        "colab": {
          "base_uri": "https://localhost:8080/"
        },
        "id": "6sJTsepLC1vx",
        "outputId": "7c297c43-7532-46e1-e6bc-93757082fe96"
      },
      "source": [
        "sentences[state_index[closest10[0]]] # positive"
      ],
      "execution_count": null,
      "outputs": [
        {
          "output_type": "execute_result",
          "data": {
            "text/plain": [
              "[\"Tillerson and Trump can bob an weave and distract and divert all they want, the problems with Russia are not going to go away.<br/><br/>When Vladimir Putin no longer has any use of these two wanna-be statesman and charlatans, he'll cut them loose with a vengeance.\",\n",
              " '<br/><br/>The money, bribes and loans, will be called in.',\n",
              " 'The amassed dirt on both men will be released.',\n",
              " \"Vladimir Putin will have the last laugh with Donald Trump and Tillerson and all the rest of Trump's toadies and sycophants will come crashing down.\",\n",
              " '<br/><br/>Over stated and melodramatic?',\n",
              " 'Perhaps, perhaps not.',\n",
              " 'Suffice it to say, this ongoing psychodrama is not yet over.',\n",
              " 'Not even close.']"
            ]
          },
          "metadata": {
            "tags": []
          },
          "execution_count": 130
        }
      ]
    },
    {
      "cell_type": "code",
      "metadata": {
        "colab": {
          "base_uri": "https://localhost:8080/"
        },
        "id": "zn8sQ8P2C1yi",
        "outputId": "5a76b6c7-48f2-4f82-b6a6-0b7d54665437"
      },
      "source": [
        "sentences[state_index[closest10[1]]] # negative"
      ],
      "execution_count": null,
      "outputs": [
        {
          "output_type": "execute_result",
          "data": {
            "text/plain": [
              "['Losers: \"Upper-middle-income people in blue states.',\n",
              " 'The plan would eliminate the federal tax deduction for state and local income tax.',\n",
              " 'If you are in a place where such taxes are high, like New York or California, you would lose a valuable deduction.',\n",
              " '\"<br/>In other words affluent well educated Democrats who are well paid employees rather than business owners.',\n",
              " 'Most New York Times readers.',\n",
              " 'The giant middle finger rears up again.<br/><a href=\"https://www.nytimes.com/2017/04/26/upshot/winners-and-losers-in-the-trump-tax-plan.html\" title=\"https://www.nytimes.com/2017/04/26/upshot/winners-and-losers-in-the-trump-tax-plan.html\" target=\"_blank\">https://www.nytimes.com/2017/04/26/upshot/winners-and-losers-in-the-trum...</a>']"
            ]
          },
          "metadata": {
            "tags": []
          },
          "execution_count": 131
        }
      ]
    },
    {
      "cell_type": "code",
      "metadata": {
        "colab": {
          "base_uri": "https://localhost:8080/"
        },
        "id": "6IsJYLCFC11i",
        "outputId": "7269aeb5-52a5-4c32-a0c2-a91a673b2b69"
      },
      "source": [
        "label10 = kmeans10.labels_\n",
        "opinion[\"senti10\"] = np.zeros(len(opinion))\n",
        "for i in range(len(label10)):\n",
        "  if label10[i] == 0:\n",
        "    opinion[\"senti10\"][state_index[i]] = 1\n",
        "  if label10[i] == 1:\n",
        "    opinion[\"senti10\"][state_index[i]] = -1"
      ],
      "execution_count": null,
      "outputs": [
        {
          "output_type": "stream",
          "text": [
            "/usr/local/lib/python3.7/dist-packages/ipykernel_launcher.py:7: SettingWithCopyWarning: \n",
            "A value is trying to be set on a copy of a slice from a DataFrame\n",
            "\n",
            "See the caveats in the documentation: https://pandas.pydata.org/pandas-docs/stable/user_guide/indexing.html#returning-a-view-versus-a-copy\n",
            "  import sys\n",
            "/usr/local/lib/python3.7/dist-packages/ipykernel_launcher.py:5: SettingWithCopyWarning: \n",
            "A value is trying to be set on a copy of a slice from a DataFrame\n",
            "\n",
            "See the caveats in the documentation: https://pandas.pydata.org/pandas-docs/stable/user_guide/indexing.html#returning-a-view-versus-a-copy\n",
            "  \"\"\"\n"
          ],
          "name": "stderr"
        }
      ]
    },
    {
      "cell_type": "code",
      "metadata": {
        "id": "iBJQ_cR4C14l"
      },
      "source": [
        "# tax\n",
        "tax = pd.DataFrame({\"tax\": opinion['tax']})\n",
        "tax = tax[tax['tax'].apply(lambda x: len(x)) > 0]\n",
        "tax_index = list(tax.index)"
      ],
      "execution_count": null,
      "outputs": []
    },
    {
      "cell_type": "code",
      "metadata": {
        "id": "Gn-sTc5Q_cWc"
      },
      "source": [
        "tax_list = []\n",
        "for i in list(tax[\"tax\"]):\n",
        "  w = []\n",
        "  for s in i:\n",
        "    for word in s:\n",
        "      w.append(word)\n",
        "  tax_list.append(w)\n",
        "v11 = [w for s in tax_list for w in s]\n",
        "feature11 = Counter(v11).keys()\n",
        "tax_list = pd.DataFrame({\"tax\":tax_list})\n",
        "tax_list['tax'] = tax_list['tax'].apply(lambda x: ' '.join([word for word in x]))"
      ],
      "execution_count": null,
      "outputs": []
    },
    {
      "cell_type": "code",
      "metadata": {
        "id": "vqMoHa0WIXii"
      },
      "source": [
        "vectorizer11 = TfidfVectorizer(vocabulary=feature11, ngram_range=(1,2))\n",
        "TF_IDF11 = vectorizer11.fit_transform(tax_list['tax'].values)\n",
        "kmeans11 = KMeans(n_clusters=2, random_state=0).fit(TF_IDF11)\n",
        "closest11, _ = pairwise_distances_argmin_min(kmeans11.cluster_centers_, TF_IDF11)"
      ],
      "execution_count": null,
      "outputs": []
    },
    {
      "cell_type": "code",
      "metadata": {
        "colab": {
          "base_uri": "https://localhost:8080/"
        },
        "id": "4Fkf8Ul9IXmZ",
        "outputId": "caa5fc9e-0ac6-4b2c-904a-5bf58d58470a"
      },
      "source": [
        "sentences[tax_index[closest11[0]]] # positive"
      ],
      "execution_count": null,
      "outputs": [
        {
          "output_type": "execute_result",
          "data": {
            "text/plain": [
              "['The arrogance of many of these comments is exceeded only by their ignorance... and perhaps bitterness.',\n",
              " \"I'll just address one point in particular: That cutting tax rates helps the top 1% only.<br/><br/>It's exactly the opposite.\",\n",
              " 'The top 1% typically pay relatively little in personal income taxes, as the wealthy derive much of their income from investments, not salary, which are already taxed at a much lower rate -- a loophole that I agree should be closed.',\n",
              " \"So cutting personal income tax rates does not help the 1% because they're not paying those rates anyway!\",\n",
              " 'Rather, rate cuts help small businesspeople like me who are NOT millionaires (much less billionaires) yet currently pay the full 39.6% tax rate.',\n",
              " 'Because small business income is treated as your personal income by the IRS (a la an S corp), taking more money away from me is taking it away from my business...and my employees, current and future.',\n",
              " \"<br/><br/>Yes, I'm for lower taxes across the board.\",\n",
              " 'I understand many of you might disagree, rather undiplomatically at times.',\n",
              " \"That's fine.\",\n",
              " 'Not everyone who disagrees with you is a bad person, or vice versa.',\n",
              " 'Just know that when you cut income tax rates, at least, you are helping people like me grow their businesses and hire more people.',\n",
              " 'It makes no difference, frankly to the Donald Trumps and Warren Buffets of the world.']"
            ]
          },
          "metadata": {
            "tags": []
          },
          "execution_count": 136
        }
      ]
    },
    {
      "cell_type": "code",
      "metadata": {
        "colab": {
          "base_uri": "https://localhost:8080/"
        },
        "id": "wGJvkFt4IXps",
        "outputId": "65eb8a97-c8a8-4940-8bdc-3f92a64e3874"
      },
      "source": [
        "sentences[tax_index[closest11[1]]] # negative"
      ],
      "execution_count": null,
      "outputs": [
        {
          "output_type": "execute_result",
          "data": {
            "text/plain": [
              "['I really do wish them good luck and hope thy taken up a VAT next.',\n",
              " 'This will \"really\" help the working class and the middle classes.',\n",
              " 'I mean, why get affordable consumer goods when you can support your \"gummint\" and pay more for the same things.',\n",
              " 'How about a tax on groceries?',\n",
              " \"there's a vast untapped resource.\"]"
            ]
          },
          "metadata": {
            "tags": []
          },
          "execution_count": 137
        }
      ]
    },
    {
      "cell_type": "code",
      "metadata": {
        "colab": {
          "base_uri": "https://localhost:8080/"
        },
        "id": "CLxAQonpIXso",
        "outputId": "7978662c-37d8-4b2f-b664-1187e8377fd8"
      },
      "source": [
        "label11 = kmeans11.labels_\n",
        "opinion[\"senti11\"] = np.zeros(len(opinion))\n",
        "for i in range(len(label11)):\n",
        "  if label11[i] == 0:\n",
        "    opinion[\"senti11\"][tax_index[i]] = 1\n",
        "  if label11[i] == 1:\n",
        "    opinion[\"senti11\"][tax_index[i]] = -1"
      ],
      "execution_count": null,
      "outputs": [
        {
          "output_type": "stream",
          "text": [
            "/usr/local/lib/python3.7/dist-packages/ipykernel_launcher.py:7: SettingWithCopyWarning: \n",
            "A value is trying to be set on a copy of a slice from a DataFrame\n",
            "\n",
            "See the caveats in the documentation: https://pandas.pydata.org/pandas-docs/stable/user_guide/indexing.html#returning-a-view-versus-a-copy\n",
            "  import sys\n",
            "/usr/local/lib/python3.7/dist-packages/ipykernel_launcher.py:5: SettingWithCopyWarning: \n",
            "A value is trying to be set on a copy of a slice from a DataFrame\n",
            "\n",
            "See the caveats in the documentation: https://pandas.pydata.org/pandas-docs/stable/user_guide/indexing.html#returning-a-view-versus-a-copy\n",
            "  \"\"\"\n"
          ],
          "name": "stderr"
        }
      ]
    },
    {
      "cell_type": "code",
      "metadata": {
        "id": "Hw9FvZqaIXvq"
      },
      "source": [
        "# trump\n",
        "trump = pd.DataFrame({\"trump\": opinion['trump']})\n",
        "trump = trump[trump['trump'].apply(lambda x: len(x)) > 0]\n",
        "trump_index = list(trump.index)"
      ],
      "execution_count": null,
      "outputs": []
    },
    {
      "cell_type": "code",
      "metadata": {
        "id": "DMLeverUK4f0"
      },
      "source": [
        "trump_list = []\n",
        "for i in list(trump[\"trump\"]):\n",
        "  w = []\n",
        "  for s in i:\n",
        "    for word in s:\n",
        "      w.append(word)\n",
        "  trump_list.append(w)\n",
        "v12 = [w for s in trump_list for w in s]\n",
        "feature12 = Counter(v12).keys()\n",
        "trump_list = pd.DataFrame({\"trump\":trump_list})\n",
        "trump_list['trump'] = trump_list['trump'].apply(lambda x: ' '.join([word for word in x]))"
      ],
      "execution_count": null,
      "outputs": []
    },
    {
      "cell_type": "code",
      "metadata": {
        "id": "Q91ul9-AK4j6"
      },
      "source": [
        "vectorizer12 = TfidfVectorizer(vocabulary=feature12, ngram_range=(1,2))\n",
        "TF_IDF12 = vectorizer12.fit_transform(trump_list['trump'].values)\n",
        "kmeans12 = KMeans(n_clusters=2, random_state=0).fit(TF_IDF12)\n",
        "closest12, _ = pairwise_distances_argmin_min(kmeans12.cluster_centers_, TF_IDF12)"
      ],
      "execution_count": null,
      "outputs": []
    },
    {
      "cell_type": "code",
      "metadata": {
        "colab": {
          "base_uri": "https://localhost:8080/"
        },
        "id": "mun7j9azK4oJ",
        "outputId": "e4680fca-576a-4f30-eff6-648c52d4850f"
      },
      "source": [
        "sentences[trump_index[closest12[0]]] # positive"
      ],
      "execution_count": null,
      "outputs": [
        {
          "output_type": "execute_result",
          "data": {
            "text/plain": [
              "['Keep focus on:<br/>1.', 'The Russian connection<br/>2.', 'Trump tax return']"
            ]
          },
          "metadata": {
            "tags": []
          },
          "execution_count": 142
        }
      ]
    },
    {
      "cell_type": "code",
      "metadata": {
        "colab": {
          "base_uri": "https://localhost:8080/"
        },
        "id": "8aEieZoMK4rK",
        "outputId": "18b5a99d-f9b3-4b56-9e0a-4d296131dfab"
      },
      "source": [
        "sentences[trump_index[closest12[1]]] # negative"
      ],
      "execution_count": null,
      "outputs": [
        {
          "output_type": "execute_result",
          "data": {
            "text/plain": [
              "['\"Trump is not an ideologue.\"',\n",
              " 'I, too, try to believe six impossible things before breakfast.']"
            ]
          },
          "metadata": {
            "tags": []
          },
          "execution_count": 143
        }
      ]
    },
    {
      "cell_type": "code",
      "metadata": {
        "colab": {
          "base_uri": "https://localhost:8080/"
        },
        "id": "p4HnNamcK4uF",
        "outputId": "21587fed-c638-4d9c-e8e0-401c6cece301"
      },
      "source": [
        "label12 = kmeans12.labels_\n",
        "opinion[\"senti12\"] = np.zeros(len(opinion))\n",
        "for i in range(len(label12)):\n",
        "  if label12[i] == 0:\n",
        "    opinion[\"senti12\"][trump_index[i]] = 1\n",
        "  if label12[i] == 1:\n",
        "    opinion[\"senti12\"][trump_index[i]] = -1"
      ],
      "execution_count": null,
      "outputs": [
        {
          "output_type": "stream",
          "text": [
            "/usr/local/lib/python3.7/dist-packages/ipykernel_launcher.py:5: SettingWithCopyWarning: \n",
            "A value is trying to be set on a copy of a slice from a DataFrame\n",
            "\n",
            "See the caveats in the documentation: https://pandas.pydata.org/pandas-docs/stable/user_guide/indexing.html#returning-a-view-versus-a-copy\n",
            "  \"\"\"\n",
            "/usr/local/lib/python3.7/dist-packages/ipykernel_launcher.py:7: SettingWithCopyWarning: \n",
            "A value is trying to be set on a copy of a slice from a DataFrame\n",
            "\n",
            "See the caveats in the documentation: https://pandas.pydata.org/pandas-docs/stable/user_guide/indexing.html#returning-a-view-versus-a-copy\n",
            "  import sys\n"
          ],
          "name": "stderr"
        }
      ]
    },
    {
      "cell_type": "code",
      "metadata": {
        "id": "Pea0NumYK4w5"
      },
      "source": [
        "# vote\n",
        "vote = pd.DataFrame({\"vote\": opinion['vote']})\n",
        "vote = vote[vote['vote'].apply(lambda x: len(x)) > 0]\n",
        "vote_index = list(vote.index)"
      ],
      "execution_count": null,
      "outputs": []
    },
    {
      "cell_type": "code",
      "metadata": {
        "id": "6AJ6DQ9MK4zs"
      },
      "source": [
        "vote_list = []\n",
        "for i in list(vote[\"vote\"]):\n",
        "  w = []\n",
        "  for s in i:\n",
        "    for word in s:\n",
        "      w.append(word)\n",
        "  vote_list.append(w)\n",
        "v13 = [w for s in vote_list for w in s]\n",
        "feature13 = Counter(v13).keys()\n",
        "vote_list = pd.DataFrame({\"vote\":vote_list})\n",
        "vote_list['vote'] = vote_list['vote'].apply(lambda x: ' '.join([word for word in x]))"
      ],
      "execution_count": null,
      "outputs": []
    },
    {
      "cell_type": "code",
      "metadata": {
        "id": "P7AQ4xDrK42h"
      },
      "source": [
        "vectorizer13 = TfidfVectorizer(vocabulary=feature13, ngram_range=(1,2))\n",
        "TF_IDF13 = vectorizer13.fit_transform(vote_list['vote'].values)\n",
        "kmeans13 = KMeans(n_clusters=2, random_state=0).fit(TF_IDF13)\n",
        "closest13, _ = pairwise_distances_argmin_min(kmeans13.cluster_centers_, TF_IDF13)"
      ],
      "execution_count": null,
      "outputs": []
    },
    {
      "cell_type": "code",
      "metadata": {
        "colab": {
          "base_uri": "https://localhost:8080/"
        },
        "id": "ftH2fJJeIXyr",
        "outputId": "f807bb2f-8600-41b0-99c5-51789a36f3a7"
      },
      "source": [
        "sentences[vote_index[closest13[0]]] # negative"
      ],
      "execution_count": null,
      "outputs": [
        {
          "output_type": "execute_result",
          "data": {
            "text/plain": [
              "['L,<br/><br/>Where in the Constitution does it speak of anyone \"owning\" a Supreme Court Seat.<br/>The Senate, yes controlled by the Republicans, refused to give hearings and a vote to Judge Garland.',\n",
              " 'That is the right of the Senate, just as it is the right of the<br/>Democrats in the Senate to vote against  a qualified candidate who had the<br/>ABA approval.']"
            ]
          },
          "metadata": {
            "tags": []
          },
          "execution_count": 148
        }
      ]
    },
    {
      "cell_type": "code",
      "metadata": {
        "colab": {
          "base_uri": "https://localhost:8080/"
        },
        "id": "VDKFDXprIX1_",
        "outputId": "4fce6cd6-1aaa-404b-83e1-bf06fa68307b"
      },
      "source": [
        "sentences[vote_index[closest13[1]]] # positive"
      ],
      "execution_count": null,
      "outputs": [
        {
          "output_type": "execute_result",
          "data": {
            "text/plain": [
              "[\"That big money involving the likes of the Koch's have such a large influence in our policy is egregious.\",\n",
              " 'Sickening.',\n",
              " 'When are the people going to have the ability to have their opinion matter?',\n",
              " \"When the supreme court get's big money out of politics.\",\n",
              " 'So, never.',\n",
              " 'Sickening.',\n",
              " 'I and many of our citizens are tired of being ignored in our wishes to stop this.',\n",
              " 'VOTE.']"
            ]
          },
          "metadata": {
            "tags": []
          },
          "execution_count": 149
        }
      ]
    },
    {
      "cell_type": "code",
      "metadata": {
        "colab": {
          "base_uri": "https://localhost:8080/"
        },
        "id": "r907UNv8IX5T",
        "outputId": "6f154346-e17c-4f92-9050-db9fbb49b3b0"
      },
      "source": [
        "label13 = kmeans13.labels_\n",
        "opinion[\"senti13\"] = np.zeros(len(opinion))\n",
        "for i in range(len(label13)):\n",
        "  if label13[i] == 0:\n",
        "    opinion[\"senti13\"][vote_index[i]] = -1\n",
        "  if label13[i] == 1:\n",
        "    opinion[\"senti13\"][vote_index[i]] = 1"
      ],
      "execution_count": null,
      "outputs": [
        {
          "output_type": "stream",
          "text": [
            "/usr/local/lib/python3.7/dist-packages/ipykernel_launcher.py:7: SettingWithCopyWarning: \n",
            "A value is trying to be set on a copy of a slice from a DataFrame\n",
            "\n",
            "See the caveats in the documentation: https://pandas.pydata.org/pandas-docs/stable/user_guide/indexing.html#returning-a-view-versus-a-copy\n",
            "  import sys\n",
            "/usr/local/lib/python3.7/dist-packages/ipykernel_launcher.py:5: SettingWithCopyWarning: \n",
            "A value is trying to be set on a copy of a slice from a DataFrame\n",
            "\n",
            "See the caveats in the documentation: https://pandas.pydata.org/pandas-docs/stable/user_guide/indexing.html#returning-a-view-versus-a-copy\n",
            "  \"\"\"\n"
          ],
          "name": "stderr"
        }
      ]
    },
    {
      "cell_type": "code",
      "metadata": {
        "id": "mpx4xxRHPCVx"
      },
      "source": [
        "# world\n",
        "world = pd.DataFrame({\"world\": opinion['world']})\n",
        "world = world[world['world'].apply(lambda x: len(x)) > 0]\n",
        "world_index = list(world.index)"
      ],
      "execution_count": null,
      "outputs": []
    },
    {
      "cell_type": "code",
      "metadata": {
        "id": "oIZyM0ksPCbz"
      },
      "source": [
        "world_list = []\n",
        "for i in list(world[\"world\"]):\n",
        "  w = []\n",
        "  for s in i:\n",
        "    for word in s:\n",
        "      w.append(word)\n",
        "  world_list.append(w)\n",
        "v14 = [w for s in world_list for w in s]\n",
        "feature14 = Counter(v14).keys()\n",
        "world_list = pd.DataFrame({\"world\":world_list})\n",
        "world_list['world'] = world_list['world'].apply(lambda x: ' '.join([word for word in x]))"
      ],
      "execution_count": null,
      "outputs": []
    },
    {
      "cell_type": "code",
      "metadata": {
        "id": "A7m9SYN_PCiF"
      },
      "source": [
        "vectorizer14 = TfidfVectorizer(vocabulary=feature14, ngram_range=(1,2))\n",
        "TF_IDF14 = vectorizer14.fit_transform(world_list['world'].values)\n",
        "kmeans14 = KMeans(n_clusters=2, random_state=0).fit(TF_IDF14)\n",
        "closest14, _ = pairwise_distances_argmin_min(kmeans14.cluster_centers_, TF_IDF14)"
      ],
      "execution_count": null,
      "outputs": []
    },
    {
      "cell_type": "code",
      "metadata": {
        "colab": {
          "base_uri": "https://localhost:8080/"
        },
        "id": "szuCK1bnPCoc",
        "outputId": "3e663e7f-9aae-4e20-fcdf-e3ff3be44517"
      },
      "source": [
        "sentences[world_index[closest14[0]]] #"
      ],
      "execution_count": null,
      "outputs": [
        {
          "output_type": "execute_result",
          "data": {
            "text/plain": [
              "['And the world at large']"
            ]
          },
          "metadata": {
            "tags": []
          },
          "execution_count": 154
        }
      ]
    },
    {
      "cell_type": "code",
      "metadata": {
        "colab": {
          "base_uri": "https://localhost:8080/"
        },
        "id": "yS8zKI-nPCrv",
        "outputId": "a67342c2-e58b-49d3-b220-356ec27d845a"
      },
      "source": [
        "sentences[world_index[closest14[1]]] #"
      ],
      "execution_count": null,
      "outputs": [
        {
          "output_type": "execute_result",
          "data": {
            "text/plain": [
              "['And the world at large']"
            ]
          },
          "metadata": {
            "tags": []
          },
          "execution_count": 155
        }
      ]
    },
    {
      "cell_type": "code",
      "metadata": {
        "colab": {
          "base_uri": "https://localhost:8080/"
        },
        "id": "tQND0jVsQ1TA",
        "outputId": "e62b3b17-4b61-4e81-bd73-697d5d28ec39"
      },
      "source": [
        "closest14"
      ],
      "execution_count": null,
      "outputs": [
        {
          "output_type": "execute_result",
          "data": {
            "text/plain": [
              "array([302, 302])"
            ]
          },
          "metadata": {
            "tags": []
          },
          "execution_count": 156
        }
      ]
    },
    {
      "cell_type": "code",
      "metadata": {
        "id": "_RpP8V-APCvK"
      },
      "source": [
        "label14 = kmeans14.labels_"
      ],
      "execution_count": null,
      "outputs": []
    },
    {
      "cell_type": "code",
      "metadata": {
        "colab": {
          "base_uri": "https://localhost:8080/"
        },
        "id": "eJ8ozViHPCzt",
        "outputId": "7e517fd6-2b29-4885-971b-f493ab959fe7"
      },
      "source": [
        "Counter(label14)"
      ],
      "execution_count": null,
      "outputs": [
        {
          "output_type": "execute_result",
          "data": {
            "text/plain": [
              "Counter({0: 1244, 1: 665})"
            ]
          },
          "metadata": {
            "tags": []
          },
          "execution_count": 158
        }
      ]
    },
    {
      "cell_type": "code",
      "metadata": {
        "colab": {
          "base_uri": "https://localhost:8080/"
        },
        "id": "DgV3B0cLPC5E",
        "outputId": "c9b1fb3b-0f3e-4672-a85b-55ae873c57bc"
      },
      "source": [
        "kmeans14.cluster_centers_"
      ],
      "execution_count": null,
      "outputs": [
        {
          "output_type": "execute_result",
          "data": {
            "text/plain": [
              "array([[0.03045365, 0.00183129, 0.01587129, ..., 0.00022436, 0.00022436,\n",
              "        0.00022436],\n",
              "       [0.02377701, 0.00320898, 0.0095679 , ..., 0.        , 0.        ,\n",
              "        0.        ]])"
            ]
          },
          "metadata": {
            "tags": []
          },
          "execution_count": 159
        }
      ]
    },
    {
      "cell_type": "markdown",
      "metadata": {
        "id": "qTZj-fkZYNrV"
      },
      "source": [
        "**Text Classification**"
      ]
    },
    {
      "cell_type": "code",
      "metadata": {
        "id": "yv_9VTI3TW-Z"
      },
      "source": [
        "!pip install imbalanced-learn\n",
        "import imblearn\n",
        "from imblearn.over_sampling import ADASYN\n",
        "from imblearn.under_sampling import RandomUnderSampler\n",
        "from imblearn.pipeline import Pipeline\n",
        "from sklearn import metrics\n",
        "from matplotlib import pyplot"
      ],
      "execution_count": null,
      "outputs": []
    },
    {
      "cell_type": "code",
      "metadata": {
        "id": "CxPFqNJW2gv-"
      },
      "source": [
        "from sklearn.model_selection import train_test_split, cross_val_score, KFold, cross_validate\n",
        "from sklearn.ensemble import RandomForestClassifier"
      ],
      "execution_count": null,
      "outputs": []
    },
    {
      "cell_type": "code",
      "metadata": {
        "colab": {
          "base_uri": "https://localhost:8080/"
        },
        "id": "g9rM7-T6_3Q2",
        "outputId": "79f67105-bfb9-4fdd-def4-15efb231b81b"
      },
      "source": [
        "Counter(opinion['editor selection'])"
      ],
      "execution_count": null,
      "outputs": [
        {
          "output_type": "execute_result",
          "data": {
            "text/plain": [
              "Counter({0: 25110, 1: 788})"
            ]
          },
          "metadata": {
            "tags": []
          },
          "execution_count": 253
        }
      ]
    },
    {
      "cell_type": "code",
      "metadata": {
        "id": "3RwKDHkyVp1A"
      },
      "source": [
        "y = opinion['editor selection']\n",
        "X = opinion.iloc[:, 17:30]"
      ],
      "execution_count": null,
      "outputs": []
    },
    {
      "cell_type": "code",
      "metadata": {
        "colab": {
          "base_uri": "https://localhost:8080/"
        },
        "id": "w2I6RDC05Sxt",
        "outputId": "3193724c-6756-4b44-fd8f-f1e993fb0250"
      },
      "source": [
        "oversample = ADASYN()\n",
        "X, y = oversample.fit_resample(X, y)"
      ],
      "execution_count": null,
      "outputs": [
        {
          "output_type": "stream",
          "text": [
            "/usr/local/lib/python3.7/dist-packages/sklearn/utils/deprecation.py:87: FutureWarning: Function safe_indexing is deprecated; safe_indexing is deprecated in version 0.22 and will be removed in version 0.24.\n",
            "  warnings.warn(msg, category=FutureWarning)\n"
          ],
          "name": "stderr"
        }
      ]
    },
    {
      "cell_type": "code",
      "metadata": {
        "colab": {
          "base_uri": "https://localhost:8080/"
        },
        "id": "C9WIftDv5icI",
        "outputId": "6873a5ca-73d3-49f1-ae25-58292c03d6ee"
      },
      "source": [
        "Counter(y)"
      ],
      "execution_count": null,
      "outputs": [
        {
          "output_type": "execute_result",
          "data": {
            "text/plain": [
              "Counter({0: 25110, 1: 25004})"
            ]
          },
          "metadata": {
            "tags": []
          },
          "execution_count": 243
        }
      ]
    },
    {
      "cell_type": "code",
      "metadata": {
        "id": "pnWOl6fj3Jpu"
      },
      "source": [
        "cv = KFold(n_splits=10, random_state=1, shuffle=True)"
      ],
      "execution_count": null,
      "outputs": []
    },
    {
      "cell_type": "code",
      "metadata": {
        "id": "8K4WCLsO7hKe"
      },
      "source": [
        "forest = RandomForestClassifier(oob_score = True, n_jobs = -1)"
      ],
      "execution_count": null,
      "outputs": []
    },
    {
      "cell_type": "code",
      "metadata": {
        "id": "3wXuKR_J7mgc"
      },
      "source": [
        "scores = cross_val_score(forest, X, y, scoring='accuracy', cv=cv, n_jobs=-1)"
      ],
      "execution_count": null,
      "outputs": []
    },
    {
      "cell_type": "code",
      "metadata": {
        "id": "yPbXuBRT7xND"
      },
      "source": [
        "from numpy import mean, std"
      ],
      "execution_count": null,
      "outputs": []
    },
    {
      "cell_type": "code",
      "metadata": {
        "colab": {
          "base_uri": "https://localhost:8080/"
        },
        "id": "e5x9vVkL7vmZ",
        "outputId": "8fa6ec33-5016-4ac3-bf00-8f8af06c909a"
      },
      "source": [
        "print('Accuracy: %.3f (%.3f)' % (mean(scores), std(scores)))"
      ],
      "execution_count": null,
      "outputs": [
        {
          "output_type": "stream",
          "text": [
            "Accuracy: 0.754 (0.007)\n"
          ],
          "name": "stdout"
        }
      ]
    },
    {
      "cell_type": "code",
      "metadata": {
        "id": "zIV0c7-fjGQ9"
      },
      "source": [
        "X_train, X_test, y_train, y_test = train_test_split(X,y,test_size=0.3,random_state=11,stratify=y)\n",
        "forest = RandomForestClassifier(oob_score = True, n_jobs = -1)\n",
        "forest.fit(X,y)\n",
        "y_train_pred=forest.predict(X)"
      ],
      "execution_count": null,
      "outputs": []
    },
    {
      "cell_type": "code",
      "metadata": {
        "colab": {
          "base_uri": "https://localhost:8080/"
        },
        "id": "P8ueCtG0jRGi",
        "outputId": "ea6a472c-b479-43cc-af15-10365730a96f"
      },
      "source": [
        "print(\"Accuracy:\",metrics.accuracy_score(y, y_train_pred))"
      ],
      "execution_count": null,
      "outputs": [
        {
          "output_type": "stream",
          "text": [
            "Accuracy: 0.8041948758794637\n"
          ],
          "name": "stdout"
        }
      ]
    },
    {
      "cell_type": "code",
      "metadata": {
        "id": "oQaJ1KN1lN9y"
      },
      "source": [
        "from sklearn.metrics import classification_report, confusion_matrix"
      ],
      "execution_count": null,
      "outputs": []
    },
    {
      "cell_type": "code",
      "metadata": {
        "colab": {
          "base_uri": "https://localhost:8080/"
        },
        "id": "f6n57x-Ye9HN",
        "outputId": "3d301121-f2e8-46b8-ffbc-dc09adf43cd8"
      },
      "source": [
        "target_names = [\"0\",\"1\"]\n",
        "print(classification_report(y, y_pred, target_names=target_names))"
      ],
      "execution_count": null,
      "outputs": [
        {
          "output_type": "stream",
          "text": [
            "              precision    recall  f1-score   support\n",
            "\n",
            "           0       0.78      0.97      0.87      5022\n",
            "           1       0.90      0.46      0.61      2511\n",
            "\n",
            "    accuracy                           0.80      7533\n",
            "   macro avg       0.84      0.72      0.74      7533\n",
            "weighted avg       0.82      0.80      0.78      7533\n",
            "\n"
          ],
          "name": "stdout"
        }
      ]
    },
    {
      "cell_type": "code",
      "metadata": {
        "colab": {
          "base_uri": "https://localhost:8080/",
          "height": 295
        },
        "id": "NCOmlDT_ZPpi",
        "outputId": "6f4f0c33-3006-417b-8b14-6f216bcc71b1"
      },
      "source": [
        "import matplotlib.pyplot as plt  \n",
        "from sklearn.metrics import plot_confusion_matrix\n",
        "confusion_matrix(y,y_train_pred)\n",
        "plot_confusion_matrix(forest, X, y, display_labels = ['0','1'], cmap=plt.cm.Blues, values_format = \"d\")\n",
        "plt.title(\"Confusion Matrix\")\n",
        "plt.show()\n",
        "plt.savefig('C:\\Users\\cherr\\Downloads\\pic.png')"
      ],
      "execution_count": null,
      "outputs": [
        {
          "output_type": "display_data",
          "data": {
            "image/png": "[encoded data removed]",
            "text/plain": [
              "<Figure size 432x288 with 2 Axes>"
            ]
          },
          "metadata": {
            "tags": [],
            "needs_background": "light"
          }
        }
      ]
    },
    {
      "cell_type": "markdown",
      "metadata": {
        "id": "XZ1beBvgISlo"
      },
      "source": [
        "Create a word cloud for report"
      ]
    },
    {
      "cell_type": "code",
      "metadata": {
        "id": "nTT7nfHmlOJr"
      },
      "source": [
        ""
      ],
      "execution_count": null,
      "outputs": []
    }
  ]
}